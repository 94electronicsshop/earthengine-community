{
  "nbformat": 4,
  "nbformat_minor": 0,
  "metadata": {
    "colab": {
      "name": "groundwater-recharge-estimation-guiattard",
      "provenance": [],
      "collapsed_sections": [],
      "toc_visible": true
    },
    "kernelspec": {
      "name": "python3",
      "display_name": "Python 3"
    }
  },
  "cells": [
    {
      "cell_type": "code",
      "metadata": {
        "id": "8kdsGkYJXXKc"
      },
      "source": [
        "#@title Copyright 2021 The Earth Engine Community Authors { display-mode: \"form\" }\n",
        "#\n",
        "# Licensed under the Apache License, Version 2.0 (the \"License\");\n",
        "# you may not use this file except in compliance with the License.\n",
        "# You may obtain a copy of the License at\n",
        "#\n",
        "# https://www.apache.org/licenses/LICENSE-2.0\n",
        "#\n",
        "# Unless required by applicable law or agreed to in writing, software\n",
        "# distributed under the License is distributed on an \"AS IS\" BASIS,\n",
        "# WITHOUT WARRANTIES OR CONDITIONS OF ANY KIND, either express or implied.\n",
        "# See the License for the specific language governing permissions and\n",
        "# limitations under the License."
      ],
      "execution_count": 1,
      "outputs": []
    },
    {
      "cell_type": "markdown",
      "metadata": {
        "id": "l18M9_r5XmAQ"
      },
      "source": [
        "# Implementation of the Thornthwaite-Mather procedure to map gorundwater recharge\n",
        "Author: guiattard\n",
        "\n",
        "Groundwater recharge represents the amount of water comming from precipitation reaching groundwater table. Its determination helps to better understand the available/renewable groundwater in watersheds and so on the shape of groundwater flow systems.\n",
        "\n",
        "One of the simplest methods to estimate groundwater recharge is the Thornthwaite-Mather procedure (Steenhuis and Van Der Molen, 1986). This procedure was published by Thornthwaite and Mather (1955, 1957). The idea of this procedure is to calculate the water balance in the root zone of the soil where water can be (1) evaporated into the atmosphere under the effect of heat, (2) transpired by vegetation, (3) stored by the soil, and eventually (4) infiltrated when stored water exceeds the field capacity. \n",
        "\n",
        "This procedures relies on several parameters and variables described as follow:\n",
        "- some information about soil texture (e.g. sand and clay content) to describe the hydraulic properties of the soil and its capacity to store/infiltrate,\n",
        "- some meteorological records: precipation and potential evapotranspiration,\n",
        "\n",
        "Of course groundwater recharge can be influenced by many other factors such as the slope of the terrain, the snow cover, the variability of the crop/land cover and the irrigation. In the following these aspects are not taken into account.\n",
        "\n",
        "In the first part of the tutorial, the Earth Engine python API will be initialize, some usefull libraries will be imported, and the location/period of interest will be defined.\n",
        "\n",
        "In the second part, OpenLandMap datasets related to soil texture will be explored. The wilting point and field capacity of the soil will be calculated by applying some mathematical expressions to multiple images.\n",
        "\n",
        "In the third part, evapotranspiration and precipitation datasets will be imported. A function will be defined to resample the time resolution of an `ee.ImageCollection` and to homogenize time index of both datasets. Both datasets will then be combined into one.\n",
        "\n",
        "In the forth and final part, the Thornthwaite-Mather(TM) procedure will be implemented by iterating over the meteorological `ee.ImageCollection`. Finnaly, a comparison between groundwater recharge in two places will be described and the resulting mean annual groundwatr recharge will be displayed over France."
      ]
    },
    {
      "cell_type": "markdown",
      "metadata": {
        "id": "U7i55vr_aKCB"
      },
      "source": [
        "### Run me first\n",
        "#### Earth Engine API\n",
        "\n",
        "First of all, run the following cell to initialize the API. The output will contain instructions on how to grant this notebook access to Earth Engine using your account."
      ]
    },
    {
      "cell_type": "code",
      "metadata": {
        "id": "XeFsiSp2aDL6",
        "colab": {
          "base_uri": "https://localhost:8080/"
        },
        "outputId": "cfc008c8-1870-45ac-eed1-14c43c17fdb6"
      },
      "source": [
        "import ee\n",
        "\n",
        "# Trigger the authentication flow.\n",
        "ee.Authenticate()\n",
        "\n",
        "# Initialize the library.\n",
        "ee.Initialize()"
      ],
      "execution_count": 2,
      "outputs": [
        {
          "output_type": "stream",
          "name": "stdout",
          "text": [
            "To authorize access needed by Earth Engine, open the following URL in a web browser and follow the instructions. If the web browser does not start automatically, please manually browse the URL below.\n",
            "\n",
            "    https://accounts.google.com/o/oauth2/auth?client_id=517222506229-vsmmajv00ul0bs7p89v5m89qs8eb9359.apps.googleusercontent.com&scope=https%3A%2F%2Fwww.googleapis.com%2Fauth%2Fearthengine+https%3A%2F%2Fwww.googleapis.com%2Fauth%2Fdevstorage.full_control&redirect_uri=urn%3Aietf%3Awg%3Aoauth%3A2.0%3Aoob&response_type=code&code_challenge=XmNmc4YbZMNoExij_9Mtw4_F0i2Ty6vazeT_axFtEYA&code_challenge_method=S256\n",
            "\n",
            "The authorization workflow will generate a code, which you should paste in the box below. \n",
            "Enter verification code: 4/1AX4XfWgXfRrd4Mb0mBiQ6tpU7vrgSSDS1v5NIu8IdwYF4R1oMR-pjZu87xQ\n",
            "\n",
            "Successfully saved authorization token.\n"
          ]
        }
      ]
    },
    {
      "cell_type": "markdown",
      "metadata": {
        "id": "-BpAxTgB_Jf3"
      },
      "source": [
        "#### Other libraries\n",
        "Import other libraries used in this notebook.\n",
        "\n",
        "- [**pandas**](https://pandas.pydata.org/): data analysis (including the [DataFrame](https://pandas.pydata.org/pandas-docs/stable/reference/api/pandas.DataFrame.html) data structure)\n",
        "- [**matplotlib**](https://matplotlib.org/): data visualization library,\n",
        "- [**numpy**](https://numpy.org/): array-processing package,\n",
        "- [**folium**](https://python-visualization.github.io/folium/): interactive web map\n"
      ]
    },
    {
      "cell_type": "code",
      "metadata": {
        "id": "PPPRzdR8-9nJ"
      },
      "source": [
        "import pandas as pd\n",
        "import matplotlib.pyplot as plt\n",
        "import numpy as np\n",
        "import folium"
      ],
      "execution_count": 3,
      "outputs": []
    },
    {
      "cell_type": "markdown",
      "metadata": {
        "id": "ZXm8u4ZV_-km"
      },
      "source": [
        "#### Some input parameters\n",
        "We additionnaly define some parameters used to evaluate the results of our implementation. Particularly:\n",
        "- The period of interest to get meteorological records ,\n",
        "- A location of interest based on longitude and latitude coordinates,\n"
      ]
    },
    {
      "cell_type": "code",
      "metadata": {
        "id": "DrJBJjd2_95v"
      },
      "source": [
        "# Initial date of interest (inclusive).\n",
        "i_date = '2015-01-01'\n",
        "\n",
        "# Final date of interest (exclusive).\n",
        "f_date = '2020-01-01'\n",
        "\n",
        "# Definition of the location of interest with a point\n",
        "lon = 5.145041\n",
        "lat = 45.772439 \n",
        "poi = ee.Geometry.Point(lon, lat)\n",
        "\n",
        "# A nominal scale in meters of the projection to work in [in meters]\n",
        "scale = 1000"
      ],
      "execution_count": 4,
      "outputs": []
    },
    {
      "cell_type": "markdown",
      "metadata": {
        "id": "VfnygBwyFzCP"
      },
      "source": [
        "### From soil texture to hydraulic properties"
      ]
    },
    {
      "cell_type": "markdown",
      "metadata": {
        "id": "B6T9EctGA40J"
      },
      "source": [
        "\n",
        "#### Definitions\n",
        "Two hydraulic properties of soil are commonly used in the TM procedure:\n",
        "- the *wilting point* represents the point below what water cannot be extracted by plant roots,\n",
        "- the *field capacity* represents the point after what water cannot be stored by soil any more. After that point, gravitationnal forces become to high and water starts to infiltrate the lower levels.\n",
        "\n",
        "Some equations given by Saxton & Rawls (2006) are used to link both parameters to the texture of the soil. The, the calculation of water content at wilting point $θ_{WP}$ can be done as follow:\n",
        "\n",
        "$$\\theta_{WP}= \\theta_{1500t} + (0.14 \\theta_{1500t} - 0.002)$$ with:\n",
        "\n",
        "$$\\theta_{1500t} = -0.024 S + 0.487 C + 0.006 OM + 0.005(S \\times OM) - 0.013 (C \\times OM) + 0.068 (S \\times C) + 0.031$$\n",
        "\n",
        "where:\n",
        "- $S$: represents the sand content of the soil (mass percentage),\n",
        "- $C$: represents the clay content of the soil (mass percentage),\n",
        "- $OM$: represents the organic matter content of the soil (mass percentage).\n",
        "\n",
        "Similarly, the calculation of the water content at field capacity $θ_{FC}$ can be done as follow:\n",
        "\n",
        "$$\\theta_{FC} = \\theta_{33t} + (1.283 \\theta_{33t}^{2} - 0.374 \\theta_{33t}-0.15)$$ with:\n",
        "\n",
        "$$\\theta_{33t} = -0.251 S + 0.195 C + 0.011 OM + 0.006 (S \\times OM) - 0.027 (C \\times OM) + 0.452 (S \\times C) + 0.299$$\n"
      ]
    },
    {
      "cell_type": "markdown",
      "metadata": {
        "id": "rUr7MdL3F8CW"
      },
      "source": [
        "#### Determination of soil texture\n",
        "In the following, OpenLandMap datasets are used to describe, clay, sand and organic carbon content of soil.\n",
        "A global dataset of soil water content at the field capacity with a resolution of 250 m have been made available by Hengl & Gupta (2019). However, up to know, there si no dataset dedicated to the water content of soil at the wilting point. Consequently, in the following, both parameters will be determined considering the previous equations and using the global datasets giving the sand, clay and organic matter contents of the soil. According to the [description](https://developers.google.com/earth-engine/datasets/catalog/OpenLandMap_SOL_SOL_CLAY-WFRACTION_USDA-3A1A1A_M_v02#description), these OpenLandMap datasets are based on machine learning predictions from global compilation of soil profiles and samples. Processing steps are described in detail [here](https://gitlab.com/openlandmap/global-layers/tree/master/soil). The information (clay, sand content, etc.) is given at 6 standard depths (0, 10, 30, 60, 100 and 200 cm) at 250 m resolution. \n",
        "\n",
        "These standard depths and associated bands are defined into list as follow:"
      ]
    },
    {
      "cell_type": "code",
      "metadata": {
        "id": "xdaW306oC_6q"
      },
      "source": [
        "# soil depths [in cm] where we have data\n",
        "olm_depths = [0, 10, 30, 60, 100, 200]\n",
        "    \n",
        "# associated bands\n",
        "olm_bands = [\"b\" + str(sd) for sd in olm_depths]"
      ],
      "execution_count": 5,
      "outputs": []
    },
    {
      "cell_type": "markdown",
      "metadata": {
        "id": "boAHT1GjDDj4"
      },
      "source": [
        "We now define a function to get the `ee.Image` associated to the parameter we are intereste in (eg. sand, clay, organic carbon content, etc.)"
      ]
    },
    {
      "cell_type": "code",
      "metadata": {
        "id": "CKlnxs9qDDEo"
      },
      "source": [
        "def get_soil_prop(param):\n",
        "    \"\"\"\n",
        "    This function retun soil properties image \n",
        "    param (str): must be one of:\n",
        "        \"S\"        - Sand fraction\n",
        "        \"C\"        - Clay fraction\n",
        "        \"OC\"       - Organic Carbon fraction\n",
        "    \"\"\"  \n",
        "    if param == \"S\": #Sand fraction [%w]\n",
        "        snippet = \"OpenLandMap/SOL/SOL_WATERCONTENT-33KPA_USDA-4B1C_M/v01\"\n",
        "        # scale factor defined in accordance with dataset description\n",
        "        scale_factor = 1*0.01\n",
        "        \n",
        "    elif param == \"C\": #Clay fraction [%w]\n",
        "        snippet = \"OpenLandMap/SOL/SOL_CLAY-WFRACTION_USDA-3A1A1A_M/v02\"\n",
        "        # scale factor defined in accordance with dataset description\n",
        "        scale_factor = 1*0.01\n",
        "        \n",
        "    elif param == \"OC\": #Organic Carbon fraction [g/kg]\n",
        "        snippet = \"OpenLandMap/SOL/SOL_ORGANIC-CARBON_USDA-6A1C_M/v02\"\n",
        "        # scale factor defined in accordance with dataset description\n",
        "        scale_factor = 5*0.001 #to get kg/kg\n",
        "    else:\n",
        "        return print(\"error\")\n",
        "    \n",
        "    dataset = ee.Image(snippet).multiply(scale_factor)\n",
        "\n",
        "    return dataset"
      ],
      "execution_count": 6,
      "outputs": []
    },
    {
      "cell_type": "markdown",
      "metadata": {
        "id": "_yu_JUnJDg8e"
      },
      "source": [
        "We apply this function to import soil texture:"
      ]
    },
    {
      "cell_type": "code",
      "metadata": {
        "id": "n6n7wMUTDsaa"
      },
      "source": [
        "# Image associated to the sand content\n",
        "sand = get_soil_prop(\"S\")\n",
        "\n",
        "# Image associated to the clay content\n",
        "clay = get_soil_prop(\"C\")\n",
        "\n",
        "# Image associated to the organic carbon content\n",
        "orgc = get_soil_prop(\"OC\")"
      ],
      "execution_count": 7,
      "outputs": []
    },
    {
      "cell_type": "markdown",
      "metadata": {
        "id": "6Te0H7KTD8MP"
      },
      "source": [
        "To illustrate the result, we define a new method for handing Earth Engine tiles and using it to display the caly content of the soil at a given reference depth, to a Leaflet map."
      ]
    },
    {
      "cell_type": "code",
      "metadata": {
        "colab": {
          "base_uri": "https://localhost:8080/",
          "height": 915
        },
        "id": "pebngsPoD4_w",
        "outputId": "9e70ee0b-2375-43a4-8aa3-9c338a46daa0"
      },
      "source": [
        "def add_ee_layer(self, ee_image_object, vis_params, name):\n",
        "    \"\"\"Adds a method for displaying Earth Engine image tiles to folium map.\"\"\"\n",
        "    map_id_dict = ee.Image(ee_image_object).getMapId(vis_params)\n",
        "    folium.raster_layers.TileLayer(\n",
        "        tiles=map_id_dict['tile_fetcher'].url_format,\n",
        "        attr='Map Data &copy; <a href=\"https://earthengine.google.com/\">Google Earth Engine</a>',\n",
        "        name=name,\n",
        "        overlay=True,\n",
        "        control=True\n",
        "    ).add_to(self)\n",
        "\n",
        "# Add Earth Engine drawing method to folium.\n",
        "folium.Map.add_ee_layer = add_ee_layer\n",
        "\n",
        "my_map = folium.Map(location=[lat, lon], zoom_start=3)\n",
        "\n",
        "# Set visualization parameters\n",
        "vis_params = {\n",
        "    'bands' : ['b0'],\n",
        "    'min': 0.01,'max': 1,\n",
        "    'opacity' : 1,\n",
        "    'palette': [\"white\", \"#464646\"]\n",
        "}\n",
        "\n",
        "# Add the sand content data to the map object.\n",
        "my_map.add_ee_layer(sand, vis_params, 'Sand Content')\n",
        "\n",
        "# Add a marker at the location of interest\n",
        "folium.Marker([lat, lon], popup=\"point of interest\").add_to(my_map)\n",
        "\n",
        "# Add a layer control panel to the map.\n",
        "my_map.add_child(folium.LayerControl())\n",
        "\n",
        "# Display the map.\n",
        "display(my_map)"
      ],
      "execution_count": 8,
      "outputs": [
        {
          "output_type": "display_data",
          "data": {
            "text/html": [
              "<div style=\"width:100%;\"><div style=\"position:relative;width:100%;height:0;padding-bottom:60%;\"><span style=\"color:#565656\">Make this Notebook Trusted to load map: File -> Trust Notebook</span><iframe src=\"about:blank\" style=\"position:absolute;width:100%;height:100%;left:0;top:0;border:none !important;\" data-html=%3C%21DOCTYPE%20html%3E%0A%3Chead%3E%20%20%20%20%0A%20%20%20%20%3Cmeta%20http-equiv%3D%22content-type%22%20content%3D%22text/html%3B%20charset%3DUTF-8%22%20/%3E%0A%20%20%20%20%3Cscript%3EL_PREFER_CANVAS%3Dfalse%3B%20L_NO_TOUCH%3Dfalse%3B%20L_DISABLE_3D%3Dfalse%3B%3C/script%3E%0A%20%20%20%20%3Cscript%20src%3D%22https%3A//cdn.jsdelivr.net/npm/leaflet%401.4.0/dist/leaflet.js%22%3E%3C/script%3E%0A%20%20%20%20%3Cscript%20src%3D%22https%3A//code.jquery.com/jquery-1.12.4.min.js%22%3E%3C/script%3E%0A%20%20%20%20%3Cscript%20src%3D%22https%3A//maxcdn.bootstrapcdn.com/bootstrap/3.2.0/js/bootstrap.min.js%22%3E%3C/script%3E%0A%20%20%20%20%3Cscript%20src%3D%22https%3A//cdnjs.cloudflare.com/ajax/libs/Leaflet.awesome-markers/2.0.2/leaflet.awesome-markers.js%22%3E%3C/script%3E%0A%20%20%20%20%3Clink%20rel%3D%22stylesheet%22%20href%3D%22https%3A//cdn.jsdelivr.net/npm/leaflet%401.4.0/dist/leaflet.css%22/%3E%0A%20%20%20%20%3Clink%20rel%3D%22stylesheet%22%20href%3D%22https%3A//maxcdn.bootstrapcdn.com/bootstrap/3.2.0/css/bootstrap.min.css%22/%3E%0A%20%20%20%20%3Clink%20rel%3D%22stylesheet%22%20href%3D%22https%3A//maxcdn.bootstrapcdn.com/bootstrap/3.2.0/css/bootstrap-theme.min.css%22/%3E%0A%20%20%20%20%3Clink%20rel%3D%22stylesheet%22%20href%3D%22https%3A//maxcdn.bootstrapcdn.com/font-awesome/4.6.3/css/font-awesome.min.css%22/%3E%0A%20%20%20%20%3Clink%20rel%3D%22stylesheet%22%20href%3D%22https%3A//cdnjs.cloudflare.com/ajax/libs/Leaflet.awesome-markers/2.0.2/leaflet.awesome-markers.css%22/%3E%0A%20%20%20%20%3Clink%20rel%3D%22stylesheet%22%20href%3D%22https%3A//rawcdn.githack.com/python-visualization/folium/master/folium/templates/leaflet.awesome.rotate.css%22/%3E%0A%20%20%20%20%3Cstyle%3Ehtml%2C%20body%20%7Bwidth%3A%20100%25%3Bheight%3A%20100%25%3Bmargin%3A%200%3Bpadding%3A%200%3B%7D%3C/style%3E%0A%20%20%20%20%3Cstyle%3E%23map%20%7Bposition%3Aabsolute%3Btop%3A0%3Bbottom%3A0%3Bright%3A0%3Bleft%3A0%3B%7D%3C/style%3E%0A%20%20%20%20%0A%20%20%20%20%3Cmeta%20name%3D%22viewport%22%20content%3D%22width%3Ddevice-width%2C%0A%20%20%20%20%20%20%20%20initial-scale%3D1.0%2C%20maximum-scale%3D1.0%2C%20user-scalable%3Dno%22%20/%3E%0A%20%20%20%20%3Cstyle%3E%23map_fa0b074995884e3a9f5b2b8c07ba27a2%20%7B%0A%20%20%20%20%20%20%20%20position%3A%20relative%3B%0A%20%20%20%20%20%20%20%20width%3A%20100.0%25%3B%0A%20%20%20%20%20%20%20%20height%3A%20100.0%25%3B%0A%20%20%20%20%20%20%20%20left%3A%200.0%25%3B%0A%20%20%20%20%20%20%20%20top%3A%200.0%25%3B%0A%20%20%20%20%20%20%20%20%7D%0A%20%20%20%20%3C/style%3E%0A%3C/head%3E%0A%3Cbody%3E%20%20%20%20%0A%20%20%20%20%0A%20%20%20%20%3Cdiv%20class%3D%22folium-map%22%20id%3D%22map_fa0b074995884e3a9f5b2b8c07ba27a2%22%20%3E%3C/div%3E%0A%3C/body%3E%0A%3Cscript%3E%20%20%20%20%0A%20%20%20%20%0A%20%20%20%20%0A%20%20%20%20%20%20%20%20var%20bounds%20%3D%20null%3B%0A%20%20%20%20%0A%0A%20%20%20%20var%20map_fa0b074995884e3a9f5b2b8c07ba27a2%20%3D%20L.map%28%0A%20%20%20%20%20%20%20%20%27map_fa0b074995884e3a9f5b2b8c07ba27a2%27%2C%20%7B%0A%20%20%20%20%20%20%20%20center%3A%20%5B45.772439%2C%205.145041%5D%2C%0A%20%20%20%20%20%20%20%20zoom%3A%203%2C%0A%20%20%20%20%20%20%20%20maxBounds%3A%20bounds%2C%0A%20%20%20%20%20%20%20%20layers%3A%20%5B%5D%2C%0A%20%20%20%20%20%20%20%20worldCopyJump%3A%20false%2C%0A%20%20%20%20%20%20%20%20crs%3A%20L.CRS.EPSG3857%2C%0A%20%20%20%20%20%20%20%20zoomControl%3A%20true%2C%0A%20%20%20%20%20%20%20%20%7D%29%3B%0A%0A%0A%20%20%20%20%0A%20%20%20%20var%20tile_layer_87dae6b68e0840fe8040a117acd0eba8%20%3D%20L.tileLayer%28%0A%20%20%20%20%20%20%20%20%27https%3A//%7Bs%7D.tile.openstreetmap.org/%7Bz%7D/%7Bx%7D/%7By%7D.png%27%2C%0A%20%20%20%20%20%20%20%20%7B%0A%20%20%20%20%20%20%20%20%22attribution%22%3A%20null%2C%0A%20%20%20%20%20%20%20%20%22detectRetina%22%3A%20false%2C%0A%20%20%20%20%20%20%20%20%22maxNativeZoom%22%3A%2018%2C%0A%20%20%20%20%20%20%20%20%22maxZoom%22%3A%2018%2C%0A%20%20%20%20%20%20%20%20%22minZoom%22%3A%200%2C%0A%20%20%20%20%20%20%20%20%22noWrap%22%3A%20false%2C%0A%20%20%20%20%20%20%20%20%22opacity%22%3A%201%2C%0A%20%20%20%20%20%20%20%20%22subdomains%22%3A%20%22abc%22%2C%0A%20%20%20%20%20%20%20%20%22tms%22%3A%20false%0A%7D%29.addTo%28map_fa0b074995884e3a9f5b2b8c07ba27a2%29%3B%0A%20%20%20%20var%20tile_layer_d6c988fe7de24e7dabe7c70ed23999fb%20%3D%20L.tileLayer%28%0A%20%20%20%20%20%20%20%20%27https%3A//earthengine.googleapis.com/v1alpha/projects/earthengine-legacy/maps/e04dab5f3ca695187797acfdc0afdd33-f81832294c2dc718572a44da4b9e6d70/tiles/%7Bz%7D/%7Bx%7D/%7By%7D%27%2C%0A%20%20%20%20%20%20%20%20%7B%0A%20%20%20%20%20%20%20%20%22attribution%22%3A%20%22Map%20Data%20%26copy%3B%20%3Ca%20href%3D%5C%22https%3A//earthengine.google.com/%5C%22%3EGoogle%20Earth%20Engine%3C/a%3E%22%2C%0A%20%20%20%20%20%20%20%20%22detectRetina%22%3A%20false%2C%0A%20%20%20%20%20%20%20%20%22maxNativeZoom%22%3A%2018%2C%0A%20%20%20%20%20%20%20%20%22maxZoom%22%3A%2018%2C%0A%20%20%20%20%20%20%20%20%22minZoom%22%3A%200%2C%0A%20%20%20%20%20%20%20%20%22noWrap%22%3A%20false%2C%0A%20%20%20%20%20%20%20%20%22opacity%22%3A%201%2C%0A%20%20%20%20%20%20%20%20%22subdomains%22%3A%20%22abc%22%2C%0A%20%20%20%20%20%20%20%20%22tms%22%3A%20false%0A%7D%29.addTo%28map_fa0b074995884e3a9f5b2b8c07ba27a2%29%3B%0A%20%20%20%20%0A%20%20%20%20%20%20%20%20var%20marker_09d3eac67a2b4c57a64542f97775dd86%20%3D%20L.marker%28%0A%20%20%20%20%20%20%20%20%20%20%20%20%5B45.772439%2C%205.145041%5D%2C%0A%20%20%20%20%20%20%20%20%20%20%20%20%7B%0A%20%20%20%20%20%20%20%20%20%20%20%20%20%20%20%20icon%3A%20new%20L.Icon.Default%28%29%2C%0A%20%20%20%20%20%20%20%20%20%20%20%20%20%20%20%20%7D%0A%20%20%20%20%20%20%20%20%20%20%20%20%29.addTo%28map_fa0b074995884e3a9f5b2b8c07ba27a2%29%3B%0A%20%20%20%20%20%20%20%20%0A%20%20%20%20%0A%20%20%20%20%20%20%20%20%20%20%20%20var%20popup_dad3fdb88d484e598e8e9ed2a70e0a44%20%3D%20L.popup%28%7BmaxWidth%3A%20%27100%25%27%0A%20%20%20%20%20%20%20%20%20%20%20%20%0A%20%20%20%20%20%20%20%20%20%20%20%20%7D%29%3B%0A%0A%20%20%20%20%20%20%20%20%20%20%20%20%0A%20%20%20%20%20%20%20%20%20%20%20%20%20%20%20%20var%20html_4398400c5a8c4ad3932fe67fbe4328e6%20%3D%20%24%28%60%3Cdiv%20id%3D%22html_4398400c5a8c4ad3932fe67fbe4328e6%22%20style%3D%22width%3A%20100.0%25%3B%20height%3A%20100.0%25%3B%22%3Epoint%20of%20interest%3C/div%3E%60%29%5B0%5D%3B%0A%20%20%20%20%20%20%20%20%20%20%20%20%20%20%20%20popup_dad3fdb88d484e598e8e9ed2a70e0a44.setContent%28html_4398400c5a8c4ad3932fe67fbe4328e6%29%3B%0A%20%20%20%20%20%20%20%20%20%20%20%20%0A%0A%20%20%20%20%20%20%20%20%20%20%20%20marker_09d3eac67a2b4c57a64542f97775dd86.bindPopup%28popup_dad3fdb88d484e598e8e9ed2a70e0a44%29%0A%20%20%20%20%20%20%20%20%20%20%20%20%3B%0A%0A%20%20%20%20%20%20%20%20%20%20%20%20%0A%20%20%20%20%20%20%20%20%0A%20%20%20%20%0A%20%20%20%20%20%20%20%20%20%20%20%20var%20layer_control_b6982eff3a08457488a38e8dda1e6166%20%3D%20%7B%0A%20%20%20%20%20%20%20%20%20%20%20%20%20%20%20%20base_layers%20%3A%20%7B%20%22openstreetmap%22%20%3A%20tile_layer_87dae6b68e0840fe8040a117acd0eba8%2C%20%7D%2C%0A%20%20%20%20%20%20%20%20%20%20%20%20%20%20%20%20overlays%20%3A%20%7B%20%22Sand%20Content%22%20%3A%20tile_layer_d6c988fe7de24e7dabe7c70ed23999fb%2C%20%7D%0A%20%20%20%20%20%20%20%20%20%20%20%20%20%20%20%20%7D%3B%0A%20%20%20%20%20%20%20%20%20%20%20%20L.control.layers%28%0A%20%20%20%20%20%20%20%20%20%20%20%20%20%20%20%20layer_control_b6982eff3a08457488a38e8dda1e6166.base_layers%2C%0A%20%20%20%20%20%20%20%20%20%20%20%20%20%20%20%20layer_control_b6982eff3a08457488a38e8dda1e6166.overlays%2C%0A%20%20%20%20%20%20%20%20%20%20%20%20%20%20%20%20%7Bposition%3A%20%27topright%27%2C%0A%20%20%20%20%20%20%20%20%20%20%20%20%20%20%20%20%20collapsed%3A%20true%2C%0A%20%20%20%20%20%20%20%20%20%20%20%20%20%20%20%20%20autoZIndex%3A%20true%0A%20%20%20%20%20%20%20%20%20%20%20%20%20%20%20%20%7D%29.addTo%28map_fa0b074995884e3a9f5b2b8c07ba27a2%29%3B%0A%20%20%20%20%20%20%20%20%20%20%20%20%0A%20%20%20%20%20%20%20%20%0A%3C/script%3E onload=\"this.contentDocument.open();this.contentDocument.write(    decodeURIComponent(this.getAttribute('data-html')));this.contentDocument.close();\" allowfullscreen webkitallowfullscreen mozallowfullscreen></iframe></div></div>"
            ],
            "text/plain": [
              "<folium.folium.Map at 0x7f10d1844ad0>"
            ]
          },
          "metadata": {}
        }
      ]
    },
    {
      "cell_type": "markdown",
      "metadata": {
        "id": "cQQhTGBQELax"
      },
      "source": [
        "Now, a function is defined to get soil properties at a given location. The following function returns a dictionnary indicating the value of the parameter of interest for each standard depth (in centimetre). In the example below, we are asking for the clay content."
      ]
    },
    {
      "cell_type": "code",
      "metadata": {
        "colab": {
          "base_uri": "https://localhost:8080/"
        },
        "id": "Blq2rNG2ESIn",
        "outputId": "4a96e347-a9ca-4043-a968-15d0b68d47b9"
      },
      "source": [
        "def local_profile(dataset, poi, buffer):\n",
        "    # we get the values\n",
        "    prop = dataset.sample(poi, buffer).select(olm_bands).getInfo()\n",
        "    profile = prop['features'][0]['properties']\n",
        "    profile = {key : round(val,3) for key, val in profile.items()}\n",
        "    \n",
        "    return profile\n",
        "\n",
        "profileC = local_profile(clay, poi, scale)\n",
        "print(\"Clay content profile at the location of interest: \\n\", profileC)"
      ],
      "execution_count": 9,
      "outputs": [
        {
          "output_type": "stream",
          "name": "stdout",
          "text": [
            "Clay content profile at the location of interest: \n",
            " {'b0': 0.22, 'b10': 0.23, 'b100': 0.26, 'b200': 0.25, 'b30': 0.26, 'b60': 0.27}\n"
          ]
        }
      ]
    },
    {
      "cell_type": "markdown",
      "metadata": {
        "id": "gh6yCnb7EgFH"
      },
      "source": [
        "We now apply the function to plot the profil of the soil regarding sand and clay and organic carbon content at the location of interest:"
      ]
    },
    {
      "cell_type": "code",
      "metadata": {
        "colab": {
          "base_uri": "https://localhost:8080/",
          "height": 408
        },
        "id": "4uB2QEIiEfuQ",
        "outputId": "6db62b4f-42ba-4f03-f7c7-6840303ed992"
      },
      "source": [
        "# We get the sand and organic concent profiles:\n",
        "profileS = local_profile(sand, poi, scale)\n",
        "profileOC = local_profile(orgc, poi, scale)\n",
        "\n",
        "# Then we build a bar plot\n",
        "fig, ax = plt.subplots(figsize=(15,6))\n",
        "ax.axes.get_yaxis().set_visible(False)\n",
        "\n",
        "x = np.arange(len(olm_bands))  # the label locations\n",
        "width = 0.25 # width of bars\n",
        "\n",
        "rect1 = ax.bar(x-width, [round(100*profileS[b], 2) for b in olm_bands], \n",
        "               width, label=\"Sand\", color='#ecebbd')\n",
        "\n",
        "rect2 = ax.bar(x, [round(100*profileC[b], 2) for b in olm_bands], \n",
        "               width, label=\"Clay\", color='#6f6c5d')\n",
        "\n",
        "rect3 = ax.bar(x+width, [round(100*profileOC[b], 2) for b in olm_bands], \n",
        "               width, label=\"Organic Carbon\", color='black', alpha = 0.75)\n",
        "\n",
        "def autolabel(rects):\n",
        "    \"\"\"Attach a text label above each bar in *rects*, displaying its height.\"\"\"\n",
        "    for rect in rects:\n",
        "        height = rect.get_height()\n",
        "        ax.annotate('{}'.format(height) + '%',\n",
        "                    xy=(rect.get_x() + rect.get_width() / 2, height),\n",
        "                    xytext=(0, 3),  # 3 points vertical offset\n",
        "                    textcoords=\"offset points\",\n",
        "                    ha='center', va='bottom', fontsize=10)\n",
        "autolabel(rect1)\n",
        "autolabel(rect2)\n",
        "autolabel(rect3)\n",
        "\n",
        "ax.set_title('Texture of the soil at different depths (mass content)', fontsize=14)\n",
        "ax.set_xticks(x)\n",
        "\n",
        "x_labels = [str(d) + \" cm\" for d in olm_depths] \n",
        "ax.set_xticklabels(x_labels, rotation = 45, fontsize=10)\n",
        "\n",
        "ax.spines['left'].set_visible(False)\n",
        "ax.spines['right'].set_visible(False)\n",
        "ax.spines['top'].set_visible(False)\n",
        "\n",
        "# Shrink current axis's height by 10% on the bottom\n",
        "box = ax.get_position()\n",
        "ax.set_position([box.x0, box.y0 + box.height * 0.1,\n",
        "                 box.width, box.height * 0.9])\n",
        "\n",
        "# Put a legend below current axis\n",
        "ax.legend(loc='upper center', bbox_to_anchor=(0.5, -0.15),\n",
        "          fancybox=True, shadow=True, ncol=3)\n",
        "\n",
        "plt.show()"
      ],
      "execution_count": 10,
      "outputs": [
        {
          "output_type": "display_data",
          "data": {
            "image/png": "[encoded data removed]",
            "text/plain": [
              "<Figure size 1080x432 with 1 Axes>"
            ]
          },
          "metadata": {
            "needs_background": "light"
          }
        }
      ]
    },
    {
      "cell_type": "markdown",
      "metadata": {
        "id": "e0RTRGumFDBp"
      },
      "source": [
        "#### Mathematical expression to an `ee.Image` for to the calculation of hydraulic properties\n",
        "\n",
        "Now that we have a description of the soil texture at different depths, we can calulate the water content at the field capacity and at the wilting point according to the equation defined at the begining of this section. Please note that in the equation of Saxton & Rawls (2006), the wilting point and field capacity are calculated using the Organic Matter content ($OM$) and not the Organic Carbon content ($OC$). In the following, we convert $OC$ into $OM$ using the corective factor known as the [Van Bemmelen factor](https://inspire.ec.europa.eu/codelist/SoilDerivedObjectParameterNameValue/organicCarbonContent):\n",
        "\n",
        "$$0M = 1.724 \\times OC$$\n",
        "\n",
        "Then, we multiply our organic content `ee.Image` by the Van Bemmelen factor:"
      ]
    },
    {
      "cell_type": "code",
      "metadata": {
        "colab": {
          "base_uri": "https://localhost:8080/"
        },
        "id": "OCe7vmldFl25",
        "outputId": "c471bab0-f2e3-4b5b-f2df-754e1cac1fdf"
      },
      "source": [
        "orgm = orgc.multiply(1.724)\n",
        "\n",
        "profileOM = local_profile(orgm, poi, scale)\n",
        "print(\"Organic Matter content profile at the location of interest: \\n\", profileOM)"
      ],
      "execution_count": 11,
      "outputs": [
        {
          "output_type": "stream",
          "name": "stdout",
          "text": [
            "Organic Matter content profile at the location of interest: \n",
            " {'b0': 0.043, 'b10': 0.043, 'b100': 0.009, 'b200': 0.009, 'b30': 0.017, 'b60': 0.009}\n"
          ]
        }
      ]
    },
    {
      "cell_type": "markdown",
      "metadata": {
        "id": "zi-E44hCFuRf"
      },
      "source": [
        "We then use the `.expression()` method to calulate wilting point and field capacity images using Saxton & Rawls equations."
      ]
    },
    {
      "cell_type": "code",
      "metadata": {
        "id": "St1g8ujhGCf-"
      },
      "source": [
        "# We initialize two constant images for wiliting point and field capacity\n",
        "WP = ee.Image(0)\n",
        "FC = ee.Image(0)\n",
        "\n",
        "# We make the calculation for each bstandard depth so we make a loop\n",
        "for key in olm_bands:\n",
        "    # We get the sand, clay and organic matter at the appropriate depth\n",
        "    si = sand.select(key) #sand\n",
        "    ci = clay.select(key) #clay\n",
        "    oi = orgm.select(key) #organic matter\n",
        "    \n",
        "    # Then we calculate the wilting point\n",
        "    # We need the theta_1500t parameter for the given depth\n",
        "    theta_1500ti = ee.Image(0).expression(\n",
        "        '-0.024 * S + 0.487 * C + 0.006 * OM + 0.005 * (S * OM)\\\n",
        "        - 0.013 * (C * OM) + 0.068 * (S * C) + 0.031', {\n",
        "            'S' : si,\n",
        "            'C' : ci,\n",
        "            'OM': oi,\n",
        "        }\n",
        "    ).rename('T1500ti')\n",
        "    # then wilting point is calculated at the given depth\n",
        "    wpi = theta_1500ti.expression(\n",
        "        'T1500ti + ( 0.14 * T1500ti - 0.002)', {\n",
        "            'T1500ti' : theta_1500ti\n",
        "        }\n",
        "    ).rename('wpi')\n",
        "\n",
        "    # We add the result as a new band of the global WP\n",
        "    # We do not forget to cast the type with float()\n",
        "    WP = WP.addBands(wpi.rename(key).float())\n",
        "    \n",
        "    # We fo the same for the field capacity\n",
        "    # we first need the parameter theta_33t for the given depth:\n",
        "    theta_33ti = ee.Image(0).expression(\n",
        "        '-0.251 * S + 0.195 * C + 0.011 * OM +\\\n",
        "        0.006 * (S * OM) - 0.027 * (C * OM)+\\\n",
        "        0.452 * (S * C) + 0.299',{\n",
        "            'S' : si,\n",
        "            'C' : ci,\n",
        "            'OM' : oi,\n",
        "        }\n",
        "    ).rename('T33ti')\n",
        "    \n",
        "    fci = theta_33ti.expression(\n",
        "        'T33ti + (1.283 * T33ti * T33ti - 0.374 * T33ti - 0.015)',{\n",
        "            \"T33ti\" : theta_33ti.select(\"T33ti\")\n",
        "        }\n",
        "    )\n",
        "    \n",
        "    FC = FC.addBands(fci.rename(key).float())"
      ],
      "execution_count": 12,
      "outputs": []
    },
    {
      "cell_type": "markdown",
      "metadata": {
        "id": "FcZd2qHnGiBo"
      },
      "source": [
        "Let's see the result around our location of interest:"
      ]
    },
    {
      "cell_type": "code",
      "metadata": {
        "colab": {
          "base_uri": "https://localhost:8080/"
        },
        "id": "va8SaEr9Gizh",
        "outputId": "44d1473d-fa8a-4509-f48c-c202c71ad464"
      },
      "source": [
        "profileWP = local_profile(WP, poi, scale)\n",
        "print(profileWP)"
      ],
      "execution_count": 13,
      "outputs": [
        {
          "output_type": "stream",
          "name": "stdout",
          "text": [
            "{'b0': 0.153, 'b10': 0.159, 'b100': 0.176, 'b200': 0.17, 'b30': 0.176, 'b60': 0.182}\n"
          ]
        }
      ]
    },
    {
      "cell_type": "markdown",
      "metadata": {
        "id": "rrm5e1alGp6Q"
      },
      "source": [
        "We do the same for field capacity:"
      ]
    },
    {
      "cell_type": "code",
      "metadata": {
        "colab": {
          "base_uri": "https://localhost:8080/"
        },
        "id": "Q9Zlr8tJGpJB",
        "outputId": "e849d40e-98ca-4e03-a3dc-5cfcc4a2a64b"
      },
      "source": [
        "profileFC = local_profile(FC, poi, scale)\n",
        "print(profileFC)"
      ],
      "execution_count": 14,
      "outputs": [
        {
          "output_type": "stream",
          "name": "stdout",
          "text": [
            "{'b0': 0.286, 'b10': 0.292, 'b100': 0.31, 'b200': 0.303, 'b30': 0.308, 'b60': 0.314}\n"
          ]
        }
      ]
    },
    {
      "cell_type": "code",
      "metadata": {
        "colab": {
          "base_uri": "https://localhost:8080/",
          "height": 408
        },
        "id": "Zsqs-0oyG1nx",
        "outputId": "39575b8c-62e1-4906-db90-524f24e19ffa"
      },
      "source": [
        "fig, ax = plt.subplots(figsize=(15,6))\n",
        "ax.axes.get_yaxis().set_visible(False)\n",
        "\n",
        "x = np.arange(len(olm_bands))  # the label locations\n",
        "width = 0.25 #width of bars\n",
        "\n",
        "rect1 = ax.bar(x-width/2, \n",
        "               [round(profileWP[b]*100,2) for b in olm_bands], \n",
        "               width, \n",
        "               label=\"Water content at wilting point\", \n",
        "               color='red', alpha = 0.5)\n",
        "\n",
        "rect2 = ax.bar(x+width/2, \n",
        "               [round(profileFC[b]*100, 2) for b in olm_bands], \n",
        "               width, label=\"Water content at field Capacity\", \n",
        "               color='blue', alpha = 0.5)\n",
        "\n",
        "autolabel(rect1)\n",
        "autolabel(rect2)\n",
        "\n",
        "ax.set_title('Hydraulic properties of the soil at different depths', fontsize=14)\n",
        "ax.set_xticks(x)\n",
        "\n",
        "x_labels = [str(d) + \" cm\" for d in olm_depths] \n",
        "ax.set_xticklabels(x_labels, rotation = 45, fontsize=10)\n",
        "\n",
        "ax.spines['left'].set_visible(False)\n",
        "ax.spines['right'].set_visible(False)\n",
        "ax.spines['top'].set_visible(False)\n",
        "\n",
        "# Shrink current axis's height by 10% on the bottom\n",
        "box = ax.get_position()\n",
        "ax.set_position([box.x0, box.y0 + box.height * 0.1,\n",
        "                 box.width, box.height * 0.9])\n",
        "\n",
        "# Put a legend below current axis\n",
        "ax.legend(loc='upper center', bbox_to_anchor=(0.5, -0.15),\n",
        "          fancybox=True, shadow=True, ncol=2)\n",
        "\n",
        "plt.show()"
      ],
      "execution_count": 15,
      "outputs": [
        {
          "output_type": "display_data",
          "data": {
            "image/png": "[encoded data removed]",
            "text/plain": [
              "<Figure size 1080x432 with 1 Axes>"
            ]
          },
          "metadata": {
            "needs_background": "light"
          }
        }
      ]
    },
    {
      "cell_type": "markdown",
      "metadata": {
        "id": "JVezSsYkHG4h"
      },
      "source": [
        "### Getting meteorological datastets\n"
      ]
    },
    {
      "cell_type": "markdown",
      "metadata": {
        "id": "fc6KlXE9GR3J"
      },
      "source": [
        "#### Datasets exploration\n",
        "\n",
        "The meteorological data used in our implementation of the TM procedure relies on following remote sensing datasets:\n",
        "- Climate Hazards Group InfraRed Precipitation with Station data (CHIRPS) gives precipitations on a daily basis (resolution of 5 km),\n",
        "- the MODIS Terra Net gives evapotranspiration on a 8-days basis (resolution of 500 m)\n",
        "\n",
        "Both datasets are imported as follow:"
      ]
    },
    {
      "cell_type": "code",
      "metadata": {
        "id": "JeINenBXJPSa"
      },
      "source": [
        "# We select the precipitation band from the precipitaiton datasets\n",
        "pr = ee.ImageCollection(\"UCSB-CHG/CHIRPS/DAILY\").select('precipitation').filterDate(i_date, f_date)\n",
        "\n",
        "# We select the potential evaporation PET band and the quality indicator ET_QC:\n",
        "pet = ee.ImageCollection(\"MODIS/006/MOD16A2\").select(['PET', 'ET_QC']).filterDate(i_date, f_date)"
      ],
      "execution_count": 17,
      "outputs": []
    },
    {
      "cell_type": "markdown",
      "metadata": {
        "id": "Vfx3GTy4Jf3B"
      },
      "source": [
        "We now etablish a procedure to get meteorological data around a given location in form of a `pandas.DataFrame`:"
      ]
    },
    {
      "cell_type": "code",
      "metadata": {
        "id": "Nr4UEVo3Je4B"
      },
      "source": [
        "def ee_array_to_df(arr, list_of_bands):\n",
        "    \"\"\"Transforms client-side ee.Image.getRegion array to pandas.DataFrame.\"\"\"\n",
        "    df = pd.DataFrame(arr)\n",
        "\n",
        "    # Rearrange the header.\n",
        "    headers = df.iloc[0]\n",
        "    df = pd.DataFrame(df.values[1:], columns=headers)\n",
        "    \n",
        "    # Convert the data to numeric values.\n",
        "    for band in list_of_bands:\n",
        "        df[band] = pd.to_numeric(df[band], errors='coerce')\n",
        "        \n",
        "    # Convert the time field into a datetime.\n",
        "    df['datetime'] = pd.to_datetime(df['time'], unit='ms')\n",
        "\n",
        "    # Keep the columns of interest.\n",
        "    df = df[['time','datetime',  *list_of_bands]]\n",
        "    \n",
        "    df = df.set_index('datetime')\n",
        "\n",
        "    return df"
      ],
      "execution_count": 18,
      "outputs": []
    },
    {
      "cell_type": "markdown",
      "metadata": {
        "id": "Ki85DguMJt36"
      },
      "source": [
        "Now we can have a closer look around our location of interest:"
      ]
    },
    {
      "cell_type": "code",
      "metadata": {
        "colab": {
          "base_uri": "https://localhost:8080/",
          "height": 390
        },
        "id": "dJsDa34yJzux",
        "outputId": "92fef17b-f39a-4f76-8f7a-d5ebb858b4dc"
      },
      "source": [
        "#local precipitation info\n",
        "local_pr = pr.getRegion(poi, scale).getInfo()\n",
        "\n",
        "#transformation into pandas df\n",
        "pr_df = ee_array_to_df(local_pr, ['precipitation'])\n",
        "pr_df.head(10)"
      ],
      "execution_count": 19,
      "outputs": [
        {
          "output_type": "execute_result",
          "data": {
            "text/html": [
              "<div>\n",
              "<style scoped>\n",
              "    .dataframe tbody tr th:only-of-type {\n",
              "        vertical-align: middle;\n",
              "    }\n",
              "\n",
              "    .dataframe tbody tr th {\n",
              "        vertical-align: top;\n",
              "    }\n",
              "\n",
              "    .dataframe thead th {\n",
              "        text-align: right;\n",
              "    }\n",
              "</style>\n",
              "<table border=\"1\" class=\"dataframe\">\n",
              "  <thead>\n",
              "    <tr style=\"text-align: right;\">\n",
              "      <th></th>\n",
              "      <th>time</th>\n",
              "      <th>precipitation</th>\n",
              "    </tr>\n",
              "    <tr>\n",
              "      <th>datetime</th>\n",
              "      <th></th>\n",
              "      <th></th>\n",
              "    </tr>\n",
              "  </thead>\n",
              "  <tbody>\n",
              "    <tr>\n",
              "      <th>2015-01-01</th>\n",
              "      <td>1420070400000</td>\n",
              "      <td>0.000000</td>\n",
              "    </tr>\n",
              "    <tr>\n",
              "      <th>2015-01-02</th>\n",
              "      <td>1420156800000</td>\n",
              "      <td>0.000000</td>\n",
              "    </tr>\n",
              "    <tr>\n",
              "      <th>2015-01-03</th>\n",
              "      <td>1420243200000</td>\n",
              "      <td>0.000000</td>\n",
              "    </tr>\n",
              "    <tr>\n",
              "      <th>2015-01-04</th>\n",
              "      <td>1420329600000</td>\n",
              "      <td>0.000000</td>\n",
              "    </tr>\n",
              "    <tr>\n",
              "      <th>2015-01-05</th>\n",
              "      <td>1420416000000</td>\n",
              "      <td>0.000000</td>\n",
              "    </tr>\n",
              "    <tr>\n",
              "      <th>2015-01-06</th>\n",
              "      <td>1420502400000</td>\n",
              "      <td>0.000000</td>\n",
              "    </tr>\n",
              "    <tr>\n",
              "      <th>2015-01-07</th>\n",
              "      <td>1420588800000</td>\n",
              "      <td>0.000000</td>\n",
              "    </tr>\n",
              "    <tr>\n",
              "      <th>2015-01-08</th>\n",
              "      <td>1420675200000</td>\n",
              "      <td>0.000000</td>\n",
              "    </tr>\n",
              "    <tr>\n",
              "      <th>2015-01-09</th>\n",
              "      <td>1420761600000</td>\n",
              "      <td>2.134465</td>\n",
              "    </tr>\n",
              "    <tr>\n",
              "      <th>2015-01-10</th>\n",
              "      <td>1420848000000</td>\n",
              "      <td>0.000000</td>\n",
              "    </tr>\n",
              "  </tbody>\n",
              "</table>\n",
              "</div>"
            ],
            "text/plain": [
              "0                    time  precipitation\n",
              "datetime                                \n",
              "2015-01-01  1420070400000       0.000000\n",
              "2015-01-02  1420156800000       0.000000\n",
              "2015-01-03  1420243200000       0.000000\n",
              "2015-01-04  1420329600000       0.000000\n",
              "2015-01-05  1420416000000       0.000000\n",
              "2015-01-06  1420502400000       0.000000\n",
              "2015-01-07  1420588800000       0.000000\n",
              "2015-01-08  1420675200000       0.000000\n",
              "2015-01-09  1420761600000       2.134465\n",
              "2015-01-10  1420848000000       0.000000"
            ]
          },
          "metadata": {},
          "execution_count": 19
        }
      ]
    },
    {
      "cell_type": "markdown",
      "metadata": {
        "id": "Jg8Lb2FSKlcf"
      },
      "source": [
        "We do the same for potential evaporation:"
      ]
    },
    {
      "cell_type": "code",
      "metadata": {
        "colab": {
          "base_uri": "https://localhost:8080/",
          "height": 235
        },
        "id": "qKOzenXQKkz8",
        "outputId": "7a0c5829-4672-44cd-dbe1-ebc24db89945"
      },
      "source": [
        "#local precipitation info\n",
        "local_pet = pet.getRegion(poi, scale).getInfo()\n",
        "\n",
        "#transformation into pandas df\n",
        "pet_df = ee_array_to_df(local_pet, ['PET', 'ET_QC'])\n",
        "pet_df.head(5)"
      ],
      "execution_count": 20,
      "outputs": [
        {
          "output_type": "execute_result",
          "data": {
            "text/html": [
              "<div>\n",
              "<style scoped>\n",
              "    .dataframe tbody tr th:only-of-type {\n",
              "        vertical-align: middle;\n",
              "    }\n",
              "\n",
              "    .dataframe tbody tr th {\n",
              "        vertical-align: top;\n",
              "    }\n",
              "\n",
              "    .dataframe thead th {\n",
              "        text-align: right;\n",
              "    }\n",
              "</style>\n",
              "<table border=\"1\" class=\"dataframe\">\n",
              "  <thead>\n",
              "    <tr style=\"text-align: right;\">\n",
              "      <th></th>\n",
              "      <th>time</th>\n",
              "      <th>PET</th>\n",
              "      <th>ET_QC</th>\n",
              "    </tr>\n",
              "    <tr>\n",
              "      <th>datetime</th>\n",
              "      <th></th>\n",
              "      <th></th>\n",
              "      <th></th>\n",
              "    </tr>\n",
              "  </thead>\n",
              "  <tbody>\n",
              "    <tr>\n",
              "      <th>2015-01-01</th>\n",
              "      <td>1420070400000</td>\n",
              "      <td>63.0</td>\n",
              "      <td>0</td>\n",
              "    </tr>\n",
              "    <tr>\n",
              "      <th>2015-01-09</th>\n",
              "      <td>1420761600000</td>\n",
              "      <td>76.0</td>\n",
              "      <td>0</td>\n",
              "    </tr>\n",
              "    <tr>\n",
              "      <th>2015-01-17</th>\n",
              "      <td>1421452800000</td>\n",
              "      <td>44.0</td>\n",
              "      <td>0</td>\n",
              "    </tr>\n",
              "    <tr>\n",
              "      <th>2015-01-25</th>\n",
              "      <td>1422144000000</td>\n",
              "      <td>NaN</td>\n",
              "      <td>105</td>\n",
              "    </tr>\n",
              "    <tr>\n",
              "      <th>2015-02-02</th>\n",
              "      <td>1422835200000</td>\n",
              "      <td>NaN</td>\n",
              "      <td>8</td>\n",
              "    </tr>\n",
              "  </tbody>\n",
              "</table>\n",
              "</div>"
            ],
            "text/plain": [
              "0                    time   PET  ET_QC\n",
              "datetime                              \n",
              "2015-01-01  1420070400000  63.0      0\n",
              "2015-01-09  1420761600000  76.0      0\n",
              "2015-01-17  1421452800000  44.0      0\n",
              "2015-01-25  1422144000000   NaN    105\n",
              "2015-02-02  1422835200000   NaN      8"
            ]
          },
          "metadata": {},
          "execution_count": 20
        }
      ]
    },
    {
      "cell_type": "markdown",
      "metadata": {
        "id": "slpz6norLFKT"
      },
      "source": [
        "Looking at both `pandas.DataFrame` shows the following points:\n",
        "- the time resolution between both datasets is not the same,\n",
        "- for some reasons, potential evapotranspiration cannot be calulated at some dates. It corresponds to lines where the quality indicator `ET_QC` is higher than 1.\n",
        "\n",
        "Both issues must be handled before implementing the iterative process: we want to work on a similar timeline with potential evapotranspiration and precipitation, and we want to avoid missing values."
      ]
    },
    {
      "cell_type": "markdown",
      "metadata": {
        "id": "OZT4aZ0zJPuA"
      },
      "source": [
        "#### Resampling the time resolution of an `ee.ImageCollection`\n",
        "\n",
        "To tadress these issues (homogenneous time index and missing values), we make a sum resampling of both datasets by month. When `PET` cannot be calculated, the monthly averaged value is considered. The resampling procedure reads as follow:"
      ]
    },
    {
      "cell_type": "code",
      "metadata": {
        "id": "e5OIfcKkHGla"
      },
      "source": [
        "def sum_resampler(coll, freq, unit, scale_factor, band_name):\n",
        "    \"\"\"\n",
        "    This function aims to resample the time scale of an ee.ImageCollection.\n",
        "    The function returns an ee.ImageCollection with the averaged sum of the \n",
        "    band on the selected frequence.\n",
        "\n",
        "    coll: (ee.ImageCollection) only one band can be handled\n",
        "    freq: (int) corresponds to the resampling frequence\n",
        "    unit: (str) corresponds to the resampling time unit.\n",
        "                must be 'day', 'month' or 'year'\n",
        "    scale_factor (float): scaling factor used to get our value in the unit we want\n",
        "    band_name (str) name of the output band\n",
        "    \"\"\"\n",
        "\n",
        "    #We determine the initial and final dates of our collection\n",
        "    firstdate = ee.Date(coll.sort('system:time_start', True).first().get('system:time_start'))\n",
        "    lastdate = ee.Date(coll.sort('system:time_start', False).first().get('system:time_start'))\n",
        "    \n",
        "    # We determine the time difference between both\n",
        "    diff_dates = lastdate.difference(firstdate, str(unit) + \"s\")\n",
        "\n",
        "    # We define a new time index (for output)\n",
        "    new_index = ee.List.sequence(0, ee.Number(diff_dates), freq)\n",
        "    \n",
        "    # we define the function that will be applied to our new time idenx sequence\n",
        "    def apply_resampling(date_index):\n",
        "        startdate = firstdate.advance(ee.Number(date_index), unit)\n",
        "        enddate = firstdate.advance(ee.Number(date_index).add(freq), unit)\n",
        "\n",
        "        diff_days = enddate.difference(startdate, 'days')\n",
        "        image = coll.filterDate(startdate, enddate).mean().multiply(diff_days).multiply(scale_factor).rename(band_name)\n",
        "\n",
        "        return image.set('system:time_start', startdate.millis())\n",
        "\n",
        "    # We map the function to our new time index\n",
        "    res = new_index.map(apply_resampling)\n",
        "    \n",
        "    # We transform the result into an ee.ImageCollection\n",
        "    res = ee.ImageCollection(res)\n",
        "    return res"
      ],
      "execution_count": 21,
      "outputs": []
    },
    {
      "cell_type": "markdown",
      "metadata": {
        "id": "DLMDO48dONED"
      },
      "source": [
        "The precipitation dataset can now easily be resampled by month as follow: "
      ]
    },
    {
      "cell_type": "code",
      "metadata": {
        "id": "oGixp5YROUjL",
        "colab": {
          "base_uri": "https://localhost:8080/"
        },
        "outputId": "09f48dfb-d220-45ed-9b6f-822c6e0ea429"
      },
      "source": [
        "pr_m = sum_resampler(pr, 1, 'month', 1, 'PR')\n",
        "pr_m.getRegion(poi, scale).getInfo()[:5]"
      ],
      "execution_count": 22,
      "outputs": [
        {
          "output_type": "execute_result",
          "data": {
            "text/plain": [
              "[['id', 'longitude', 'latitude', 'time', 'PR'],\n",
              " ['0', 5.142855001584261, 45.77365530231022, 1420070400000, 83.12794733047485],\n",
              " ['1',\n",
              "  5.142855001584261,\n",
              "  45.77365530231022,\n",
              "  1422748800000,\n",
              "  61.235233306884766],\n",
              " ['2',\n",
              "  5.142855001584261,\n",
              "  45.77365530231022,\n",
              "  1425168000000,\n",
              "  60.416391015052795],\n",
              " ['3',\n",
              "  5.142855001584261,\n",
              "  45.77365530231022,\n",
              "  1427846400000,\n",
              "  48.404173851013184]]"
            ]
          },
          "metadata": {},
          "execution_count": 22
        }
      ]
    },
    {
      "cell_type": "markdown",
      "metadata": {
        "id": "lR26epuhOYO6"
      },
      "source": [
        "For evapotranspiration, we have to be carefull with the unit. The dataset gives us a 8-days sum and a scale factor of 10 is applied. Then, to get an homogeneous unit, we need to rescale by dividing by 8 and 10: $\\frac{1}{10 \\times 8} = 0.0125$."
      ]
    },
    {
      "cell_type": "code",
      "metadata": {
        "id": "R1-d-F95O4E0",
        "colab": {
          "base_uri": "https://localhost:8080/"
        },
        "outputId": "ea5fc329-2f15-4bc6-ea26-3c478914befa"
      },
      "source": [
        "pet_m = sum_resampler(pet.select('PET'), 1, 'month', 0.0125, 'PET')\n",
        "pet_m.getRegion(poi, scale).getInfo()[:5]"
      ],
      "execution_count": 23,
      "outputs": [
        {
          "output_type": "execute_result",
          "data": {
            "text/plain": [
              "[['id', 'longitude', 'latitude', 'time', 'PET'],\n",
              " ['0',\n",
              "  5.142855001584261,\n",
              "  45.77365530231022,\n",
              "  1420070400000,\n",
              "  23.637500000000003],\n",
              " ['1', 5.142855001584261, 45.77365530231022, 1422748800000, 39.2],\n",
              " ['2', 5.142855001584261, 45.77365530231022, 1425168000000, 76.434375],\n",
              " ['3', 5.142855001584261, 45.77365530231022, 1427846400000, 137]]"
            ]
          },
          "metadata": {},
          "execution_count": 23
        }
      ]
    },
    {
      "cell_type": "markdown",
      "metadata": {
        "id": "nygVLrMLPCK6"
      },
      "source": [
        "We can now combine both `ee.Imagecollection` using the `ee.ImageCollection.combine` method. In our case, we choose to combine `pet_m` to `pr_m`. Consequently `pet_m` images will be stacked in the `pr_m` collection without respect of the the time index. Consequently, make sure that both `ee.ImageCollection` have the same time index berfore combing."
      ]
    },
    {
      "cell_type": "code",
      "metadata": {
        "id": "OAyQ838kPtYE",
        "colab": {
          "base_uri": "https://localhost:8080/"
        },
        "outputId": "0bfb7ab8-ad9b-49d3-94cc-9fb0fe96b740"
      },
      "source": [
        "# We combine precipitation and evapotranspiration\n",
        "meteo = pr_m.combine(pet_m)\n",
        "meteo.getRegion(poi, scale).getInfo()[:5]"
      ],
      "execution_count": 24,
      "outputs": [
        {
          "output_type": "execute_result",
          "data": {
            "text/plain": [
              "[['id', 'longitude', 'latitude', 'time', 'PR', 'PET'],\n",
              " ['0',\n",
              "  5.142855001584261,\n",
              "  45.77365530231022,\n",
              "  1420070400000,\n",
              "  83.12794733047485,\n",
              "  23.637500000000003],\n",
              " ['1',\n",
              "  5.142855001584261,\n",
              "  45.77365530231022,\n",
              "  1422748800000,\n",
              "  61.235233306884766,\n",
              "  39.2],\n",
              " ['10',\n",
              "  5.142855001584261,\n",
              "  45.77365530231022,\n",
              "  1446336000000,\n",
              "  35.43960928916931,\n",
              "  39.5],\n",
              " ['11',\n",
              "  5.142855001584261,\n",
              "  45.77365530231022,\n",
              "  1448928000000,\n",
              "  16.603714764118195,\n",
              "  25.058333333333337]]"
            ]
          },
          "metadata": {},
          "execution_count": 24
        }
      ]
    },
    {
      "cell_type": "markdown",
      "metadata": {
        "id": "f6unGPWjP59M"
      },
      "source": [
        "We evaluate the result on our location of interest as follow: "
      ]
    },
    {
      "cell_type": "code",
      "metadata": {
        "colab": {
          "base_uri": "https://localhost:8080/",
          "height": 406
        },
        "id": "2vsKIxXAP5Q6",
        "outputId": "ecbb33b6-f218-4234-9da2-0bca8ed1474e"
      },
      "source": [
        "meteo_arr = meteo.getRegion(poi, scale).getInfo()\n",
        "meteo_df = ee_array_to_df(meteo_arr , ['PR', 'PET']).sort_index()\n",
        "\n",
        "# We plot the result\n",
        "fig, ax = plt.subplots(figsize = (15,6))\n",
        "meteo_df['PR'].plot(kind = 'bar', ax = ax, label = \"P\")\n",
        "meteo_df['PET'].plot(kind = 'bar', ax = ax, label = \"PET\", color = 'orange', alpha = 0.5)\n",
        "\n",
        "ax.legend()\n",
        "ax.set_ylabel('Intensity [mm]')\n",
        "ax.set_xlabel(None)\n",
        "\n",
        "x_labels = meteo_df.index.strftime('%m-%Y') \n",
        "ax.set_xticklabels(x_labels, rotation = 90, fontsize=10)\n",
        "\n",
        "plt.show()"
      ],
      "execution_count": 25,
      "outputs": [
        {
          "output_type": "display_data",
          "data": {
            "image/png": "[encoded data removed]",
            "text/plain": [
              "<Figure size 1080x432 with 1 Axes>"
            ]
          },
          "metadata": {
            "needs_background": "light"
          }
        }
      ]
    },
    {
      "cell_type": "markdown",
      "metadata": {
        "id": "FJQLYbU6Qwzc"
      },
      "source": [
        "### Implementation of the TM procedure\n",
        " \n"
      ]
    },
    {
      "cell_type": "markdown",
      "metadata": {
        "id": "qhxrtu1YGYa-"
      },
      "source": [
        "#### Description\n",
        "Some additionnal definitions are requested to formalize the Thornthwaite-Mather procedure. The following definitions are given in accordance with Allen et al. (1998) (the document can be downloaded [here](http://www.climasouth.eu/sites/default/files/FAO%2056.pdf)):\n",
        "\n",
        "$$TAW = 1000 \\times (\\theta_{FC} − \\theta_{WP})\\times Z{r}$$ where:\n",
        "- $TAW$: the total available soil water in the root zone [$mm$],\n",
        "- $\\theta_{FC}$: the water content at the field capacity [$m^{3} m^{-3}$],\n",
        "- $\\theta_{WP}$: the water content at wilting point [$m^{3} m^{-3}$],\n",
        "- $Z_{r}$: the rooting depth [$mm$],\n",
        "\n",
        "Typical values of $\\theta_{FC}$ and $\\theta_{WP}$ for different soil types are given in the Table 19 of Allen et al. (1998).\n",
        "\n",
        "The readily available water ($RAW$) is given by $RAW = p \\times TAW$, where $p$ is the average fraction of $TAW$ that can be depleted from the root zone before moisture stress (ranging between 0 to 1). Ranges of maximum effective rooting depth $Z_{r}$, and soil water depletion fraction for no stress $p$, for common crops are given in the Table 22 of Allen et al. (1998). This quantity is also noted $ST_{FC}$ which is the available water stored at field capacity in the root zone. In this tutorial, both parameters are assumed to be constant and respectively equal to $Z_{r} = 1$ and $p = 0.5$."
      ]
    },
    {
      "cell_type": "code",
      "metadata": {
        "id": "jYdOlzZ1e1P1"
      },
      "source": [
        "#initialization :\n",
        "Zr = ee.Image(1.)\n",
        "p = ee.Image(0.5)"
      ],
      "execution_count": 26,
      "outputs": []
    },
    {
      "cell_type": "markdown",
      "metadata": {
        "id": "C0i7UAfUhcul"
      },
      "source": [
        "In the following, we also consider an averaged value between reference depth of the water content at wilting point and filed capacity:"
      ]
    },
    {
      "cell_type": "code",
      "metadata": {
        "id": "7TexXDIfhnad"
      },
      "source": [
        "# We define a function to get an average value of\n",
        "# FC and WP\n",
        "def olm_prop_mean(olm_image, band_output_name):\n",
        "  mean_image = olm_image.expression(\n",
        "      \"(b0 + b10 + b30 + b60 + b100 + b200) / 6\", {\n",
        "          \"b0\" : olm_image.select(\"b0\"),\n",
        "          \"b10\" : olm_image.select(\"b10\"),\n",
        "          \"b30\" : olm_image.select(\"b30\"),\n",
        "          \"b60\" : olm_image.select(\"b60\"),\n",
        "          \"b100\" : olm_image.select(\"b100\"),\n",
        "          \"b200\" : olm_image.select(\"b200\")\n",
        "\n",
        "      }\n",
        "  ).rename(band_output_name)\n",
        "  return mean_image\n",
        "\n",
        "FCm = olm_prop_mean(FC, 'fc_mean')\n",
        "WPm = olm_prop_mean(WP, 'wp_mean')\n",
        "\n",
        "# The theoretical available water :\n",
        "TAW = (FCm.select(\"fc_mean\").subtract(WPm.select(\"wp_mean\"))).multiply(1000).multiply(Zr)\n",
        "#TAW = (FC.select(\"b0\").subtract(WP.select(\"b0\"))).multiply(1000).multiply(Zr)\n",
        "\n",
        "# Stored water at the field capacity:\n",
        "STfc = TAW.multiply(p)"
      ],
      "execution_count": 27,
      "outputs": []
    },
    {
      "cell_type": "markdown",
      "metadata": {
        "id": "f6DwPylpe0HW"
      },
      "source": [
        "The Thornthwaite-Mather procedure used to estimate groundwater recharge is explicitely described by Steenhuis and Van der Molen (1985). This procedures uses monthly sums of potential evaporation and cumulative precipitation, and the moisture status of the soil which is calculated iteratively. The moisture status of the soils depends on the accumulated potential water loss ($APWL$). This parameter is calculated depending on whether the potential evaporation is greater than or less than the cumulative precipitation. The procedure reads as follow:\n",
        "\n",
        "**When potential evapotranspiration is higher that precipitation**:\n",
        "\n",
        "In that case, $PET>P$ and $APWL_{m}$ is incremented as follow:\n",
        "$APWL_{m} = APWL_{m - 1} + (PET_{m} - P_{m})$ where:\n",
        "- $APWL_{m}$ (respectively $APWL_{m - 1}$) represents the accumulated potential water loss for the month $m$ (respectively at the previous month $m - 1$)\n",
        "- $PET_{m}$ the cumulative optential evapotranspiration at month $m$,\n",
        "- $P_{m}$ the cumulative precipitation at month $m$,\n",
        "\n",
        "and the relationship between $APWL$ and the amount of water stored in the root zone for the month $m$ is expressed as:\n",
        "$ST_{m} = ST_{FC} \\times [\\textrm{exp}(-APWL_{m}/ST_{FC})]$ where $ST_{m}$ is the available water stored in the root zone for the month $m$.\n",
        "\n",
        "**When potential evapotranspiration is lower that precipitation**:\n",
        "\n",
        "In that case, $PET<P$ and $ST_{m}$ is incremented as follow:\n",
        "$ST_{m} = ST_{m-1} + (P_{m} - PET_{m})$\n",
        "\n",
        "If the storage $ST_{m}$ is higher than the water stored at the field capacity ($ST_{m} > ST_{FC}$) the recharge is calculated as:\n",
        "$R_{m} = ST_{m} - ST_{FC} + P_{m} - PET_{m}$\n",
        "\n",
        "In addtion, the water stored at the end of the month $m$ becomes equal to $ST_{FC}$ and $APWL_{m}$ is set equal to zero.\n",
        "\n",
        "If the storage $ST_{m}$ is lower than $ST_{FC}$, $APWL_{m}$ is implemented as follow:\n",
        "$APWL_{m} = ST_{FC} \\times \\textrm{ln}(ST_{m}/ST_{FC})$, and no percolation occur.\n",
        "\n",
        "**Initialization**:\n",
        "\n",
        "To initialize the calculation $APWL_{0}$ is set equal to 0, and $ST_{0}$ is set equal to $ST_{FC}$.\n",
        "\n",
        "#### Iteration over an `ee.ImageCollection`\n",
        "The procedure is implented by means of the `ee.ImageCollection.iterate()` method.\n",
        "\n",
        "We first define an initial image used to start the iterative process as follow:"
      ]
    },
    {
      "cell_type": "code",
      "metadata": {
        "id": "wDW_Ub-IPBia"
      },
      "source": [
        "# we define our time0 according to the start of our meteo collection\n",
        "time0 = meteo.first().get('system:time_start')\n",
        "\n",
        "# We now initialize the different bands :\n",
        "# We do not forget to cast the type of the data with a .float()\n",
        "initial_rech = ee.Image(0).set('system:time_start', time0).select([0], ['RECH']).float()\n",
        "initial_apwl = ee.Image(0).set('system:time_start', time0).select([0], ['APWL']).float()\n",
        "initial_st   = STfc.set('system:time_start', time0).select([0], ['ST']).float()\n",
        "initial_pr = ee.Image(0).set('system:time_start', time0).select([0], ['PR']).float()\n",
        "initial_pet = ee.Image(0).set('system:time_start', time0).select([0], ['PET']).float()"
      ],
      "execution_count": 28,
      "outputs": []
    },
    {
      "cell_type": "markdown",
      "metadata": {
        "id": "xi3w8xZziUd_"
      },
      "source": [
        "We combine all these images into one adding new bands to the first using the `ee.Image.addBands` method:\n"
      ]
    },
    {
      "cell_type": "code",
      "metadata": {
        "id": "Nts-USveO01U"
      },
      "source": [
        "initial_image  = initial_rech.addBands(initial_apwl)\n",
        "initial_image  = initial_image.addBands(initial_st)\n",
        "initial_image  = initial_image.addBands(initial_pr)\n",
        "initial_image  = initial_image.addBands(initial_pet)"
      ],
      "execution_count": 29,
      "outputs": []
    },
    {
      "cell_type": "markdown",
      "metadata": {
        "id": "yX_t1DV8jCFe"
      },
      "source": [
        "We also initialize a list in which new images will be added after each iteration:"
      ]
    },
    {
      "cell_type": "code",
      "metadata": {
        "id": "MxdDQIaJjCZ1"
      },
      "source": [
        "my_list = ee.List([initial_image]) "
      ],
      "execution_count": 30,
      "outputs": []
    },
    {
      "cell_type": "markdown",
      "metadata": {
        "id": "5zN4P1pIikVo"
      },
      "source": [
        "The iterative procedure is now implemented into a function:"
      ]
    },
    {
      "cell_type": "code",
      "metadata": {
        "id": "K5gMOKgbijyp"
      },
      "source": [
        "def recharge_calculator(image, my_list):\n",
        "    \"\"\"\n",
        "    this function contains the iterative process\n",
        "    \"\"\"\n",
        "    # We load the previous image stored in the list\n",
        "    prev_im = ee.Image(ee.List(my_list).get(-1))\n",
        "    \n",
        "    # We get the gate of the current ee.Image of the collection \n",
        "    localdate = ee.Date(image.get('system:time_start'))\n",
        "        \n",
        "    # We store the previous APWL and ST as images\n",
        "    prev_apwl = prev_im.select('APWL')\n",
        "    prev_st = prev_im.select('ST')\n",
        "    \n",
        "    # We store the current precipitation and evapotranspiration:\n",
        "    P = image.select('PR')\n",
        "    PET = image.select('PET')\n",
        "    \n",
        "    # We initialize the new values of recharge, apwl and st:\n",
        "    # DO NOT FORGET TO CAST THE TYPE WITH .float()\n",
        "    new_rech = ee.Image(0).set('system:time_start', localdate.millis()).select([0], ['RECH']).float()\n",
        "    new_apwl = PET.subtract(PET).set('system:time_start', localdate.millis()).select([0], ['APWL']).float()\n",
        "    new_st = prev_st.set('system:time_start', localdate.millis()).select([0], ['ST']).float()\n",
        "    \n",
        "    # We now calculate parameters depending on the situation:\n",
        "    # We Create binary layers using logical operations.\n",
        "    #zone1 is the area where PET > P\n",
        "    zone1 = PET.gt(P)\n",
        "\n",
        "    zone1_apwl = prev_apwl.add(PET.subtract(P)).rename(\"APWL\")\n",
        "    new_apwl = new_apwl.where(zone1, zone1_apwl)\n",
        "    \n",
        "    zone1_st = prev_st.multiply(ee.Image.exp(zone1_apwl.divide(STfc).multiply(-1))).rename(\"ST\")\n",
        "    new_st = new_st.where(zone1, zone1_st)\n",
        "    \n",
        "    #zone2 is the area where PET <= P\n",
        "    zone2 = PET.lte(P)\n",
        "    \n",
        "    zone2_st = prev_st.add(P).subtract(PET).rename(\"ST\")\n",
        "    new_st = new_st.where(zone2, zone2_st)\n",
        "    \n",
        "    #zone21 is the area where PET <= P and ST >= STfc\n",
        "    zone21 = zone2.And(zone2_st.gte(STfc))\n",
        "    \n",
        "    zone21_re = zone2_st.subtract(STfc).rename(\"RECH\")\n",
        "    new_rech = new_rech.where(zone21, zone21_re)\n",
        "    new_st = new_st.where(zone21, STfc)\n",
        "    \n",
        "    #zone 22 is the area where PET <= P and ST < STfc\n",
        "    zone22 = zone2.And(zone2_st.lt(STfc))\n",
        "    \n",
        "    zone22_apwl = STfc.multiply(-1).multiply(ee.Image.log(zone2_st.divide(STfc))).rename(\"APWL\")\n",
        "    new_apwl = new_apwl.where(zone22, zone22_apwl)\n",
        "    \n",
        "    # A mask is created to not calculate a recharge in area where \n",
        "    # we cannot have PET, P, FCm, WPm (urban areas, etc...)\n",
        "    mask = PET.gte(0).And(P.gte(0)).And(FCm.gte(0)).And(WPm.gte(0))\n",
        "\n",
        "    # We aply the mask\n",
        "    new_rech = new_rech.updateMask(mask)\n",
        "\n",
        "    # Now we add all Bands to our ee.Image\n",
        "    new_image = new_rech.addBands(new_apwl)\n",
        "    new_image = new_image.addBands(new_st)\n",
        "    new_image = new_image.addBands(P)\n",
        "    new_image = new_image.addBands(PET)\n",
        "    \n",
        "    return ee.List(my_list).add(new_image)"
      ],
      "execution_count": 31,
      "outputs": []
    },
    {
      "cell_type": "markdown",
      "metadata": {
        "id": "_0mTHghUj7mg"
      },
      "source": [
        "The TM procedure can now be applied to the meteorological `ee.ImageCollection`:"
      ]
    },
    {
      "cell_type": "code",
      "metadata": {
        "id": "9pIrsOAEkHzH"
      },
      "source": [
        "# We run the procedure to get the result in a list\n",
        "rech_list = meteo.iterate(recharge_calculator, my_list)\n",
        "\n",
        "# We remove the initial image from our list\n",
        "rech_list = ee.List(rech_list).remove(initial_image)\n",
        "\n",
        "# We tranform our list into an ImageCollection\n",
        "rech_coll = ee.ImageCollection(rech_list)"
      ],
      "execution_count": 32,
      "outputs": []
    },
    {
      "cell_type": "markdown",
      "metadata": {
        "id": "fFNjh1gFkSWI"
      },
      "source": [
        "Let's have a look at the result around the location of interest:"
      ]
    },
    {
      "cell_type": "code",
      "metadata": {
        "colab": {
          "base_uri": "https://localhost:8080/",
          "height": 452
        },
        "id": "eHUvIOo-kYbW",
        "outputId": "3cd7ba39-308d-4cc6-d129-9655c64c3770"
      },
      "source": [
        "arr = rech_coll.getRegion(poi, scale).getInfo()\n",
        "rdf = ee_array_to_df(arr, ['PR', 'PET', 'APWL', 'ST', 'RECH']).sort_index()\n",
        "rdf.head(12)"
      ],
      "execution_count": 33,
      "outputs": [
        {
          "output_type": "execute_result",
          "data": {
            "text/html": [
              "<div>\n",
              "<style scoped>\n",
              "    .dataframe tbody tr th:only-of-type {\n",
              "        vertical-align: middle;\n",
              "    }\n",
              "\n",
              "    .dataframe tbody tr th {\n",
              "        vertical-align: top;\n",
              "    }\n",
              "\n",
              "    .dataframe thead th {\n",
              "        text-align: right;\n",
              "    }\n",
              "</style>\n",
              "<table border=\"1\" class=\"dataframe\">\n",
              "  <thead>\n",
              "    <tr style=\"text-align: right;\">\n",
              "      <th></th>\n",
              "      <th>time</th>\n",
              "      <th>PR</th>\n",
              "      <th>PET</th>\n",
              "      <th>APWL</th>\n",
              "      <th>ST</th>\n",
              "      <th>RECH</th>\n",
              "    </tr>\n",
              "    <tr>\n",
              "      <th>datetime</th>\n",
              "      <th></th>\n",
              "      <th></th>\n",
              "      <th></th>\n",
              "      <th></th>\n",
              "      <th></th>\n",
              "      <th></th>\n",
              "    </tr>\n",
              "  </thead>\n",
              "  <tbody>\n",
              "    <tr>\n",
              "      <th>2015-01-01</th>\n",
              "      <td>1420070400000</td>\n",
              "      <td>83.127947</td>\n",
              "      <td>23.637500</td>\n",
              "      <td>0.000000</td>\n",
              "      <td>6.650681e+01</td>\n",
              "      <td>59.490450</td>\n",
              "    </tr>\n",
              "    <tr>\n",
              "      <th>2015-02-01</th>\n",
              "      <td>1422748800000</td>\n",
              "      <td>61.235233</td>\n",
              "      <td>39.200000</td>\n",
              "      <td>0.000000</td>\n",
              "      <td>6.650681e+01</td>\n",
              "      <td>22.035233</td>\n",
              "    </tr>\n",
              "    <tr>\n",
              "      <th>2015-03-01</th>\n",
              "      <td>1425168000000</td>\n",
              "      <td>60.416391</td>\n",
              "      <td>76.434375</td>\n",
              "      <td>527.000626</td>\n",
              "      <td>7.478765e-10</td>\n",
              "      <td>0.000000</td>\n",
              "    </tr>\n",
              "    <tr>\n",
              "      <th>2015-04-01</th>\n",
              "      <td>1427846400000</td>\n",
              "      <td>48.404174</td>\n",
              "      <td>137.000000</td>\n",
              "      <td>448.935907</td>\n",
              "      <td>1.154736e-06</td>\n",
              "      <td>0.000000</td>\n",
              "    </tr>\n",
              "    <tr>\n",
              "      <th>2015-05-01</th>\n",
              "      <td>1430438400000</td>\n",
              "      <td>70.076297</td>\n",
              "      <td>187.550000</td>\n",
              "      <td>237.667646</td>\n",
              "      <td>3.061985e-01</td>\n",
              "      <td>0.000000</td>\n",
              "    </tr>\n",
              "    <tr>\n",
              "      <th>2015-06-01</th>\n",
              "      <td>1433116800000</td>\n",
              "      <td>89.217610</td>\n",
              "      <td>220.500000</td>\n",
              "      <td>131.282390</td>\n",
              "      <td>9.238091e+00</td>\n",
              "      <td>0.000000</td>\n",
              "    </tr>\n",
              "    <tr>\n",
              "      <th>2015-07-01</th>\n",
              "      <td>1435708800000</td>\n",
              "      <td>36.950253</td>\n",
              "      <td>228.915625</td>\n",
              "      <td>191.965372</td>\n",
              "      <td>3.709521e+00</td>\n",
              "      <td>0.000000</td>\n",
              "    </tr>\n",
              "    <tr>\n",
              "      <th>2015-08-01</th>\n",
              "      <td>1438387200000</td>\n",
              "      <td>56.904872</td>\n",
              "      <td>186.871875</td>\n",
              "      <td>321.932375</td>\n",
              "      <td>2.931400e-02</td>\n",
              "      <td>0.000000</td>\n",
              "    </tr>\n",
              "    <tr>\n",
              "      <th>2015-09-01</th>\n",
              "      <td>1441065600000</td>\n",
              "      <td>131.345901</td>\n",
              "      <td>108.656250</td>\n",
              "      <td>71.435251</td>\n",
              "      <td>2.271897e+01</td>\n",
              "      <td>0.000000</td>\n",
              "    </tr>\n",
              "    <tr>\n",
              "      <th>2015-10-01</th>\n",
              "      <td>1443657600000</td>\n",
              "      <td>84.328574</td>\n",
              "      <td>48.179167</td>\n",
              "      <td>8.113855</td>\n",
              "      <td>5.886837e+01</td>\n",
              "      <td>0.000000</td>\n",
              "    </tr>\n",
              "    <tr>\n",
              "      <th>2015-11-01</th>\n",
              "      <td>1446336000000</td>\n",
              "      <td>35.439609</td>\n",
              "      <td>39.500000</td>\n",
              "      <td>4.060391</td>\n",
              "      <td>6.256788e+01</td>\n",
              "      <td>0.000000</td>\n",
              "    </tr>\n",
              "    <tr>\n",
              "      <th>2015-12-01</th>\n",
              "      <td>1448928000000</td>\n",
              "      <td>16.603715</td>\n",
              "      <td>25.058333</td>\n",
              "      <td>12.515009</td>\n",
              "      <td>5.183553e+01</td>\n",
              "      <td>0.000000</td>\n",
              "    </tr>\n",
              "  </tbody>\n",
              "</table>\n",
              "</div>"
            ],
            "text/plain": [
              "0                    time          PR  ...            ST       RECH\n",
              "datetime                               ...                         \n",
              "2015-01-01  1420070400000   83.127947  ...  6.650681e+01  59.490450\n",
              "2015-02-01  1422748800000   61.235233  ...  6.650681e+01  22.035233\n",
              "2015-03-01  1425168000000   60.416391  ...  7.478765e-10   0.000000\n",
              "2015-04-01  1427846400000   48.404174  ...  1.154736e-06   0.000000\n",
              "2015-05-01  1430438400000   70.076297  ...  3.061985e-01   0.000000\n",
              "2015-06-01  1433116800000   89.217610  ...  9.238091e+00   0.000000\n",
              "2015-07-01  1435708800000   36.950253  ...  3.709521e+00   0.000000\n",
              "2015-08-01  1438387200000   56.904872  ...  2.931400e-02   0.000000\n",
              "2015-09-01  1441065600000  131.345901  ...  2.271897e+01   0.000000\n",
              "2015-10-01  1443657600000   84.328574  ...  5.886837e+01   0.000000\n",
              "2015-11-01  1446336000000   35.439609  ...  6.256788e+01   0.000000\n",
              "2015-12-01  1448928000000   16.603715  ...  5.183553e+01   0.000000\n",
              "\n",
              "[12 rows x 6 columns]"
            ]
          },
          "metadata": {},
          "execution_count": 33
        }
      ]
    },
    {
      "cell_type": "markdown",
      "metadata": {
        "id": "GFifwNVslCSx"
      },
      "source": [
        "The result can be displayed in form of a barplot as follow:"
      ]
    },
    {
      "cell_type": "code",
      "metadata": {
        "colab": {
          "base_uri": "https://localhost:8080/",
          "height": 406
        },
        "id": "Y8bYXscklEyP",
        "outputId": "edbfc9b6-36ff-4c4d-855e-ebc27dc83d29"
      },
      "source": [
        "# We plot the result\n",
        "fig, ax = plt.subplots(figsize = (15,6))\n",
        "\n",
        "rdf['PR'].plot(kind = 'bar', ax = ax, label = \"P\", alpha = 0.5)\n",
        "rdf['PET'].plot(kind = 'bar', ax = ax, label = \"PET\", color = 'orange', alpha = 0.2)\n",
        "rdf['RECH'].plot(kind = 'bar', ax = ax, label = \"recharge\", color = 'green', alpha = 1)\n",
        "\n",
        "\n",
        "ax.legend()\n",
        "ax.set_ylabel('Intensity [mm]')\n",
        "ax.set_xlabel(None)\n",
        "\n",
        "x_labels = rdf.index.strftime('%m-%Y') \n",
        "ax.set_xticklabels(x_labels, rotation = 90, fontsize=10)\n",
        "# Rotate tick marks on x-axis\n",
        "\n",
        "plt.show()"
      ],
      "execution_count": 34,
      "outputs": [
        {
          "output_type": "display_data",
          "data": {
            "image/png": "[encoded data removed]",
            "text/plain": [
              "<Figure size 1080x432 with 1 Axes>"
            ]
          },
          "metadata": {
            "needs_background": "light"
          }
        }
      ]
    },
    {
      "cell_type": "markdown",
      "metadata": {
        "id": "cm7gp6vUlL51"
      },
      "source": [
        "We also are interested in the annual average recharge over the period of interest. To do that, we can resample the `DataFrame` we've just created:"
      ]
    },
    {
      "cell_type": "code",
      "metadata": {
        "colab": {
          "base_uri": "https://localhost:8080/"
        },
        "id": "z0Wen9E6lNuO",
        "outputId": "272f816e-bf0a-44ac-8c9b-3c94a53eebc1"
      },
      "source": [
        "rdfy = rdf.resample('Y').sum()\n",
        "rdfy_mean = rdfy['RECH'].mean()\n",
        "mean_recharge = int(rdfy_mean)\n",
        "print(\"The mean annual recharge at our point of interest is\", mean_recharge, \"mm/an\")"
      ],
      "execution_count": 35,
      "outputs": [
        {
          "output_type": "stream",
          "name": "stdout",
          "text": [
            "The mean annual recharge at our point of interest is 118 mm/an\n"
          ]
        }
      ]
    },
    {
      "cell_type": "markdown",
      "metadata": {
        "id": "cKQgnAoLmB5m"
      },
      "source": [
        "#### Groundwater recharge mapping and comparison between multiple places\n",
        "\n",
        "We now may want to get local information about groundwater recharge and/or map this variable on an area of interest.\n",
        "\n",
        "Let's define a function to get the local information based on the `ee.ImageCollection` we've just built:"
      ]
    },
    {
      "cell_type": "code",
      "metadata": {
        "id": "6WnepgKNmb6X"
      },
      "source": [
        "def get_local_recharge(i_date, f_date, lon, lat, scale): \n",
        "    \"\"\"\n",
        "    This function returns an pandas df describing the cumulative groundwater recharge by month\n",
        "    \"\"\"\n",
        "    # Definition of the location of interest with a point\n",
        "    poi = ee.Geometry.Point(lon, lat)\n",
        "    rarr = rech_coll.filterDate(i_date, f_date).getRegion(poi, scale).getInfo()\n",
        "    rdf = ee_array_to_df(rarr, ['PR', 'PET', 'APWL', 'ST', 'RECH']).sort_index()\n",
        "    return rdf"
      ],
      "execution_count": 36,
      "outputs": []
    },
    {
      "cell_type": "markdown",
      "metadata": {
        "id": "ye3goKdtmlj_"
      },
      "source": [
        "We now use this function on a second point of interest located in the south of France:"
      ]
    },
    {
      "cell_type": "code",
      "metadata": {
        "colab": {
          "base_uri": "https://localhost:8080/",
          "height": 235
        },
        "id": "S5a_WzlDmsgH",
        "outputId": "25e52f86-a1e5-42ad-b867-3ccdcec70340"
      },
      "source": [
        "lon2 = 4.137152\n",
        "lat2 = 43.626945\n",
        "\n",
        "rdf2 = get_local_recharge(i_date, f_date, lon2, lat2, scale)\n",
        "rdf2y = rdf2.resample('Y').sum()\n",
        "rdf2y.head()"
      ],
      "execution_count": 37,
      "outputs": [
        {
          "output_type": "execute_result",
          "data": {
            "text/html": [
              "<div>\n",
              "<style scoped>\n",
              "    .dataframe tbody tr th:only-of-type {\n",
              "        vertical-align: middle;\n",
              "    }\n",
              "\n",
              "    .dataframe tbody tr th {\n",
              "        vertical-align: top;\n",
              "    }\n",
              "\n",
              "    .dataframe thead th {\n",
              "        text-align: right;\n",
              "    }\n",
              "</style>\n",
              "<table border=\"1\" class=\"dataframe\">\n",
              "  <thead>\n",
              "    <tr style=\"text-align: right;\">\n",
              "      <th></th>\n",
              "      <th>PR</th>\n",
              "      <th>PET</th>\n",
              "      <th>APWL</th>\n",
              "      <th>ST</th>\n",
              "      <th>RECH</th>\n",
              "    </tr>\n",
              "    <tr>\n",
              "      <th>datetime</th>\n",
              "      <th></th>\n",
              "      <th></th>\n",
              "      <th></th>\n",
              "      <th></th>\n",
              "      <th></th>\n",
              "    </tr>\n",
              "  </thead>\n",
              "  <tbody>\n",
              "    <tr>\n",
              "      <th>2015-12-31</th>\n",
              "      <td>602.685190</td>\n",
              "      <td>1479.557292</td>\n",
              "      <td>3483.903074</td>\n",
              "      <td>225.958865</td>\n",
              "      <td>22.609315</td>\n",
              "    </tr>\n",
              "    <tr>\n",
              "      <th>2016-12-31</th>\n",
              "      <td>668.897704</td>\n",
              "      <td>1449.505208</td>\n",
              "      <td>3632.165578</td>\n",
              "      <td>268.858086</td>\n",
              "      <td>52.551937</td>\n",
              "    </tr>\n",
              "    <tr>\n",
              "      <th>2017-12-31</th>\n",
              "      <td>371.787006</td>\n",
              "      <td>1538.359375</td>\n",
              "      <td>7834.083159</td>\n",
              "      <td>122.263898</td>\n",
              "      <td>16.356241</td>\n",
              "    </tr>\n",
              "    <tr>\n",
              "      <th>2018-12-31</th>\n",
              "      <td>826.732359</td>\n",
              "      <td>1458.902083</td>\n",
              "      <td>3520.025304</td>\n",
              "      <td>369.730718</td>\n",
              "      <td>80.481089</td>\n",
              "    </tr>\n",
              "    <tr>\n",
              "      <th>2019-12-31</th>\n",
              "      <td>550.755352</td>\n",
              "      <td>1454.181250</td>\n",
              "      <td>5354.379859</td>\n",
              "      <td>263.273997</td>\n",
              "      <td>88.010949</td>\n",
              "    </tr>\n",
              "  </tbody>\n",
              "</table>\n",
              "</div>"
            ],
            "text/plain": [
              "0                   PR          PET         APWL          ST       RECH\n",
              "datetime                                                               \n",
              "2015-12-31  602.685190  1479.557292  3483.903074  225.958865  22.609315\n",
              "2016-12-31  668.897704  1449.505208  3632.165578  268.858086  52.551937\n",
              "2017-12-31  371.787006  1538.359375  7834.083159  122.263898  16.356241\n",
              "2018-12-31  826.732359  1458.902083  3520.025304  369.730718  80.481089\n",
              "2019-12-31  550.755352  1454.181250  5354.379859  263.273997  88.010949"
            ]
          },
          "metadata": {},
          "execution_count": 37
        }
      ]
    },
    {
      "cell_type": "code",
      "metadata": {
        "colab": {
          "base_uri": "https://localhost:8080/",
          "height": 422
        },
        "id": "3asuE13gmx6-",
        "outputId": "4bf2b92c-563d-4e94-dd8f-fbc020840965"
      },
      "source": [
        "fig, ax = plt.subplots(figsize=(15,6))\n",
        "ax.axes.get_yaxis().set_visible(False)\n",
        "\n",
        "x = np.arange(len(rdfy))  # the label locations\n",
        "width = 0.25 #width of bars\n",
        "\n",
        "rect1 = ax.bar(x-width/2, rdfy.RECH, width, label = \"Lyon (France)\", color='blue', alpha = 0.5)\n",
        "rect2 = ax.bar(x+width/2, rdf2y.RECH, width, label = \"Montpellier (France)\", color='red', alpha = 0.5)\n",
        "\n",
        "def autolabel(rects):\n",
        "    \"\"\"Attach a text label above each bar in *rects*, displaying its height.\"\"\"\n",
        "    for rect in rects:\n",
        "        height = rect.get_height()\n",
        "        ax.annotate('{}'.format(int(height)) + ' mm',\n",
        "                    xy=(rect.get_x() + rect.get_width() / 2, height),\n",
        "                    xytext=(0, 3),  # 3 points vertical offset\n",
        "                    textcoords=\"offset points\",\n",
        "                    ha='center', va='bottom', fontsize=8)\n",
        "autolabel(rect1)\n",
        "autolabel(rect2)\n",
        "\n",
        "place1mean = int(rdfy['RECH'].mean())\n",
        "ax.hlines(place1mean, xmin = min(x)-width, xmax = max(x)+width, \n",
        "          color = 'blue', lw = 0.5,\n",
        "          label = 'average ' + str(place1mean) + \" mm/y\", alpha = 0.5)\n",
        "\n",
        "place2mean = int(rdf2y['RECH'].mean())\n",
        "ax.hlines(place2mean, xmin = min(x)-width, xmax = max(x)+width, \n",
        "          color = 'red', lw = 0.5,\n",
        "          label = 'average ' + str(place2mean) + \" mm/y\", alpha = 0.5)\n",
        "\n",
        "ax.set_title('Groundwater recharge comparison between two places', fontsize=12)\n",
        "ax.set_xticks(x)\n",
        "\n",
        "x_labels = rdfy.index.year.tolist()\n",
        "ax.set_xticklabels(x_labels, rotation = 45, fontsize=10)\n",
        "\n",
        "ax.spines['left'].set_visible(False)\n",
        "ax.spines['right'].set_visible(False)\n",
        "ax.spines['top'].set_visible(False)\n",
        "\n",
        "# Shrink current axis's height by 10% on the bottom\n",
        "box = ax.get_position()\n",
        "ax.set_position([box.x0, box.y0 + box.height * 0.1,\n",
        "                 box.width, box.height * 0.9])\n",
        "\n",
        "# Put a legend below current axis\n",
        "ax.legend(loc='upper center', bbox_to_anchor=(0.5, -0.15),\n",
        "          fancybox=True, shadow=True, ncol=2)\n",
        "\n",
        "plt.show()"
      ],
      "execution_count": 38,
      "outputs": [
        {
          "output_type": "display_data",
          "data": {
            "image/png": "[encoded data removed]",
            "text/plain": [
              "<Figure size 1080x432 with 1 Axes>"
            ]
          },
          "metadata": {
            "needs_background": "light"
          }
        }
      ]
    },
    {
      "cell_type": "markdown",
      "metadata": {
        "id": "NSgA58q5oWkZ"
      },
      "source": [
        "To get a map of groundwater recharge, let's calculate the mean annual value:"
      ]
    },
    {
      "cell_type": "code",
      "metadata": {
        "id": "9wK4Xq3jodDv"
      },
      "source": [
        "# We calculate the annual recharge average\n",
        "annual_rech = rech_coll.select(\"RECH\").mean().multiply(12)\n",
        "\n",
        "# Get a feature collection of administrative boundaries.\n",
        "countries = ee.FeatureCollection('FAO/GAUL/2015/level0').select('ADM0_NAME')\n",
        "\n",
        "# Filter the feature collection to subset France.\n",
        "france = countries.filter(ee.Filter.eq('ADM0_NAME', 'France'))\n",
        "\n",
        "# We clip the ee.Image around the region of interest\n",
        "rech_france = annual_rech.clip(france)"
      ],
      "execution_count": 39,
      "outputs": []
    },
    {
      "cell_type": "markdown",
      "metadata": {
        "id": "706s_wySox-A"
      },
      "source": [
        "And finnaly the map can be drawn."
      ]
    },
    {
      "cell_type": "code",
      "metadata": {
        "colab": {
          "base_uri": "https://localhost:8080/",
          "height": 915
        },
        "id": "_lwPR-QOoolR",
        "outputId": "ca6413cc-50b6-4997-bd08-3fdd150796f4"
      },
      "source": [
        "my_map = folium.Map(location=[lat, lon], zoom_start=6)\n",
        "\n",
        "# Set visualization parameters for recharge.\n",
        "vis_params = {\n",
        "    'bands' : 'RECH',\n",
        "    'min': 0,'max': 400,\n",
        "    'opacity' : 1,\n",
        "    'palette': ['ff5d0f', 'f3ff40', '42fff6', '1303ff']\n",
        "}\n",
        "\n",
        "# Add the recharge ee.Image to the map object.\n",
        "my_map.add_ee_layer(rech_france, vis_params, 'Recharge')\n",
        "\n",
        "# Add a marker at the location of interest\n",
        "folium.Marker([lat, lon], popup=\"point of interest 1\").add_to(my_map)\n",
        "folium.Marker([lat2, lon2], popup=\"point of interest 2\").add_to(my_map)\n",
        "\n",
        "# Add a layer control panel to the map.\n",
        "my_map.add_child(folium.LayerControl())\n",
        "\n",
        "# Display the map.\n",
        "display(my_map)"
      ],
      "execution_count": 40,
      "outputs": [
        {
          "output_type": "display_data",
          "data": {
            "text/html": [
              "<div style=\"width:100%;\"><div style=\"position:relative;width:100%;height:0;padding-bottom:60%;\"><span style=\"color:#565656\">Make this Notebook Trusted to load map: File -> Trust Notebook</span><iframe src=\"about:blank\" style=\"position:absolute;width:100%;height:100%;left:0;top:0;border:none !important;\" data-html=%3C%21DOCTYPE%20html%3E%0A%3Chead%3E%20%20%20%20%0A%20%20%20%20%3Cmeta%20http-equiv%3D%22content-type%22%20content%3D%22text/html%3B%20charset%3DUTF-8%22%20/%3E%0A%20%20%20%20%3Cscript%3EL_PREFER_CANVAS%3Dfalse%3B%20L_NO_TOUCH%3Dfalse%3B%20L_DISABLE_3D%3Dfalse%3B%3C/script%3E%0A%20%20%20%20%3Cscript%20src%3D%22https%3A//cdn.jsdelivr.net/npm/leaflet%401.4.0/dist/leaflet.js%22%3E%3C/script%3E%0A%20%20%20%20%3Cscript%20src%3D%22https%3A//code.jquery.com/jquery-1.12.4.min.js%22%3E%3C/script%3E%0A%20%20%20%20%3Cscript%20src%3D%22https%3A//maxcdn.bootstrapcdn.com/bootstrap/3.2.0/js/bootstrap.min.js%22%3E%3C/script%3E%0A%20%20%20%20%3Cscript%20src%3D%22https%3A//cdnjs.cloudflare.com/ajax/libs/Leaflet.awesome-markers/2.0.2/leaflet.awesome-markers.js%22%3E%3C/script%3E%0A%20%20%20%20%3Clink%20rel%3D%22stylesheet%22%20href%3D%22https%3A//cdn.jsdelivr.net/npm/leaflet%401.4.0/dist/leaflet.css%22/%3E%0A%20%20%20%20%3Clink%20rel%3D%22stylesheet%22%20href%3D%22https%3A//maxcdn.bootstrapcdn.com/bootstrap/3.2.0/css/bootstrap.min.css%22/%3E%0A%20%20%20%20%3Clink%20rel%3D%22stylesheet%22%20href%3D%22https%3A//maxcdn.bootstrapcdn.com/bootstrap/3.2.0/css/bootstrap-theme.min.css%22/%3E%0A%20%20%20%20%3Clink%20rel%3D%22stylesheet%22%20href%3D%22https%3A//maxcdn.bootstrapcdn.com/font-awesome/4.6.3/css/font-awesome.min.css%22/%3E%0A%20%20%20%20%3Clink%20rel%3D%22stylesheet%22%20href%3D%22https%3A//cdnjs.cloudflare.com/ajax/libs/Leaflet.awesome-markers/2.0.2/leaflet.awesome-markers.css%22/%3E%0A%20%20%20%20%3Clink%20rel%3D%22stylesheet%22%20href%3D%22https%3A//rawcdn.githack.com/python-visualization/folium/master/folium/templates/leaflet.awesome.rotate.css%22/%3E%0A%20%20%20%20%3Cstyle%3Ehtml%2C%20body%20%7Bwidth%3A%20100%25%3Bheight%3A%20100%25%3Bmargin%3A%200%3Bpadding%3A%200%3B%7D%3C/style%3E%0A%20%20%20%20%3Cstyle%3E%23map%20%7Bposition%3Aabsolute%3Btop%3A0%3Bbottom%3A0%3Bright%3A0%3Bleft%3A0%3B%7D%3C/style%3E%0A%20%20%20%20%0A%20%20%20%20%3Cmeta%20name%3D%22viewport%22%20content%3D%22width%3Ddevice-width%2C%0A%20%20%20%20%20%20%20%20initial-scale%3D1.0%2C%20maximum-scale%3D1.0%2C%20user-scalable%3Dno%22%20/%3E%0A%20%20%20%20%3Cstyle%3E%23map_40a7e22fcbc545159017bd5c47f49f38%20%7B%0A%20%20%20%20%20%20%20%20position%3A%20relative%3B%0A%20%20%20%20%20%20%20%20width%3A%20100.0%25%3B%0A%20%20%20%20%20%20%20%20height%3A%20100.0%25%3B%0A%20%20%20%20%20%20%20%20left%3A%200.0%25%3B%0A%20%20%20%20%20%20%20%20top%3A%200.0%25%3B%0A%20%20%20%20%20%20%20%20%7D%0A%20%20%20%20%3C/style%3E%0A%3C/head%3E%0A%3Cbody%3E%20%20%20%20%0A%20%20%20%20%0A%20%20%20%20%3Cdiv%20class%3D%22folium-map%22%20id%3D%22map_40a7e22fcbc545159017bd5c47f49f38%22%20%3E%3C/div%3E%0A%3C/body%3E%0A%3Cscript%3E%20%20%20%20%0A%20%20%20%20%0A%20%20%20%20%0A%20%20%20%20%20%20%20%20var%20bounds%20%3D%20null%3B%0A%20%20%20%20%0A%0A%20%20%20%20var%20map_40a7e22fcbc545159017bd5c47f49f38%20%3D%20L.map%28%0A%20%20%20%20%20%20%20%20%27map_40a7e22fcbc545159017bd5c47f49f38%27%2C%20%7B%0A%20%20%20%20%20%20%20%20center%3A%20%5B45.772439%2C%205.145041%5D%2C%0A%20%20%20%20%20%20%20%20zoom%3A%206%2C%0A%20%20%20%20%20%20%20%20maxBounds%3A%20bounds%2C%0A%20%20%20%20%20%20%20%20layers%3A%20%5B%5D%2C%0A%20%20%20%20%20%20%20%20worldCopyJump%3A%20false%2C%0A%20%20%20%20%20%20%20%20crs%3A%20L.CRS.EPSG3857%2C%0A%20%20%20%20%20%20%20%20zoomControl%3A%20true%2C%0A%20%20%20%20%20%20%20%20%7D%29%3B%0A%0A%0A%20%20%20%20%0A%20%20%20%20var%20tile_layer_25b20996a55e4c4499b39e60e334c3ac%20%3D%20L.tileLayer%28%0A%20%20%20%20%20%20%20%20%27https%3A//%7Bs%7D.tile.openstreetmap.org/%7Bz%7D/%7Bx%7D/%7By%7D.png%27%2C%0A%20%20%20%20%20%20%20%20%7B%0A%20%20%20%20%20%20%20%20%22attribution%22%3A%20null%2C%0A%20%20%20%20%20%20%20%20%22detectRetina%22%3A%20false%2C%0A%20%20%20%20%20%20%20%20%22maxNativeZoom%22%3A%2018%2C%0A%20%20%20%20%20%20%20%20%22maxZoom%22%3A%2018%2C%0A%20%20%20%20%20%20%20%20%22minZoom%22%3A%200%2C%0A%20%20%20%20%20%20%20%20%22noWrap%22%3A%20false%2C%0A%20%20%20%20%20%20%20%20%22opacity%22%3A%201%2C%0A%20%20%20%20%20%20%20%20%22subdomains%22%3A%20%22abc%22%2C%0A%20%20%20%20%20%20%20%20%22tms%22%3A%20false%0A%7D%29.addTo%28map_40a7e22fcbc545159017bd5c47f49f38%29%3B%0A%20%20%20%20var%20tile_layer_3eea302783d64a03b4192da7ba2e1e70%20%3D%20L.tileLayer%28%0A%20%20%20%20%20%20%20%20%27https%3A//earthengine.googleapis.com/v1alpha/projects/earthengine-legacy/maps/a46d63bc7c303aa522957f8eada3804d-7aec53b513e3cdd217c1839e274c30b6/tiles/%7Bz%7D/%7Bx%7D/%7By%7D%27%2C%0A%20%20%20%20%20%20%20%20%7B%0A%20%20%20%20%20%20%20%20%22attribution%22%3A%20%22Map%20Data%20%26copy%3B%20%3Ca%20href%3D%5C%22https%3A//earthengine.google.com/%5C%22%3EGoogle%20Earth%20Engine%3C/a%3E%22%2C%0A%20%20%20%20%20%20%20%20%22detectRetina%22%3A%20false%2C%0A%20%20%20%20%20%20%20%20%22maxNativeZoom%22%3A%2018%2C%0A%20%20%20%20%20%20%20%20%22maxZoom%22%3A%2018%2C%0A%20%20%20%20%20%20%20%20%22minZoom%22%3A%200%2C%0A%20%20%20%20%20%20%20%20%22noWrap%22%3A%20false%2C%0A%20%20%20%20%20%20%20%20%22opacity%22%3A%201%2C%0A%20%20%20%20%20%20%20%20%22subdomains%22%3A%20%22abc%22%2C%0A%20%20%20%20%20%20%20%20%22tms%22%3A%20false%0A%7D%29.addTo%28map_40a7e22fcbc545159017bd5c47f49f38%29%3B%0A%20%20%20%20%0A%20%20%20%20%20%20%20%20var%20marker_0b81afa04bc1426ca0c3aa1aef117ca7%20%3D%20L.marker%28%0A%20%20%20%20%20%20%20%20%20%20%20%20%5B45.772439%2C%205.145041%5D%2C%0A%20%20%20%20%20%20%20%20%20%20%20%20%7B%0A%20%20%20%20%20%20%20%20%20%20%20%20%20%20%20%20icon%3A%20new%20L.Icon.Default%28%29%2C%0A%20%20%20%20%20%20%20%20%20%20%20%20%20%20%20%20%7D%0A%20%20%20%20%20%20%20%20%20%20%20%20%29.addTo%28map_40a7e22fcbc545159017bd5c47f49f38%29%3B%0A%20%20%20%20%20%20%20%20%0A%20%20%20%20%0A%20%20%20%20%20%20%20%20%20%20%20%20var%20popup_3cd11c2caf264385952be71417adb7e9%20%3D%20L.popup%28%7BmaxWidth%3A%20%27100%25%27%0A%20%20%20%20%20%20%20%20%20%20%20%20%0A%20%20%20%20%20%20%20%20%20%20%20%20%7D%29%3B%0A%0A%20%20%20%20%20%20%20%20%20%20%20%20%0A%20%20%20%20%20%20%20%20%20%20%20%20%20%20%20%20var%20html_5a3edf0ca89e4bcea3a429eab5cbca5a%20%3D%20%24%28%60%3Cdiv%20id%3D%22html_5a3edf0ca89e4bcea3a429eab5cbca5a%22%20style%3D%22width%3A%20100.0%25%3B%20height%3A%20100.0%25%3B%22%3Epoint%20of%20interest%201%3C/div%3E%60%29%5B0%5D%3B%0A%20%20%20%20%20%20%20%20%20%20%20%20%20%20%20%20popup_3cd11c2caf264385952be71417adb7e9.setContent%28html_5a3edf0ca89e4bcea3a429eab5cbca5a%29%3B%0A%20%20%20%20%20%20%20%20%20%20%20%20%0A%0A%20%20%20%20%20%20%20%20%20%20%20%20marker_0b81afa04bc1426ca0c3aa1aef117ca7.bindPopup%28popup_3cd11c2caf264385952be71417adb7e9%29%0A%20%20%20%20%20%20%20%20%20%20%20%20%3B%0A%0A%20%20%20%20%20%20%20%20%20%20%20%20%0A%20%20%20%20%20%20%20%20%0A%20%20%20%20%0A%20%20%20%20%20%20%20%20var%20marker_01e16eb70b994752937114bc5652cdaf%20%3D%20L.marker%28%0A%20%20%20%20%20%20%20%20%20%20%20%20%5B43.626945%2C%204.137152%5D%2C%0A%20%20%20%20%20%20%20%20%20%20%20%20%7B%0A%20%20%20%20%20%20%20%20%20%20%20%20%20%20%20%20icon%3A%20new%20L.Icon.Default%28%29%2C%0A%20%20%20%20%20%20%20%20%20%20%20%20%20%20%20%20%7D%0A%20%20%20%20%20%20%20%20%20%20%20%20%29.addTo%28map_40a7e22fcbc545159017bd5c47f49f38%29%3B%0A%20%20%20%20%20%20%20%20%0A%20%20%20%20%0A%20%20%20%20%20%20%20%20%20%20%20%20var%20popup_006e0ffa81564c04b2d773fe4b0fe3f5%20%3D%20L.popup%28%7BmaxWidth%3A%20%27100%25%27%0A%20%20%20%20%20%20%20%20%20%20%20%20%0A%20%20%20%20%20%20%20%20%20%20%20%20%7D%29%3B%0A%0A%20%20%20%20%20%20%20%20%20%20%20%20%0A%20%20%20%20%20%20%20%20%20%20%20%20%20%20%20%20var%20html_94153634b0334bfe8d23beba29e8ceb7%20%3D%20%24%28%60%3Cdiv%20id%3D%22html_94153634b0334bfe8d23beba29e8ceb7%22%20style%3D%22width%3A%20100.0%25%3B%20height%3A%20100.0%25%3B%22%3Epoint%20of%20interest%202%3C/div%3E%60%29%5B0%5D%3B%0A%20%20%20%20%20%20%20%20%20%20%20%20%20%20%20%20popup_006e0ffa81564c04b2d773fe4b0fe3f5.setContent%28html_94153634b0334bfe8d23beba29e8ceb7%29%3B%0A%20%20%20%20%20%20%20%20%20%20%20%20%0A%0A%20%20%20%20%20%20%20%20%20%20%20%20marker_01e16eb70b994752937114bc5652cdaf.bindPopup%28popup_006e0ffa81564c04b2d773fe4b0fe3f5%29%0A%20%20%20%20%20%20%20%20%20%20%20%20%3B%0A%0A%20%20%20%20%20%20%20%20%20%20%20%20%0A%20%20%20%20%20%20%20%20%0A%20%20%20%20%0A%20%20%20%20%20%20%20%20%20%20%20%20var%20layer_control_0db8b1bc80294b0b9918c2de9e2b176f%20%3D%20%7B%0A%20%20%20%20%20%20%20%20%20%20%20%20%20%20%20%20base_layers%20%3A%20%7B%20%22openstreetmap%22%20%3A%20tile_layer_25b20996a55e4c4499b39e60e334c3ac%2C%20%7D%2C%0A%20%20%20%20%20%20%20%20%20%20%20%20%20%20%20%20overlays%20%3A%20%7B%20%22Recharge%22%20%3A%20tile_layer_3eea302783d64a03b4192da7ba2e1e70%2C%20%7D%0A%20%20%20%20%20%20%20%20%20%20%20%20%20%20%20%20%7D%3B%0A%20%20%20%20%20%20%20%20%20%20%20%20L.control.layers%28%0A%20%20%20%20%20%20%20%20%20%20%20%20%20%20%20%20layer_control_0db8b1bc80294b0b9918c2de9e2b176f.base_layers%2C%0A%20%20%20%20%20%20%20%20%20%20%20%20%20%20%20%20layer_control_0db8b1bc80294b0b9918c2de9e2b176f.overlays%2C%0A%20%20%20%20%20%20%20%20%20%20%20%20%20%20%20%20%7Bposition%3A%20%27topright%27%2C%0A%20%20%20%20%20%20%20%20%20%20%20%20%20%20%20%20%20collapsed%3A%20true%2C%0A%20%20%20%20%20%20%20%20%20%20%20%20%20%20%20%20%20autoZIndex%3A%20true%0A%20%20%20%20%20%20%20%20%20%20%20%20%20%20%20%20%7D%29.addTo%28map_40a7e22fcbc545159017bd5c47f49f38%29%3B%0A%20%20%20%20%20%20%20%20%20%20%20%20%0A%20%20%20%20%20%20%20%20%0A%3C/script%3E onload=\"this.contentDocument.open();this.contentDocument.write(    decodeURIComponent(this.getAttribute('data-html')));this.contentDocument.close();\" allowfullscreen webkitallowfullscreen mozallowfullscreen></iframe></div></div>"
            ],
            "text/plain": [
              "<folium.folium.Map at 0x7f10d0972210>"
            ]
          },
          "metadata": {}
        }
      ]
    },
    {
      "cell_type": "markdown",
      "metadata": {
        "id": "E9HR5eDhOXX7"
      },
      "source": [
        "### Bibliography\n",
        "\n",
        "**Allen RG, Pereira LS, Raes D, Smith M (1998).** Crop evapotranspiration: guidelines for computing crop water requirements. *Irrigation and Drainage Paper 56*, FAO, Rome\n",
        "\n",
        "**Saxton, K. E., & Rawls, W. J. (2006).** Soil water characteristic estimates by texture and organic matter for hydrologic solutions. *Soil science society of America Journal*, 70(5), 1569-1578.\n",
        "\n",
        "**Steenhuis, T. S., & Van der Molen, W. H. (1986).** The Thornthwaite-Mather procedure as a simple engineering method to predict recharge. *Journal of Hydrology*, 84(3-4), 221-229.\n",
        "\n",
        "**Thornthwaite, C. W., & Mather, J. R. (1957).** Instructions and tables for computing potential evapotranspiration and the water balance. *Publ. Climatol.*, 10(3).\n",
        "\n"
      ]
    },
    {
      "cell_type": "markdown",
      "metadata": {
        "id": "VOf_UnIcZKBJ"
      },
      "source": [
        "### Aknowledgements\n",
        "\n",
        "Thanks to Susanne Benz for precious advises."
      ]
    }
  ]
}