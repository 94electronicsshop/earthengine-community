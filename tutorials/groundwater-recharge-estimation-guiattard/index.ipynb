{
  "nbformat": 4,
  "nbformat_minor": 0,
  "metadata": {
    "colab": {
      "name": "groundwater-recharge-estimation-guiattard",
      "provenance": [],
      "collapsed_sections": []
    },
    "kernelspec": {
      "name": "python3",
      "display_name": "Python 3"
    }
  },
  "cells": [
    {
      "cell_type": "code",
      "metadata": {
        "id": "8kdsGkYJXXKc"
      },
      "source": [
        "#@title Copyright 2021 The Earth Engine Community Authors { display-mode: \"form\" }\n",
        "#\n",
        "# Licensed under the Apache License, Version 2.0 (the \"License\");\n",
        "# you may not use this file except in compliance with the License.\n",
        "# You may obtain a copy of the License at\n",
        "#\n",
        "# https://www.apache.org/licenses/LICENSE-2.0\n",
        "#\n",
        "# Unless required by applicable law or agreed to in writing, software\n",
        "# distributed under the License is distributed on an \"AS IS\" BASIS,\n",
        "# WITHOUT WARRANTIES OR CONDITIONS OF ANY KIND, either express or implied.\n",
        "# See the License for the specific language governing permissions and\n",
        "# limitations under the License."
      ],
      "execution_count": null,
      "outputs": []
    },
    {
      "cell_type": "markdown",
      "metadata": {
        "id": "l18M9_r5XmAQ"
      },
      "source": [
        "# Implementation of the Thornthwaite-Mather procedure to map groundwater recharge\n",
        "Author: guiattard\n",
        "\n",
        "Groundwater recharge represents the amount of water comming from precipitation reaching groundwater table. Its determination helps to better understand the available/renewable groundwater in watersheds and so on the shape of groundwater flow systems.\n",
        "\n",
        "One of the simplest methods to estimate groundwater recharge is the Thornthwaite-Mather procedure (Steenhuis and Van Der Molen, 1986). This procedure was published by Thornthwaite and Mather (1955, 1957). The idea of this procedure is to calculate the water balance in the root zone of the soil where water can be (1) evaporated into the atmosphere under the effect of heat, (2) transpired by vegetation, (3) stored by the soil, and eventually (4) infiltrated when stored water exceeds the field capacity. \n",
        "\n",
        "This procedures relies on several parameters and variables described as follow:\n",
        "- some information about soil texture (e.g. sand and clay content) to describe the hydraulic properties of the soil and its capacity to store/infiltrate,\n",
        "- some meteorological records: precipation and potential evapotranspiration,\n",
        "\n",
        "Of course groundwater recharge can be influenced by many other factors such as the slope of the terrain, the snow cover, the variability of the crop/land cover and the irrigation. In the following these aspects are not taken into account.\n",
        "\n",
        "In the first part of the tutorial, the Earth Engine python API will be initialize, some usefull libraries will be imported, and the location/period of interest will be defined.\n",
        "\n",
        "In the second part, OpenLandMap datasets related to soil texture will be explored. The wilting point and field capacity of the soil will be calculated by applying some mathematical expressions to multiple images.\n",
        "\n",
        "In the third part, evapotranspiration and precipitation datasets will be imported. A function will be defined to resample the time resolution of an `ee.ImageCollection` and to homogenize time index of both datasets. Both datasets will then be combined into one.\n",
        "\n",
        "In the forth and final part, the Thornthwaite-Mather(TM) procedure will be implemented by iterating over the meteorological `ee.ImageCollection`. Finnaly, a comparison between groundwater recharge in two places will be described and the resulting mean annual groundwatr recharge will be displayed over France."
      ]
    },
    {
      "cell_type": "markdown",
      "metadata": {
        "id": "U7i55vr_aKCB"
      },
      "source": [
        "### Run me first\n",
        "#### Earth Engine API\n",
        "\n",
        "First of all, run the following cell to initialize the API. The output will contain instructions on how to grant this notebook access to Earth Engine using your account."
      ]
    },
    {
      "cell_type": "code",
      "metadata": {
        "id": "XeFsiSp2aDL6"
      },
      "source": [
        "import ee\n",
        "\n",
        "# Trigger the authentication flow.\n",
        "ee.Authenticate()\n",
        "\n",
        "# Initialize the library.\n",
        "ee.Initialize()"
      ],
      "execution_count": null,
      "outputs": []
    },
    {
      "cell_type": "markdown",
      "metadata": {
        "id": "-BpAxTgB_Jf3"
      },
      "source": [
        "#### Other libraries\n",
        "Import other libraries used in this notebook.\n",
        "\n",
        "- [**pandas**](https://pandas.pydata.org/): data analysis (including the [DataFrame](https://pandas.pydata.org/pandas-docs/stable/reference/api/pandas.DataFrame.html) data structure)\n",
        "- [**matplotlib**](https://matplotlib.org/): data visualization library,\n",
        "- [**numpy**](https://numpy.org/): array-processing package,\n",
        "- [**folium**](https://python-visualization.github.io/folium/): interactive web map\n"
      ]
    },
    {
      "cell_type": "code",
      "metadata": {
        "id": "PPPRzdR8-9nJ"
      },
      "source": [
        "import pandas as pd\n",
        "import matplotlib.pyplot as plt\n",
        "import numpy as np\n",
        "import folium"
      ],
      "execution_count": null,
      "outputs": []
    },
    {
      "cell_type": "markdown",
      "metadata": {
        "id": "ZXm8u4ZV_-km"
      },
      "source": [
        "#### Some input parameters\n",
        "We additionnaly define some parameters used to evaluate the results of our implementation. Particularly:\n",
        "- The period of interest to get meteorological records ,\n",
        "- A location of interest based on longitude and latitude coordinates,\n"
      ]
    },
    {
      "cell_type": "code",
      "metadata": {
        "id": "DrJBJjd2_95v"
      },
      "source": [
        "# Initial date of interest (inclusive).\n",
        "i_date = '2015-01-01'\n",
        "\n",
        "# Final date of interest (exclusive).\n",
        "f_date = '2020-01-01'\n",
        "\n",
        "# Definition of the location of interest with a point\n",
        "lon = 5.145041\n",
        "lat = 45.772439 \n",
        "poi = ee.Geometry.Point(lon, lat)\n",
        "\n",
        "# A nominal scale in meters of the projection to work in [in meters]\n",
        "scale = 1000"
      ],
      "execution_count": null,
      "outputs": []
    },
    {
      "cell_type": "markdown",
      "metadata": {
        "id": "VfnygBwyFzCP"
      },
      "source": [
        "### From soil texture to hydraulic properties"
      ]
    },
    {
      "cell_type": "markdown",
      "metadata": {
        "id": "B6T9EctGA40J"
      },
      "source": [
        "\n",
        "#### Definitions\n",
        "Two hydraulic properties of soil are commonly used in the TM procedure:\n",
        "- the *wilting point* represents the point below what water cannot be extracted by plant roots,\n",
        "- the *field capacity* represents the point after what water cannot be stored by soil any more. After that point, gravitationnal forces become to high and water starts to infiltrate the lower levels.\n",
        "\n",
        "Some equations given by Saxton & Rawls (2006) are used to link both parameters to the texture of the soil. The, the calculation of water content at wilting point $θ_{WP}$ can be done as follow:\n",
        "\n",
        "$$\\theta_{WP}= \\theta_{1500t} + (0.14 \\theta_{1500t} - 0.002)$$ with:\n",
        "\n",
        "$$\\theta_{1500t} = -0.024 S + 0.487 C + 0.006 OM + 0.005(S \\times OM) - 0.013 (C \\times OM) + 0.068 (S \\times C) + 0.031$$\n",
        "\n",
        "where:\n",
        "- $S$: represents the sand content of the soil (mass percentage),\n",
        "- $C$: represents the clay content of the soil (mass percentage),\n",
        "- $OM$: represents the organic matter content of the soil (mass percentage).\n",
        "\n",
        "Similarly, the calculation of the water content at field capacity $θ_{FC}$ can be done as follow:\n",
        "\n",
        "$$\\theta_{FC} = \\theta_{33t} + (1.283 \\theta_{33t}^{2} - 0.374 \\theta_{33t}-0.15)$$ with:\n",
        "\n",
        "$$\\theta_{33t} = -0.251 S + 0.195 C + 0.011 OM + 0.006 (S \\times OM) - 0.027 (C \\times OM) + 0.452 (S \\times C) + 0.299$$\n"
      ]
    },
    {
      "cell_type": "markdown",
      "metadata": {
        "id": "rUr7MdL3F8CW"
      },
      "source": [
        "#### Determination of soil texture\n",
        "In the following, OpenLandMap datasets are used to describe, clay, sand and organic carbon content of soil.\n",
        "A global dataset of soil water content at the field capacity with a resolution of 250 m have been made available by Hengl & Gupta (2019). However, up to know, there si no dataset dedicated to the water content of soil at the wilting point. Consequently, in the following, both parameters will be determined considering the previous equations and using the global datasets giving the sand, clay and organic matter contents of the soil. According to the [description](https://developers.google.com/earth-engine/datasets/catalog/OpenLandMap_SOL_SOL_CLAY-WFRACTION_USDA-3A1A1A_M_v02#description), these OpenLandMap datasets are based on machine learning predictions from global compilation of soil profiles and samples. Processing steps are described in detail [here](https://gitlab.com/openlandmap/global-layers/tree/master/soil). The information (clay, sand content, etc.) is given at 6 standard depths (0, 10, 30, 60, 100 and 200 cm) at 250 m resolution. \n",
        "\n",
        "These standard depths and associated bands are defined into list as follow:"
      ]
    },
    {
      "cell_type": "code",
      "metadata": {
        "id": "xdaW306oC_6q"
      },
      "source": [
        "# soil depths [in cm] where we have data\n",
        "olm_depths = [0, 10, 30, 60, 100, 200]\n",
        "    \n",
        "# associated bands\n",
        "olm_bands = [\"b\" + str(sd) for sd in olm_depths]"
      ],
      "execution_count": null,
      "outputs": []
    },
    {
      "cell_type": "markdown",
      "metadata": {
        "id": "boAHT1GjDDj4"
      },
      "source": [
        "We now define a function to get the `ee.Image` associated to the parameter we are intereste in (eg. sand, clay, organic carbon content, etc.)"
      ]
    },
    {
      "cell_type": "code",
      "metadata": {
        "id": "CKlnxs9qDDEo"
      },
      "source": [
        "def get_soil_prop(param):\n",
        "    \"\"\"\n",
        "    This function retun soil properties image \n",
        "    param (str): must be one of:\n",
        "        \"S\"        - Sand fraction\n",
        "        \"C\"        - Clay fraction\n",
        "        \"OC\"       - Organic Carbon fraction\n",
        "    \"\"\"  \n",
        "    if param == \"S\": #Sand fraction [%w]\n",
        "        snippet = \"OpenLandMap/SOL/SOL_WATERCONTENT-33KPA_USDA-4B1C_M/v01\"\n",
        "        # scale factor defined in accordance with dataset description\n",
        "        scale_factor = 1*0.01\n",
        "        \n",
        "    elif param == \"C\": #Clay fraction [%w]\n",
        "        snippet = \"OpenLandMap/SOL/SOL_CLAY-WFRACTION_USDA-3A1A1A_M/v02\"\n",
        "        # scale factor defined in accordance with dataset description\n",
        "        scale_factor = 1*0.01\n",
        "        \n",
        "    elif param == \"OC\": #Organic Carbon fraction [g/kg]\n",
        "        snippet = \"OpenLandMap/SOL/SOL_ORGANIC-CARBON_USDA-6A1C_M/v02\"\n",
        "        # scale factor defined in accordance with dataset description\n",
        "        scale_factor = 5*0.001 #to get kg/kg\n",
        "    else:\n",
        "        return print(\"error\")\n",
        "    \n",
        "    dataset = ee.Image(snippet).multiply(scale_factor)\n",
        "\n",
        "    return dataset"
      ],
      "execution_count": null,
      "outputs": []
    },
    {
      "cell_type": "markdown",
      "metadata": {
        "id": "_yu_JUnJDg8e"
      },
      "source": [
        "We apply this function to import soil texture:"
      ]
    },
    {
      "cell_type": "code",
      "metadata": {
        "id": "n6n7wMUTDsaa"
      },
      "source": [
        "# Image associated to the sand content\n",
        "sand = get_soil_prop(\"S\")\n",
        "\n",
        "# Image associated to the clay content\n",
        "clay = get_soil_prop(\"C\")\n",
        "\n",
        "# Image associated to the organic carbon content\n",
        "orgc = get_soil_prop(\"OC\")"
      ],
      "execution_count": null,
      "outputs": []
    },
    {
      "cell_type": "markdown",
      "metadata": {
        "id": "6Te0H7KTD8MP"
      },
      "source": [
        "To illustrate the result, we define a new method for handing Earth Engine tiles and using it to display the caly content of the soil at a given reference depth, to a Leaflet map."
      ]
    },
    {
      "cell_type": "code",
      "metadata": {
        "id": "pebngsPoD4_w"
      },
      "source": [
        "def add_ee_layer(self, ee_image_object, vis_params, name):\n",
        "    \"\"\"Adds a method for displaying Earth Engine image tiles to folium map.\"\"\"\n",
        "    map_id_dict = ee.Image(ee_image_object).getMapId(vis_params)\n",
        "    folium.raster_layers.TileLayer(\n",
        "        tiles=map_id_dict['tile_fetcher'].url_format,\n",
        "        attr='Map Data &copy; <a href=\"https://earthengine.google.com/\">Google Earth Engine</a>',\n",
        "        name=name,\n",
        "        overlay=True,\n",
        "        control=True\n",
        "    ).add_to(self)\n",
        "\n",
        "# Add Earth Engine drawing method to folium.\n",
        "folium.Map.add_ee_layer = add_ee_layer\n",
        "\n",
        "my_map = folium.Map(location=[lat, lon], zoom_start=3)\n",
        "\n",
        "# Set visualization parameters\n",
        "vis_params = {\n",
        "    'bands' : ['b0'],\n",
        "    'min': 0.01,'max': 1,\n",
        "    'opacity' : 1,\n",
        "    'palette': [\"white\", \"#464646\"]\n",
        "}\n",
        "\n",
        "# Add the sand content data to the map object.\n",
        "my_map.add_ee_layer(sand, vis_params, 'Sand Content')\n",
        "\n",
        "# Add a marker at the location of interest\n",
        "folium.Marker([lat, lon], popup=\"point of interest\").add_to(my_map)\n",
        "\n",
        "# Add a layer control panel to the map.\n",
        "my_map.add_child(folium.LayerControl())\n",
        "\n",
        "# Display the map.\n",
        "display(my_map)"
      ],
      "execution_count": null,
      "outputs": []
    },
    {
      "cell_type": "markdown",
      "metadata": {
        "id": "cQQhTGBQELax"
      },
      "source": [
        "Now, a function is defined to get soil properties at a given location. The following function returns a dictionnary indicating the value of the parameter of interest for each standard depth (in centimetre). In the example below, we are asking for the clay content."
      ]
    },
    {
      "cell_type": "code",
      "metadata": {
        "id": "Blq2rNG2ESIn"
      },
      "source": [
        "def local_profile(dataset, poi, buffer):\n",
        "    # we get the values\n",
        "    prop = dataset.sample(poi, buffer).select(olm_bands).getInfo()\n",
        "    profile = prop['features'][0]['properties']\n",
        "    profile = {key : round(val,3) for key, val in profile.items()}\n",
        "    \n",
        "    return profile\n",
        "\n",
        "profileC = local_profile(clay, poi, scale)\n",
        "print(\"Clay content profile at the location of interest: \\n\", profileC)"
      ],
      "execution_count": null,
      "outputs": []
    },
    {
      "cell_type": "markdown",
      "metadata": {
        "id": "gh6yCnb7EgFH"
      },
      "source": [
        "We now apply the function to plot the profil of the soil regarding sand and clay and organic carbon content at the location of interest:"
      ]
    },
    {
      "cell_type": "code",
      "metadata": {
        "id": "4uB2QEIiEfuQ"
      },
      "source": [
        "# We get the sand and organic concent profiles:\n",
        "profileS = local_profile(sand, poi, scale)\n",
        "profileOC = local_profile(orgc, poi, scale)\n",
        "\n",
        "# Then we build a bar plot\n",
        "fig, ax = plt.subplots(figsize=(15,6))\n",
        "ax.axes.get_yaxis().set_visible(False)\n",
        "\n",
        "x = np.arange(len(olm_bands))  # the label locations\n",
        "width = 0.25 # width of bars\n",
        "\n",
        "rect1 = ax.bar(x-width, [round(100*profileS[b], 2) for b in olm_bands], \n",
        "               width, label=\"Sand\", color='#ecebbd')\n",
        "\n",
        "rect2 = ax.bar(x, [round(100*profileC[b], 2) for b in olm_bands], \n",
        "               width, label=\"Clay\", color='#6f6c5d')\n",
        "\n",
        "rect3 = ax.bar(x+width, [round(100*profileOC[b], 2) for b in olm_bands], \n",
        "               width, label=\"Organic Carbon\", color='black', alpha = 0.75)\n",
        "\n",
        "def autolabel(rects):\n",
        "    \"\"\"Attach a text label above each bar in *rects*, displaying its height.\"\"\"\n",
        "    for rect in rects:\n",
        "        height = rect.get_height()\n",
        "        ax.annotate('{}'.format(height) + '%',\n",
        "                    xy=(rect.get_x() + rect.get_width() / 2, height),\n",
        "                    xytext=(0, 3),  # 3 points vertical offset\n",
        "                    textcoords=\"offset points\",\n",
        "                    ha='center', va='bottom', fontsize=10)\n",
        "autolabel(rect1)\n",
        "autolabel(rect2)\n",
        "autolabel(rect3)\n",
        "\n",
        "ax.set_title('Texture of the soil at different depths (mass content)', fontsize=14)\n",
        "ax.set_xticks(x)\n",
        "\n",
        "x_labels = [str(d) + \" cm\" for d in olm_depths] \n",
        "ax.set_xticklabels(x_labels, rotation = 45, fontsize=10)\n",
        "\n",
        "ax.spines['left'].set_visible(False)\n",
        "ax.spines['right'].set_visible(False)\n",
        "ax.spines['top'].set_visible(False)\n",
        "\n",
        "# Shrink current axis's height by 10% on the bottom\n",
        "box = ax.get_position()\n",
        "ax.set_position([box.x0, box.y0 + box.height * 0.1,\n",
        "                 box.width, box.height * 0.9])\n",
        "\n",
        "# Put a legend below current axis\n",
        "ax.legend(loc='upper center', bbox_to_anchor=(0.5, -0.15),\n",
        "          fancybox=True, shadow=True, ncol=3)\n",
        "\n",
        "plt.show()"
      ],
      "execution_count": null,
      "outputs": []
    },
    {
      "cell_type": "markdown",
      "metadata": {
        "id": "e0RTRGumFDBp"
      },
      "source": [
        "#### Mathematical expression to an `ee.Image` for to the calculation of hydraulic properties\n",
        "\n",
        "Now that we have a description of the soil texture at different depths, we can calulate the water content at the field capacity and at the wilting point according to the equation defined at the begining of this section. Please note that in the equation of Saxton & Rawls (2006), the wilting point and field capacity are calculated using the Organic Matter content ($OM$) and not the Organic Carbon content ($OC$). In the following, we convert $OC$ into $OM$ using the corective factor known as the [Van Bemmelen factor](https://inspire.ec.europa.eu/codelist/SoilDerivedObjectParameterNameValue/organicCarbonContent):\n",
        "\n",
        "$$0M = 1.724 \\times OC$$\n",
        "\n",
        "Then, we multiply our organic content `ee.Image` by the Van Bemmelen factor:"
      ]
    },
    {
      "cell_type": "code",
      "metadata": {
        "id": "OCe7vmldFl25"
      },
      "source": [
        "orgm = orgc.multiply(1.724)\n",
        "\n",
        "profileOM = local_profile(orgm, poi, scale)\n",
        "print(\"Organic Matter content profile at the location of interest: \\n\", profileOM)"
      ],
      "execution_count": null,
      "outputs": []
    },
    {
      "cell_type": "markdown",
      "metadata": {
        "id": "zi-E44hCFuRf"
      },
      "source": [
        "We then use the `.expression()` method to calulate wilting point and field capacity images using Saxton & Rawls equations."
      ]
    },
    {
      "cell_type": "code",
      "metadata": {
        "id": "St1g8ujhGCf-"
      },
      "source": [
        "# We initialize two constant images for wiliting point and field capacity\n",
        "WP = ee.Image(0)\n",
        "FC = ee.Image(0)\n",
        "\n",
        "# We make the calculation for each bstandard depth so we make a loop\n",
        "for key in olm_bands:\n",
        "    # We get the sand, clay and organic matter at the appropriate depth\n",
        "    si = sand.select(key) #sand\n",
        "    ci = clay.select(key) #clay\n",
        "    oi = orgm.select(key) #organic matter\n",
        "    \n",
        "    # Then we calculate the wilting point\n",
        "    # We need the theta_1500t parameter for the given depth\n",
        "    theta_1500ti = ee.Image(0).expression(\n",
        "        '-0.024 * S + 0.487 * C + 0.006 * OM + 0.005 * (S * OM)\\\n",
        "        - 0.013 * (C * OM) + 0.068 * (S * C) + 0.031', {\n",
        "            'S' : si,\n",
        "            'C' : ci,\n",
        "            'OM': oi,\n",
        "        }\n",
        "    ).rename('T1500ti')\n",
        "    # then wilting point is calculated at the given depth\n",
        "    wpi = theta_1500ti.expression(\n",
        "        'T1500ti + ( 0.14 * T1500ti - 0.002)', {\n",
        "            'T1500ti' : theta_1500ti\n",
        "        }\n",
        "    ).rename('wpi')\n",
        "\n",
        "    # We add the result as a new band of the global WP\n",
        "    # We do not forget to cast the type with float()\n",
        "    WP = WP.addBands(wpi.rename(key).float())\n",
        "    \n",
        "    # We fo the same for the field capacity\n",
        "    # we first need the parameter theta_33t for the given depth:\n",
        "    theta_33ti = ee.Image(0).expression(\n",
        "        '-0.251 * S + 0.195 * C + 0.011 * OM +\\\n",
        "        0.006 * (S * OM) - 0.027 * (C * OM)+\\\n",
        "        0.452 * (S * C) + 0.299',{\n",
        "            'S' : si,\n",
        "            'C' : ci,\n",
        "            'OM' : oi,\n",
        "        }\n",
        "    ).rename('T33ti')\n",
        "    \n",
        "    fci = theta_33ti.expression(\n",
        "        'T33ti + (1.283 * T33ti * T33ti - 0.374 * T33ti - 0.015)',{\n",
        "            \"T33ti\" : theta_33ti.select(\"T33ti\")\n",
        "        }\n",
        "    )\n",
        "    \n",
        "    FC = FC.addBands(fci.rename(key).float())"
      ],
      "execution_count": null,
      "outputs": []
    },
    {
      "cell_type": "markdown",
      "metadata": {
        "id": "FcZd2qHnGiBo"
      },
      "source": [
        "Let's see the result around our location of interest:"
      ]
    },
    {
      "cell_type": "code",
      "metadata": {
        "id": "va8SaEr9Gizh"
      },
      "source": [
        "profileWP = local_profile(WP, poi, scale)\n",
        "print(profileWP)"
      ],
      "execution_count": null,
      "outputs": []
    },
    {
      "cell_type": "markdown",
      "metadata": {
        "id": "rrm5e1alGp6Q"
      },
      "source": [
        "We do the same for field capacity:"
      ]
    },
    {
      "cell_type": "code",
      "metadata": {
        "id": "Q9Zlr8tJGpJB"
      },
      "source": [
        "profileFC = local_profile(FC, poi, scale)\n",
        "print(profileFC)"
      ],
      "execution_count": null,
      "outputs": []
    },
    {
      "cell_type": "code",
      "metadata": {
        "id": "Zsqs-0oyG1nx"
      },
      "source": [
        "fig, ax = plt.subplots(figsize=(15,6))\n",
        "ax.axes.get_yaxis().set_visible(False)\n",
        "\n",
        "x = np.arange(len(olm_bands))  # the label locations\n",
        "width = 0.25 #width of bars\n",
        "\n",
        "rect1 = ax.bar(x-width/2, \n",
        "               [round(profileWP[b]*100,2) for b in olm_bands], \n",
        "               width, \n",
        "               label=\"Water content at wilting point\", \n",
        "               color='red', alpha = 0.5)\n",
        "\n",
        "rect2 = ax.bar(x+width/2, \n",
        "               [round(profileFC[b]*100, 2) for b in olm_bands], \n",
        "               width, label=\"Water content at field Capacity\", \n",
        "               color='blue', alpha = 0.5)\n",
        "\n",
        "autolabel(rect1)\n",
        "autolabel(rect2)\n",
        "\n",
        "ax.set_title('Hydraulic properties of the soil at different depths', fontsize=14)\n",
        "ax.set_xticks(x)\n",
        "\n",
        "x_labels = [str(d) + \" cm\" for d in olm_depths] \n",
        "ax.set_xticklabels(x_labels, rotation = 45, fontsize=10)\n",
        "\n",
        "ax.spines['left'].set_visible(False)\n",
        "ax.spines['right'].set_visible(False)\n",
        "ax.spines['top'].set_visible(False)\n",
        "\n",
        "# Shrink current axis's height by 10% on the bottom\n",
        "box = ax.get_position()\n",
        "ax.set_position([box.x0, box.y0 + box.height * 0.1,\n",
        "                 box.width, box.height * 0.9])\n",
        "\n",
        "# Put a legend below current axis\n",
        "ax.legend(loc='upper center', bbox_to_anchor=(0.5, -0.15),\n",
        "          fancybox=True, shadow=True, ncol=2)\n",
        "\n",
        "plt.show()"
      ],
      "execution_count": null,
      "outputs": []
    },
    {
      "cell_type": "markdown",
      "metadata": {
        "id": "JVezSsYkHG4h"
      },
      "source": [
        "### Getting meteorological datastets\n"
      ]
    },
    {
      "cell_type": "markdown",
      "metadata": {
        "id": "fc6KlXE9GR3J"
      },
      "source": [
        "#### Datasets exploration\n",
        "\n",
        "The meteorological data used in our implementation of the TM procedure relies on following remote sensing datasets:\n",
        "- Climate Hazards Group InfraRed Precipitation with Station data (CHIRPS) gives precipitations on a daily basis (resolution of 5 km),\n",
        "- the MODIS Terra Net gives evapotranspiration on a 8-days basis (resolution of 500 m)\n",
        "\n",
        "Both datasets are imported as follow:"
      ]
    },
    {
      "cell_type": "code",
      "metadata": {
        "id": "JeINenBXJPSa"
      },
      "source": [
        "# We select the precipitation band from the precipitaiton datasets\n",
        "pr = ee.ImageCollection(\"UCSB-CHG/CHIRPS/DAILY\").select('precipitation').filterDate(i_date, f_date)\n",
        "\n",
        "# We select the potential evaporation PET band and the quality indicator ET_QC:\n",
        "pet = ee.ImageCollection(\"MODIS/006/MOD16A2\").select(['PET', 'ET_QC']).filterDate(i_date, f_date)"
      ],
      "execution_count": null,
      "outputs": []
    },
    {
      "cell_type": "markdown",
      "metadata": {
        "id": "Vfx3GTy4Jf3B"
      },
      "source": [
        "We now etablish a procedure to get meteorological data around a given location in form of a `pandas.DataFrame`:"
      ]
    },
    {
      "cell_type": "code",
      "metadata": {
        "id": "Nr4UEVo3Je4B"
      },
      "source": [
        "def ee_array_to_df(arr, list_of_bands):\n",
        "    \"\"\"Transforms client-side ee.Image.getRegion array to pandas.DataFrame.\"\"\"\n",
        "    df = pd.DataFrame(arr)\n",
        "\n",
        "    # Rearrange the header.\n",
        "    headers = df.iloc[0]\n",
        "    df = pd.DataFrame(df.values[1:], columns=headers)\n",
        "    \n",
        "    # Convert the data to numeric values.\n",
        "    for band in list_of_bands:\n",
        "        df[band] = pd.to_numeric(df[band], errors='coerce')\n",
        "        \n",
        "    # Convert the time field into a datetime.\n",
        "    df['datetime'] = pd.to_datetime(df['time'], unit='ms')\n",
        "\n",
        "    # Keep the columns of interest.\n",
        "    df = df[['time','datetime',  *list_of_bands]]\n",
        "    \n",
        "    df = df.set_index('datetime')\n",
        "\n",
        "    return df"
      ],
      "execution_count": null,
      "outputs": []
    },
    {
      "cell_type": "markdown",
      "metadata": {
        "id": "Ki85DguMJt36"
      },
      "source": [
        "Now we can have a closer look around our location of interest:"
      ]
    },
    {
      "cell_type": "code",
      "metadata": {
        "id": "dJsDa34yJzux"
      },
      "source": [
        "#local precipitation info\n",
        "local_pr = pr.getRegion(poi, scale).getInfo()\n",
        "\n",
        "#transformation into pandas df\n",
        "pr_df = ee_array_to_df(local_pr, ['precipitation'])\n",
        "pr_df.head(10)"
      ],
      "execution_count": null,
      "outputs": []
    },
    {
      "cell_type": "markdown",
      "metadata": {
        "id": "Jg8Lb2FSKlcf"
      },
      "source": [
        "We do the same for potential evaporation:"
      ]
    },
    {
      "cell_type": "code",
      "metadata": {
        "id": "qKOzenXQKkz8"
      },
      "source": [
        "#local precipitation info\n",
        "local_pet = pet.getRegion(poi, scale).getInfo()\n",
        "\n",
        "#transformation into pandas df\n",
        "pet_df = ee_array_to_df(local_pet, ['PET', 'ET_QC'])\n",
        "pet_df.head(5)"
      ],
      "execution_count": null,
      "outputs": []
    },
    {
      "cell_type": "markdown",
      "metadata": {
        "id": "slpz6norLFKT"
      },
      "source": [
        "Looking at both `pandas.DataFrame` shows the following points:\n",
        "- the time resolution between both datasets is not the same,\n",
        "- for some reasons, potential evapotranspiration cannot be calulated at some dates. It corresponds to lines where the quality indicator `ET_QC` is higher than 1.\n",
        "\n",
        "Both issues must be handled before implementing the iterative process: we want to work on a similar timeline with potential evapotranspiration and precipitation, and we want to avoid missing values."
      ]
    },
    {
      "cell_type": "markdown",
      "metadata": {
        "id": "OZT4aZ0zJPuA"
      },
      "source": [
        "#### Resampling the time resolution of an `ee.ImageCollection`\n",
        "\n",
        "To tadress these issues (homogenneous time index and missing values), we make a sum resampling of both datasets by month. When `PET` cannot be calculated, the monthly averaged value is considered. The resampling procedure reads as follow:"
      ]
    },
    {
      "cell_type": "code",
      "metadata": {
        "id": "e5OIfcKkHGla"
      },
      "source": [
        "def sum_resampler(coll, freq, unit, scale_factor, band_name):\n",
        "    \"\"\"\n",
        "    This function aims to resample the time scale of an ee.ImageCollection.\n",
        "    The function returns an ee.ImageCollection with the averaged sum of the \n",
        "    band on the selected frequence.\n",
        "\n",
        "    coll: (ee.ImageCollection) only one band can be handled\n",
        "    freq: (int) corresponds to the resampling frequence\n",
        "    unit: (str) corresponds to the resampling time unit.\n",
        "                must be 'day', 'month' or 'year'\n",
        "    scale_factor (float): scaling factor used to get our value in the unit we want\n",
        "    band_name (str) name of the output band\n",
        "    \"\"\"\n",
        "\n",
        "    #We determine the initial and final dates of our collection\n",
        "    firstdate = ee.Date(coll.sort('system:time_start', True).first().get('system:time_start'))\n",
        "    lastdate = ee.Date(coll.sort('system:time_start', False).first().get('system:time_start'))\n",
        "    \n",
        "    # We determine the time difference between both\n",
        "    diff_dates = lastdate.difference(firstdate, str(unit) + \"s\")\n",
        "\n",
        "    # We define a new time index (for output)\n",
        "    new_index = ee.List.sequence(0, ee.Number(diff_dates), freq)\n",
        "    \n",
        "    # we define the function that will be applied to our new time idenx sequence\n",
        "    def apply_resampling(date_index):\n",
        "        startdate = firstdate.advance(ee.Number(date_index), unit)\n",
        "        enddate = firstdate.advance(ee.Number(date_index).add(freq), unit)\n",
        "\n",
        "        diff_days = enddate.difference(startdate, 'days')\n",
        "        image = coll.filterDate(startdate, enddate).mean().multiply(diff_days).multiply(scale_factor).rename(band_name)\n",
        "\n",
        "        return image.set('system:time_start', startdate.millis())\n",
        "\n",
        "    # We map the function to our new time index\n",
        "    res = new_index.map(apply_resampling)\n",
        "    \n",
        "    # We transform the result into an ee.ImageCollection\n",
        "    res = ee.ImageCollection(res)\n",
        "    return res"
      ],
      "execution_count": null,
      "outputs": []
    },
    {
      "cell_type": "markdown",
      "metadata": {
        "id": "DLMDO48dONED"
      },
      "source": [
        "The precipitation dataset can now easily be resampled by month as follow: "
      ]
    },
    {
      "cell_type": "code",
      "metadata": {
        "id": "oGixp5YROUjL"
      },
      "source": [
        "pr_m = sum_resampler(pr, 1, 'month', 1, 'PR')\n",
        "pr_m.getRegion(poi, scale).getInfo()[:5]"
      ],
      "execution_count": null,
      "outputs": []
    },
    {
      "cell_type": "markdown",
      "metadata": {
        "id": "lR26epuhOYO6"
      },
      "source": [
        "For evapotranspiration, we have to be carefull with the unit. The dataset gives us a 8-days sum and a scale factor of 10 is applied. Then, to get an homogeneous unit, we need to rescale by dividing by 8 and 10: $\\frac{1}{10 \\times 8} = 0.0125$."
      ]
    },
    {
      "cell_type": "code",
      "metadata": {
        "id": "R1-d-F95O4E0"
      },
      "source": [
        "pet_m = sum_resampler(pet.select('PET'), 1, 'month', 0.0125, 'PET')\n",
        "pet_m.getRegion(poi, scale).getInfo()[:5]"
      ],
      "execution_count": null,
      "outputs": []
    },
    {
      "cell_type": "markdown",
      "metadata": {
        "id": "nygVLrMLPCK6"
      },
      "source": [
        "We can now combine both `ee.Imagecollection` using the `ee.ImageCollection.combine` method. In our case, we choose to combine `pet_m` to `pr_m`. Consequently `pet_m` images will be stacked in the `pr_m` collection without respect of the the time index. Consequently, make sure that both `ee.ImageCollection` have the same time index berfore combing."
      ]
    },
    {
      "cell_type": "code",
      "metadata": {
        "id": "OAyQ838kPtYE"
      },
      "source": [
        "# We combine precipitation and evapotranspiration\n",
        "meteo = pr_m.combine(pet_m)\n",
        "meteo.getRegion(poi, scale).getInfo()[:5]"
      ],
      "execution_count": null,
      "outputs": []
    },
    {
      "cell_type": "markdown",
      "metadata": {
        "id": "f6unGPWjP59M"
      },
      "source": [
        "We evaluate the result on our location of interest as follow: "
      ]
    },
    {
      "cell_type": "code",
      "metadata": {
        "id": "2vsKIxXAP5Q6"
      },
      "source": [
        "meteo_arr = meteo.getRegion(poi, scale).getInfo()\n",
        "meteo_df = ee_array_to_df(meteo_arr , ['PR', 'PET']).sort_index()\n",
        "\n",
        "# We plot the result\n",
        "fig, ax = plt.subplots(figsize = (15,6))\n",
        "meteo_df['PR'].plot(kind = 'bar', ax = ax, label = \"P\")\n",
        "meteo_df['PET'].plot(kind = 'bar', ax = ax, label = \"PET\", color = 'orange', alpha = 0.5)\n",
        "\n",
        "ax.legend()\n",
        "ax.set_ylabel('Intensity [mm]')\n",
        "ax.set_xlabel(None)\n",
        "\n",
        "x_labels = meteo_df.index.strftime('%m-%Y') \n",
        "ax.set_xticklabels(x_labels, rotation = 90, fontsize=10)\n",
        "\n",
        "plt.show()"
      ],
      "execution_count": null,
      "outputs": []
    },
    {
      "cell_type": "markdown",
      "metadata": {
        "id": "FJQLYbU6Qwzc"
      },
      "source": [
        "### Implementation of the TM procedure\n",
        " \n"
      ]
    },
    {
      "cell_type": "markdown",
      "metadata": {
        "id": "qhxrtu1YGYa-"
      },
      "source": [
        "#### Description\n",
        "Some additionnal definitions are requested to formalize the Thornthwaite-Mather procedure. The following definitions are given in accordance with Allen et al. (1998) (the document can be downloaded [here](http://www.climasouth.eu/sites/default/files/FAO%2056.pdf)):\n",
        "\n",
        "$$TAW = 1000 \\times (\\theta_{FC} − \\theta_{WP})\\times Z{r}$$ where:\n",
        "- $TAW$: the total available soil water in the root zone [$mm$],\n",
        "- $\\theta_{FC}$: the water content at the field capacity [$m^{3} m^{-3}$],\n",
        "- $\\theta_{WP}$: the water content at wilting point [$m^{3} m^{-3}$],\n",
        "- $Z_{r}$: the rooting depth [$mm$],\n",
        "\n",
        "Typical values of $\\theta_{FC}$ and $\\theta_{WP}$ for different soil types are given in the Table 19 of Allen et al. (1998).\n",
        "\n",
        "The readily available water ($RAW$) is given by $RAW = p \\times TAW$, where $p$ is the average fraction of $TAW$ that can be depleted from the root zone before moisture stress (ranging between 0 to 1). This quantity is also noted $ST_{FC}$ which is the available water stored at field capacity in the root zone.\n",
        "\n",
        "Ranges of maximum effective rooting depth $Z_{r}$, and soil water depletion fraction for no stress $p$, for common crops are given in the Table 22 of Allen et al. (1998).  In addition, a global effective plant rooting depth dataset is provided by Yand et al. (2016) with a resolution of 0.5° by 0.5° (see the paper [here](https://agupubs.onlinelibrary.wiley.com/doi/10.1002/2016WR019392) and the dataset [here](https://data.csiro.au/collection/csiro:19813v1)).  \n",
        "\n",
        "According to this global dataset, the effective rooting depth around our region of interest (France) can reasonnably assumed to $Z_{r} = 0.5$. Additionnaly, the parameter $p$ is also assumed constant and equal to  and $p = 0.5$ which is in line with common values described in the Table 22 of Allen et al. (1998).\n",
        "\n"
      ]
    },
    {
      "cell_type": "code",
      "metadata": {
        "id": "jYdOlzZ1e1P1"
      },
      "source": [
        "#initialization :\n",
        "Zr = ee.Image(0.5)\n",
        "p = ee.Image(0.5)"
      ],
      "execution_count": null,
      "outputs": []
    },
    {
      "cell_type": "markdown",
      "metadata": {
        "id": "C0i7UAfUhcul"
      },
      "source": [
        "In the following, we also consider an averaged value between reference depth of the water content at wilting point and filed capacity:"
      ]
    },
    {
      "cell_type": "code",
      "metadata": {
        "id": "7TexXDIfhnad"
      },
      "source": [
        "# We define a function to get an average value of\n",
        "# FC and WP\n",
        "def olm_prop_mean(olm_image, band_output_name):\n",
        "  mean_image = olm_image.expression(\n",
        "      \"(b0 + b10 + b30 + b60 + b100 + b200) / 6\", {\n",
        "          \"b0\" : olm_image.select(\"b0\"),\n",
        "          \"b10\" : olm_image.select(\"b10\"),\n",
        "          \"b30\" : olm_image.select(\"b30\"),\n",
        "          \"b60\" : olm_image.select(\"b60\"),\n",
        "          \"b100\" : olm_image.select(\"b100\"),\n",
        "          \"b200\" : olm_image.select(\"b200\")\n",
        "\n",
        "      }\n",
        "  ).rename(band_output_name)\n",
        "  return mean_image\n",
        "\n",
        "FCm = olm_prop_mean(FC, 'fc_mean')\n",
        "WPm = olm_prop_mean(WP, 'wp_mean')\n",
        "\n",
        "# The theoretical available water :\n",
        "TAW = (FCm.select(\"fc_mean\").subtract(WPm.select(\"wp_mean\"))).multiply(1000).multiply(Zr)\n",
        "#TAW = (FC.select(\"b0\").subtract(WP.select(\"b0\"))).multiply(1000).multiply(Zr)\n",
        "\n",
        "# Stored water at the field capacity:\n",
        "STfc = TAW.multiply(p)"
      ],
      "execution_count": null,
      "outputs": []
    },
    {
      "cell_type": "markdown",
      "metadata": {
        "id": "f6DwPylpe0HW"
      },
      "source": [
        "The Thornthwaite-Mather procedure used to estimate groundwater recharge is explicitely described by Steenhuis and Van der Molen (1985). This procedures uses monthly sums of potential evaporation and cumulative precipitation, and the moisture status of the soil which is calculated iteratively. The moisture status of the soils depends on the accumulated potential water loss ($APWL$). This parameter is calculated depending on whether the potential evaporation is greater than or less than the cumulative precipitation. The procedure reads as follow:\n",
        "\n",
        "**When potential evapotranspiration is higher that precipitation**:\n",
        "\n",
        "In that case, $PET>P$ and $APWL_{m}$ is incremented as follow:\n",
        "$APWL_{m} = APWL_{m - 1} + (PET_{m} - P_{m})$ where:\n",
        "- $APWL_{m}$ (respectively $APWL_{m - 1}$) represents the accumulated potential water loss for the month $m$ (respectively at the previous month $m - 1$)\n",
        "- $PET_{m}$ the cumulative optential evapotranspiration at month $m$,\n",
        "- $P_{m}$ the cumulative precipitation at month $m$,\n",
        "\n",
        "and the relationship between $APWL$ and the amount of water stored in the root zone for the month $m$ is expressed as:\n",
        "$ST_{m} = ST_{FC} \\times [\\textrm{exp}(-APWL_{m}/ST_{FC})]$ where $ST_{m}$ is the available water stored in the root zone for the month $m$.\n",
        "\n",
        "**When potential evapotranspiration is lower that precipitation**:\n",
        "\n",
        "In that case, $PET<P$ and $ST_{m}$ is incremented as follow:\n",
        "$ST_{m} = ST_{m-1} + (P_{m} - PET_{m})$\n",
        "\n",
        "If the storage $ST_{m}$ is higher than the water stored at the field capacity ($ST_{m} > ST_{FC}$) the recharge is calculated as:\n",
        "$R_{m} = ST_{m} - ST_{FC} + P_{m} - PET_{m}$\n",
        "\n",
        "In addtion, the water stored at the end of the month $m$ becomes equal to $ST_{FC}$ and $APWL_{m}$ is set equal to zero.\n",
        "\n",
        "If the storage $ST_{m}$ is lower than $ST_{FC}$, $APWL_{m}$ is implemented as follow:\n",
        "$APWL_{m} = ST_{FC} \\times \\textrm{ln}(ST_{m}/ST_{FC})$, and no percolation occur.\n",
        "\n",
        "**Initialization**:\n",
        "\n",
        "To initialize the calculation $APWL_{0}$ is set equal to 0, and $ST_{0}$ is set equal to $ST_{FC}$.\n",
        "\n",
        "#### Iteration over an `ee.ImageCollection`\n",
        "The procedure is implented by means of the `ee.ImageCollection.iterate()` method.\n",
        "\n",
        "We first define an initial image used to start the iterative process as follow:"
      ]
    },
    {
      "cell_type": "code",
      "metadata": {
        "id": "wDW_Ub-IPBia"
      },
      "source": [
        "# we define our time0 according to the start of our meteo collection\n",
        "time0 = meteo.first().get('system:time_start')\n",
        "\n",
        "# We now initialize the different bands :\n",
        "# We do not forget to cast the type of the data with a .float()\n",
        "initial_rech = ee.Image(0).set('system:time_start', time0).select([0], ['RECH']).float()\n",
        "initial_apwl = ee.Image(0).set('system:time_start', time0).select([0], ['APWL']).float()\n",
        "initial_st   = STfc.set('system:time_start', time0).select([0], ['ST']).float()\n",
        "initial_pr = ee.Image(0).set('system:time_start', time0).select([0], ['PR']).float()\n",
        "initial_pet = ee.Image(0).set('system:time_start', time0).select([0], ['PET']).float()"
      ],
      "execution_count": null,
      "outputs": []
    },
    {
      "cell_type": "markdown",
      "metadata": {
        "id": "xi3w8xZziUd_"
      },
      "source": [
        "We combine all these images into one adding new bands to the first using the `ee.Image.addBands` method:\n"
      ]
    },
    {
      "cell_type": "code",
      "metadata": {
        "id": "Nts-USveO01U"
      },
      "source": [
        "initial_image  = initial_rech.addBands(initial_apwl)\n",
        "initial_image  = initial_image.addBands(initial_st)\n",
        "initial_image  = initial_image.addBands(initial_pr)\n",
        "initial_image  = initial_image.addBands(initial_pet)"
      ],
      "execution_count": null,
      "outputs": []
    },
    {
      "cell_type": "markdown",
      "metadata": {
        "id": "yX_t1DV8jCFe"
      },
      "source": [
        "We also initialize a list in which new images will be added after each iteration:"
      ]
    },
    {
      "cell_type": "code",
      "metadata": {
        "id": "MxdDQIaJjCZ1"
      },
      "source": [
        "my_list = ee.List([initial_image]) "
      ],
      "execution_count": null,
      "outputs": []
    },
    {
      "cell_type": "markdown",
      "metadata": {
        "id": "5zN4P1pIikVo"
      },
      "source": [
        "The iterative procedure is now implemented into a function:"
      ]
    },
    {
      "cell_type": "code",
      "metadata": {
        "id": "K5gMOKgbijyp"
      },
      "source": [
        "def recharge_calculator(image, my_list):\n",
        "    \"\"\"\n",
        "    this function contains the iterative process\n",
        "    \"\"\"\n",
        "    # We load the previous image stored in the list\n",
        "    prev_im = ee.Image(ee.List(my_list).get(-1))\n",
        "    \n",
        "    # We get the gate of the current ee.Image of the collection \n",
        "    localdate = ee.Date(image.get('system:time_start'))\n",
        "        \n",
        "    # We store the previous APWL and ST as images\n",
        "    prev_apwl = prev_im.select('APWL')\n",
        "    prev_st = prev_im.select('ST')\n",
        "    \n",
        "    # We store the current precipitation and evapotranspiration:\n",
        "    P = image.select('PR')\n",
        "    PET = image.select('PET')\n",
        "    \n",
        "    # We initialize the new values of recharge, apwl and st:\n",
        "    # DO NOT FORGET TO CAST THE TYPE WITH .float()\n",
        "    new_rech = ee.Image(0).set('system:time_start', localdate.millis()).select([0], ['RECH']).float()\n",
        "    new_apwl = PET.subtract(PET).set('system:time_start', localdate.millis()).select([0], ['APWL']).float()\n",
        "    new_st = prev_st.set('system:time_start', localdate.millis()).select([0], ['ST']).float()\n",
        "    \n",
        "    # We now calculate parameters depending on the situation:\n",
        "    # We Create binary layers using logical operations.\n",
        "    #zone1 is the area where PET > P\n",
        "    zone1 = PET.gt(P)\n",
        "\n",
        "    zone1_apwl = prev_apwl.add(PET.subtract(P)).rename(\"APWL\")\n",
        "    new_apwl = new_apwl.where(zone1, zone1_apwl)\n",
        "    \n",
        "    zone1_st = prev_st.multiply(ee.Image.exp(zone1_apwl.divide(STfc).multiply(-1))).rename(\"ST\")\n",
        "    new_st = new_st.where(zone1, zone1_st)\n",
        "    \n",
        "    #zone2 is the area where PET <= P\n",
        "    zone2 = PET.lte(P)\n",
        "    \n",
        "    zone2_st = prev_st.add(P).subtract(PET).rename(\"ST\")\n",
        "    new_st = new_st.where(zone2, zone2_st)\n",
        "    \n",
        "    #zone21 is the area where PET <= P and ST >= STfc\n",
        "    zone21 = zone2.And(zone2_st.gte(STfc))\n",
        "    \n",
        "    zone21_re = zone2_st.subtract(STfc).rename(\"RECH\")\n",
        "    new_rech = new_rech.where(zone21, zone21_re)\n",
        "    new_st = new_st.where(zone21, STfc)\n",
        "    \n",
        "    #zone 22 is the area where PET <= P and ST < STfc\n",
        "    zone22 = zone2.And(zone2_st.lt(STfc))\n",
        "    \n",
        "    zone22_apwl = STfc.multiply(-1).multiply(ee.Image.log(zone2_st.divide(STfc))).rename(\"APWL\")\n",
        "    new_apwl = new_apwl.where(zone22, zone22_apwl)\n",
        "    \n",
        "    # A mask is created to not calculate a recharge in area where \n",
        "    # we cannot have PET, P, FCm, WPm (urban areas, etc...)\n",
        "    mask = PET.gte(0).And(P.gte(0)).And(FCm.gte(0)).And(WPm.gte(0))\n",
        "\n",
        "    # We aply the mask\n",
        "    new_rech = new_rech.updateMask(mask)\n",
        "\n",
        "    # Now we add all Bands to our ee.Image\n",
        "    new_image = new_rech.addBands(new_apwl)\n",
        "    new_image = new_image.addBands(new_st)\n",
        "    new_image = new_image.addBands(P)\n",
        "    new_image = new_image.addBands(PET)\n",
        "    \n",
        "    return ee.List(my_list).add(new_image)"
      ],
      "execution_count": null,
      "outputs": []
    },
    {
      "cell_type": "markdown",
      "metadata": {
        "id": "_0mTHghUj7mg"
      },
      "source": [
        "The TM procedure can now be applied to the meteorological `ee.ImageCollection`:"
      ]
    },
    {
      "cell_type": "code",
      "metadata": {
        "id": "9pIrsOAEkHzH"
      },
      "source": [
        "# We run the procedure to get the result in a list\n",
        "rech_list = meteo.iterate(recharge_calculator, my_list)\n",
        "\n",
        "# We remove the initial image from our list\n",
        "rech_list = ee.List(rech_list).remove(initial_image)\n",
        "\n",
        "# We tranform our list into an ImageCollection\n",
        "rech_coll = ee.ImageCollection(rech_list)"
      ],
      "execution_count": null,
      "outputs": []
    },
    {
      "cell_type": "markdown",
      "metadata": {
        "id": "fFNjh1gFkSWI"
      },
      "source": [
        "Let's have a look at the result around the location of interest:"
      ]
    },
    {
      "cell_type": "code",
      "metadata": {
        "id": "eHUvIOo-kYbW"
      },
      "source": [
        "arr = rech_coll.getRegion(poi, scale).getInfo()\n",
        "rdf = ee_array_to_df(arr, ['PR', 'PET', 'APWL', 'ST', 'RECH']).sort_index()\n",
        "rdf.head(12)"
      ],
      "execution_count": null,
      "outputs": []
    },
    {
      "cell_type": "markdown",
      "metadata": {
        "id": "GFifwNVslCSx"
      },
      "source": [
        "The result can be displayed in form of a barplot as follow:"
      ]
    },
    {
      "cell_type": "code",
      "metadata": {
        "id": "Y8bYXscklEyP"
      },
      "source": [
        "# We plot the result\n",
        "fig, ax = plt.subplots(figsize = (15,6))\n",
        "\n",
        "rdf['PR'].plot(kind = 'bar', ax = ax, label = \"P\", alpha = 0.5)\n",
        "rdf['PET'].plot(kind = 'bar', ax = ax, label = \"PET\", color = 'orange', alpha = 0.2)\n",
        "rdf['RECH'].plot(kind = 'bar', ax = ax, label = \"recharge\", color = 'green', alpha = 1)\n",
        "\n",
        "\n",
        "ax.legend()\n",
        "ax.set_ylabel('Intensity [mm]')\n",
        "ax.set_xlabel(None)\n",
        "\n",
        "x_labels = rdf.index.strftime('%m-%Y') \n",
        "ax.set_xticklabels(x_labels, rotation = 90, fontsize=10)\n",
        "# Rotate tick marks on x-axis\n",
        "\n",
        "plt.show()"
      ],
      "execution_count": null,
      "outputs": []
    },
    {
      "cell_type": "markdown",
      "metadata": {
        "id": "cm7gp6vUlL51"
      },
      "source": [
        "We also are interested in the annual average recharge over the period of interest. To do that, we can resample the `DataFrame` we've just created:"
      ]
    },
    {
      "cell_type": "code",
      "metadata": {
        "id": "z0Wen9E6lNuO"
      },
      "source": [
        "rdfy = rdf.resample('Y').sum()\n",
        "rdfy_mean = rdfy['RECH'].mean()\n",
        "mean_recharge = int(rdfy_mean)\n",
        "print(\"The mean annual recharge at our point of interest is\", mean_recharge, \"mm/an\")"
      ],
      "execution_count": null,
      "outputs": []
    },
    {
      "cell_type": "markdown",
      "metadata": {
        "id": "cKQgnAoLmB5m"
      },
      "source": [
        "#### Groundwater recharge mapping and comparison between multiple places\n",
        "\n",
        "We now may want to get local information about groundwater recharge and/or map this variable on an area of interest.\n",
        "\n",
        "Let's define a function to get the local information based on the `ee.ImageCollection` we've just built:"
      ]
    },
    {
      "cell_type": "code",
      "metadata": {
        "id": "6WnepgKNmb6X"
      },
      "source": [
        "def get_local_recharge(i_date, f_date, lon, lat, scale): \n",
        "    \"\"\"\n",
        "    This function returns an pandas df describing the cumulative groundwater recharge by month\n",
        "    \"\"\"\n",
        "    # Definition of the location of interest with a point\n",
        "    poi = ee.Geometry.Point(lon, lat)\n",
        "    rarr = rech_coll.filterDate(i_date, f_date).getRegion(poi, scale).getInfo()\n",
        "    rdf = ee_array_to_df(rarr, ['PR', 'PET', 'APWL', 'ST', 'RECH']).sort_index()\n",
        "    return rdf"
      ],
      "execution_count": null,
      "outputs": []
    },
    {
      "cell_type": "markdown",
      "metadata": {
        "id": "ye3goKdtmlj_"
      },
      "source": [
        "We now use this function on a second point of interest located in the south of France:"
      ]
    },
    {
      "cell_type": "code",
      "metadata": {
        "id": "S5a_WzlDmsgH"
      },
      "source": [
        "lon2 = 4.137152\n",
        "lat2 = 43.626945\n",
        "\n",
        "rdf2 = get_local_recharge(i_date, f_date, lon2, lat2, scale)\n",
        "rdf2y = rdf2.resample('Y').sum()\n",
        "rdf2y.head()"
      ],
      "execution_count": null,
      "outputs": []
    },
    {
      "cell_type": "code",
      "metadata": {
        "id": "3asuE13gmx6-"
      },
      "source": [
        "fig, ax = plt.subplots(figsize=(15,6))\n",
        "ax.axes.get_yaxis().set_visible(False)\n",
        "\n",
        "x = np.arange(len(rdfy))  # the label locations\n",
        "width = 0.25 #width of bars\n",
        "\n",
        "rect1 = ax.bar(x-width/2, rdfy.RECH, width, label = \"Lyon (France)\", color='blue', alpha = 0.5)\n",
        "rect2 = ax.bar(x+width/2, rdf2y.RECH, width, label = \"Montpellier (France)\", color='red', alpha = 0.5)\n",
        "\n",
        "def autolabel(rects):\n",
        "    \"\"\"Attach a text label above each bar in *rects*, displaying its height.\"\"\"\n",
        "    for rect in rects:\n",
        "        height = rect.get_height()\n",
        "        ax.annotate('{}'.format(int(height)) + ' mm',\n",
        "                    xy=(rect.get_x() + rect.get_width() / 2, height),\n",
        "                    xytext=(0, 3),  # 3 points vertical offset\n",
        "                    textcoords=\"offset points\",\n",
        "                    ha='center', va='bottom', fontsize=8)\n",
        "autolabel(rect1)\n",
        "autolabel(rect2)\n",
        "\n",
        "place1mean = int(rdfy['RECH'].mean())\n",
        "ax.hlines(place1mean, xmin = min(x)-width, xmax = max(x)+width, \n",
        "          color = 'blue', lw = 0.5,\n",
        "          label = 'average ' + str(place1mean) + \" mm/y\", alpha = 0.5)\n",
        "\n",
        "place2mean = int(rdf2y['RECH'].mean())\n",
        "ax.hlines(place2mean, xmin = min(x)-width, xmax = max(x)+width, \n",
        "          color = 'red', lw = 0.5,\n",
        "          label = 'average ' + str(place2mean) + \" mm/y\", alpha = 0.5)\n",
        "\n",
        "ax.set_title('Groundwater recharge comparison between two places', fontsize=12)\n",
        "ax.set_xticks(x)\n",
        "\n",
        "x_labels = rdfy.index.year.tolist()\n",
        "ax.set_xticklabels(x_labels, rotation = 45, fontsize=10)\n",
        "\n",
        "ax.spines['left'].set_visible(False)\n",
        "ax.spines['right'].set_visible(False)\n",
        "ax.spines['top'].set_visible(False)\n",
        "\n",
        "# Shrink current axis's height by 10% on the bottom\n",
        "box = ax.get_position()\n",
        "ax.set_position([box.x0, box.y0 + box.height * 0.1,\n",
        "                 box.width, box.height * 0.9])\n",
        "\n",
        "# Put a legend below current axis\n",
        "ax.legend(loc='upper center', bbox_to_anchor=(0.5, -0.15),\n",
        "          fancybox=True, shadow=True, ncol=2)\n",
        "\n",
        "plt.show()"
      ],
      "execution_count": null,
      "outputs": []
    },
    {
      "cell_type": "markdown",
      "metadata": {
        "id": "NSgA58q5oWkZ"
      },
      "source": [
        "To get a map of groundwater recharge, let's calculate the mean annual value:"
      ]
    },
    {
      "cell_type": "code",
      "metadata": {
        "id": "9wK4Xq3jodDv"
      },
      "source": [
        "# We calculate the annual recharge average\n",
        "annual_rech = rech_coll.select(\"RECH\").mean().multiply(12)\n",
        "\n",
        "# Get a feature collection of administrative boundaries.\n",
        "countries = ee.FeatureCollection('FAO/GAUL/2015/level0').select('ADM0_NAME')\n",
        "\n",
        "# Filter the feature collection to subset France.\n",
        "france = countries.filter(ee.Filter.eq('ADM0_NAME', 'France'))\n",
        "\n",
        "# We clip the ee.Image around the region of interest\n",
        "rech_france = annual_rech.clip(france)"
      ],
      "execution_count": null,
      "outputs": []
    },
    {
      "cell_type": "markdown",
      "metadata": {
        "id": "706s_wySox-A"
      },
      "source": [
        "And finnaly the map can be drawn."
      ]
    },
    {
      "cell_type": "code",
      "metadata": {
        "id": "_lwPR-QOoolR"
      },
      "source": [
        "my_map = folium.Map(location=[lat, lon], zoom_start=6)\n",
        "\n",
        "# Set visualization parameters for recharge.\n",
        "vis_params = {\n",
        "    'bands' : 'RECH',\n",
        "    'min': 0,'max': 400,\n",
        "    'opacity' : 1,\n",
        "    'palette': ['ff5d0f', 'f3ff40', '42fff6', '1303ff']\n",
        "}\n",
        "\n",
        "# Add the recharge ee.Image to the map object.\n",
        "my_map.add_ee_layer(rech_france, vis_params, 'Recharge')\n",
        "\n",
        "# Add a marker at the location of interest\n",
        "folium.Marker([lat, lon], popup=\"point of interest 1\").add_to(my_map)\n",
        "folium.Marker([lat2, lon2], popup=\"point of interest 2\").add_to(my_map)\n",
        "\n",
        "# Add a layer control panel to the map.\n",
        "my_map.add_child(folium.LayerControl())\n",
        "\n",
        "# Display the map.\n",
        "display(my_map)"
      ],
      "execution_count": null,
      "outputs": []
    },
    {
      "cell_type": "markdown",
      "metadata": {
        "id": "E9HR5eDhOXX7"
      },
      "source": [
        "### Bibliography\n",
        "\n",
        "**Allen RG, Pereira LS, Raes D, Smith M (1998).** Crop evapotranspiration: guidelines for computing crop water requirements. *Irrigation and Drainage Paper 56*, FAO, Rome\n",
        "\n",
        "**Saxton, K. E., & Rawls, W. J. (2006).** Soil water characteristic estimates by texture and organic matter for hydrologic solutions. *Soil science society of America Journal*, 70(5), 1569-1578.\n",
        "\n",
        "**Steenhuis, T. S., & Van der Molen, W. H. (1986).** The Thornthwaite-Mather procedure as a simple engineering method to predict recharge. *Journal of Hydrology*, 84(3-4), 221-229.\n",
        "\n",
        "**Thornthwaite, C. W., & Mather, J. R. (1957).** Instructions and tables for computing potential evapotranspiration and the water balance. *Publ. Climatol.*, 10(3).\n",
        "\n",
        "**Yang, Y., Donohue, R. J., & McVicar, T. R. (2016).** Global estimation of effective plant rooting depth: Implications for hydrological modeling. *Water Resources Research*, 52(10), 8260-8276.\n"
      ]
    },
    {
      "cell_type": "markdown",
      "metadata": {
        "id": "VOf_UnIcZKBJ"
      },
      "source": [
        "### Aknowledgements\n",
        "\n",
        "Thanks to Susanne Benz for precious advises."
      ]
    }
  ]
}