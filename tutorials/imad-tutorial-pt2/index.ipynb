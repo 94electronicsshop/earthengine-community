{
 "cells": [
  {
   "cell_type": "code",
   "execution_count": null,
   "id": "9064f134",
   "metadata": {},
   "outputs": [],
   "source": [
    "#@title Copyright 2023 The Earth Engine Community Authors { display-mode: \"form\" }\n",
    "#\n",
    "# Licensed under the Apache License, Version 2.0 (the \"License\");\n",
    "# you may not use this file except in compliance with the License.\n",
    "# You may obtain a copy of the License at\n",
    "#\n",
    "# https://www.apache.org/licenses/LICENSE-2.0\n",
    "#\n",
    "# Unless required by applicable law or agreed to in writing, software\n",
    "# distributed under the License is distributed on an \"AS IS\" BASIS,\n",
    "# WITHOUT WARRANTIES OR CONDITIONS OF ANY KIND, either express or implied.\n",
    "# See the License for the specific language governing permissions and\n",
    "# limitations under the License."
   ]
  },
  {
   "cell_type": "markdown",
   "id": "31afb58c",
   "metadata": {
    "id": "262ae1c5"
   },
   "source": [
    "# Change Detection on Google Earth Engine \n",
    "# Part 2 The iMAD Algorithm\n",
    "\n",
    " Authors: mortcanty, allannielsen\n"
   ]
  },
  {
   "cell_type": "markdown",
   "id": "4040ed83",
   "metadata": {
    "id": "tc4_0ic6avVy"
   },
   "source": [
    "## Context\n",
    "\n",
    "In Part 1 of this Tutorial a statistical approach to detecting changes in pairs of multispectral remote sensing images called Multivariate Alteration Detection (MAD) was explained. The MAD change images were obtained by first maximizing the correlations between the original image bands and then subtracting one from the other. The resulting difference bands, so-called MAD variates, contained the change information. They were shown to to be ordered by increasing variance and to be mutually uncorrelated. However they were also seen to be not easily interpretable. Now, in Part 2, we introduce an iteration scheme which performs the MAD transformation exclusively on those pixels which mark areas in the images which have physically not changed, thereby establishing a well-defined backgound of invariant pixels against which to discriminate changes.\n",
    "\n"
   ]
  },
  {
   "cell_type": "markdown",
   "id": "912fe8bf",
   "metadata": {
    "id": "0712c960"
   },
   "source": [
    "## Preliminaries"
   ]
  },
  {
   "cell_type": "code",
   "execution_count": 1,
   "id": "0ca8fe9a",
   "metadata": {
    "executionInfo": {
     "elapsed": 246,
     "status": "ok",
     "timestamp": 1675247072807,
     "user": {
      "displayName": "Allan Aasbjerg Nielsen",
      "userId": "11830973270117739389"
     },
     "user_tz": -60
    },
    "id": "5e68889d"
   },
   "outputs": [],
   "source": [
    "# enter your own export to assets path name here -----------\n",
    "EXPORT_PATH = 'projects/ee-mortcanty/assets/imad/'\n",
    "# ------------------------------------------------"
   ]
  },
  {
   "cell_type": "code",
   "execution_count": 2,
   "id": "511ab83e",
   "metadata": {
    "colab": {
     "base_uri": "https://localhost:8080/"
    },
    "executionInfo": {
     "elapsed": 26998,
     "status": "ok",
     "timestamp": 1675247103213,
     "user": {
      "displayName": "Allan Aasbjerg Nielsen",
      "userId": "11830973270117739389"
     },
     "user_tz": -60
    },
    "id": "2e451901",
    "outputId": "0637f118-5bec-4345-fa67-31c98e5c0c6f",
    "tags": []
   },
   "outputs": [
    {
     "name": "stdout",
     "output_type": "stream",
     "text": [
      "Authenticating using Notebook auth...\n",
      "✓ Previously created authentication credentials were found.\n",
      "✓ Successfully initialized!\n"
     ]
    }
   ],
   "source": [
    "# Authenticate\n",
    "COLAB_AUTH_FLOW_CLOUD_PROJECT_FOR_API_CALLS = None\n",
    "\n",
    "import ee\n",
    "import google\n",
    "import os\n",
    "\n",
    "if COLAB_AUTH_FLOW_CLOUD_PROJECT_FOR_API_CALLS is None:\n",
    "  print(\"Authenticating using Notebook auth...\")\n",
    "  if os.path.exists(ee.oauth.get_credentials_path()) is False:\n",
    "    ee.Authenticate()\n",
    "  else:\n",
    "    print('\\N{check mark} '\n",
    "          'Previously created authentication credentials were found.')\n",
    "  ee.Initialize()\n",
    "else:\n",
    "  print('Authenticating using Colab auth...')\n",
    "  # Authenticate to populate Application Default Credentials in the Colab VM.\n",
    "  google.colab.auth.authenticate_user()\n",
    "  # Create credentials needed for accessing Earth Engine.\n",
    "  credentials, auth_project_id = google.auth.default()\n",
    "  # Initialize Earth Engine.\n",
    "  ee.Initialize(credentials, project=COLAB_AUTH_FLOW_CLOUD_PROJECT_FOR_API_CALLS)\n",
    "print('\\N{check mark} Successfully initialized!')"
   ]
  },
  {
   "cell_type": "code",
   "execution_count": 3,
   "id": "852c5226",
   "metadata": {
    "colab": {
     "base_uri": "https://localhost:8080/"
    },
    "executionInfo": {
     "elapsed": 6912,
     "status": "ok",
     "timestamp": 1675247114538,
     "user": {
      "displayName": "Allan Aasbjerg Nielsen",
      "userId": "11830973270117739389"
     },
     "user_tz": -60
    },
    "id": "b29c0637",
    "outputId": "3573cc0d-7b1d-4e6e-cb36-fc6021ecf128"
   },
   "outputs": [
    {
     "name": "stdout",
     "output_type": "stream",
     "text": [
      "ee_jupyter (version 0.0.7) is installed.\n"
     ]
    }
   ],
   "source": [
    "# Install the ee_jupyter package\n",
    "import os\n",
    "try:\n",
    "  import ee_jupyter\n",
    "except ModuleNotFoundError:\n",
    "  print('ee_jupyter was not found. Installing now...')\n",
    "  result = os.system('pip -q install earthengine-jupyter')\n",
    "  import ee_jupyter\n",
    "print(f'ee_jupyter (version {ee_jupyter.__version__}) '\n",
    "        f'is installed.')"
   ]
  },
  {
   "cell_type": "code",
   "execution_count": 4,
   "id": "f35057db",
   "metadata": {
    "executionInfo": {
     "elapsed": 1332,
     "status": "ok",
     "timestamp": 1675247119346,
     "user": {
      "displayName": "Allan Aasbjerg Nielsen",
      "userId": "11830973270117739389"
     },
     "user_tz": -60
    },
    "id": "c16b45f1"
   },
   "outputs": [],
   "source": [
    "# Import other packages used in the tutorial\n",
    "%matplotlib inline\n",
    "import numpy as np\n",
    "import random, time\n",
    "import matplotlib.pyplot as plt\n",
    "from scipy.stats import norm, chi2\n",
    "\n",
    "from ee_jupyter.colab import set_colab_output_cell_height\n",
    "from ee_jupyter.ipyleaflet import Map\n",
    "from ee_jupyter.ipyleaflet import Inspector\n",
    "from pprint import pprint  # for pretty printing"
   ]
  },
  {
   "cell_type": "code",
   "execution_count": 5,
   "id": "47df0458",
   "metadata": {
    "executionInfo": {
     "elapsed": 282,
     "status": "ok",
     "timestamp": 1675247125336,
     "user": {
      "displayName": "Allan Aasbjerg Nielsen",
      "userId": "11830973270117739389"
     },
     "user_tz": -60
    },
    "id": "fb24733a"
   },
   "outputs": [],
   "source": [
    "#@title Routines from Part 1\n",
    "\n",
    "def trunc(values, dec = 3):\n",
    "    ''' Truncate a 1-D array to dec decimal places'''    \n",
    "    return np.trunc(values*10**dec)/(10**dec)\n",
    "    \n",
    "# Display an image in a one percent linear stretch\n",
    "def display_ls(image, map, name, centered = False):\n",
    "    bns = image.bandNames().length().getInfo()\n",
    "    if bns == 3:\n",
    "        image = image.rename('B1', 'B2', 'B3')\n",
    "        pb_99 = ['B1_p99', 'B2_p99', 'B3_p99']\n",
    "        pb_1 = ['B1_p1', 'B2_p1', 'B3_p1']\n",
    "        img = ee.Image.rgb(image.select('B1'), image.select('B2'), image.select('B3'))\n",
    "    else:\n",
    "        image = image.rename('B1')\n",
    "        pb_99 = ['B1_p99']\n",
    "        pb_1 = ['B1_p1']\n",
    "        img = image.select('B1')\n",
    "    percentiles = image.reduceRegion(ee.Reducer.percentile([1, 99]), maxPixels=1e11)\n",
    "    mx = percentiles.values(pb_99)\n",
    "    if centered:\n",
    "        mn = ee.Array(mx).multiply(-1).toList()\n",
    "    else:\n",
    "        mn = percentiles.values(pb_1)\n",
    "    map.addLayer(img, {'min': mn, 'max': mx}, name)\n",
    "    \n",
    "def collect(aoi, t1a ,t1b, t2a, t2b):\n",
    "    try:\n",
    "        im1 = ee.Image( ee.ImageCollection(\"COPERNICUS/S2_HARMONIZED\")\n",
    "                               .filterBounds(aoi)\n",
    "                               .filterDate(ee.Date(t1a), ee.Date(t1b))\n",
    "                               .filter(ee.Filter.contains(rightValue=aoi,leftField='.geo'))\n",
    "                               .sort('CLOUDY_PIXEL_PERCENTAGE')\n",
    "                               .first()\n",
    "                               .clip(aoi) )\n",
    "        im2 = ee.Image( ee.ImageCollection(\"COPERNICUS/S2_HARMONIZED\")\n",
    "                               .filterBounds(aoi)\n",
    "                               .filterDate(ee.Date(t2a), ee.Date(t2b))\n",
    "                               .filter(ee.Filter.contains(rightValue=aoi,leftField='.geo'))\n",
    "                               .sort('CLOUDY_PIXEL_PERCENTAGE')\n",
    "                               .first()\n",
    "                               .clip(aoi) )\n",
    "        timestamp = im1.date().format('E MMM dd HH:mm:ss YYYY')\n",
    "        print(timestamp.getInfo())\n",
    "        timestamp = im2.date().format('E MMM dd HH:mm:ss YYYY')\n",
    "        print(timestamp.getInfo())\n",
    "        return (im1, im2)\n",
    "    except Exception as e:\n",
    "        print('Error: %s'%e)\n",
    "\n",
    "def covarw(image, weights=None, scale=20, maxPixels=1e10):\n",
    "    '''Return the centered image and its weighted covariance matrix'''  \n",
    "    try:\n",
    "        geometry = image.geometry()\n",
    "        bandNames = image.bandNames()\n",
    "        N = bandNames.length()\n",
    "        if weights is None:\n",
    "            weights = image.constant(1)\n",
    "        weightsImage = image.multiply(ee.Image.constant(0)).add(weights)\n",
    "        means = image.addBands(weightsImage) \\\n",
    "                    .reduceRegion(ee.Reducer.mean().repeat(N).splitWeights(), \n",
    "                                scale = scale, \n",
    "                                maxPixels = maxPixels) \\\n",
    "                    .toArray() \\\n",
    "                    .project([1])\n",
    "        centered = image.toArray().subtract(means) \n",
    "        B1 = centered.bandNames().get(0)       \n",
    "        b1 = weights.bandNames().get(0)     \n",
    "        nPixels = ee.Number(centered.reduceRegion(ee.Reducer.count(), \n",
    "                                                scale=scale, \n",
    "                                                maxPixels=maxPixels).get(B1)) \n",
    "        sumWeights = ee.Number(weights.reduceRegion(ee.Reducer.sum(), \n",
    "                                                    geometry=geometry, \n",
    "                                                    scale=scale, \n",
    "                                                    maxPixels=maxPixels).get(b1))\n",
    "        covw = centered.multiply(weights.sqrt()) \\\n",
    "                    .toArray() \\\n",
    "                    .reduceRegion(ee.Reducer.centeredCovariance(), \n",
    "                                    geometry=geometry, \n",
    "                                    scale=scale,\n",
    "                                    maxPixels=maxPixels) \\\n",
    "                    .get('array')\n",
    "        covw = ee.Array(covw).multiply(nPixels).divide(sumWeights)\n",
    "        return (centered.arrayFlatten([bandNames]), covw)\n",
    "    except Exception as e:\n",
    "        print('Error: %s'%e)\n",
    "\n",
    "def corr(cov):\n",
    "    ''' transfrom covariance matrix to correlation matrix '''\n",
    "    # diagonal matrix of inverse sigmas\n",
    "    sInv = cov.matrixDiagonal().sqrt().matrixToDiag().matrixInverse()\n",
    "    # transform\n",
    "    corr = sInv.matrixMultiply(cov).matrixMultiply(sInv).getInfo()\n",
    "    # truncate\n",
    "    return [list(map(trunc, corr[i])) for i in range(len(corr))]   \n",
    "\n",
    "def geneiv(C,B):\n",
    "    '''Return the eignvalues and eigenvectors of the generalized eigenproblem\n",
    "                         C*X = lambda*B*X '''\n",
    "    try:                         \n",
    "        C = ee.Array(C)\n",
    "        B = ee.Array(B)  \n",
    "        #  Li = choldc(B)^-1\n",
    "        Li = ee.Array(B.matrixCholeskyDecomposition().get('L')).matrixInverse()\n",
    "        #  solve symmetric, ordinary eigenproblem Li*C*Li^T*x = lambda*x\n",
    "        Xa = Li.matrixMultiply(C) \\\n",
    "            .matrixMultiply(Li.matrixTranspose()) \\\n",
    "            .eigen()\n",
    "        #  eigenvalues as a row vector\n",
    "        lambdas = Xa.slice(1, 0, 1).matrixTranspose()\n",
    "        #  eigenvectors as columns\n",
    "        X = Xa.slice(1, 1).matrixTranspose()  \n",
    "        #  generalized eigenvectors as columns, Li^T*X\n",
    "        eigenvecs = Li.matrixTranspose().matrixMultiply(X)\n",
    "        return (lambdas, eigenvecs) \n",
    "    except Exception as e:\n",
    "        print('Error: %s'%e)        \n",
    "\n",
    "def mad_run(image1, image2, scale=20): \n",
    "    ''' The MAD transformation of two multiband images '''\n",
    "    try:\n",
    "        image = image1.addBands(image2) \n",
    "        nBands = image.bandNames().length().divide(2) \n",
    "        centeredImage,covarArray = covarw(image,scale=scale)\n",
    "        bNames = centeredImage.bandNames()\n",
    "        bNames1 = bNames.slice(0,nBands)\n",
    "        bNames2 = bNames.slice(nBands)\n",
    "        centeredImage1 = centeredImage.select(bNames1)\n",
    "        centeredImage2 = centeredImage.select(bNames2) \n",
    "        s11 = covarArray.slice(0, 0, nBands).slice(1, 0, nBands)\n",
    "        s22 = covarArray.slice(0, nBands).slice(1, nBands)\n",
    "        s12 = covarArray.slice(0, 0, nBands).slice(1, nBands)\n",
    "        s21 = covarArray.slice(0, nBands).slice(1, 0, nBands)      \n",
    "        c1 = s12.matrixMultiply(s22.matrixInverse()).matrixMultiply(s21)\n",
    "        b1 = s11\n",
    "        c2 = s21.matrixMultiply(s11.matrixInverse()).matrixMultiply(s12)\n",
    "        b2 = s22\n",
    "        #  solution of generalized eigenproblems     \n",
    "        lambdas, A = geneiv(c1, b1)\n",
    "        _,       B = geneiv(c2, b2) \n",
    "        rhos = lambdas.sqrt().project(ee.List([1]))\n",
    "        #  MAD variances    \n",
    "        sigma2s = rhos.subtract(1).multiply(-2).toList() \n",
    "        sigma2s = ee.Image.constant(sigma2s)\n",
    "        #  ensure sum of positive correlations between X and U is positive\n",
    "        tmp = s11.matrixDiagonal().sqrt()\n",
    "        ones = tmp.multiply(0).add(1)\n",
    "        tmp = ones.divide(tmp).matrixToDiag()\n",
    "        s = tmp.matrixMultiply(s11).matrixMultiply(A).reduce(ee.Reducer.sum(),[0]).transpose()\n",
    "        A = A.matrixMultiply(s.divide(s.abs()).matrixToDiag())\n",
    "        #  ensure positive correlation\n",
    "        tmp = A.transpose().matrixMultiply(s12).matrixMultiply(B).matrixDiagonal()\n",
    "        tmp = tmp.divide(tmp.abs()).matrixToDiag()\n",
    "        B = B.matrixMultiply(tmp)           \n",
    "        #  canonical and MAD variates as images\n",
    "        centeredImage1Array = centeredImage1.toArray().toArray(1)\n",
    "        centeredImage2Array = centeredImage2.toArray().toArray(1)\n",
    "        U = ee.Image(A.transpose()).matrixMultiply(centeredImage1Array) \\\n",
    "                    .arrayProject([0]) \\\n",
    "                    .arrayFlatten([bNames2]) \n",
    "        V = ee.Image(B.transpose()).matrixMultiply(centeredImage2Array) \\\n",
    "                    .arrayProject([0]) \\\n",
    "                    .arrayFlatten([bNames2]) \n",
    "        MAD = U.subtract(V)  \n",
    "        #  chi square image\n",
    "        Z = MAD.pow(2) \\\n",
    "               .divide(sigma2s) \\\n",
    "               .reduce(ee.Reducer.sum())                             \n",
    "        return (U, V, MAD, Z)    \n",
    "    except Exception as e:\n",
    "        print('Error: %s'%e)                                                   "
   ]
  },
  {
   "cell_type": "markdown",
   "id": "e1bfac16",
   "metadata": {
    "id": "ac3d8ee1"
   },
   "source": [
    "## Iterative re-weighting\n",
    " \n",
    "Let's imagine two images of the same scene acquired at different times\n",
    "under similar conditions, like our two Sentinel-2 images from Part 1, but for which no ground reflectance\n",
    "changes have occurred whatsoever. Then the only differences\n",
    "between them will be due to random effects like instrument noise\n",
    "and atmospheric fluctuation. In such a case we would expect that\n",
    "the histogram of any difference component that we generate will\n",
    "be very nearly Gaussian. In particular, the MAD variates, being as we have seen\n",
    "uncorrelated, should  follow a multivariate, zero mean normal\n",
    "distribution with diagonal covariance matrix. \n",
    "\n",
    "$$\n",
    "\\Sigma_M = \\pmatrix{\\sigma^2_{M_1} &0 &\\cdots &0 \\cr\n",
    "                            0 & \\sigma^2_{M_2} &\\cdots &0 \\cr\n",
    "                            \\vdots &\\vdots &\\cdots &0 \\cr\n",
    "                            0 & 0 &\\cdots &\\sigma^2_{M_N}}.\n",
    "$$\n",
    "\n",
    "\n",
    "Change observations\n",
    "would deviate more or less strongly from such a distribution.\n",
    "We might therefore expect an improvement in the sensitivity of the MAD\n",
    "transformation _if we can establish a better background\n",
    "of no change against which to detect change._ This can be done in an iteration scheme [(Nielsen 2007)](https://www2.imm.dtu.dk/pubdb/pubs/4695-full.html) in which, when calculating the statistics  for each successive iteration of the MAD transformation, observations are weighted in some appropriate fashion.\n",
    " \n",
    "Recall that the variable $Z$ represents the sum of the squares of the standardized MAD variates,\n",
    " \n",
    "$$\n",
    "Z = \\sum_{i=1}^N\\left({M_i\\over \\sigma_{M_i}}\\right)^2,\n",
    "$$\n",
    " \n",
    "where $\\sigma^2_{M_i}$ is given by Equation (8) in the first Tutorial,\n",
    "\n",
    "$$\n",
    "\\sigma_{M_i}^2={\\rm var}(U_i-V_i) = 2(1-\\rho_i),\\quad i=1\\dots N,\n",
    "$$\n",
    "\n",
    "and $\\rho_i = {\\rm cov}(U_i,V_i)$. Then, since the no-change observations are expected to be\n",
    "normally distributed and uncorrelated, basic statistical theory tells us \n",
    "that the values of $Z$ corresponding to no-change observations should be _chi-square \n",
    "distributed_ with $N$ degrees of freedom. \n",
    "Let's check to what extent this is true for the MAD variates that we have determined so far for the Landkreis Olpe scene."
   ]
  },
  {
   "cell_type": "code",
   "execution_count": 7,
   "id": "4be3d71f",
   "metadata": {
    "colab": {
     "base_uri": "https://localhost:8080/",
     "height": 303
    },
    "executionInfo": {
     "elapsed": 8207,
     "status": "ok",
     "timestamp": 1675247151109,
     "user": {
      "displayName": "Allan Aasbjerg Nielsen",
      "userId": "11830973270117739389"
     },
     "user_tz": -60
    },
    "id": "507d8855",
    "outputId": "1354ce13-fd12-49e7-8a35-884f91829e92"
   },
   "outputs": [
    {
     "name": "stdout",
     "output_type": "stream",
     "text": [
      "Sun Jun 13 10:36:49 2021\n",
      "Thu Jun 16 10:46:56 2022\n"
     ]
    },
    {
     "data": {
      "image/png": "[encoded data removed]",
      "text/plain": [
       "<Figure size 640x480 with 1 Axes>"
      ]
     },
     "metadata": {},
     "output_type": "display_data"
    }
   ],
   "source": [
    "# Landkreis Olpe\n",
    "aois = ee.FeatureCollection('projects/ee-mortcanty/assets/dvg1krs_nw').geometry()\n",
    "aoi = ee.Geometry(aois.geometries().get(26))\n",
    "\n",
    "visirbands = ['B2', 'B3', 'B4', 'B8', 'B11', 'B12']\n",
    "visbands = ['B2', 'B3', 'B4']\n",
    "rededgebands = ['B5', 'B6', 'B7', 'B8A']\n",
    "\n",
    "# Collect the two Sentinel-2 images\n",
    "im1, im2 = collect(aoi, '2021-06-01', '2021-06-30', '2022-06-01', '2022-06-30')\n",
    "\n",
    "# Re-run MAD\n",
    "U, V, MAD, Z = mad_run(im1.select(visirbands), im2.select(visirbands), scale=20)\n",
    "\n",
    "# Plot histogram of Z\n",
    "hist = Z.reduceRegion(ee.Reducer.fixedHistogram(0, 50, 500), aoi, scale=20).get('sum').getInfo()\n",
    "a = np.array(hist)\n",
    "x = a[:, 0]                # array of bucket edge positions\n",
    "y = a[:, 1]/np.sum(a[:, 1]) # normalized array of bucket contents\n",
    "plt.plot(x, y, '.', label='data')\n",
    "# The chi square distribution with 6 degrees of freedom\n",
    "plt.plot(x, chi2.pdf(x, 6)/10, '-r', label = 'Chi square')\n",
    "plt.legend()\n",
    "plt.show()"
   ]
  },
  {
   "cell_type": "markdown",
   "id": "9adf096b",
   "metadata": {
    "id": "2b18c83e"
   },
   "source": [
    "Clearly not the case at all. Which is to be expected, since there are many change pixels in the scene and we have made no attempt to discriminate them. \n",
    "\n",
    "In fact it is easy to show that $Z$ is a _likelihood ratio test statistic_ for change, see  the discussion of statistical hypothesis testing in the [SAR Tutorial](https://developers.google.com/earth-engine/tutorials/community/detecting-changes-in-sentinel-1-imagery-pt-2) and the discussion on pp.390-391 in [Canty (2019)](https://www.taylorfrancis.com/books/image-analysis-classification-change-detection-remote-sensing-morton-john-canty/10.1201/9780429464348). Under the hypothesis that no change has occurred, the test statistic $Z$ will follow, as we said, a chi square distribution. The so-called $p$-*value* is a measure of the extent to which this is true. For an observation $z$ of the test statistic, the $p$-value is the probability that any sample drawn from the chi-square distribution could be as large as $z$ or larger. This is given by\n",
    " \n",
    "$$\n",
    "p(z) = 1-P_{\\chi^2;N}(z),\\quad 0 < p(z) < 1,\n",
    "$$\n",
    " \n",
    "where $P_{\\chi^2;N}(z)$ is the cumulative chi-square probability distribution, i.e., the area under the chi-square distribution up to the value $z$, and $p(z)$ is its complement.\n",
    "All $p$-values are equally likely if no change has occurred at that pixel location,$^\\star$ but __change will always be associated with small $p$-values__.  Therefore in order to eliminate the change observations from the MAD transformation, the $p$-value itself can be used to weight each pixel before re-sampling the images to determine the statistics for the next iteration. (This was the motivation for coding a _weighted_ covariance matrix routine in Part 1 earlier). The influence of the change observations on the MAD transformation is thereby gradually reduced. Iteration  continues until some stopping criterion is met, such as lack of significant change in the canonical correlations $\\rho_i$. \n",
    "The whole procedure constitutes the *iMAD algorithm*. It is implemented in the GEE Python API in the following cell:\n",
    "\n",
    "$\\star$ Thus the $p$-value is *not* a no-change probability, a common misapprehension! See again the [SAR Tutorial](https://developers.google.com/earth-engine/tutorials/community/detecting-changes-in-sentinel-1-imagery-pt-2).\n",
    "\n"
   ]
  },
  {
   "cell_type": "code",
   "execution_count": 8,
   "id": "cbcdaad1",
   "metadata": {
    "cellView": "form",
    "executionInfo": {
     "elapsed": 232,
     "status": "ok",
     "timestamp": 1675247193084,
     "user": {
      "displayName": "Allan Aasbjerg Nielsen",
      "userId": "11830973270117739389"
     },
     "user_tz": -60
    },
    "id": "41731f01"
   },
   "outputs": [],
   "source": [
    "#@title The iMAD code\n",
    "def chi2cdf(Z,df):\n",
    "    '''Chi square cumulative distribution function with df degrees of freedom'''\n",
    "    return ee.Image(Z.divide(2)).gammainc(ee.Number(df).divide(2))\n",
    "\n",
    "def imad(current,prev):\n",
    "    '''Iterator function for iMAD'''\n",
    "    done =  ee.Number(ee.Dictionary(prev).get('done'))\n",
    "    return ee.Algorithms.If(done, prev, imad1(current, prev))\n",
    "\n",
    "def imad1(current,prev): \n",
    "    ''' Iteratively re-weighted MAD '''\n",
    "    image = ee.Image(ee.Dictionary(prev).get('image'))\n",
    "    Z = ee.Image(ee.Dictionary(prev).get('Z'))      \n",
    "    allrhos = ee.List(ee.Dictionary(prev).get('allrhos'))  \n",
    "    nBands = image.bandNames().length().divide(2) \n",
    "    weights = chi2cdf(Z,nBands).subtract(1).multiply(-1)\n",
    "    scale = ee.Number(ee.Dictionary(prev).get('scale'))\n",
    "    niter = ee.Number(ee.Dictionary(prev).get('niter'))\n",
    "    # weighted stacked image and weighted covariance matrix\n",
    "    centeredImage,covarArray = covarw(image, weights, scale)\n",
    "    bNames = centeredImage.bandNames()\n",
    "    bNames1 = bNames.slice(0, nBands)\n",
    "    bNames2 = bNames.slice(nBands)\n",
    "    centeredImage1 = centeredImage.select(bNames1)\n",
    "    centeredImage2 = centeredImage.select(bNames2) \n",
    "    s11 = covarArray.slice(0, 0, nBands).slice(1, 0, nBands)\n",
    "    s22 = covarArray.slice(0, nBands).slice(1, nBands)\n",
    "    s12 = covarArray.slice(0, 0, nBands).slice(1, nBands)\n",
    "    s21 = covarArray.slice(0, nBands).slice(1, 0, nBands)      \n",
    "    c1 = s12.matrixMultiply(s22.matrixInverse()).matrixMultiply(s21)\n",
    "    b1 = s11\n",
    "    c2 = s21.matrixMultiply(s11.matrixInverse()).matrixMultiply(s12)\n",
    "    b2 = s22\n",
    "    # solution of generalized eigenproblems     \n",
    "    lambdas, A = geneiv(c1, b1)\n",
    "    _, B       = geneiv(c2, b2) \n",
    "    rhos = lambdas.sqrt().project(ee.List([1]))\n",
    "    # test for convergence    \n",
    "    lastrhos = ee.Array(allrhos.get(-1))\n",
    "    done = rhos.subtract(lastrhos) \\\n",
    "               .abs() \\\n",
    "               .reduce(ee.Reducer.max(),ee.List([0])) \\\n",
    "               .lt(ee.Number(0.0001)) \\\n",
    "               .toList() \\\n",
    "               .get(0)       \n",
    "    allrhos = allrhos.cat([rhos.toList()]) \n",
    "    # MAD variances    \n",
    "    sigma2s = rhos.subtract(1).multiply(-2).toList() \n",
    "    sigma2s = ee.Image.constant(sigma2s)\n",
    "    # ensure sum of positive correlations between X and U is positive\n",
    "    tmp = s11.matrixDiagonal().sqrt()\n",
    "    ones = tmp.multiply(0).add(1)\n",
    "    tmp = ones.divide(tmp).matrixToDiag()\n",
    "    s = tmp.matrixMultiply(s11).matrixMultiply(A).reduce(ee.Reducer.sum(),[0]).transpose()\n",
    "    A = A.matrixMultiply(s.divide(s.abs()).matrixToDiag())\n",
    "    # ensure positive correlation\n",
    "    tmp = A.transpose().matrixMultiply(s12).matrixMultiply(B).matrixDiagonal()\n",
    "    tmp = tmp.divide(tmp.abs()).matrixToDiag()\n",
    "    B = B.matrixMultiply(tmp)           \n",
    "    # canonical and MAD variates \n",
    "    centeredImage1Array = centeredImage1.toArray().toArray(1)\n",
    "    centeredImage2Array = centeredImage2.toArray().toArray(1)\n",
    "    U = ee.Image(A.transpose()).matrixMultiply(centeredImage1Array) \\\n",
    "                   .arrayProject([0]) \\\n",
    "                   .arrayFlatten([bNames1])\n",
    "    V = ee.Image(B.transpose()).matrixMultiply(centeredImage2Array) \\\n",
    "                   .arrayProject([0]) \\\n",
    "                   .arrayFlatten([bNames2])   \n",
    "    iMAD = U.subtract(V)\n",
    "    # chi square image\n",
    "    Z = iMAD.pow(2) \\\n",
    "              .divide(sigma2s) \\\n",
    "              .reduce(ee.Reducer.sum())   \n",
    "    return ee.Dictionary({'done': done, 'scale': scale, 'niter': niter.add(1),\n",
    "                          'image': image, 'allrhos': allrhos, 'Z': Z, 'iMAD': iMAD})"
   ]
  },
  {
   "cell_type": "markdown",
   "id": "50da8871",
   "metadata": {
    "id": "b1ac1047"
   },
   "source": [
    "Here is a routine to run the iMAD algorithm as an export task, avoiding memory and time limitations in the active runtime:"
   ]
  },
  {
   "cell_type": "code",
   "execution_count": 9,
   "id": "a49bba67",
   "metadata": {
    "executionInfo": {
     "elapsed": 219,
     "status": "ok",
     "timestamp": 1675247197366,
     "user": {
      "displayName": "Allan Aasbjerg Nielsen",
      "userId": "11830973270117739389"
     },
     "user_tz": -60
    },
    "id": "b8a9ea23"
   },
   "outputs": [],
   "source": [
    "#@title Run iMAD algorithm as export task\n",
    "def run_imad(aoi, image1, image2, assetFN, scale=20, maxiter=100):\n",
    "    try: \n",
    "        N = image1.bandNames().length().getInfo()\n",
    "        imadnames = ['iMAD'+str(i+1) for i in range(N)]\n",
    "        imadnames.append('Z')\n",
    "        # maximum iterations\n",
    "        inputlist = ee.List.sequence(1, maxiter)\n",
    "        first = ee.Dictionary({'done':0,\n",
    "                            'scale': scale,\n",
    "                            'niter': ee.Number(0),\n",
    "                            'image': image1.addBands(image2),\n",
    "                            'allrhos': [ee.List.sequence(1, N)],\n",
    "                            'Z': ee.Image.constant(0),\n",
    "                            'iMAD': ee.Image.constant(0)}) \n",
    "        # iteration\n",
    "        result = ee.Dictionary(inputlist.iterate(imad, first)) \n",
    "        # retrieve results      \n",
    "        iMAD = ee.Image(result.get('iMAD')).clip(aoi) \n",
    "        rhos = ee.String.encodeJSON(ee.List(result.get('allrhos')).get(-1))\n",
    "        Z = ee.Image(result.get('Z'))\n",
    "        niter = ee.Number(result.get('niter'))\n",
    "        # export iMAD and Z as a singe image, including rhos and number of iterations in properties\n",
    "        iMAD_export = ee.Image.cat(iMAD, Z).rename(imadnames).set('rhos', rhos, 'niter', niter)\n",
    "        assetId = EXPORT_PATH + assetFN\n",
    "        assexport = ee.batch.Export.image.toAsset(iMAD_export,\n",
    "                        description = 'assetExportTask',\n",
    "                        assetId = assetId, scale = scale, maxPixels=1e10)\n",
    "        assexport.start()\n",
    "        print('Exporting iMAD to %s\\n task id: %s'%(assetId, str(assexport.id)))  \n",
    "    except Exception as e:\n",
    "        print('Error: %s'%e)        "
   ]
  },
  {
   "cell_type": "markdown",
   "id": "0c50b992",
   "metadata": {
    "id": "8bec962f"
   },
   "source": [
    "and here we run it on our two images:"
   ]
  },
  {
   "cell_type": "code",
   "execution_count": null,
   "id": "9d3616dd",
   "metadata": {
    "colab": {
     "base_uri": "https://localhost:8080/"
    },
    "executionInfo": {
     "elapsed": 3028,
     "status": "ok",
     "timestamp": 1675247205986,
     "user": {
      "displayName": "Allan Aasbjerg Nielsen",
      "userId": "11830973270117739389"
     },
     "user_tz": -60
    },
    "id": "acf2272d",
    "outputId": "1a55ffd8-e2a2-4dfb-cf74-509c79c6be0b"
   },
   "outputs": [],
   "source": [
    "run_imad(aoi, im1.select(visirbands), im2.select(visirbands), 'LankreisOlpe')"
   ]
  },
  {
   "cell_type": "markdown",
   "id": "21061d67",
   "metadata": {
    "id": "18b758ca"
   },
   "source": [
    "After the export finishes, the number of iterations and the final canonical correlations can be read from properties of the exported image:"
   ]
  },
  {
   "cell_type": "code",
   "execution_count": 10,
   "id": "a67a360d",
   "metadata": {
    "colab": {
     "base_uri": "https://localhost:8080/"
    },
    "executionInfo": {
     "elapsed": 1131,
     "status": "ok",
     "timestamp": 1675247215029,
     "user": {
      "displayName": "Allan Aasbjerg Nielsen",
      "userId": "11830973270117739389"
     },
     "user_tz": -60
    },
    "id": "f96b6868",
    "outputId": "45f5df4d-580d-4106-8224-35e61f4fdda0"
   },
   "outputs": [
    {
     "name": "stdout",
     "output_type": "stream",
     "text": [
      "iteratons: 28\n",
      "canonical correlations: [0.9981250148930757,0.981830899543524,0.9594475307386057,0.8816514687632091,0.8470795072420434,0.6869925605157227]\n"
     ]
    }
   ],
   "source": [
    "im_imad = ee.Image(EXPORT_PATH + 'LandkreisOlpe').select(0, 1, 2, 3, 4, 5)\n",
    "im_z = ee.Image(EXPORT_PATH + 'LandkreisOlpe').select(6).rename('Z')\n",
    "niter = im_imad.get('niter').getInfo()\n",
    "rhos = ee.List(im_imad.get('rhos')).getInfo()\n",
    "print('iteratons: %i'%niter)\n",
    "print('canonical correlations: %s'%rhos)"
   ]
  },
  {
   "cell_type": "markdown",
   "id": "9b71f923",
   "metadata": {
    "id": "21327452"
   },
   "source": [
    "We got convergence after 28 iterations, and the correlations are very close to one for the first canonical variates. It might now be interesting to check if the test statistic $Z$ has the expected chi square distribution when evaluated for the no change pixels. To to eliminate the changes at the 10% significance level  we set a lower threshold of $\\alpha = 0.1$ on the $p$-values (recall: small p-values signify change)."
   ]
  },
  {
   "cell_type": "code",
   "execution_count": 17,
   "id": "754fd67b",
   "metadata": {
    "colab": {
     "base_uri": "https://localhost:8080/",
     "height": 265
    },
    "executionInfo": {
     "elapsed": 708,
     "status": "ok",
     "timestamp": 1675247221839,
     "user": {
      "displayName": "Allan Aasbjerg Nielsen",
      "userId": "11830973270117739389"
     },
     "user_tz": -60
    },
    "id": "87246cb2",
    "outputId": "d92e6aaa-2833-4304-9db2-754ea29a6afb"
   },
   "outputs": [
    {
     "data": {
      "image/png": "[encoded data removed]",
      "text/plain": [
       "<Figure size 640x480 with 1 Axes>"
      ]
     },
     "metadata": {},
     "output_type": "display_data"
    }
   ],
   "source": [
    "scale = 20\n",
    "# p-values image\n",
    "pval = chi2cdf(im_z, 6).subtract(1).multiply(-1).rename('pval')\n",
    "# no-change mask (use p-values greater than 0.1)\n",
    "noChangeMask = pval.gt(0.1)\n",
    "hist = im_z.updateMask(noChangeMask).reduceRegion(ee.Reducer \\\n",
    "           .fixedHistogram(0, 50, 500), aoi, scale = scale, maxPixels = 1e11) \\\n",
    "           .get('Z').getInfo()\n",
    "a = np.array(hist)\n",
    "x = a[:, 0]                 # array of bucket edge positions\n",
    "y = a[:, 1]/np.sum(a[:, 1]) # normalized array of bucket contents\n",
    "plt.plot(x, y, '.', label = 'data')\n",
    "plt.plot(x, chi2.pdf(x, 6)/10, '-r',label = 'chi2(6)')\n",
    "plt.legend()\n",
    "plt.show()"
   ]
  },
  {
   "cell_type": "markdown",
   "id": "8e13d7bd",
   "metadata": {
    "id": "9b287166"
   },
   "source": [
    "Agreement is not perfect but the plot is certainly closer to the ideal chi square distribution after iteration than after the single MAD transformation. So let's display the _iMAD_ image:"
   ]
  },
  {
   "cell_type": "code",
   "execution_count": 18,
   "id": "0e5a6d31",
   "metadata": {
    "colab": {
     "base_uri": "https://localhost:8080/",
     "height": 441,
     "referenced_widgets": [
      "623add0f72474ae59f25397cbc4d57e1",
      "b8a57872aed14e779dbd1101d8fe7d90",
      "bc25ab01e74349b8930459c779c1f551",
      "c149903cdb2b439f9b4ff7d88c6aea47",
      "6a58a6963c5d47d3ad8d767610f19ed9",
      "66500a8fb8d64d6584410f178fc1ca22",
      "d65e0105e23c4cee919790d1b336df2c",
      "aca9a0888cd64260820dff72b3ad4bad",
      "860272dd32d64cf8a22b4b79a767ba33",
      "3566d321c1b943c287e5feb608dd4566",
      "676289162fbd414686d31f68c293e223",
      "4eea79feb7c44951b35d461f5c5b62a9"
     ]
    },
    "executionInfo": {
     "elapsed": 9242,
     "status": "ok",
     "timestamp": 1675247244813,
     "user": {
      "displayName": "Allan Aasbjerg Nielsen",
      "userId": "11830973270117739389"
     },
     "user_tz": -60
    },
    "id": "07905ac2",
    "outputId": "fb4c70e8-c301-4b22-cf83-7db2d75bb8d5"
   },
   "outputs": [
    {
     "data": {
      "application/vnd.jupyter.widget-view+json": {
       "model_id": "ebf22ee1cecb44e38486024209ae1cb1",
       "version_major": 2,
       "version_minor": 0
      },
      "text/plain": [
       "Map(center=[51.08617675675536, 7.976478425048881], controls=(ZoomControl(options=['position', 'zoom_in_text', …"
      ]
     },
     "execution_count": 18,
     "metadata": {},
     "output_type": "execute_result"
    }
   ],
   "source": [
    "location = aoi.centroid().coordinates().getInfo()[::-1]\n",
    "M1 = Map(**{'center': location, 'zoom': 11})\n",
    "display_ls(im1.select(visbands), M1, 'im1')\n",
    "display_ls(im2.select(visbands), M1, 'im2')\n",
    "display_ls(im_imad.select('iMAD1', 'iMAD2', 'iMAD3'), M1, 'iMAD123', True)\n",
    "\n",
    "M1"
   ]
  },
  {
   "cell_type": "markdown",
   "id": "aebc78ac",
   "metadata": {
    "id": "51b30270"
   },
   "source": [
    "Gray pixels point to no change, while the wide range of color in the iMAD variates indicates a good discrimination of the types of change occuring. \n",
    "\n",
    "**Aside:** We are of course primarily interested in extracting the changes in the iMAD image, especially those which mark clear cutting, and we'll come back to them in a moment. However, now that what we think to be the no change pixels have been isolated, we could also perform a regression analysis on them to determine how well the radiometric parameters of the two Sentinel-2 acquisitions compare. If surface rather than top of atmosphere (TOA) reflectance images had been used for the example, we would expect a good match, i.e., a slope close to one and an intercept close to zero at all spectral wavelengths. In general for uncalibrated images  this will not be the case. In that event the regression coefficients can be applied to normalize one image (the target, say) to the other (the reference). This might be desirable for tracing features such as NDVI indices over a time series of acquisitions when the images have not been reduced to surface reflectances, see e.g. [Gan et al. (2021)](https://ieeexplore.ieee.org/document/9392311), or indeed for *harmonizing* the data from two different sensors of the same family such as Landsat 7 with Landsat 8. These topics will be the subject of Part 3.\n",
    "\n",
    "But now let's look in more detail at the changes in the Landkreis Olpe scene."
   ]
  },
  {
   "cell_type": "markdown",
   "id": "99616ab1",
   "metadata": {
    "id": "46d553ab"
   },
   "source": [
    "### Clustering\n",
    "In order to better interpret the change image, we can attempt an unsupervised classification. We'll see if we can get away with an ordinary K-means clusterer and a simple Euclidean distance measure for the complete iMAD image. We choose the number of clusters as 4 and leave all 12(!) other input parameters of the *wekaKmeans()* clusterer at their default values. We will also first standardize the iMAD image by dividing by the square root of the variances of the no change pixels, $\\sigma_i = \\sqrt{2(1-\\rho_i)},\\ i=1\\dots 6$. This will favour a more compact no change cluster."
   ]
  },
  {
   "cell_type": "code",
   "execution_count": 19,
   "id": "2b57369e",
   "metadata": {
    "executionInfo": {
     "elapsed": 373,
     "status": "ok",
     "timestamp": 1675247289026,
     "user": {
      "displayName": "Allan Aasbjerg Nielsen",
      "userId": "11830973270117739389"
     },
     "user_tz": -60
    },
    "id": "32abfe1e"
   },
   "outputs": [],
   "source": [
    "# standardize to no change sigmas\n",
    "sigma2s = ee.Image.constant([2*(1-x) for x in eval(rhos)])\n",
    "im_imadstd = im_imad.divide(sigma2s.sqrt())\n",
    "# collect training data\n",
    "training = im_imadstd.sample(region=aoi, scale=scale, numPixels=50000)\n",
    "# train the clusterer\n",
    "clusterer = ee.Clusterer.wekaKMeans(4).train(training)\n",
    "# classify the standardized imad image\n",
    "result = im_imadstd.cluster(clusterer)"
   ]
  },
  {
   "cell_type": "markdown",
   "id": "22554e72",
   "metadata": {},
   "source": [
    "Here we display the four clusters overlayed onto the two Sentinel 2 images:"
   ]
  },
  {
   "cell_type": "code",
   "execution_count": 20,
   "id": "a0ba56eb",
   "metadata": {
    "colab": {
     "base_uri": "https://localhost:8080/",
     "height": 441,
     "referenced_widgets": [
      "8a991587a56f4da6b1eeb5c4b99cf779",
      "4f7f062c3e474abd8eb2ab0bb5cb016f",
      "6997b44c318c461ca2a6cb14e3308cb9",
      "8262536f41f747fb9b538a265ae1b6c2",
      "76b6c4b07f9a47cfb1751d5531d6ec0c",
      "9246e3f52ba0425c8a5f6d119c78524c",
      "f5423553800b4485914bc8b1ac049305",
      "6d87eb338d7b4381a02c72ee0d7df273",
      "ffa6d59650ce48d7b085f16d3d4ad4ea",
      "967d089c76374cb797d5eaf693b71a6b",
      "bebd0d1c39bc4278a838aa89ae98d816",
      "fa0d75d7ba0f47bfb0db679042881ec5",
      "eb0658f06d524220a192dfd19fec319b",
      "fbaa3d78dca645009cc903ccf6cb5f9c",
      "73b71dd44df143f5991be9b0457087a4"
     ]
    },
    "executionInfo": {
     "elapsed": 15334,
     "status": "ok",
     "timestamp": 1675247324325,
     "user": {
      "displayName": "Allan Aasbjerg Nielsen",
      "userId": "11830973270117739389"
     },
     "user_tz": -60
    },
    "id": "a176863a",
    "outputId": "1168213b-2199-4468-af98-ca352fcff850"
   },
   "outputs": [
    {
     "data": {
      "application/vnd.jupyter.widget-view+json": {
       "model_id": "f820534dbe3342c9b4c83d71f30349bb",
       "version_major": 2,
       "version_minor": 0
      },
      "text/plain": [
       "Map(center=[51.08617675675536, 7.976478425048881], controls=(ZoomControl(options=['position', 'zoom_in_text', …"
      ]
     },
     "execution_count": 20,
     "metadata": {},
     "output_type": "execute_result"
    }
   ],
   "source": [
    "M2 = Map(**{'center': location, 'zoom':13})\n",
    "display_ls(im1.select(visbands),M2,'im1')\n",
    "display_ls(im2.select(visbands),M2,'im2')\n",
    "cluster0 = result.updateMask(result.eq(0))\n",
    "cluster1 = result.updateMask(result.eq(1))\n",
    "cluster2 = result.updateMask(result.eq(2))\n",
    "cluster3 = result.updateMask(result.eq(3))\n",
    "palette = ['red', 'yellow', 'blue', 'black']\n",
    "M2.addLayer(cluster0, {'min': 0, 'max': 3, 'palette': palette}, 'new clearcuts')\n",
    "M2.addLayer(cluster1, {'min': 0, 'max': 3, 'palette': palette}, 'agriculture')\n",
    "M2.addLayer(cluster2, {'min': 0, 'max': 3, 'palette': palette}, 'prior clearcuts')\n",
    "M2.addLayer(cluster3, {'min': 0, 'max': 3, 'palette': palette}, 'no change')\n",
    "\n",
    "M2"
   ]
  },
  {
   "cell_type": "markdown",
   "id": "4d500eb8",
   "metadata": {
    "id": "1a3bf5d2"
   },
   "source": [
    "### Interpretation\n",
    "**Cluster 0** (colored red in the preceding map) appears to classify the clear cuts occurring over the observation period quite well. \n",
    "\n",
    "**Cluster 1** (yellow) marks changes in the agricultural fields and pastures. \n",
    "\n",
    "**Cluster 2** (blue) is more ambiguous but can be mainly associated with changes in previously cleared forest (seasonal or new growth)  as well as with some changes in agricultural fields and in built up areas. \n",
    "\n",
    "**Cluster 3** (black) is no change:"
   ]
  },
  {
   "cell_type": "markdown",
   "id": "a98f12ec",
   "metadata": {
    "id": "e9b0cc1c"
   },
   "source": [
    "### Comparison with Dynamic World\n",
    "Google's recently released [Dynamic World](https://developers.google.com/earth-engine/tutorials/community/introduction-to-dynamic-world-pt-1) dataset contains near real-time land use land cover predictions created from Sentinel-2 imagery for nine land use land cover classes including forest (trees class). It is interesting to compare the loss in forest cover as determined from our iMAD/Cluster pipeline with the Dynamic World tree map for the comparable time period. In the code snippet below, we gather an image collection covering our observation period and simply mosaic them. The _mosaic()_ method composites the overlapping images according to their order in the collection (last on top), which is what we want because the changes in tree cover are occurring over the entire period. \n",
    "\n",
    "Generally the agreement is excellent, although the iMAD change map registers a number of small area clear cuts missed in the dynamic world map: "
   ]
  },
  {
   "cell_type": "code",
   "execution_count": 21,
   "id": "b2ab45c3",
   "metadata": {
    "colab": {
     "base_uri": "https://localhost:8080/",
     "height": 441,
     "referenced_widgets": [
      "d16060bbed964b57940bb1a677f5b191",
      "75340b62d8164bc6ad18732512f48c58",
      "8727930483c34b6bb4549b13087d3545",
      "d9dc610dfafb479bb0a0fef4e1374bb1",
      "348c471f0d564b2fa151910cb37766fb",
      "535cec482db04ba28494e644787d7154",
      "cb223a6edddc46d19aa2ef79605be5a9",
      "b86b838cdcd7442691bc316aea0c58f7",
      "46110cb46e304326b2b5072a44e7dda4",
      "23eb6f0f108d4146a143e37922805611",
      "4237da908692457aa401d1e3bd2367fc",
      "47ee73522d0d44a2979a9d6084a3e123",
      "4423bc20413341a08a6cd7ef3255dc65"
     ]
    },
    "executionInfo": {
     "elapsed": 19469,
     "status": "ok",
     "timestamp": 1675247397978,
     "user": {
      "displayName": "Allan Aasbjerg Nielsen",
      "userId": "11830973270117739389"
     },
     "user_tz": -60
    },
    "id": "cf7c0028",
    "outputId": "88f0890f-ccd3-417d-9748-04c6378eb49a"
   },
   "outputs": [
    {
     "data": {
      "application/vnd.jupyter.widget-view+json": {
       "model_id": "19b3d50192cb4d05a1556dd2445202df",
       "version_major": 2,
       "version_minor": 0
      },
      "text/plain": [
       "Map(center=[51.08617675675536, 7.976478425048881], controls=(ZoomControl(options=['position', 'zoom_in_text', …"
      ]
     },
     "execution_count": 21,
     "metadata": {},
     "output_type": "execute_result"
    }
   ],
   "source": [
    "dyn = ee.ImageCollection('GOOGLE/DYNAMICWORLD/V1') \\\n",
    "                    .filterDate('2021-06-01', '2022-06-30') \\\n",
    "                    .filterBounds(aoi) \\\n",
    "                    .select('label').mosaic()\n",
    "# 'trees' class = class 1\n",
    "dw = dyn.clip(aoi).updateMask(dyn.eq(1))\n",
    "\n",
    "M3 = Map(**{'center':location, 'zoom':13})\n",
    "display_ls(im1.select(visbands), M3, 'im1')\n",
    "display_ls(im2.select(visbands), M3, 'im2')\n",
    "M3.addLayer(dw, {'min': 0, 'max': 1, 'palette': ['black', 'green']}, 'dynamic world')\n",
    "M3.addLayer(cluster0, {'min': 0, 'max': 3, 'palette': palette}, 'new clearcuts')\n",
    "\n",
    "M3"
   ]
  },
  {
   "cell_type": "markdown",
   "id": "13b0e6f2",
   "metadata": {},
   "source": [
    "### Simple Difference Revisited\n",
    "In fact K-means clustering of the simple difference image also gives a fairly good discrimination of the clear cuts. This is because the NIR band is especially sensitive to all vegetation changes, and is also only weakly correlated with the other 5 bands. However close inspection indicates that there are many more false positives, especially in agricultural fields as well as in the reservoir."
   ]
  },
  {
   "cell_type": "code",
   "execution_count": 17,
   "id": "1513b02f",
   "metadata": {},
   "outputs": [
    {
     "data": {
      "application/vnd.jupyter.widget-view+json": {
       "model_id": "07e8ea0adc98460d9b0237eb7bf4e11b",
       "version_major": 2,
       "version_minor": 0
      },
      "text/plain": [
       "Map(center=[51.08617675675536, 7.976478425048881], controls=(ZoomControl(options=['position', 'zoom_in_text', …"
      ]
     },
     "execution_count": 17,
     "metadata": {},
     "output_type": "execute_result"
    }
   ],
   "source": [
    "M4 = Map(**{'center': location, 'zoom': 13})\n",
    "diff = im1.subtract(im2).select(visirbands)\n",
    "training = diff.sample(region=aoi, scale=20, numPixels=50000)\n",
    "clusterer = ee.Clusterer.wekaKMeans(4).train(training)\n",
    "result1 = diff.cluster(clusterer)\n",
    "cluster0d = result1.updateMask(result1.eq(0))\n",
    "\n",
    "display_ls(im1.select(visbands),M4,'im1')\n",
    "display_ls(im2.select(visbands),M4,'im2')\n",
    "M4.addLayer(cluster0d, {'min': 0, 'max': 3, \n",
    "                    'palette': ['orange', 'yellow', 'blue', 'black']}, 'clearcuts (diff)')\n",
    "M4.addLayer(cluster0, {'min': 0, 'max': 3, 'palette': palette}, 'clearcuts (iMAD)')\n",
    "\n",
    "M4"
   ]
  },
  {
   "cell_type": "markdown",
   "id": "1d66e00a",
   "metadata": {
    "id": "c9ed80f9"
   },
   "source": [
    "### Deforestation Quantified\n",
    "From the clear cuts class number 0 and using the _pixelArea()_ function we can extract the total area cleared between June, 2021 and June, 2022 within the Landkreis Olpe, whereby we exclude small areas covering less than 0.2 hectare:"
   ]
  },
  {
   "cell_type": "code",
   "execution_count": 18,
   "id": "0559159b",
   "metadata": {
    "colab": {
     "base_uri": "https://localhost:8080/"
    },
    "executionInfo": {
     "elapsed": 1299,
     "status": "ok",
     "timestamp": 1675247450374,
     "user": {
      "displayName": "Allan Aasbjerg Nielsen",
      "userId": "11830973270117739389"
     },
     "user_tz": -60
    },
    "id": "d4801ac5",
    "outputId": "b2dcdb1f-853f-4496-935b-098cb0914471"
   },
   "outputs": [
    {
     "name": "stdout",
     "output_type": "stream",
     "text": [
      "3726.9415229785836 hectare\n"
     ]
    }
   ],
   "source": [
    "# minimum contiguous area requirement (0.2 hectare)\n",
    "contArea = cluster0.connectedPixelCount().selfMask()\n",
    "# 0.2 hectare = 5 pixels @ 400 sq. meters\n",
    "mp = contArea.gte(ee.Number(5)).selfMask()\n",
    "# clear cuts in hectare\n",
    "pixelArea = mp.multiply(ee.Image.pixelArea()).divide(10000)\n",
    "clearcutArea = pixelArea.reduceRegion(\n",
    "                    reducer=ee.Reducer.sum(),\n",
    "                    geometry=aoi,\n",
    "                    scale=scale,\n",
    "                    maxPixels=1e11)\n",
    "ccA = clearcutArea.get('cluster').getInfo()\n",
    "print(ccA, 'hectare')"
   ]
  },
  {
   "cell_type": "markdown",
   "id": "5177d831",
   "metadata": {
    "id": "540ac93e"
   },
   "source": [
    "The most recent [commercial forest inventory](https://www.it.nrw/itnrw) recorded for the Landkreis Olpe as of December, 2019 was 40,178 hectare, so we have determined that, allowing for further decreases in 2020 and the first half of 2021, more than 9.3% of woodland was lost to drought/clearing within the time period measured.\n",
    "\n",
    "Finally, repeating the calculation with the clear cuts determined with the simple difference image:"
   ]
  },
  {
   "cell_type": "code",
   "execution_count": 19,
   "id": "ef9eb1ea",
   "metadata": {
    "colab": {
     "base_uri": "https://localhost:8080/"
    },
    "executionInfo": {
     "elapsed": 1299,
     "status": "ok",
     "timestamp": 1675247450374,
     "user": {
      "displayName": "Allan Aasbjerg Nielsen",
      "userId": "11830973270117739389"
     },
     "user_tz": -60
    },
    "id": "d4801ac5",
    "outputId": "b2dcdb1f-853f-4496-935b-098cb0914471"
   },
   "outputs": [
    {
     "name": "stdout",
     "output_type": "stream",
     "text": [
      "4875.7986791732765 hectare\n"
     ]
    }
   ],
   "source": [
    "contArea = cluster0d.connectedPixelCount().selfMask()\n",
    "mp = contArea.gte(ee.Number(5)).selfMask()\n",
    "pixelArea = mp.multiply(ee.Image.pixelArea()).divide(10000)\n",
    "clearcutArea = pixelArea.reduceRegion(\n",
    "                    reducer=ee.Reducer.sum(),\n",
    "                    geometry=aoi,\n",
    "                    scale=scale,\n",
    "                    maxPixels=1e11)\n",
    "ccA = clearcutArea.get('cluster').getInfo()\n",
    "print(ccA, 'hectare')"
   ]
  },
  {
   "cell_type": "markdown",
   "id": "003dc804",
   "metadata": {},
   "source": [
    "thus overestimating the loss from clear cutting by about one third."
   ]
  },
  {
   "cell_type": "markdown",
   "id": "7a086c34",
   "metadata": {
    "id": "iavInKNR3JUW"
   },
   "source": [
    "## Summary\n",
    "In Part 2 of this Tutorial we have generalized the MAD transformation to an iterative scheme, the iMAD algorithm. Then we illustrated  change detection with the algorithm by focussing a particular application, namely detection of clear cutting of coniferous trees destroyed by drought in an administrative district in Germany. \n",
    "\n",
    "While simple image comparison or differencing can be useful, the statistical  transformations implicit in the iMAD algorithm offer a more powerful means of analyzing and categorizing changes in bitemporal image data. In Part 3 we will examine the use of iMAD for image calibration tasks, giving some examples of relative radiometric normalization over an image sequence as well as harmonization of reflectances from different sensors."
   ]
  },
  {
   "cell_type": "markdown",
   "id": "6d6bb69e",
   "metadata": {
    "id": "edc87ada"
   },
   "source": [
    "## Exercises\n",
    "\n",
    "1. Try another parameter set, or one of the other clusterers in the GEE arsenal to see if you can improve on the above classification. \n",
    "\n",
    "\n",
    "2. In the discussion up till now we have not included the Sentinel-2 red edge bands. Repeat the analysis with all 10 visual/infrared bands: "
   ]
  },
  {
   "cell_type": "code",
   "execution_count": null,
   "id": "07c3c37b",
   "metadata": {
    "id": "af03d768",
    "outputId": "ff21ce41-7abb-4627-899c-14b389c391ac"
   },
   "outputs": [],
   "source": [
    "[visirbands,rededgebands]"
   ]
  },
  {
   "cell_type": "markdown",
   "id": "26cd6668",
   "metadata": {
    "id": "b4d9f6e8"
   },
   "source": [
    "3. Determine with the aid of a cloud-free S2 image from summer, 2020 the forest cover loss in the district for the 2-year period ending June, 2022.\n",
    "\n",
    "\n",
    "4. Urban and suburban sprawl accompany the growth of many large cities. If they are located in at least partly forested areas, deforestation due to new housing and infrastructure development can be very rapid and widespread. An extreme example is the city of Houston, Texas, where massive encroachment on the surrounding coutryside is a recognized problem. Below is an area of interest comprising Montgomery County, which encompasses heavily wooded areas to the north of the city, and two cloud-free Sentinel-2 images from July, 2021 and June, 2021. Repeat the analysis with the iMAD/Cluster pipeline to determine the loss of woodland within the County over that time period. (Hint: Since a variety of mad-made changes occur in the scene, the interpretation of unsupervised classification of the change image is critical.) "
   ]
  },
  {
   "cell_type": "code",
   "execution_count": 20,
   "id": "bfcd4420",
   "metadata": {
    "colab": {
     "referenced_widgets": [
      "5cd2e63292094ff9a85e603d4fd79110"
     ]
    },
    "id": "264b1127",
    "outputId": "3072a3b5-85c3-48d9-8f8a-0b51819548c2"
   },
   "outputs": [
    {
     "name": "stdout",
     "output_type": "stream",
     "text": [
      "Sun Jul 25 17:15:25 2021\n",
      "Sat Jun 25 17:15:27 2022\n"
     ]
    },
    {
     "data": {
      "application/vnd.jupyter.widget-view+json": {
       "model_id": "9442e2dfb5964865950b682441a1cce2",
       "version_major": 2,
       "version_minor": 0
      },
      "text/plain": [
       "Map(center=[30.30018238996553, -95.50281925712775], controls=(ZoomControl(options=['position', 'zoom_in_text',…"
      ]
     },
     "execution_count": 20,
     "metadata": {},
     "output_type": "execute_result"
    }
   ],
   "source": [
    "# TIGER: US Census Counties from the GEE Data Archive\n",
    "counties = ee.FeatureCollection('TIGER/2016/Counties')\n",
    "filtered = counties.filter(ee.Filter.eq('NAMELSAD', 'Montgomery County'))\n",
    "aois = filtered.geometry()\n",
    "# There are many Montgomery Counties in USA, we want the 12th in the list\n",
    "aoi = ee.Geometry(aois.geometries().get(12))\n",
    "im1, im2 = collect(aoi, '2021-07-01', '2021-07-30', '2022-06-01', '2022-06-30')\n",
    "location = aoi.centroid().coordinates().getInfo()[::-1]\n",
    "M5 = Map(**{'center':location, 'zoom':10})\n",
    "display_ls(im1.select(visbands), M5, 'Image 1')\n",
    "display_ls(im2.select(visbands), M5, 'Image 2')\n",
    "\n",
    "M5"
   ]
  },
  {
   "cell_type": "code",
   "execution_count": null,
   "id": "76df1999",
   "metadata": {},
   "outputs": [],
   "source": []
  }
 ],
 "metadata": {
  "colab": {
   "provenance": []
  },
  "kernelspec": {
   "display_name": "Python 3 (ipykernel)",
   "language": "python",
   "name": "python3"
  },
  "language_info": {
   "codemirror_mode": {
    "name": "ipython",
    "version": 3
   },
   "file_extension": ".py",
   "mimetype": "text/x-python",
   "name": "python",
   "nbconvert_exporter": "python",
   "pygments_lexer": "ipython3",
   "version": "3.10.6"
  },
  "widgets": {
   "application/vnd.jupyter.widget-state+json": {
    "23eb6f0f108d4146a143e37922805611": {
     "model_module": "jupyter-leaflet",
     "model_module_version": "^0.17",
     "model_name": "LeafletTileLayerModel",
     "state": {
      "_model_module": "jupyter-leaflet",
      "_model_module_version": "^0.17",
      "_model_name": "LeafletTileLayerModel",
      "_view_count": null,
      "_view_module": "jupyter-leaflet",
      "_view_module_version": "^0.17",
      "_view_name": "LeafletTileLayerView",
      "attribution": null,
      "base": false,
      "bottom": true,
      "bounds": null,
      "detect_retina": false,
      "loading": false,
      "max_native_zoom": null,
      "max_zoom": 18,
      "min_native_zoom": null,
      "min_zoom": 0,
      "name": "dynamic world",
      "no_wrap": false,
      "opacity": 1,
      "options": [
       "attribution",
       "bounds",
       "detect_retina",
       "max_native_zoom",
       "max_zoom",
       "min_native_zoom",
       "min_zoom",
       "no_wrap",
       "tile_size",
       "tms",
       "zoom_offset"
      ],
      "pane": "",
      "popup": null,
      "popup_max_height": null,
      "popup_max_width": 300,
      "popup_min_width": 50,
      "show_loading": false,
      "subitems": [],
      "tile_size": 256,
      "tms": false,
      "url": "https://earthengine.googleapis.com/v1alpha/projects/earthengine-legacy/maps/89b472eb3aa93ddb5a63dd5b76e0cd8b-5351a71b909c2f09122ff0ec34ebc941/tiles/{z}/{x}/{y}",
      "visible": true,
      "zoom_offset": 0
     }
    },
    "348c471f0d564b2fa151910cb37766fb": {
     "model_module": "jupyter-leaflet",
     "model_module_version": "^0.17",
     "model_name": "LeafletMapStyleModel",
     "state": {
      "_model_module": "jupyter-leaflet",
      "_model_module_version": "^0.17",
      "_model_name": "LeafletMapStyleModel",
      "_view_count": null,
      "_view_module": "@jupyter-widgets/base",
      "_view_module_version": "1.2.0",
      "_view_name": "StyleView",
      "cursor": "crosshair"
     }
    },
    "3566d321c1b943c287e5feb608dd4566": {
     "model_module": "jupyter-leaflet",
     "model_module_version": "^0.17",
     "model_name": "LeafletTileLayerModel",
     "state": {
      "_model_module": "jupyter-leaflet",
      "_model_module_version": "^0.17",
      "_model_name": "LeafletTileLayerModel",
      "_view_count": null,
      "_view_module": "jupyter-leaflet",
      "_view_module_version": "^0.17",
      "_view_name": "LeafletTileLayerView",
      "attribution": null,
      "base": false,
      "bottom": true,
      "bounds": null,
      "detect_retina": false,
      "loading": false,
      "max_native_zoom": null,
      "max_zoom": 18,
      "min_native_zoom": null,
      "min_zoom": 0,
      "name": "iMAD123",
      "no_wrap": false,
      "opacity": 1,
      "options": [
       "attribution",
       "bounds",
       "detect_retina",
       "max_native_zoom",
       "max_zoom",
       "min_native_zoom",
       "min_zoom",
       "no_wrap",
       "tile_size",
       "tms",
       "zoom_offset"
      ],
      "pane": "",
      "popup": null,
      "popup_max_height": null,
      "popup_max_width": 300,
      "popup_min_width": 50,
      "show_loading": false,
      "subitems": [],
      "tile_size": 256,
      "tms": false,
      "url": "https://earthengine.googleapis.com/v1alpha/projects/earthengine-legacy/maps/53d9ff83d4d509cf3ecec3bc4b9cc0ee-9393f975dd35024ac1b7ca50d7ccb797/tiles/{z}/{x}/{y}",
      "visible": true,
      "zoom_offset": 0
     }
    },
    "4237da908692457aa401d1e3bd2367fc": {
     "model_module": "jupyter-leaflet",
     "model_module_version": "^0.17",
     "model_name": "LeafletTileLayerModel",
     "state": {
      "_model_module": "jupyter-leaflet",
      "_model_module_version": "^0.17",
      "_model_name": "LeafletTileLayerModel",
      "_view_count": null,
      "_view_module": "jupyter-leaflet",
      "_view_module_version": "^0.17",
      "_view_name": "LeafletTileLayerView",
      "attribution": null,
      "base": false,
      "bottom": true,
      "bounds": null,
      "detect_retina": false,
      "loading": false,
      "max_native_zoom": null,
      "max_zoom": 18,
      "min_native_zoom": null,
      "min_zoom": 0,
      "name": "new clearcuts",
      "no_wrap": false,
      "opacity": 1,
      "options": [
       "attribution",
       "bounds",
       "detect_retina",
       "max_native_zoom",
       "max_zoom",
       "min_native_zoom",
       "min_zoom",
       "no_wrap",
       "tile_size",
       "tms",
       "zoom_offset"
      ],
      "pane": "",
      "popup": null,
      "popup_max_height": null,
      "popup_max_width": 300,
      "popup_min_width": 50,
      "show_loading": false,
      "subitems": [],
      "tile_size": 256,
      "tms": false,
      "url": "https://earthengine.googleapis.com/v1alpha/projects/earthengine-legacy/maps/c0270b3d5012bec9bf830b28c67f0648-8aa7ac0dd60bbb184aa79a3ec5fa484c/tiles/{z}/{x}/{y}",
      "visible": true,
      "zoom_offset": 0
     }
    },
    "4423bc20413341a08a6cd7ef3255dc65": {
     "model_module": "jupyter-leaflet",
     "model_module_version": "^0.17",
     "model_name": "LeafletMapStyleModel",
     "state": {
      "_model_module": "jupyter-leaflet",
      "_model_module_version": "^0.17",
      "_model_name": "LeafletMapStyleModel",
      "_view_count": null,
      "_view_module": "@jupyter-widgets/base",
      "_view_module_version": "1.2.0",
      "_view_name": "StyleView",
      "cursor": "grab"
     }
    },
    "46110cb46e304326b2b5072a44e7dda4": {
     "model_module": "jupyter-leaflet",
     "model_module_version": "^0.17",
     "model_name": "LeafletTileLayerModel",
     "state": {
      "_model_module": "jupyter-leaflet",
      "_model_module_version": "^0.17",
      "_model_name": "LeafletTileLayerModel",
      "_view_count": null,
      "_view_module": "jupyter-leaflet",
      "_view_module_version": "^0.17",
      "_view_name": "LeafletTileLayerView",
      "attribution": null,
      "base": false,
      "bottom": true,
      "bounds": null,
      "detect_retina": false,
      "loading": true,
      "max_native_zoom": null,
      "max_zoom": 18,
      "min_native_zoom": null,
      "min_zoom": 0,
      "name": "im2",
      "no_wrap": false,
      "opacity": 1,
      "options": [
       "attribution",
       "bounds",
       "detect_retina",
       "max_native_zoom",
       "max_zoom",
       "min_native_zoom",
       "min_zoom",
       "no_wrap",
       "tile_size",
       "tms",
       "zoom_offset"
      ],
      "pane": "",
      "popup": null,
      "popup_max_height": null,
      "popup_max_width": 300,
      "popup_min_width": 50,
      "show_loading": false,
      "subitems": [],
      "tile_size": 256,
      "tms": false,
      "url": "https://earthengine.googleapis.com/v1alpha/projects/earthengine-legacy/maps/fca7d45847aef550e9e89b57a16b8402-0291f8b3cfe750c53508cf72aa42f1ae/tiles/{z}/{x}/{y}",
      "visible": true,
      "zoom_offset": 0
     }
    },
    "47ee73522d0d44a2979a9d6084a3e123": {
     "model_module": "@jupyter-widgets/base",
     "model_module_version": "1.2.0",
     "model_name": "LayoutModel",
     "state": {
      "_model_module": "@jupyter-widgets/base",
      "_model_module_version": "1.2.0",
      "_model_name": "LayoutModel",
      "_view_count": null,
      "_view_module": "@jupyter-widgets/base",
      "_view_module_version": "1.2.0",
      "_view_name": "LayoutView",
      "align_content": null,
      "align_items": null,
      "align_self": null,
      "border": null,
      "bottom": null,
      "display": null,
      "flex": null,
      "flex_flow": null,
      "grid_area": null,
      "grid_auto_columns": null,
      "grid_auto_flow": null,
      "grid_auto_rows": null,
      "grid_column": null,
      "grid_gap": null,
      "grid_row": null,
      "grid_template_areas": null,
      "grid_template_columns": null,
      "grid_template_rows": null,
      "height": null,
      "justify_content": null,
      "justify_items": null,
      "left": null,
      "margin": null,
      "max_height": null,
      "max_width": null,
      "min_height": null,
      "min_width": null,
      "object_fit": null,
      "object_position": null,
      "order": null,
      "overflow": null,
      "overflow_x": null,
      "overflow_y": null,
      "padding": null,
      "right": null,
      "top": null,
      "visibility": null,
      "width": "100%"
     }
    },
    "4eea79feb7c44951b35d461f5c5b62a9": {
     "model_module": "jupyter-leaflet",
     "model_module_version": "^0.17",
     "model_name": "LeafletMapStyleModel",
     "state": {
      "_model_module": "jupyter-leaflet",
      "_model_module_version": "^0.17",
      "_model_name": "LeafletMapStyleModel",
      "_view_count": null,
      "_view_module": "@jupyter-widgets/base",
      "_view_module_version": "1.2.0",
      "_view_name": "StyleView",
      "cursor": "grab"
     }
    },
    "4f7f062c3e474abd8eb2ab0bb5cb016f": {
     "model_module": "jupyter-leaflet",
     "model_module_version": "^0.17",
     "model_name": "LeafletZoomControlModel",
     "state": {
      "_model_module": "jupyter-leaflet",
      "_model_module_version": "^0.17",
      "_model_name": "LeafletZoomControlModel",
      "_view_count": null,
      "_view_module": "jupyter-leaflet",
      "_view_module_version": "^0.17",
      "_view_name": "LeafletZoomControlView",
      "options": [
       "position",
       "zoom_in_text",
       "zoom_in_title",
       "zoom_out_text",
       "zoom_out_title"
      ],
      "position": "topleft",
      "zoom_in_text": "+",
      "zoom_in_title": "Zoom in",
      "zoom_out_text": "-",
      "zoom_out_title": "Zoom out"
     }
    },
    "535cec482db04ba28494e644787d7154": {
     "model_module": "jupyter-leaflet",
     "model_module_version": "^0.17",
     "model_name": "LeafletMapStyleModel",
     "state": {
      "_model_module": "jupyter-leaflet",
      "_model_module_version": "^0.17",
      "_model_name": "LeafletMapStyleModel",
      "_view_count": null,
      "_view_module": "@jupyter-widgets/base",
      "_view_module_version": "1.2.0",
      "_view_name": "StyleView",
      "cursor": "move"
     }
    },
    "623add0f72474ae59f25397cbc4d57e1": {
     "model_module": "jupyter-leaflet",
     "model_module_version": "^0.17",
     "model_name": "LeafletMapModel",
     "state": {
      "_dom_classes": [],
      "_model_module": "jupyter-leaflet",
      "_model_module_version": "^0.17",
      "_model_name": "LeafletMapModel",
      "_view_count": null,
      "_view_module": "jupyter-leaflet",
      "_view_module_version": "^0.17",
      "_view_name": "LeafletMapView",
      "bottom": 87860,
      "bounce_at_zoom_limits": true,
      "box_zoom": true,
      "center": [
       51.086272518565515,
       7.976417541503907
      ],
      "close_popup_on_click": true,
      "controls": [
       "IPY_MODEL_b8a57872aed14e779dbd1101d8fe7d90",
       "IPY_MODEL_bc25ab01e74349b8930459c779c1f551",
       "IPY_MODEL_c149903cdb2b439f9b4ff7d88c6aea47"
      ],
      "crs": {
       "custom": false,
       "name": "EPSG3857"
      },
      "default_style": "IPY_MODEL_6a58a6963c5d47d3ad8d767610f19ed9",
      "double_click_zoom": true,
      "dragging": true,
      "dragging_style": "IPY_MODEL_66500a8fb8d64d6584410f178fc1ca22",
      "east": 8.633880615234377,
      "fullscreen": false,
      "inertia": true,
      "inertia_deceleration": 3000,
      "inertia_max_speed": 1500,
      "interpolation": "bilinear",
      "keyboard": true,
      "keyboard_pan_offset": 80,
      "keyboard_zoom_offset": 1,
      "layers": [
       "IPY_MODEL_d65e0105e23c4cee919790d1b336df2c",
       "IPY_MODEL_aca9a0888cd64260820dff72b3ad4bad",
       "IPY_MODEL_860272dd32d64cf8a22b4b79a767ba33",
       "IPY_MODEL_3566d321c1b943c287e5feb608dd4566"
      ],
      "layout": "IPY_MODEL_676289162fbd414686d31f68c293e223",
      "left": 136402,
      "max_zoom": null,
      "min_zoom": null,
      "modisdate": "2023-01-31",
      "north": 51.25847731518399,
      "options": [
       "bounce_at_zoom_limits",
       "box_zoom",
       "center",
       "close_popup_on_click",
       "double_click_zoom",
       "dragging",
       "fullscreen",
       "inertia",
       "inertia_deceleration",
       "inertia_max_speed",
       "interpolation",
       "keyboard",
       "keyboard_pan_offset",
       "keyboard_zoom_offset",
       "max_zoom",
       "min_zoom",
       "prefer_canvas",
       "scroll_wheel_zoom",
       "tap",
       "tap_tolerance",
       "touch_zoom",
       "world_copy_jump",
       "zoom",
       "zoom_animation_threshold",
       "zoom_delta",
       "zoom_snap"
      ],
      "panes": {},
      "prefer_canvas": false,
      "right": 137359,
      "scroll_wheel_zoom": false,
      "south": 50.913424211321335,
      "style": "IPY_MODEL_6a58a6963c5d47d3ad8d767610f19ed9",
      "tap": true,
      "tap_tolerance": 15,
      "top": 87460,
      "touch_zoom": true,
      "west": 7.319641113281251,
      "window_url": "https://3zheskcnyyi-496ff2e9c6d22116-0-colab.googleusercontent.com/outputframe.html?vrz=colab-20230130-060050-RC00_505656283",
      "world_copy_jump": false,
      "zoom": 10,
      "zoom_animation_threshold": 4,
      "zoom_delta": 1,
      "zoom_snap": 1
     }
    },
    "66500a8fb8d64d6584410f178fc1ca22": {
     "model_module": "jupyter-leaflet",
     "model_module_version": "^0.17",
     "model_name": "LeafletMapStyleModel",
     "state": {
      "_model_module": "jupyter-leaflet",
      "_model_module_version": "^0.17",
      "_model_name": "LeafletMapStyleModel",
      "_view_count": null,
      "_view_module": "@jupyter-widgets/base",
      "_view_module_version": "1.2.0",
      "_view_name": "StyleView",
      "cursor": "move"
     }
    },
    "676289162fbd414686d31f68c293e223": {
     "model_module": "@jupyter-widgets/base",
     "model_module_version": "1.2.0",
     "model_name": "LayoutModel",
     "state": {
      "_model_module": "@jupyter-widgets/base",
      "_model_module_version": "1.2.0",
      "_model_name": "LayoutModel",
      "_view_count": null,
      "_view_module": "@jupyter-widgets/base",
      "_view_module_version": "1.2.0",
      "_view_name": "LayoutView",
      "align_content": null,
      "align_items": null,
      "align_self": null,
      "border": null,
      "bottom": null,
      "display": null,
      "flex": null,
      "flex_flow": null,
      "grid_area": null,
      "grid_auto_columns": null,
      "grid_auto_flow": null,
      "grid_auto_rows": null,
      "grid_column": null,
      "grid_gap": null,
      "grid_row": null,
      "grid_template_areas": null,
      "grid_template_columns": null,
      "grid_template_rows": null,
      "height": null,
      "justify_content": null,
      "justify_items": null,
      "left": null,
      "margin": null,
      "max_height": null,
      "max_width": null,
      "min_height": null,
      "min_width": null,
      "object_fit": null,
      "object_position": null,
      "order": null,
      "overflow": null,
      "overflow_x": null,
      "overflow_y": null,
      "padding": null,
      "right": null,
      "top": null,
      "visibility": null,
      "width": "100%"
     }
    },
    "6997b44c318c461ca2a6cb14e3308cb9": {
     "model_module": "jupyter-leaflet",
     "model_module_version": "^0.17",
     "model_name": "LeafletAttributionControlModel",
     "state": {
      "_model_module": "jupyter-leaflet",
      "_model_module_version": "^0.17",
      "_model_name": "LeafletAttributionControlModel",
      "_view_count": null,
      "_view_module": "jupyter-leaflet",
      "_view_module_version": "^0.17",
      "_view_name": "LeafletAttributionControlView",
      "options": [
       "position",
       "prefix"
      ],
      "position": "bottomright",
      "prefix": "ipyleaflet"
     }
    },
    "6a58a6963c5d47d3ad8d767610f19ed9": {
     "model_module": "jupyter-leaflet",
     "model_module_version": "^0.17",
     "model_name": "LeafletMapStyleModel",
     "state": {
      "_model_module": "jupyter-leaflet",
      "_model_module_version": "^0.17",
      "_model_name": "LeafletMapStyleModel",
      "_view_count": null,
      "_view_module": "@jupyter-widgets/base",
      "_view_module_version": "1.2.0",
      "_view_name": "StyleView",
      "cursor": "crosshair"
     }
    },
    "6d87eb338d7b4381a02c72ee0d7df273": {
     "model_module": "jupyter-leaflet",
     "model_module_version": "^0.17",
     "model_name": "LeafletTileLayerModel",
     "state": {
      "_model_module": "jupyter-leaflet",
      "_model_module_version": "^0.17",
      "_model_name": "LeafletTileLayerModel",
      "_view_count": null,
      "_view_module": "jupyter-leaflet",
      "_view_module_version": "^0.17",
      "_view_name": "LeafletTileLayerView",
      "attribution": null,
      "base": false,
      "bottom": true,
      "bounds": null,
      "detect_retina": false,
      "loading": false,
      "max_native_zoom": null,
      "max_zoom": 18,
      "min_native_zoom": null,
      "min_zoom": 0,
      "name": "im1",
      "no_wrap": false,
      "opacity": 1,
      "options": [
       "attribution",
       "bounds",
       "detect_retina",
       "max_native_zoom",
       "max_zoom",
       "min_native_zoom",
       "min_zoom",
       "no_wrap",
       "tile_size",
       "tms",
       "zoom_offset"
      ],
      "pane": "",
      "popup": null,
      "popup_max_height": null,
      "popup_max_width": 300,
      "popup_min_width": 50,
      "show_loading": false,
      "subitems": [],
      "tile_size": 256,
      "tms": false,
      "url": "https://earthengine.googleapis.com/v1alpha/projects/earthengine-legacy/maps/ee5bf367b5d0884443adcff8e0011ae9-57a5070eea1590c4ad25adc7a1c9315d/tiles/{z}/{x}/{y}",
      "visible": true,
      "zoom_offset": 0
     }
    },
    "73b71dd44df143f5991be9b0457087a4": {
     "model_module": "jupyter-leaflet",
     "model_module_version": "^0.17",
     "model_name": "LeafletMapStyleModel",
     "state": {
      "_model_module": "jupyter-leaflet",
      "_model_module_version": "^0.17",
      "_model_name": "LeafletMapStyleModel",
      "_view_count": null,
      "_view_module": "@jupyter-widgets/base",
      "_view_module_version": "1.2.0",
      "_view_name": "StyleView",
      "cursor": "grab"
     }
    },
    "75340b62d8164bc6ad18732512f48c58": {
     "model_module": "jupyter-leaflet",
     "model_module_version": "^0.17",
     "model_name": "LeafletZoomControlModel",
     "state": {
      "_model_module": "jupyter-leaflet",
      "_model_module_version": "^0.17",
      "_model_name": "LeafletZoomControlModel",
      "_view_count": null,
      "_view_module": "jupyter-leaflet",
      "_view_module_version": "^0.17",
      "_view_name": "LeafletZoomControlView",
      "options": [
       "position",
       "zoom_in_text",
       "zoom_in_title",
       "zoom_out_text",
       "zoom_out_title"
      ],
      "position": "topleft",
      "zoom_in_text": "+",
      "zoom_in_title": "Zoom in",
      "zoom_out_text": "-",
      "zoom_out_title": "Zoom out"
     }
    },
    "76b6c4b07f9a47cfb1751d5531d6ec0c": {
     "model_module": "jupyter-leaflet",
     "model_module_version": "^0.17",
     "model_name": "LeafletMapStyleModel",
     "state": {
      "_model_module": "jupyter-leaflet",
      "_model_module_version": "^0.17",
      "_model_name": "LeafletMapStyleModel",
      "_view_count": null,
      "_view_module": "@jupyter-widgets/base",
      "_view_module_version": "1.2.0",
      "_view_name": "StyleView",
      "cursor": "crosshair"
     }
    },
    "8262536f41f747fb9b538a265ae1b6c2": {
     "model_module": "jupyter-leaflet",
     "model_module_version": "^0.17",
     "model_name": "LeafletLayersControlModel",
     "state": {
      "_model_module": "jupyter-leaflet",
      "_model_module_version": "^0.17",
      "_model_name": "LeafletLayersControlModel",
      "_view_count": null,
      "_view_module": "jupyter-leaflet",
      "_view_module_version": "^0.17",
      "_view_name": "LeafletLayersControlView",
      "options": [
       "position"
      ],
      "position": "topright"
     }
    },
    "860272dd32d64cf8a22b4b79a767ba33": {
     "model_module": "jupyter-leaflet",
     "model_module_version": "^0.17",
     "model_name": "LeafletTileLayerModel",
     "state": {
      "_model_module": "jupyter-leaflet",
      "_model_module_version": "^0.17",
      "_model_name": "LeafletTileLayerModel",
      "_view_count": null,
      "_view_module": "jupyter-leaflet",
      "_view_module_version": "^0.17",
      "_view_name": "LeafletTileLayerView",
      "attribution": null,
      "base": false,
      "bottom": true,
      "bounds": null,
      "detect_retina": false,
      "loading": false,
      "max_native_zoom": null,
      "max_zoom": 18,
      "min_native_zoom": null,
      "min_zoom": 0,
      "name": "im2",
      "no_wrap": false,
      "opacity": 1,
      "options": [
       "attribution",
       "bounds",
       "detect_retina",
       "max_native_zoom",
       "max_zoom",
       "min_native_zoom",
       "min_zoom",
       "no_wrap",
       "tile_size",
       "tms",
       "zoom_offset"
      ],
      "pane": "",
      "popup": null,
      "popup_max_height": null,
      "popup_max_width": 300,
      "popup_min_width": 50,
      "show_loading": false,
      "subitems": [],
      "tile_size": 256,
      "tms": false,
      "url": "https://earthengine.googleapis.com/v1alpha/projects/earthengine-legacy/maps/240e38a32158fea9cfac225c27505c05-6fc54ae4b0535b358c4925951636892b/tiles/{z}/{x}/{y}",
      "visible": true,
      "zoom_offset": 0
     }
    },
    "8727930483c34b6bb4549b13087d3545": {
     "model_module": "jupyter-leaflet",
     "model_module_version": "^0.17",
     "model_name": "LeafletAttributionControlModel",
     "state": {
      "_model_module": "jupyter-leaflet",
      "_model_module_version": "^0.17",
      "_model_name": "LeafletAttributionControlModel",
      "_view_count": null,
      "_view_module": "jupyter-leaflet",
      "_view_module_version": "^0.17",
      "_view_name": "LeafletAttributionControlView",
      "options": [
       "position",
       "prefix"
      ],
      "position": "bottomright",
      "prefix": "ipyleaflet"
     }
    },
    "8a991587a56f4da6b1eeb5c4b99cf779": {
     "model_module": "jupyter-leaflet",
     "model_module_version": "^0.17",
     "model_name": "LeafletMapModel",
     "state": {
      "_dom_classes": [],
      "_model_module": "jupyter-leaflet",
      "_model_module_version": "^0.17",
      "_model_name": "LeafletMapModel",
      "_view_count": null,
      "_view_module": "jupyter-leaflet",
      "_view_module_version": "^0.17",
      "_view_name": "LeafletMapView",
      "bottom": 87860,
      "bounce_at_zoom_limits": true,
      "box_zoom": true,
      "center": [
       51.08616468943197,
       7.976503372192384
      ],
      "close_popup_on_click": true,
      "controls": [
       "IPY_MODEL_4f7f062c3e474abd8eb2ab0bb5cb016f",
       "IPY_MODEL_6997b44c318c461ca2a6cb14e3308cb9",
       "IPY_MODEL_8262536f41f747fb9b538a265ae1b6c2"
      ],
      "crs": {
       "custom": false,
       "name": "EPSG3857"
      },
      "default_style": "IPY_MODEL_76b6c4b07f9a47cfb1751d5531d6ec0c",
      "double_click_zoom": true,
      "dragging": true,
      "dragging_style": "IPY_MODEL_9246e3f52ba0425c8a5f6d119c78524c",
      "east": 8.633880615234377,
      "fullscreen": false,
      "inertia": true,
      "inertia_deceleration": 3000,
      "inertia_max_speed": 1500,
      "interpolation": "bilinear",
      "keyboard": true,
      "keyboard_pan_offset": 80,
      "keyboard_zoom_offset": 1,
      "layers": [
       "IPY_MODEL_f5423553800b4485914bc8b1ac049305",
       "IPY_MODEL_6d87eb338d7b4381a02c72ee0d7df273",
       "IPY_MODEL_ffa6d59650ce48d7b085f16d3d4ad4ea",
       "IPY_MODEL_967d089c76374cb797d5eaf693b71a6b",
       "IPY_MODEL_bebd0d1c39bc4278a838aa89ae98d816",
       "IPY_MODEL_fa0d75d7ba0f47bfb0db679042881ec5",
       "IPY_MODEL_eb0658f06d524220a192dfd19fec319b"
      ],
      "layout": "IPY_MODEL_fbaa3d78dca645009cc903ccf6cb5f9c",
      "left": 136402,
      "max_zoom": null,
      "min_zoom": null,
      "modisdate": "2023-01-31",
      "north": 51.25847731518399,
      "options": [
       "bounce_at_zoom_limits",
       "box_zoom",
       "center",
       "close_popup_on_click",
       "double_click_zoom",
       "dragging",
       "fullscreen",
       "inertia",
       "inertia_deceleration",
       "inertia_max_speed",
       "interpolation",
       "keyboard",
       "keyboard_pan_offset",
       "keyboard_zoom_offset",
       "max_zoom",
       "min_zoom",
       "prefer_canvas",
       "scroll_wheel_zoom",
       "tap",
       "tap_tolerance",
       "touch_zoom",
       "world_copy_jump",
       "zoom",
       "zoom_animation_threshold",
       "zoom_delta",
       "zoom_snap"
      ],
      "panes": {},
      "prefer_canvas": false,
      "right": 137359,
      "scroll_wheel_zoom": false,
      "south": 50.913424211321335,
      "style": "IPY_MODEL_76b6c4b07f9a47cfb1751d5531d6ec0c",
      "tap": true,
      "tap_tolerance": 15,
      "top": 87460,
      "touch_zoom": true,
      "west": 7.319641113281251,
      "window_url": "https://3zheskcnyyi-496ff2e9c6d22116-0-colab.googleusercontent.com/outputframe.html?vrz=colab-20230130-060050-RC00_505656283",
      "world_copy_jump": false,
      "zoom": 10,
      "zoom_animation_threshold": 4,
      "zoom_delta": 1,
      "zoom_snap": 1
     }
    },
    "9246e3f52ba0425c8a5f6d119c78524c": {
     "model_module": "jupyter-leaflet",
     "model_module_version": "^0.17",
     "model_name": "LeafletMapStyleModel",
     "state": {
      "_model_module": "jupyter-leaflet",
      "_model_module_version": "^0.17",
      "_model_name": "LeafletMapStyleModel",
      "_view_count": null,
      "_view_module": "@jupyter-widgets/base",
      "_view_module_version": "1.2.0",
      "_view_name": "StyleView",
      "cursor": "move"
     }
    },
    "967d089c76374cb797d5eaf693b71a6b": {
     "model_module": "jupyter-leaflet",
     "model_module_version": "^0.17",
     "model_name": "LeafletTileLayerModel",
     "state": {
      "_model_module": "jupyter-leaflet",
      "_model_module_version": "^0.17",
      "_model_name": "LeafletTileLayerModel",
      "_view_count": null,
      "_view_module": "jupyter-leaflet",
      "_view_module_version": "^0.17",
      "_view_name": "LeafletTileLayerView",
      "attribution": null,
      "base": false,
      "bottom": true,
      "bounds": null,
      "detect_retina": false,
      "loading": false,
      "max_native_zoom": null,
      "max_zoom": 18,
      "min_native_zoom": null,
      "min_zoom": 0,
      "name": "new clearcuts",
      "no_wrap": false,
      "opacity": 1,
      "options": [
       "attribution",
       "bounds",
       "detect_retina",
       "max_native_zoom",
       "max_zoom",
       "min_native_zoom",
       "min_zoom",
       "no_wrap",
       "tile_size",
       "tms",
       "zoom_offset"
      ],
      "pane": "",
      "popup": null,
      "popup_max_height": null,
      "popup_max_width": 300,
      "popup_min_width": 50,
      "show_loading": false,
      "subitems": [],
      "tile_size": 256,
      "tms": false,
      "url": "https://earthengine.googleapis.com/v1alpha/projects/earthengine-legacy/maps/c0270b3d5012bec9bf830b28c67f0648-73b3d39b8e15f2647c243a0f1e787107/tiles/{z}/{x}/{y}",
      "visible": true,
      "zoom_offset": 0
     }
    },
    "aca9a0888cd64260820dff72b3ad4bad": {
     "model_module": "jupyter-leaflet",
     "model_module_version": "^0.17",
     "model_name": "LeafletTileLayerModel",
     "state": {
      "_model_module": "jupyter-leaflet",
      "_model_module_version": "^0.17",
      "_model_name": "LeafletTileLayerModel",
      "_view_count": null,
      "_view_module": "jupyter-leaflet",
      "_view_module_version": "^0.17",
      "_view_name": "LeafletTileLayerView",
      "attribution": null,
      "base": false,
      "bottom": true,
      "bounds": null,
      "detect_retina": false,
      "loading": false,
      "max_native_zoom": null,
      "max_zoom": 18,
      "min_native_zoom": null,
      "min_zoom": 0,
      "name": "im1",
      "no_wrap": false,
      "opacity": 1,
      "options": [
       "attribution",
       "bounds",
       "detect_retina",
       "max_native_zoom",
       "max_zoom",
       "min_native_zoom",
       "min_zoom",
       "no_wrap",
       "tile_size",
       "tms",
       "zoom_offset"
      ],
      "pane": "",
      "popup": null,
      "popup_max_height": null,
      "popup_max_width": 300,
      "popup_min_width": 50,
      "show_loading": false,
      "subitems": [],
      "tile_size": 256,
      "tms": false,
      "url": "https://earthengine.googleapis.com/v1alpha/projects/earthengine-legacy/maps/ee5bf367b5d0884443adcff8e0011ae9-b0dcb4095af89bbd684b5de722b140b7/tiles/{z}/{x}/{y}",
      "visible": true,
      "zoom_offset": 0
     }
    },
    "b86b838cdcd7442691bc316aea0c58f7": {
     "model_module": "jupyter-leaflet",
     "model_module_version": "^0.17",
     "model_name": "LeafletTileLayerModel",
     "state": {
      "_model_module": "jupyter-leaflet",
      "_model_module_version": "^0.17",
      "_model_name": "LeafletTileLayerModel",
      "_view_count": null,
      "_view_module": "jupyter-leaflet",
      "_view_module_version": "^0.17",
      "_view_name": "LeafletTileLayerView",
      "attribution": null,
      "base": false,
      "bottom": true,
      "bounds": null,
      "detect_retina": false,
      "loading": false,
      "max_native_zoom": null,
      "max_zoom": 18,
      "min_native_zoom": null,
      "min_zoom": 0,
      "name": "im1",
      "no_wrap": false,
      "opacity": 1,
      "options": [
       "attribution",
       "bounds",
       "detect_retina",
       "max_native_zoom",
       "max_zoom",
       "min_native_zoom",
       "min_zoom",
       "no_wrap",
       "tile_size",
       "tms",
       "zoom_offset"
      ],
      "pane": "",
      "popup": null,
      "popup_max_height": null,
      "popup_max_width": 300,
      "popup_min_width": 50,
      "show_loading": false,
      "subitems": [],
      "tile_size": 256,
      "tms": false,
      "url": "https://earthengine.googleapis.com/v1alpha/projects/earthengine-legacy/maps/63d70b07428402fc6562a501992c1360-84b55793c682599cfcc490105dba2fe1/tiles/{z}/{x}/{y}",
      "visible": true,
      "zoom_offset": 0
     }
    },
    "b8a57872aed14e779dbd1101d8fe7d90": {
     "model_module": "jupyter-leaflet",
     "model_module_version": "^0.17",
     "model_name": "LeafletZoomControlModel",
     "state": {
      "_model_module": "jupyter-leaflet",
      "_model_module_version": "^0.17",
      "_model_name": "LeafletZoomControlModel",
      "_view_count": null,
      "_view_module": "jupyter-leaflet",
      "_view_module_version": "^0.17",
      "_view_name": "LeafletZoomControlView",
      "options": [
       "position",
       "zoom_in_text",
       "zoom_in_title",
       "zoom_out_text",
       "zoom_out_title"
      ],
      "position": "topleft",
      "zoom_in_text": "+",
      "zoom_in_title": "Zoom in",
      "zoom_out_text": "-",
      "zoom_out_title": "Zoom out"
     }
    },
    "bc25ab01e74349b8930459c779c1f551": {
     "model_module": "jupyter-leaflet",
     "model_module_version": "^0.17",
     "model_name": "LeafletAttributionControlModel",
     "state": {
      "_model_module": "jupyter-leaflet",
      "_model_module_version": "^0.17",
      "_model_name": "LeafletAttributionControlModel",
      "_view_count": null,
      "_view_module": "jupyter-leaflet",
      "_view_module_version": "^0.17",
      "_view_name": "LeafletAttributionControlView",
      "options": [
       "position",
       "prefix"
      ],
      "position": "bottomright",
      "prefix": "ipyleaflet"
     }
    },
    "bebd0d1c39bc4278a838aa89ae98d816": {
     "model_module": "jupyter-leaflet",
     "model_module_version": "^0.17",
     "model_name": "LeafletTileLayerModel",
     "state": {
      "_model_module": "jupyter-leaflet",
      "_model_module_version": "^0.17",
      "_model_name": "LeafletTileLayerModel",
      "_view_count": null,
      "_view_module": "jupyter-leaflet",
      "_view_module_version": "^0.17",
      "_view_name": "LeafletTileLayerView",
      "attribution": null,
      "base": false,
      "bottom": true,
      "bounds": null,
      "detect_retina": false,
      "loading": false,
      "max_native_zoom": null,
      "max_zoom": 18,
      "min_native_zoom": null,
      "min_zoom": 0,
      "name": "agriculture",
      "no_wrap": false,
      "opacity": 1,
      "options": [
       "attribution",
       "bounds",
       "detect_retina",
       "max_native_zoom",
       "max_zoom",
       "min_native_zoom",
       "min_zoom",
       "no_wrap",
       "tile_size",
       "tms",
       "zoom_offset"
      ],
      "pane": "",
      "popup": null,
      "popup_max_height": null,
      "popup_max_width": 300,
      "popup_min_width": 50,
      "show_loading": false,
      "subitems": [],
      "tile_size": 256,
      "tms": false,
      "url": "https://earthengine.googleapis.com/v1alpha/projects/earthengine-legacy/maps/543a4f97a8716f9545920cd7b0502e5a-2d57cff2adf080045318aea8539b43d7/tiles/{z}/{x}/{y}",
      "visible": true,
      "zoom_offset": 0
     }
    },
    "c149903cdb2b439f9b4ff7d88c6aea47": {
     "model_module": "jupyter-leaflet",
     "model_module_version": "^0.17",
     "model_name": "LeafletLayersControlModel",
     "state": {
      "_model_module": "jupyter-leaflet",
      "_model_module_version": "^0.17",
      "_model_name": "LeafletLayersControlModel",
      "_view_count": null,
      "_view_module": "jupyter-leaflet",
      "_view_module_version": "^0.17",
      "_view_name": "LeafletLayersControlView",
      "options": [
       "position"
      ],
      "position": "topright"
     }
    },
    "cb223a6edddc46d19aa2ef79605be5a9": {
     "model_module": "jupyter-leaflet",
     "model_module_version": "^0.17",
     "model_name": "LeafletTileLayerModel",
     "state": {
      "_model_module": "jupyter-leaflet",
      "_model_module_version": "^0.17",
      "_model_name": "LeafletTileLayerModel",
      "_view_count": null,
      "_view_module": "jupyter-leaflet",
      "_view_module_version": "^0.17",
      "_view_name": "LeafletTileLayerView",
      "attribution": "Map tiles by <a href=\"http://stamen.com\">Stamen Design</a>, <a href=\"http://creativecommons.org/licenses/by/3.0\">CC BY 3.0</a> &mdash; Map data &copy; <a href=\"https://www.openstreetmap.org/copyright\">OpenStreetMap</a> contributors",
      "base": true,
      "bottom": true,
      "bounds": null,
      "detect_retina": false,
      "loading": false,
      "max_native_zoom": null,
      "max_zoom": 16,
      "min_native_zoom": null,
      "min_zoom": 1,
      "name": "Stamen.Watercolor",
      "no_wrap": false,
      "opacity": 1,
      "options": [
       "attribution",
       "bounds",
       "detect_retina",
       "max_native_zoom",
       "max_zoom",
       "min_native_zoom",
       "min_zoom",
       "no_wrap",
       "tile_size",
       "tms",
       "zoom_offset"
      ],
      "pane": "",
      "popup": null,
      "popup_max_height": null,
      "popup_max_width": 300,
      "popup_min_width": 50,
      "show_loading": false,
      "subitems": [],
      "tile_size": 256,
      "tms": false,
      "url": "https://stamen-tiles-a.a.ssl.fastly.net/watercolor/{z}/{x}/{y}.jpg",
      "visible": true,
      "zoom_offset": 0
     }
    },
    "d16060bbed964b57940bb1a677f5b191": {
     "model_module": "jupyter-leaflet",
     "model_module_version": "^0.17",
     "model_name": "LeafletMapModel",
     "state": {
      "_dom_classes": [],
      "_model_module": "jupyter-leaflet",
      "_model_module_version": "^0.17",
      "_model_name": "LeafletMapModel",
      "_view_count": null,
      "_view_module": "jupyter-leaflet",
      "_view_module_version": "^0.17",
      "_view_name": "LeafletMapView",
      "bottom": 87860,
      "bounce_at_zoom_limits": true,
      "box_zoom": true,
      "center": [
       51.08616468943197,
       7.976503372192384
      ],
      "close_popup_on_click": true,
      "controls": [
       "IPY_MODEL_75340b62d8164bc6ad18732512f48c58",
       "IPY_MODEL_8727930483c34b6bb4549b13087d3545",
       "IPY_MODEL_d9dc610dfafb479bb0a0fef4e1374bb1"
      ],
      "crs": {
       "custom": false,
       "name": "EPSG3857"
      },
      "default_style": "IPY_MODEL_348c471f0d564b2fa151910cb37766fb",
      "double_click_zoom": true,
      "dragging": true,
      "dragging_style": "IPY_MODEL_535cec482db04ba28494e644787d7154",
      "east": 8.633880615234377,
      "fullscreen": false,
      "inertia": true,
      "inertia_deceleration": 3000,
      "inertia_max_speed": 1500,
      "interpolation": "bilinear",
      "keyboard": true,
      "keyboard_pan_offset": 80,
      "keyboard_zoom_offset": 1,
      "layers": [
       "IPY_MODEL_cb223a6edddc46d19aa2ef79605be5a9",
       "IPY_MODEL_b86b838cdcd7442691bc316aea0c58f7",
       "IPY_MODEL_46110cb46e304326b2b5072a44e7dda4",
       "IPY_MODEL_23eb6f0f108d4146a143e37922805611",
       "IPY_MODEL_4237da908692457aa401d1e3bd2367fc"
      ],
      "layout": "IPY_MODEL_47ee73522d0d44a2979a9d6084a3e123",
      "left": 136402,
      "max_zoom": null,
      "min_zoom": null,
      "modisdate": "2023-01-31",
      "north": 51.25847731518399,
      "options": [
       "bounce_at_zoom_limits",
       "box_zoom",
       "center",
       "close_popup_on_click",
       "double_click_zoom",
       "dragging",
       "fullscreen",
       "inertia",
       "inertia_deceleration",
       "inertia_max_speed",
       "interpolation",
       "keyboard",
       "keyboard_pan_offset",
       "keyboard_zoom_offset",
       "max_zoom",
       "min_zoom",
       "prefer_canvas",
       "scroll_wheel_zoom",
       "tap",
       "tap_tolerance",
       "touch_zoom",
       "world_copy_jump",
       "zoom",
       "zoom_animation_threshold",
       "zoom_delta",
       "zoom_snap"
      ],
      "panes": {},
      "prefer_canvas": false,
      "right": 137359,
      "scroll_wheel_zoom": false,
      "south": 50.913424211321335,
      "style": "IPY_MODEL_348c471f0d564b2fa151910cb37766fb",
      "tap": true,
      "tap_tolerance": 15,
      "top": 87460,
      "touch_zoom": true,
      "west": 7.319641113281251,
      "window_url": "https://3zheskcnyyi-496ff2e9c6d22116-0-colab.googleusercontent.com/outputframe.html?vrz=colab-20230130-060050-RC00_505656283",
      "world_copy_jump": false,
      "zoom": 10,
      "zoom_animation_threshold": 4,
      "zoom_delta": 1,
      "zoom_snap": 1
     }
    },
    "d65e0105e23c4cee919790d1b336df2c": {
     "model_module": "jupyter-leaflet",
     "model_module_version": "^0.17",
     "model_name": "LeafletTileLayerModel",
     "state": {
      "_model_module": "jupyter-leaflet",
      "_model_module_version": "^0.17",
      "_model_name": "LeafletTileLayerModel",
      "_view_count": null,
      "_view_module": "jupyter-leaflet",
      "_view_module_version": "^0.17",
      "_view_name": "LeafletTileLayerView",
      "attribution": "Map tiles by <a href=\"http://stamen.com\">Stamen Design</a>, <a href=\"http://creativecommons.org/licenses/by/3.0\">CC BY 3.0</a> &mdash; Map data &copy; <a href=\"https://www.openstreetmap.org/copyright\">OpenStreetMap</a> contributors",
      "base": true,
      "bottom": true,
      "bounds": null,
      "detect_retina": false,
      "loading": false,
      "max_native_zoom": null,
      "max_zoom": 16,
      "min_native_zoom": null,
      "min_zoom": 1,
      "name": "Stamen.Watercolor",
      "no_wrap": false,
      "opacity": 1,
      "options": [
       "attribution",
       "bounds",
       "detect_retina",
       "max_native_zoom",
       "max_zoom",
       "min_native_zoom",
       "min_zoom",
       "no_wrap",
       "tile_size",
       "tms",
       "zoom_offset"
      ],
      "pane": "",
      "popup": null,
      "popup_max_height": null,
      "popup_max_width": 300,
      "popup_min_width": 50,
      "show_loading": false,
      "subitems": [],
      "tile_size": 256,
      "tms": false,
      "url": "https://stamen-tiles-a.a.ssl.fastly.net/watercolor/{z}/{x}/{y}.jpg",
      "visible": true,
      "zoom_offset": 0
     }
    },
    "d9dc610dfafb479bb0a0fef4e1374bb1": {
     "model_module": "jupyter-leaflet",
     "model_module_version": "^0.17",
     "model_name": "LeafletLayersControlModel",
     "state": {
      "_model_module": "jupyter-leaflet",
      "_model_module_version": "^0.17",
      "_model_name": "LeafletLayersControlModel",
      "_view_count": null,
      "_view_module": "jupyter-leaflet",
      "_view_module_version": "^0.17",
      "_view_name": "LeafletLayersControlView",
      "options": [
       "position"
      ],
      "position": "topright"
     }
    },
    "eb0658f06d524220a192dfd19fec319b": {
     "model_module": "jupyter-leaflet",
     "model_module_version": "^0.17",
     "model_name": "LeafletTileLayerModel",
     "state": {
      "_model_module": "jupyter-leaflet",
      "_model_module_version": "^0.17",
      "_model_name": "LeafletTileLayerModel",
      "_view_count": null,
      "_view_module": "jupyter-leaflet",
      "_view_module_version": "^0.17",
      "_view_name": "LeafletTileLayerView",
      "attribution": null,
      "base": false,
      "bottom": true,
      "bounds": null,
      "detect_retina": false,
      "loading": false,
      "max_native_zoom": null,
      "max_zoom": 18,
      "min_native_zoom": null,
      "min_zoom": 0,
      "name": "no change",
      "no_wrap": false,
      "opacity": 1,
      "options": [
       "attribution",
       "bounds",
       "detect_retina",
       "max_native_zoom",
       "max_zoom",
       "min_native_zoom",
       "min_zoom",
       "no_wrap",
       "tile_size",
       "tms",
       "zoom_offset"
      ],
      "pane": "",
      "popup": null,
      "popup_max_height": null,
      "popup_max_width": 300,
      "popup_min_width": 50,
      "show_loading": false,
      "subitems": [],
      "tile_size": 256,
      "tms": false,
      "url": "https://earthengine.googleapis.com/v1alpha/projects/earthengine-legacy/maps/20a6de3133987a401a2888b56a91fc44-6d9e921f8a27e4243f7add62a4c51dc0/tiles/{z}/{x}/{y}",
      "visible": true,
      "zoom_offset": 0
     }
    },
    "f5423553800b4485914bc8b1ac049305": {
     "model_module": "jupyter-leaflet",
     "model_module_version": "^0.17",
     "model_name": "LeafletTileLayerModel",
     "state": {
      "_model_module": "jupyter-leaflet",
      "_model_module_version": "^0.17",
      "_model_name": "LeafletTileLayerModel",
      "_view_count": null,
      "_view_module": "jupyter-leaflet",
      "_view_module_version": "^0.17",
      "_view_name": "LeafletTileLayerView",
      "attribution": "Map tiles by <a href=\"http://stamen.com\">Stamen Design</a>, <a href=\"http://creativecommons.org/licenses/by/3.0\">CC BY 3.0</a> &mdash; Map data &copy; <a href=\"https://www.openstreetmap.org/copyright\">OpenStreetMap</a> contributors",
      "base": true,
      "bottom": true,
      "bounds": null,
      "detect_retina": false,
      "loading": false,
      "max_native_zoom": null,
      "max_zoom": 16,
      "min_native_zoom": null,
      "min_zoom": 1,
      "name": "Stamen.Watercolor",
      "no_wrap": false,
      "opacity": 1,
      "options": [
       "attribution",
       "bounds",
       "detect_retina",
       "max_native_zoom",
       "max_zoom",
       "min_native_zoom",
       "min_zoom",
       "no_wrap",
       "tile_size",
       "tms",
       "zoom_offset"
      ],
      "pane": "",
      "popup": null,
      "popup_max_height": null,
      "popup_max_width": 300,
      "popup_min_width": 50,
      "show_loading": false,
      "subitems": [],
      "tile_size": 256,
      "tms": false,
      "url": "https://stamen-tiles-a.a.ssl.fastly.net/watercolor/{z}/{x}/{y}.jpg",
      "visible": true,
      "zoom_offset": 0
     }
    },
    "fa0d75d7ba0f47bfb0db679042881ec5": {
     "model_module": "jupyter-leaflet",
     "model_module_version": "^0.17",
     "model_name": "LeafletTileLayerModel",
     "state": {
      "_model_module": "jupyter-leaflet",
      "_model_module_version": "^0.17",
      "_model_name": "LeafletTileLayerModel",
      "_view_count": null,
      "_view_module": "jupyter-leaflet",
      "_view_module_version": "^0.17",
      "_view_name": "LeafletTileLayerView",
      "attribution": null,
      "base": false,
      "bottom": true,
      "bounds": null,
      "detect_retina": false,
      "loading": false,
      "max_native_zoom": null,
      "max_zoom": 18,
      "min_native_zoom": null,
      "min_zoom": 0,
      "name": "prior clearcuts",
      "no_wrap": false,
      "opacity": 1,
      "options": [
       "attribution",
       "bounds",
       "detect_retina",
       "max_native_zoom",
       "max_zoom",
       "min_native_zoom",
       "min_zoom",
       "no_wrap",
       "tile_size",
       "tms",
       "zoom_offset"
      ],
      "pane": "",
      "popup": null,
      "popup_max_height": null,
      "popup_max_width": 300,
      "popup_min_width": 50,
      "show_loading": false,
      "subitems": [],
      "tile_size": 256,
      "tms": false,
      "url": "https://earthengine.googleapis.com/v1alpha/projects/earthengine-legacy/maps/88757ff65fd1212820d5416dc5832f3b-1758e54138a3d7ebcc7602811f4abea6/tiles/{z}/{x}/{y}",
      "visible": true,
      "zoom_offset": 0
     }
    },
    "fbaa3d78dca645009cc903ccf6cb5f9c": {
     "model_module": "@jupyter-widgets/base",
     "model_module_version": "1.2.0",
     "model_name": "LayoutModel",
     "state": {
      "_model_module": "@jupyter-widgets/base",
      "_model_module_version": "1.2.0",
      "_model_name": "LayoutModel",
      "_view_count": null,
      "_view_module": "@jupyter-widgets/base",
      "_view_module_version": "1.2.0",
      "_view_name": "LayoutView",
      "align_content": null,
      "align_items": null,
      "align_self": null,
      "border": null,
      "bottom": null,
      "display": null,
      "flex": null,
      "flex_flow": null,
      "grid_area": null,
      "grid_auto_columns": null,
      "grid_auto_flow": null,
      "grid_auto_rows": null,
      "grid_column": null,
      "grid_gap": null,
      "grid_row": null,
      "grid_template_areas": null,
      "grid_template_columns": null,
      "grid_template_rows": null,
      "height": null,
      "justify_content": null,
      "justify_items": null,
      "left": null,
      "margin": null,
      "max_height": null,
      "max_width": null,
      "min_height": null,
      "min_width": null,
      "object_fit": null,
      "object_position": null,
      "order": null,
      "overflow": null,
      "overflow_x": null,
      "overflow_y": null,
      "padding": null,
      "right": null,
      "top": null,
      "visibility": null,
      "width": "100%"
     }
    },
    "ffa6d59650ce48d7b085f16d3d4ad4ea": {
     "model_module": "jupyter-leaflet",
     "model_module_version": "^0.17",
     "model_name": "LeafletTileLayerModel",
     "state": {
      "_model_module": "jupyter-leaflet",
      "_model_module_version": "^0.17",
      "_model_name": "LeafletTileLayerModel",
      "_view_count": null,
      "_view_module": "jupyter-leaflet",
      "_view_module_version": "^0.17",
      "_view_name": "LeafletTileLayerView",
      "attribution": null,
      "base": false,
      "bottom": true,
      "bounds": null,
      "detect_retina": false,
      "loading": false,
      "max_native_zoom": null,
      "max_zoom": 18,
      "min_native_zoom": null,
      "min_zoom": 0,
      "name": "im2",
      "no_wrap": false,
      "opacity": 1,
      "options": [
       "attribution",
       "bounds",
       "detect_retina",
       "max_native_zoom",
       "max_zoom",
       "min_native_zoom",
       "min_zoom",
       "no_wrap",
       "tile_size",
       "tms",
       "zoom_offset"
      ],
      "pane": "",
      "popup": null,
      "popup_max_height": null,
      "popup_max_width": 300,
      "popup_min_width": 50,
      "show_loading": false,
      "subitems": [],
      "tile_size": 256,
      "tms": false,
      "url": "https://earthengine.googleapis.com/v1alpha/projects/earthengine-legacy/maps/240e38a32158fea9cfac225c27505c05-f98f507ff8403632f81c0825736c6801/tiles/{z}/{x}/{y}",
      "visible": true,
      "zoom_offset": 0
     }
    }
   }
  }
 },
 "nbformat": 4,
 "nbformat_minor": 5
}
