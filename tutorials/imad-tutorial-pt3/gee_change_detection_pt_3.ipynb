{
 "cells": [
  {
   "cell_type": "code",
   "execution_count": null,
   "metadata": {},
   "outputs": [],
   "source": [
    "#@title Copyright 2023 The Earth Engine Community Authors { display-mode: \"form\" }\n",
    "#\n",
    "# Licensed under the Apache License, Version 2.0 (the \"License\");\n",
    "# you may not use this file except in compliance with the License.\n",
    "# You may obtain a copy of the License at\n",
    "#\n",
    "# https://www.apache.org/licenses/LICENSE-2.0\n",
    "#\n",
    "# Unless required by applicable law or agreed to in writing, software\n",
    "# distributed under the License is distributed on an \"AS IS\" BASIS,\n",
    "# WITHOUT WARRANTIES OR CONDITIONS OF ANY KIND, either express or implied.\n",
    "# See the License for the specific language governing permissions and\n",
    "# limitations under the License."
   ]
  },
  {
   "cell_type": "markdown",
   "metadata": {
    "id": "pJrMq0aNrF-u"
   },
   "source": [
    "# Change Detection on Google Earth Engine\n",
    "# Part 3 Relative Radiometric Normalization and Harmonization\n",
    "\n",
    " Authors: mortcanty, allannielsen\n",
    "\n",
    "\n"
   ]
  },
  {
   "cell_type": "markdown",
   "metadata": {},
   "source": [
    "Comparison of pixel intensities across different image acquisitions requires that the received signals have similar radiometric scales.\n",
    "As we saw in Part 2 of the present Tutorial, provided the iMAD algorithm converges satisfactorily it  will isolate the pixels\n",
    "which have not significantly changed in the two input images presented to it. A regression analysis on these no change\n",
    "pixels can then  determine how well the radiometric parameters of the two acquisitions compare. \n",
    "If, for instance, images that were corrected to absolute surface reflectance are examined in this way, we would expect a good match, i.e., a\n",
    "slope close to one and an intercept close to zero at all spectral wavelengths. In general,\n",
    "for uncalibrated or poorly corrected images this will not be the case. Then the regression\n",
    "coefficients can be applied to normalize one image (the target, say) to the other\n",
    "(the reference). This is a prerequisite, for example, for tracing features such as NDVI indices over\n",
    "a time series  when the images have not been reduced to surface reflectances,\n",
    "see e.g., [Gan et al. (2021)](https://ieeexplore.ieee.org/document/9392311), or indeed for\n",
    "*harmonizing* the data from two different sensors of the same family, such as Landsat 8 with\n",
    "Landsat 9. In this final part of the GEE Change Detection Tutorial we'll have a closer look at this approach, which we'll refer to here as *relative radiometric normalization*. For more detailed treatment see also [Canty and Nielsen (2008)](https://www2.imm.dtu.dk/pubdb/pubs/5362-full.html),  [Canty et al. (2004)](https://www2.imm.dtu.dk/pubdb/pubs/2815-full.html) and [Schroeder et al. (2006)](https://www.sciencedirect.com/science/article/abs/pii/S0034425706001179). A different (but similar) method involving identification of so-called *pseudoinvariant features*\n",
    "is explained in [another GEE community tutorial](https://developers.google.com/earth-engine/tutorials/community/pseudo-invariant-feature-matching) in this series.\n"
   ]
  },
  {
   "cell_type": "markdown",
   "metadata": {},
   "source": [
    "## Preliminaries"
   ]
  },
  {
   "cell_type": "code",
   "execution_count": 1,
   "metadata": {
    "tags": []
   },
   "outputs": [],
   "source": [
    "# enter your own export to assets path name here -----------\n",
    "EXPORT_PATH = 'projects/ee-mortcanty/assets/imad/'\n",
    "# ------------------------------------------------"
   ]
  },
  {
   "cell_type": "code",
   "execution_count": 2,
   "metadata": {
    "tags": []
   },
   "outputs": [
    {
     "name": "stdout",
     "output_type": "stream",
     "text": [
      "Authenticating using Notebook auth...\n",
      "✓ Previously created authentication credentials were found.\n",
      "✓ Successfully initialized!\n"
     ]
    }
   ],
   "source": [
    "# Authenticate\n",
    "COLAB_AUTH_FLOW_CLOUD_PROJECT_FOR_API_CALLS = None\n",
    "\n",
    "import ee\n",
    "import google\n",
    "import os\n",
    "\n",
    "if COLAB_AUTH_FLOW_CLOUD_PROJECT_FOR_API_CALLS is None:\n",
    "  print(\"Authenticating using Notebook auth...\")\n",
    "  if os.path.exists(ee.oauth.get_credentials_path()) is False:\n",
    "    ee.Authenticate()\n",
    "  else:\n",
    "    print('\\N{check mark} '\n",
    "          'Previously created authentication credentials were found.')  \n",
    "  #ee.Authenticate()  \n",
    "  ee.Initialize()\n",
    "else:\n",
    "  print('Authenticating using Colab auth...')\n",
    "  # Authenticate to populate Application Default Credentials in the Colab VM.\n",
    "  google.colab.auth.authenticate_user()\n",
    "  # Create credentials needed for accessing Earth Engine.\n",
    "  credentials, auth_project_id = google.auth.default()\n",
    "  # Initialize Earth Engine.\n",
    "  ee.Initialize(credentials, project=COLAB_AUTH_FLOW_CLOUD_PROJECT_FOR_API_CALLS)\n",
    "print('\\N{check mark} Successfully initialized!')"
   ]
  },
  {
   "cell_type": "code",
   "execution_count": null,
   "metadata": {
    "id": "852c5226"
   },
   "outputs": [],
   "source": [
    "# Install the ee_jupyter package.\n",
    "import os\n",
    "try:\n",
    "  import ee_jupyter\n",
    "except ModuleNotFoundError:\n",
    "  print('ee_jupyter was not found. Installing now...')\n",
    "  result = os.system('pip -q install earthengine-jupyter')\n",
    "  import ee_jupyter\n",
    "print(f'ee_jupyter (version {ee_jupyter.__version__}) '\n",
    "        f'is installed.')"
   ]
  },
  {
   "cell_type": "code",
   "execution_count": 3,
   "metadata": {
    "tags": []
   },
   "outputs": [],
   "source": [
    "# Import other packages used in the tutorial.\n",
    "%matplotlib inline\n",
    "import numpy as np\n",
    "import random, time\n",
    "import matplotlib.pyplot as plt\n",
    "from scipy.stats import norm, chi2\n",
    "\n",
    "from ee_jupyter.colab import set_colab_output_cell_height\n",
    "from ee_jupyter.ipyleaflet import Map\n",
    "from ee_jupyter.ipyleaflet import Inspector\n",
    "from pprint import pprint  # for pretty printing"
   ]
  },
  {
   "cell_type": "code",
   "execution_count": 2,
   "metadata": {},
   "outputs": [],
   "source": [
    "#@title Routines from Parts 1 and 2\n",
    "\n",
    "def trunc(values, dec = 3):\n",
    "    '''Truncate a 1-D array to dec decimal places.'''\n",
    "    return np.trunc(values*10**dec)/(10**dec)\n",
    "\n",
    "# Display an image in a one percent linear stretch.\n",
    "def display_ls(image, map, name, centered = False):\n",
    "    bns = image.bandNames().length().getInfo()\n",
    "    if bns == 3:\n",
    "        image = image.rename('B1', 'B2', 'B3')\n",
    "        pb_99 = ['B1_p99', 'B2_p99', 'B3_p99']\n",
    "        pb_1 = ['B1_p1', 'B2_p1', 'B3_p1']\n",
    "        img = ee.Image.rgb(image.select('B1'), image.select('B2'), image.select('B3'))\n",
    "    else:\n",
    "        image = image.rename('B1')\n",
    "        pb_99 = ['B1_p99']\n",
    "        pb_1 = ['B1_p1']\n",
    "        img = image.select('B1')\n",
    "    percentiles = image.reduceRegion(ee.Reducer.percentile([1, 99]), maxPixels=1e11)\n",
    "    mx = percentiles.values(pb_99)\n",
    "    if centered:\n",
    "        mn = ee.Array(mx).multiply(-1).toList()\n",
    "    else:\n",
    "        mn = percentiles.values(pb_1)\n",
    "    map.addLayer(img, {'min': mn, 'max': mx}, name)\n",
    "\n",
    "def covarw(image, weights=None, scale=20, maxPixels=1e10):\n",
    "    '''Return the centered image and its weighted covariance matrix.'''\n",
    "    try:\n",
    "        geometry = image.geometry()\n",
    "        bandNames = image.bandNames()\n",
    "        N = bandNames.length()\n",
    "        if weights is None:\n",
    "            weights = image.constant(1)\n",
    "        weightsImage = image.multiply(ee.Image.constant(0)).add(weights)\n",
    "        means = image.addBands(weightsImage) \\\n",
    "                    .reduceRegion(ee.Reducer.mean().repeat(N).splitWeights(),\n",
    "                                scale = scale,\n",
    "                                maxPixels = maxPixels) \\\n",
    "                    .toArray() \\\n",
    "                    .project([1])\n",
    "        centered = image.toArray().subtract(means)\n",
    "        B1 = centered.bandNames().get(0)\n",
    "        b1 = weights.bandNames().get(0)\n",
    "        nPixels = ee.Number(centered.reduceRegion(ee.Reducer.count(),\n",
    "                                                scale=scale,\n",
    "                                                maxPixels=maxPixels).get(B1))\n",
    "        sumWeights = ee.Number(weights.reduceRegion(ee.Reducer.sum(),\n",
    "                                                    geometry=geometry,\n",
    "                                                    scale=scale,\n",
    "                                                    maxPixels=maxPixels).get(b1))\n",
    "        covw = centered.multiply(weights.sqrt()) \\\n",
    "                    .toArray() \\\n",
    "                    .reduceRegion(ee.Reducer.centeredCovariance(),\n",
    "                                    geometry=geometry,\n",
    "                                    scale=scale,\n",
    "                                    maxPixels=maxPixels) \\\n",
    "                    .get('array')\n",
    "        covw = ee.Array(covw).multiply(nPixels).divide(sumWeights)\n",
    "        return (centered.arrayFlatten([bandNames]), covw)\n",
    "    except Exception as e:\n",
    "        print('Error: %s'%e)\n",
    "\n",
    "def corr(cov):\n",
    "    '''Transfrom covariance matrix to correlation matrix.'''\n",
    "    # Diagonal matrix of inverse sigmas.\n",
    "    sInv = cov.matrixDiagonal().sqrt().matrixToDiag().matrixInverse()\n",
    "    # Transform.\n",
    "    corr = sInv.matrixMultiply(cov).matrixMultiply(sInv).getInfo()\n",
    "    # Truncate.\n",
    "    return [list(map(trunc, corr[i])) for i in range(len(corr))]\n",
    "\n",
    "def geneiv(C,B):\n",
    "    '''Return the eignvalues and eigenvectors of the generalized eigenproblem\n",
    "       C*X = lambda*B*X'''\n",
    "    try:\n",
    "        C = ee.Array(C)\n",
    "        B = ee.Array(B)\n",
    "        #  Li = choldc(B)^-1\n",
    "        Li = ee.Array(B.matrixCholeskyDecomposition().get('L')).matrixInverse()\n",
    "        # Solve symmetric, ordinary eigenproblem Li*C*Li^T*x = lambda*x\n",
    "        Xa = Li.matrixMultiply(C) \\\n",
    "            .matrixMultiply(Li.matrixTranspose()) \\\n",
    "            .eigen()\n",
    "        # Eigenvalues as a row vector.\n",
    "        lambdas = Xa.slice(1, 0, 1).matrixTranspose()\n",
    "        # Eigenvectors as columns.\n",
    "        X = Xa.slice(1, 1).matrixTranspose()\n",
    "        # Generalized eigenvectors as columns, Li^T*X\n",
    "        eigenvecs = Li.matrixTranspose().matrixMultiply(X)\n",
    "        return (lambdas, eigenvecs)\n",
    "    except Exception as e:\n",
    "        print('Error: %s'%e)\n",
    "\n",
    "# Collect a Sentinel-2 image pair\n",
    "def collect(aoi, t1a ,t1b, t2a, t2b, coll1, coll2 = None):\n",
    "    try:\n",
    "        if coll2 == None:\n",
    "            coll2 = coll1\n",
    "        im1 = ee.Image( ee.ImageCollection(coll1)\n",
    "                               .filterBounds(aoi)\n",
    "                               .filterDate(ee.Date(t1a), ee.Date(t1b))\n",
    "                               .filter(ee.Filter.contains(rightValue=aoi,leftField='.geo'))\n",
    "                               .sort('CLOUDY_PIXEL_PERCENTAGE')\n",
    "                               .sort('CLOUD_COVER_LAND')\n",
    "                               .first()\n",
    "                               .clip(aoi) )\n",
    "        im2 = ee.Image( ee.ImageCollection(coll2)\n",
    "                               .filterBounds(aoi)\n",
    "                               .filterDate(ee.Date(t2a), ee.Date(t2b))\n",
    "                               .filter(ee.Filter.contains(rightValue=aoi,leftField='.geo'))\n",
    "                               .sort('CLOUDY_PIXEL_PERCENTAGE')\n",
    "                               .sort('CLOUD_COVER_LAND')\n",
    "                               .first()\n",
    "                               .clip(aoi) )\n",
    "        timestamp = im1.date().format('E MMM dd HH:mm:ss YYYY')\n",
    "        print(timestamp.getInfo())\n",
    "        timestamp = im2.date().format('E MMM dd HH:mm:ss YYYY')\n",
    "        print(timestamp.getInfo())\n",
    "        return (im1, im2)\n",
    "    except Exception as e:\n",
    "        print('Error: %s'%e)\n",
    "        \n",
    "#@title The iMAD code\n",
    "def chi2cdf(Z,df):\n",
    "    '''Chi-square cumulative distribution function with df degrees of freedom.'''\n",
    "    return ee.Image(Z.divide(2)).gammainc(ee.Number(df).divide(2))\n",
    "\n",
    "def imad(current,prev):\n",
    "    '''Iterator function for iMAD.'''\n",
    "    done =  ee.Number(ee.Dictionary(prev).get('done'))\n",
    "    return ee.Algorithms.If(done, prev, imad1(current, prev))\n",
    "\n",
    "def imad1(current,prev):\n",
    "    '''Iteratively re-weighted MAD.'''\n",
    "    image = ee.Image(ee.Dictionary(prev).get('image'))\n",
    "    Z = ee.Image(ee.Dictionary(prev).get('Z'))\n",
    "    allrhos = ee.List(ee.Dictionary(prev).get('allrhos'))\n",
    "    nBands = image.bandNames().length().divide(2)\n",
    "    weights = chi2cdf(Z,nBands).subtract(1).multiply(-1)\n",
    "    scale = ee.Dictionary(prev).getNumber('scale')\n",
    "    niter = ee.Dictionary(prev).getNumber('niter')\n",
    "    # Weighted stacked image and weighted covariance matrix.\n",
    "    centeredImage, covarArray = covarw(image, weights, scale)\n",
    "    bNames = centeredImage.bandNames()\n",
    "    bNames1 = bNames.slice(0, nBands)\n",
    "    bNames2 = bNames.slice(nBands)\n",
    "    centeredImage1 = centeredImage.select(bNames1)\n",
    "    centeredImage2 = centeredImage.select(bNames2)\n",
    "    s11 = covarArray.slice(0, 0, nBands).slice(1, 0, nBands)\n",
    "    s22 = covarArray.slice(0, nBands).slice(1, nBands)\n",
    "    s12 = covarArray.slice(0, 0, nBands).slice(1, nBands)\n",
    "    s21 = covarArray.slice(0, nBands).slice(1, 0, nBands)\n",
    "    c1 = s12.matrixMultiply(s22.matrixInverse()).matrixMultiply(s21)\n",
    "    b1 = s11\n",
    "    c2 = s21.matrixMultiply(s11.matrixInverse()).matrixMultiply(s12)\n",
    "    b2 = s22\n",
    "    # Solution of generalized eigenproblems.\n",
    "    lambdas, A = geneiv(c1, b1)\n",
    "    _, B       = geneiv(c2, b2)\n",
    "    rhos = lambdas.sqrt().project(ee.List([1]))\n",
    "    # Test for convergence.\n",
    "    lastrhos = ee.Array(allrhos.get(-1))\n",
    "    done = rhos.subtract(lastrhos) \\\n",
    "               .abs() \\\n",
    "               .reduce(ee.Reducer.max(), ee.List([0])) \\\n",
    "               .lt(ee.Number(0.0001)) \\\n",
    "               .toList() \\\n",
    "               .get(0)\n",
    "    allrhos = allrhos.cat([rhos.toList()])\n",
    "    # MAD variances.\n",
    "    sigma2s = rhos.subtract(1).multiply(-2).toList()\n",
    "    sigma2s = ee.Image.constant(sigma2s)\n",
    "    # Ensure sum of positive correlations between X and U is positive.\n",
    "    tmp = s11.matrixDiagonal().sqrt()\n",
    "    ones = tmp.multiply(0).add(1)\n",
    "    tmp = ones.divide(tmp).matrixToDiag()\n",
    "    s = tmp.matrixMultiply(s11).matrixMultiply(A).reduce(ee.Reducer.sum(), [0]).transpose()\n",
    "    A = A.matrixMultiply(s.divide(s.abs()).matrixToDiag())\n",
    "    # Ensure positive correlation.\n",
    "    tmp = A.transpose().matrixMultiply(s12).matrixMultiply(B).matrixDiagonal()\n",
    "    tmp = tmp.divide(tmp.abs()).matrixToDiag()\n",
    "    B = B.matrixMultiply(tmp)\n",
    "    # Canonical and MAD variates.\n",
    "    centeredImage1Array = centeredImage1.toArray().toArray(1)\n",
    "    centeredImage2Array = centeredImage2.toArray().toArray(1)\n",
    "    U = ee.Image(A.transpose()).matrixMultiply(centeredImage1Array) \\\n",
    "                   .arrayProject([0]) \\\n",
    "                   .arrayFlatten([bNames1])\n",
    "    V = ee.Image(B.transpose()).matrixMultiply(centeredImage2Array) \\\n",
    "                   .arrayProject([0]) \\\n",
    "                   .arrayFlatten([bNames2])\n",
    "    iMAD = U.subtract(V)\n",
    "    # Chi-square image.\n",
    "    Z = iMAD.pow(2) \\\n",
    "              .divide(sigma2s) \\\n",
    "              .reduce(ee.Reducer.sum())\n",
    "    return ee.Dictionary({'done': done, 'scale': scale, 'niter': niter.add(1),\n",
    "                          'image': image, 'allrhos': allrhos, 'Z': Z, 'iMAD': iMAD}) \n",
    "\n",
    "#@title Run iMAD algorithm as export task\n",
    "def run_imad(aoi, image1, image2, assetFN, scale=10, maxiter=100):\n",
    "    try:\n",
    "        N = image1.bandNames().length().getInfo()\n",
    "        imadnames = ['iMAD'+str(i+1) for i in range(N)]\n",
    "        imadnames.append('Z')\n",
    "        # Maximum iterations.\n",
    "        inputlist = ee.List.sequence(1, maxiter)\n",
    "        first = ee.Dictionary({'done':0,\n",
    "                            'scale': scale,\n",
    "                            'niter': ee.Number(0),\n",
    "                            'image': image1.addBands(image2),\n",
    "                            'allrhos': [ee.List.sequence(1, N)],\n",
    "                            'Z': ee.Image.constant(0),\n",
    "                            'iMAD': ee.Image.constant(0)})\n",
    "        # Iteration.\n",
    "        result = ee.Dictionary(inputlist.iterate(imad, first))\n",
    "        # Retrieve results.\n",
    "        iMAD = ee.Image(result.get('iMAD')).clip(aoi)\n",
    "        rhos = ee.String.encodeJSON(ee.List(result.get('allrhos')).get(-1))\n",
    "        Z = ee.Image(result.get('Z'))\n",
    "        niter = result.getNumber('niter')\n",
    "        # Export iMAD and Z as a singe image, including rhos and number of iterations in properties.\n",
    "        iMAD_export = ee.Image.cat(iMAD, Z).rename(imadnames).set('rhos', rhos, 'niter', niter)\n",
    "        assetId = EXPORT_PATH + assetFN\n",
    "        assexport = ee.batch.Export.image.toAsset(iMAD_export,\n",
    "                        description='assetExportTask',\n",
    "                        assetId=assetId, scale=scale, maxPixels=1e10)\n",
    "        assexport.start()\n",
    "        print('Exporting iMAD to %s\\n task id: %s'%(assetId, str(assexport.id)))\n",
    "    except Exception as e:\n",
    "        print('Error: %s'%e)\n"
   ]
  },
  {
   "cell_type": "markdown",
   "metadata": {},
   "source": [
    "### Relative radiometric normalization\n",
    "We  will illustrate the idea with the German administrative district scene used in the first two parts of this tutorial, the Landkreis Olpe. Once we have isolated what we think to be the no change pixels for two different Sentinel-2 acquisitions in the aoi, we can perform a regression analysis on them to determine how well their radiometric parameters compare *relative* to the identified no change pixels in the two scenes. Clearly, both variables involved have measurement uncertainty associated with them. In fact which acquisition is termed reference and which is termed  target data is arbitrary. Therefore it is preferable to use *orthogonal linear regression* rather than ordinary linear regression. The former method treats the data symmetrically whereas the latter assumes uncertainty only in the dependent variable. \n",
    "\n",
    "Orthogonal linear regression on two variables is explained in detail in the Appendix of [Canty et al. (2004)](https://www2.imm.dtu.dk/pubdb/pubs/2815-full.html) but can be briefly summarized as follows: Let the no change observations in a given spectral band of the reference and target images be $X_i$ and $Y_i, \\ i=1\\dots n$, respectively. Then define the $n\\times 2$ *data matrix*\n",
    "\n",
    "$$\n",
    "d = \\begin{pmatrix} X_1 & Y_1\\cr X_2 & Y_2 \\cr \\vdots & \\vdots \\cr X_n & Y_n\\end{pmatrix},\n",
    "$$\n",
    "\n",
    "and calculate from it the mean values $\\bar X,\\ \\bar Y$ and the covariance matrix\n",
    "\n",
    "$$\n",
    "\\Sigma =\\begin{pmatrix} \\sigma^2_X & \\sigma_{XY} \\cr \\sigma_{YX}\\ & \\sigma^2_Y\\end{pmatrix}. \n",
    "$$\n",
    "\n",
    "The best estimates for the slope $b$ and intercept $a$ of the orthogonal regression line\n",
    "\n",
    "$$\n",
    "Y = bX+a\n",
    "$$\n",
    "\n",
    "are then given by\n",
    "\n",
    "$$\n",
    "\\hat b = {\\sigma^2_X -\\sigma^2_Y + \\sqrt{(\\sigma^2_X -\\sigma^2_Y)^2+4\\sigma^2_{XY}}\\over 2\\sigma_{XY}}, \\quad \\hat a = \\bar Y - b\\bar X.\n",
    "$$\n",
    "\n",
    "As a simple quality criterion we can use the correlation coefficient \n",
    "\n",
    "$$\\rho = {\\sigma_{XY}\\over \\sigma_X\\sigma_Y}$$\n",
    "\n",
    "which has value one for a perfect fit.\n",
    "\n",
    "The following cell codes a function to iterate orthogonal regression over all of the spectral bands of an image pair."
   ]
  },
  {
   "cell_type": "code",
   "execution_count": 23,
   "metadata": {
    "tags": []
   },
   "outputs": [],
   "source": [
    "def orthoregress(current, prev):\n",
    "    ''' \n",
    "    Iterator function for orthogonal regression \n",
    "    '''\n",
    "    k = ee.Number(current)\n",
    "    prev = ee.Dictionary(prev)\n",
    "    # image is concatenation of reference and target\n",
    "    image = ee.Image(prev.get('image'))\n",
    "    coeffs = ee.List(prev.get('coeffs'))\n",
    "    N = image.bandNames().length().divide(2)\n",
    "    # data matrix\n",
    "    d = image.select(k, k.add(N))\n",
    "    means = d.reduceRegion(ee.Reducer.mean(), scale = 10, maxPixels = 1e10) \\\n",
    "                  .toArray() \\\n",
    "                  .project([0])\n",
    "    Xm = means.get([0])\n",
    "    Ym = means.get([1])  \n",
    "    Sigma = ee.Array(d.toArray() \\\n",
    "              .reduceRegion(ee.Reducer.covariance(), scale = 10, maxPixels = 1e10) \\\n",
    "              .get('array'))\n",
    "    Sxx = Sigma.get([0, 0])\n",
    "    Syy = Sigma.get([1, 1])\n",
    "    Sxy = Sigma.get([0, 1])\n",
    "    # Correlation \n",
    "    rho = Sxy.divide(Sxx.multiply(Syy).sqrt())\n",
    "    # orthoregress reference onto target    \n",
    "    b = Syy.subtract(Sxx) \\\n",
    "           .add(Syy.subtract(Sxx).pow(2).add(Sxy.pow(2).multiply(4)).sqrt()) \\\n",
    "           .divide(Sxy.multiply(2))\n",
    "    a = Ym.subtract(b.multiply(Xm))\n",
    "    coeffs = coeffs.add(ee.List([b, a, rho]))\n",
    "    return ee.Dictionary({'image':image,'coeffs':coeffs})\n",
    "\n",
    "def normalize( ref, target, imadID, pmin = 0.9, bandNames = ['B2', 'B3', 'B4', 'B8', 'B11', 'B12'] ):\n",
    "    '''\n",
    "    Relative radiometric normalization of target to reference\n",
    "    using iMAD for 6-band visual/infrared images\n",
    "\n",
    "    Args:\n",
    "    - ref: Reference image\n",
    "    - target: Target image\n",
    "    - imadID: Asset ID of iMAD image\n",
    "    - pmin: Minimum p-value for identifying no change\n",
    "    - bandNames: Band names (default: S2 visual/infrared)\n",
    "\n",
    "    Returns:\n",
    "    - Tuple containing normalized target, coefficients, image stack, and no-change mask\n",
    "    '''\n",
    "    try:\n",
    "        # Get iMAD result and mask out water surfaces\n",
    "        waterMask = ee.Image('UMD/hansen/global_forest_change_2015').select('datamask').eq(1)\n",
    "        res = ee.Image(EXPORT_PATH + imadID).updateMask(waterMask)\n",
    "        # iMAD image\n",
    "        imad = res.select(0, 1, 2, 3, 4, 5)\n",
    "        # chi-square test statistic\n",
    "        z = res.select(6).rename('Z')\n",
    "        niter = imad.get('niter').getInfo()\n",
    "        rhos = ee.List(imad.get('rhos')).getInfo()\n",
    "        print('iMAD result:')\n",
    "        print('iterations: %i'%niter)\n",
    "        print('canonical correlations: %s'%rhos)\n",
    "        print('orthogonal regression:')\n",
    "        # p-values\n",
    "        pval = chi2cdf(z, 6).subtract(1).multiply(-1).rename('pval')\n",
    "        # no-change mask using p-values greater than pmin\n",
    "        noChangeMask = pval.gt(pmin)\n",
    "        # stack (concatenate) the reference and target inmages\n",
    "        im_stack = ee.Image.cat(ref, target).clip(aoi).updateMask(noChangeMask)\n",
    "        # iterate ortho regression over spectral bands\n",
    "        first = ee.Dictionary({'image': im_stack, 'coeffs': ee.List([])})\n",
    "        result = ee.Dictionary(ee.List.sequence(0, 5).iterate(orthoregress, first))\n",
    "        # display results\n",
    "        coeffs = np.array(result.get('coeffs').getInfo())\n",
    "        print('          Slope        Intercept      Rho')\n",
    "        pprint(coeffs)\n",
    "        a = coeffs[:, 1].tolist()\n",
    "        b = coeffs[:, 0].tolist()\n",
    "        # Normalize target:  Y = b X + a => X = (Y - a) / b  \n",
    "        target_norm = target.subtract(ee.Image.constant(a)).divide(ee.Image.constant(b)).rename(bandNames)\n",
    "        return (target_norm, coeffs, im_stack, noChangeMask)\n",
    "    except ee.EEException as e:\n",
    "        print(\"Error:\", e)\n",
    "        return (None, None, None, None)"
   ]
  },
  {
   "cell_type": "markdown",
   "metadata": {},
   "source": [
    "### A Slightly Artificial Example\n",
    "\n",
    "As a first illustration, we collect two minimally cloudy Sentinel-2 images over the Landkreis Olpe aoi from June, 2022 using the *collect* function from Part 2, capturing both SR and TOA reflectances:"
   ]
  },
  {
   "cell_type": "code",
   "execution_count": 6,
   "metadata": {
    "tags": []
   },
   "outputs": [],
   "source": [
    "# Landkreis Olpe area of interest.\n",
    "# (`aois` FeatureCollection is owned and managed by tutorial author)\n",
    "aois = ee.FeatureCollection('projects/ee-mortcanty/assets/dvg1krs_nw').geometry()\n",
    "aoi = ee.Geometry(aois.geometries().get(26))\n",
    "location = aoi.centroid().coordinates().getInfo()[::-1]\n",
    "\n",
    "# Spectral band combinations\n",
    "#Sentinel-2\n",
    "visirbands = ['B2', 'B3', 'B4', 'B8', 'B11', 'B12']\n",
    "visnirbands = ['B8','B3','B2']\n",
    "visbands = ['B2', 'B3', 'B4']\n",
    "irbands = ['B8', 'B11', 'B12']\n",
    "rededgebands = ['B5', 'B6', 'B7', 'B8A'] \n",
    "visnirparams = {'min': [0,0,0], 'max': [6000,1500,1500]}\n",
    "visparams = {'min': [0,0,0], 'max': [1500,1500,1500]}\n",
    "# Landsat-9 surface reflectance\n",
    "visirbands_ls = ['SR_B2','SR_B3','SR_B4','SR_B5','SR_B6','SR_B7']\n",
    "visnirbands_ls = ['SR_B5','SR_B3','SR_B2']\n",
    "# Rescale LS-9 SR to Sentinel-2 SR\n",
    "def rescale_ls(image):\n",
    "    return image.select(1,2,3,4,5,6).multiply(0.0000275).add(-0.2).multiply(10000)"
   ]
  },
  {
   "cell_type": "code",
   "execution_count": 8,
   "metadata": {
    "tags": []
   },
   "outputs": [
    {
     "name": "stdout",
     "output_type": "stream",
     "text": [
      "Thu Jun 16 10:46:56 2022\n",
      "Thu Jun 23 10:37:00 2022\n"
     ]
    }
   ],
   "source": [
    "im1_sr, im2_toa = collect(aoi, '2022-06-15', '2022-06-17', '2022-06-22', '2022-06-24', 'COPERNICUS/S2_SR_HARMONIZED', coll2 = 'COPERNICUS/S2_HARMONIZED')"
   ]
  },
  {
   "cell_type": "markdown",
   "metadata": {},
   "source": [
    "Now we will do a relative radiometric normalization of the TOA image to the SR image. This is obviously a constructed example, as the target image, corrected to surface reflectance, is already avaiable. \n",
    "\n",
    "First we require the iMAD result:"
   ]
  },
  {
   "cell_type": "code",
   "execution_count": null,
   "metadata": {
    "tags": []
   },
   "outputs": [],
   "source": [
    "run_imad(aoi, im1_sr.select(visirbands), im2_toa.select(visirbands), 'MAD_Im1_sr_Im2_toa')"
   ]
  },
  {
   "cell_type": "markdown",
   "metadata": {},
   "source": [
    "After the iMAD export is finished, we can apply the normalization procedure, choosing a minimum p-value of 0.9 (the default) for the no change pixels:"
   ]
  },
  {
   "cell_type": "code",
   "execution_count": 24,
   "metadata": {},
   "outputs": [
    {
     "name": "stdout",
     "output_type": "stream",
     "text": [
      "iMAD result:\n",
      "iterations: 55\n",
      "canonical correlations: [0.9962911580326388,0.9939077628477124,0.9734859986778532,0.9382149017221222,0.8926650749943343,0.7337428003834416]\n",
      "orthogonal regression:\n",
      "          Slope        Intercept      Rho\n",
      "array([[  0.81309867, 691.93588492,   0.96608128],\n",
      "       [  0.78237873, 442.69252666,   0.98327486],\n",
      "       [  0.92497782, 256.47932175,   0.991671  ],\n",
      "       [  0.84986581, 372.00351353,   0.99695427],\n",
      "       [  1.01512063,  88.62810783,   0.99700816],\n",
      "       [  0.93578682,  31.90432218,   0.99676102]])\n"
     ]
    }
   ],
   "source": [
    "target = im2_toa.select(visirbands)\n",
    "reference = im1_sr.select(visirbands)\n",
    "im2_toa_norm, coeffs, im_stack, noChangeMask = normalize( reference, target, 'MAD_Im1_sr_Im2_toa' )\n",
    "# no change image\n",
    "nc = ee.Image.constant(1).clip(aoi).updateMask(noChangeMask)"
   ]
  },
  {
   "cell_type": "markdown",
   "metadata": {},
   "source": [
    "The $\\rho$ values are all $>0.96$ indicating well-defined regressions. Here we have a look at them:"
   ]
  },
  {
   "cell_type": "code",
   "execution_count": null,
   "metadata": {
    "tags": []
   },
   "outputs": [],
   "source": [
    "def plot_orthoregress(coeffs, im_stack, bandNames=visirbands, aoi=None):\n",
    "    ''' plot the regression fits for 6 spectral bands '''\n",
    "    fig, ax = plt.subplots(2, 3, figsize=(12, 8))\n",
    "    a = coeffs[:, 1].tolist()\n",
    "    b = coeffs[:, 0].tolist()\n",
    "    \n",
    "    for i in range(3):\n",
    "        # Visual bands\n",
    "        try:\n",
    "            d = np.array(ee.Array(im_stack.select(i, 6 + i)\n",
    "                                  .reduceRegion(ee.Reducer.toList(2), geometry=aoi, scale=10, maxPixels=1e10)\n",
    "                                  .get('list')).getInfo())\n",
    "            ax[0, i].plot(d[:, 0], d[:, 1], '.', label=bandNames[i])\n",
    "            ax[0, i].set_ylim(-50, 2000)\n",
    "            ax[0, i].set_xlim(-50, 2000)\n",
    "            ax[0, i].plot([-50, 2000], [a[i] - 50 * b[i], a[i] + 2000 * b[i]], '-r', label='ortho regression')\n",
    "            ax[0, i].legend()\n",
    "            ax[0, i].grid()\n",
    "        except ee.EEException as e:\n",
    "            print(\"Error fetching visual band data:\", e)\n",
    "\n",
    "        # IR bands\n",
    "        try:\n",
    "            d = np.array(ee.Array(im_stack.select(i + 3, 9 + i)\n",
    "                                  .reduceRegion(ee.Reducer.toList(2), geometry=aoi, scale=10, maxPixels=1e10)\n",
    "                                  .get('list')).getInfo())\n",
    "            ax[1, i].plot(d[:, 0], d[:, 1], '.', label=bandNames[i + 3])\n",
    "            ax[1, i].set_ylim(-50, 6000)\n",
    "            ax[1, i].set_xlim(-50, 6000)\n",
    "            ax[1, i].plot([-50, 6000], [a[i + 3] - 50 * b[i + 3], a[i + 3] + 6000 * b[i + 3]], '-r', label='ortho regression')\n",
    "            ax[1, i].legend()\n",
    "            ax[1, i].grid()\n",
    "        except ee.EEException as e:\n",
    "            print(\"Error fetching IR band data:\", e)\n",
    "\n",
    "    plt.show()\n"
   ]
  },
  {
   "cell_type": "code",
   "execution_count": 22,
   "metadata": {
    "tags": []
   },
   "outputs": [
    {
     "data": {
      "image/png": "[encoded data removed]",
      "text/plain": [
       "<Figure size 1200x800 with 6 Axes>"
      ]
     },
     "metadata": {},
     "output_type": "display_data"
    }
   ],
   "source": [
    "plot_orthoregress( coeffs, im_stack )"
   ]
  },
  {
   "cell_type": "markdown",
   "metadata": {},
   "source": [
    "The next cell compares the normalized and unnormalized TOA images with the reference SR image. The no-change pixels used in the regression are also displayed:"
   ]
  },
  {
   "cell_type": "code",
   "execution_count": 13,
   "metadata": {},
   "outputs": [
    {
     "data": {
      "application/vnd.jupyter.widget-view+json": {
       "model_id": "fd6500f0dc1f4f6787eb5a4f2a9f80ea",
       "version_major": 2,
       "version_minor": 0
      },
      "text/plain": [
       "Map(center=[51.08617675675536, 7.976478425048881], controls=(ZoomControl(options=['position', 'zoom_in_text', …"
      ]
     },
     "metadata": {},
     "output_type": "display_data"
    }
   ],
   "source": [
    "M1 = Map(**{'center': location, 'zoom': 13})\n",
    "M1.addLayer(im1_sr.select(visnirbands), visnirparams, 'Im1_sr')\n",
    "M1.addLayer(im2_toa.select(visnirbands), visnirparams, 'Im2_toa')\n",
    "M1.addLayer(im2_toa_norm.select(visnirbands),visnirparams, 'Im2_toa_norm')\n",
    "M1.addLayer(nc,{'min': 0, 'max': 1, 'palette': ['yellow']}, 'no change')\n",
    "\n",
    "M1"
   ]
  },
  {
   "cell_type": "markdown",
   "metadata": {},
   "source": [
    "As we might expect, comparison of the NDVI indices is meaningful after the radiometric normalization, but not before:"
   ]
  },
  {
   "cell_type": "code",
   "execution_count": 14,
   "metadata": {},
   "outputs": [],
   "source": [
    "def ndvi_s2(im):\n",
    "    ''' Sentinel-2 NDVI '''\n",
    "    return im.select('B8').subtract(im.select('B4')).divide(im.select('B8').add(im.select('B4')))    "
   ]
  },
  {
   "cell_type": "code",
   "execution_count": 15,
   "metadata": {},
   "outputs": [
    {
     "data": {
      "application/vnd.jupyter.widget-view+json": {
       "model_id": "4b9400681598406aa45831370b3d8325",
       "version_major": 2,
       "version_minor": 0
      },
      "text/plain": [
       "Map(center=[51.08617675675536, 7.976478425048881], controls=(ZoomControl(options=['position', 'zoom_in_text', …"
      ]
     },
     "metadata": {},
     "output_type": "display_data"
    }
   ],
   "source": [
    "M2 = Map(**{'center': location, 'zoom': 13})\n",
    "M2.addLayer(ndvi_s2(im1_sr), {'min': 0, 'max': 1.2, 'palette': ['black','yellow']}, 'Im1_ndvi')\n",
    "M2.addLayer(ndvi_s2(im2_toa_norm), {'min': 0, 'max': 1.2, 'palette': ['black','yellow']}, 'Im2_toa_norm_ndvi')\n",
    "M2.addLayer(ndvi_s2(im2_toa), {'min': 0, 'max': 1.2, 'palette': ['black','yellow']}, 'Im2_toa_ndvi')\n",
    "\n",
    "M2"
   ]
  },
  {
   "cell_type": "markdown",
   "metadata": {},
   "source": [
    "### A More Realistic Example\n",
    "\n",
    "Top of atmosphere reflectance images are available for Sentinel-2 from 2015-06-23, surface reflectance images only from 2017-03-28. So we might attempt to normalize historical TOA images to their earliest SR counterparts. Here for example we gather a SR image from May, 2017 and a TOA image from May, 2016:"
   ]
  },
  {
   "cell_type": "code",
   "execution_count": 18,
   "metadata": {
    "tags": []
   },
   "outputs": [
    {
     "name": "stdout",
     "output_type": "stream",
     "text": [
      "Wed May 10 10:30:25 2017\n",
      "Sun May 08 10:40:27 2016\n"
     ]
    }
   ],
   "source": [
    "im1_sr, im2_toa = collect(aoi, '2017-05-01', '2017-05-31', '2016-05-01', '2016-05-31', 'COPERNICUS/S2_SR_HARMONIZED', coll2 = 'COPERNICUS/S2_HARMONIZED')"
   ]
  },
  {
   "cell_type": "markdown",
   "metadata": {},
   "source": [
    "Again we first run the iMAD algorithm on the two images:"
   ]
  },
  {
   "cell_type": "code",
   "execution_count": 40,
   "metadata": {
    "tags": []
   },
   "outputs": [
    {
     "name": "stdout",
     "output_type": "stream",
     "text": [
      "Exporting iMAD to projects/ee-mortcanty/assets/imad/MAD_Im1_sr_Im1_toa\n",
      " task id: RLS2XMQVI47LZBKFQ43BSMHE\n"
     ]
    }
   ],
   "source": [
    "run_imad(aoi, im1_sr.select(visirbands), im1_toa.select(visirbands), 'MAD_Im1_sr_Im1_toa', maxiter = 200)"
   ]
  },
  {
   "cell_type": "markdown",
   "metadata": {},
   "source": [
    "And then perform the orthogonal regression on the invariant pixels:"
   ]
  },
  {
   "cell_type": "code",
   "execution_count": 21,
   "metadata": {},
   "outputs": [
    {
     "name": "stdout",
     "output_type": "stream",
     "text": [
      "iMAD result:\n",
      "iterations: 116\n",
      "canonical correlations: [0.978803730721502,0.9623036622088108,0.7675674615822352,0.693487695494234,0.6247868148932479,0.4551084766704983]\n",
      "orthogonal regression:\n",
      "          Slope        Intercept      Rho\n",
      "array([[  0.68664909, 631.79125715,   0.90532961],\n",
      "       [  0.69981886, 379.01718799,   0.9629185 ],\n",
      "       [  0.78308269, 213.5314547 ,   0.94080501],\n",
      "       [  0.84859266,   6.12569729,   0.97992413],\n",
      "       [  0.9574861 , -77.92251406,   0.97503978],\n",
      "       [  0.8702266 , -26.34646559,   0.96621236]])\n"
     ]
    }
   ],
   "source": [
    "target = im2_toa.select(visirbands)\n",
    "reference = im1_sr.select(visirbands)\n",
    "im2_toa_norm, coeffs, im_stack, noChangeMask = normalize( reference, target, 'MAD_Im1_sr_Im1_toa' )\n",
    "# no change image\n",
    "nc = ee.Image.constant(1).clip(aoi).updateMask(noChangeMask)"
   ]
  },
  {
   "cell_type": "code",
   "execution_count": 22,
   "metadata": {
    "tags": []
   },
   "outputs": [
    {
     "data": {
      "image/png": "[encoded data removed]",
      "text/plain": [
       "<Figure size 1200x800 with 6 Axes>"
      ]
     },
     "metadata": {},
     "output_type": "display_data"
    }
   ],
   "source": [
    "plot_orthoregress( coeffs, im_stack )"
   ]
  },
  {
   "cell_type": "markdown",
   "metadata": {},
   "source": [
    "The above plot for the NIR band B8 is interesting as it seems to indicate that the surface reflectance correction is slightly nonlinear.\n",
    "In any case, the regression plots look reasonable, so here again is the comparison of the normalized and unnormalized TOA images with the reference SR image:"
   ]
  },
  {
   "cell_type": "code",
   "execution_count": 23,
   "metadata": {},
   "outputs": [
    {
     "data": {
      "application/vnd.jupyter.widget-view+json": {
       "model_id": "de4073be797544bdb0674a3a2d882a52",
       "version_major": 2,
       "version_minor": 0
      },
      "text/plain": [
       "Map(center=[51.08617675675536, 7.976478425048881], controls=(ZoomControl(options=['position', 'zoom_in_text', …"
      ]
     },
     "metadata": {},
     "output_type": "display_data"
    }
   ],
   "source": [
    "M3 = Map(**{'center': location, 'zoom': 13})\n",
    "M3.addLayer(im1_sr.select(visnirbands), visnirparams, 'Im1_sr')\n",
    "M3.addLayer(im2_toa.select(visnirbands),visnirparams, 'Im1_toa')\n",
    "M3.addLayer(im2_toa_norm.select(visnirbands),visnirparams, 'Im2_toa_norm')\n",
    "M3.addLayer(nc,{'min': 0, 'max': 1, 'palette': ['yellow']}, 'no change')\n",
    "\n",
    "M3"
   ]
  },
  {
   "cell_type": "markdown",
   "metadata": {},
   "source": [
    "### Harmonization\n",
    "\n",
    "The term *harmonization*, with reference to Sentinel-2 data, has a special meaning, see [the note](https://developers.google.com/earth-engine/datasets/catalog/sentinel-2)  in the GEE data calalogue. However here we'll use it to characterize relative radiometric normalization across two different remote sensing satellite missions.\n",
    "\n",
    "Landsat-9 surface reflectance images are available from October, 2021, Landsat-8 SR from March, 2013. Paralleling our investigation of clear cutting in Part 2, we gather a cloud-free Landsat-8 image from March 30, 2021 and a Landsat-9 acquisition from March 9, 2022, likewise cloud-free. For convenience the reflectances are rescaled to the same range $[0,10000]$ as for Sentinel-2."
   ]
  },
  {
   "cell_type": "code",
   "execution_count": 24,
   "metadata": {
    "tags": []
   },
   "outputs": [
    {
     "name": "stdout",
     "output_type": "stream",
     "text": [
      "Tue Mar 30 10:21:16 2021\n",
      "Wed Mar 09 10:21:31 2022\n"
     ]
    }
   ],
   "source": [
    "im_ls8, im_ls9 = collect(aoi, '2021-03-29', '2021-03-31', '2022-03-08', '2022-03-10', 'LANDSAT/LC08/C02/T1_L2', coll2 = 'LANDSAT/LC09/C02/T1_L2' )\n",
    "im_ls8 = rescale_ls(im_ls8)\n",
    "im_ls9 = rescale_ls(im_ls9)"
   ]
  },
  {
   "cell_type": "markdown",
   "metadata": {},
   "source": [
    "Run the iMAD algorithm:"
   ]
  },
  {
   "cell_type": "code",
   "execution_count": 90,
   "metadata": {
    "tags": []
   },
   "outputs": [
    {
     "name": "stdout",
     "output_type": "stream",
     "text": [
      "Exporting iMAD to projects/ee-mortcanty/assets/imad/MAD_Im_ls8_Im_ls9\n",
      " task id: VYEF35H4OMNECFKAJK3I63MB\n"
     ]
    }
   ],
   "source": [
    "run_imad(aoi, im_ls8.select(visirbands_ls), im_ls9.select(visirbands_ls), 'MAD_Im_ls8_Im_ls9', scale = 30, maxiter = 200)"
   ]
  },
  {
   "cell_type": "markdown",
   "metadata": {},
   "source": [
    "And perform the normalization (or rather, the harmonization):"
   ]
  },
  {
   "cell_type": "code",
   "execution_count": 25,
   "metadata": {},
   "outputs": [
    {
     "name": "stdout",
     "output_type": "stream",
     "text": [
      "iMAD result:\n",
      "iterations: 167\n",
      "canonical correlations: [0.9933016115601921,0.9792516098152604,0.9282423751428109,0.8625067784493653,0.8189629188189851,0.8000763065715137]\n",
      "orthogonal regression:\n",
      "          Slope        Intercept      Rho\n",
      "array([[  1.0385996 ,  32.94500806,   0.98939865],\n",
      "       [  1.00913629,  46.23659769,   0.99246609],\n",
      "       [  1.04919198,  35.76845008,   0.99456391],\n",
      "       [  0.83110788, 229.27202712,   0.98270439],\n",
      "       [  1.05756589,  82.53860386,   0.99393479],\n",
      "       [  1.09603549,  37.89210718,   0.99464163]])\n"
     ]
    }
   ],
   "source": [
    "target = im_ls8.select(visirbands_ls)\n",
    "reference = im_ls9.select(visirbands_ls)\n",
    "im_ls8_norm, coeffs, im_stack, noChangeMask = normalize( reference, target, 'MAD_Im_ls8_Im_ls9', pmin = 0.9, bandNames = visirbands_ls )\n",
    "# no change image\n",
    "nc = ee.Image.constant(1).clip(aoi).updateMask(noChangeMask)"
   ]
  },
  {
   "cell_type": "code",
   "execution_count": 26,
   "metadata": {
    "tags": []
   },
   "outputs": [
    {
     "data": {
      "image/png": "[encoded data removed]",
      "text/plain": [
       "<Figure size 1200x800 with 6 Axes>"
      ]
     },
     "metadata": {},
     "output_type": "display_data"
    }
   ],
   "source": [
    "plot_orthoregress( coeffs, im_stack, bandNames = visirbands_ls )"
   ]
  },
  {
   "cell_type": "markdown",
   "metadata": {},
   "source": [
    "For most of the bands the intercepts are small and the slopes fairly close to one. The NIR band 'SR_B5' is the exception. This is apparent in the direct comparison of the original and harmonized Landsat 8 images:"
   ]
  },
  {
   "cell_type": "code",
   "execution_count": 28,
   "metadata": {},
   "outputs": [
    {
     "data": {
      "application/vnd.jupyter.widget-view+json": {
       "model_id": "d2862ff2acca453ca1e3f8c1121e699d",
       "version_major": 2,
       "version_minor": 0
      },
      "text/plain": [
       "Map(center=[51.08617675675536, 7.976478425048881], controls=(ZoomControl(options=['position', 'zoom_in_text', …"
      ]
     },
     "metadata": {},
     "output_type": "display_data"
    }
   ],
   "source": [
    "M4 = Map(**{'center': location, 'zoom': 11})\n",
    "M4.addLayer(im_ls9.select(visnirbands_ls), visnirparams, 'Im_ls9')\n",
    "M4.addLayer(im_ls8.select(visnirbands_ls),visnirparams, 'Im_ls8')\n",
    "M4.addLayer(im_ls8_norm.select(visnirbands_ls),visnirparams, 'Im_ls8_norm')\n",
    "M4.addLayer(nc,{'min': 0, 'max': 1, 'palette': ['yellow']}, 'no change')\n",
    "\n",
    "M4"
   ]
  },
  {
   "cell_type": "markdown",
   "metadata": {},
   "source": [
    "### Conclusion\n",
    "\n",
    "This ends our three part tutorial on GEE change detection with the iMAD transformation. We hope it has been useful and informative for anyone facing the task of discriminating changes and/or invariances in multispecral image pairs, particularly in the GEE environment. "
   ]
  },
  {
   "cell_type": "markdown",
   "metadata": {},
   "source": [
    "### Exercises"
   ]
  },
  {
   "cell_type": "markdown",
   "metadata": {},
   "source": [
    "1. By clustering the Landsat iMAD image from the last example, try to determine the total forest cover loss due to clear cutting between the two acquisitions, see Part 2."
   ]
  },
  {
   "cell_type": "code",
   "execution_count": null,
   "metadata": {},
   "outputs": [],
   "source": [
    "im_imad = ee.Image(EXPORT_PATH + 'MAD_Im_ls8_Im_ls9').select(0,1,2,3,4,5)"
   ]
  },
  {
   "cell_type": "markdown",
   "metadata": {},
   "source": [
    "2. The following code generates a time series of 8 relatively cloud-free Sentinel-2 TOA images from June to September, 2022. Use the methods discussed above to perform a relative radiometric normalization of the entire series. "
   ]
  },
  {
   "cell_type": "code",
   "execution_count": null,
   "metadata": {},
   "outputs": [],
   "source": [
    "im1, im2 = collect(aoi, '2022-06-15', '2022-06-17', '2022-06-22', '2022-06-24', 'COPERNICUS/S2_HARMONIZED')\n",
    "im3, im4 = collect(aoi, '2022-06-25', '2022-07-09', '2022-07-09', '2022-07-24', 'COPERNICUS/S2_HARMONIZED')\n",
    "im5, im6 = collect(aoi, '2022-07-28', '2022-07-31', '2022-08-01', '2022-08-31', 'COPERNICUS/S2_HARMONIZED')\n",
    "im7, im8 = collect(aoi, '2022-08-13', '2022-08-31', '2022-09-01', '2022-09-30', 'COPERNICUS/S2_HARMONIZED')"
   ]
  }
 ],
 "metadata": {
  "colab": {
   "collapsed_sections": [],
   "provenance": []
  },
  "kernelspec": {
   "display_name": "Python 3 (ipykernel)",
   "language": "python",
   "name": "python3"
  },
  "language_info": {
   "codemirror_mode": {
    "name": "ipython",
    "version": 3
   },
   "file_extension": ".py",
   "mimetype": "text/x-python",
   "name": "python",
   "nbconvert_exporter": "python",
   "pygments_lexer": "ipython3",
   "version": "3.10.6"
  },
  "widgets": {
   "application/vnd.jupyter.widget-state+json": {
    "0051688d47ec48b7b607c9268ac35ad0": {
     "model_module": "jupyter-leaflet",
     "model_module_version": "^0.17",
     "model_name": "LeafletAttributionControlModel",
     "state": {
      "_model_module": "jupyter-leaflet",
      "_model_module_version": "^0.17",
      "_model_name": "LeafletAttributionControlModel",
      "_view_count": null,
      "_view_module": "jupyter-leaflet",
      "_view_module_version": "^0.17",
      "_view_name": "LeafletAttributionControlView",
      "options": [
       "position",
       "prefix"
      ],
      "position": "bottomright",
      "prefix": "ipyleaflet"
     }
    },
    "0b607d9ba66e49c9b2d703f0ce5e8b53": {
     "model_module": "jupyter-leaflet",
     "model_module_version": "^0.17",
     "model_name": "LeafletMapStyleModel",
     "state": {
      "_model_module": "jupyter-leaflet",
      "_model_module_version": "^0.17",
      "_model_name": "LeafletMapStyleModel",
      "_view_count": null,
      "_view_module": "@jupyter-widgets/base",
      "_view_module_version": "1.2.0",
      "_view_name": "StyleView",
      "cursor": "grab"
     }
    },
    "0e6ad59a45224ccf8e581277305eefc8": {
     "model_module": "jupyter-leaflet",
     "model_module_version": "^0.17",
     "model_name": "LeafletMapStyleModel",
     "state": {
      "_model_module": "jupyter-leaflet",
      "_model_module_version": "^0.17",
      "_model_name": "LeafletMapStyleModel",
      "_view_count": null,
      "_view_module": "@jupyter-widgets/base",
      "_view_module_version": "1.2.0",
      "_view_name": "StyleView",
      "cursor": "crosshair"
     }
    },
    "161c6f112c4e4fdfacad32030c3dc62a": {
     "model_module": "jupyter-leaflet",
     "model_module_version": "^0.17",
     "model_name": "LeafletMapStyleModel",
     "state": {
      "_model_module": "jupyter-leaflet",
      "_model_module_version": "^0.17",
      "_model_name": "LeafletMapStyleModel",
      "_view_count": null,
      "_view_module": "@jupyter-widgets/base",
      "_view_module_version": "1.2.0",
      "_view_name": "StyleView",
      "cursor": "move"
     }
    },
    "17f7f38cc01646eeb5f986dacaf3112c": {
     "model_module": "jupyter-leaflet",
     "model_module_version": "^0.17",
     "model_name": "LeafletZoomControlModel",
     "state": {
      "_model_module": "jupyter-leaflet",
      "_model_module_version": "^0.17",
      "_model_name": "LeafletZoomControlModel",
      "_view_count": null,
      "_view_module": "jupyter-leaflet",
      "_view_module_version": "^0.17",
      "_view_name": "LeafletZoomControlView",
      "options": [
       "position",
       "zoom_in_text",
       "zoom_in_title",
       "zoom_out_text",
       "zoom_out_title"
      ],
      "position": "topleft",
      "zoom_in_text": "+",
      "zoom_in_title": "Zoom in",
      "zoom_out_text": "-",
      "zoom_out_title": "Zoom out"
     }
    },
    "1b5320a3f5034f939b654ea2a05c60cd": {
     "model_module": "jupyter-leaflet",
     "model_module_version": "^0.17",
     "model_name": "LeafletTileLayerModel",
     "state": {
      "_model_module": "jupyter-leaflet",
      "_model_module_version": "^0.17",
      "_model_name": "LeafletTileLayerModel",
      "_view_count": null,
      "_view_module": "jupyter-leaflet",
      "_view_module_version": "^0.17",
      "_view_name": "LeafletTileLayerView",
      "attribution": null,
      "base": false,
      "bottom": true,
      "bounds": null,
      "detect_retina": false,
      "loading": false,
      "max_native_zoom": null,
      "max_zoom": 18,
      "min_native_zoom": null,
      "min_zoom": 0,
      "name": "MAD012",
      "no_wrap": false,
      "opacity": 1,
      "options": [
       "attribution",
       "bounds",
       "detect_retina",
       "max_native_zoom",
       "max_zoom",
       "min_native_zoom",
       "min_zoom",
       "no_wrap",
       "tile_size",
       "tms",
       "zoom_offset"
      ],
      "pane": "",
      "popup": null,
      "popup_max_height": null,
      "popup_max_width": 300,
      "popup_min_width": 50,
      "show_loading": false,
      "subitems": [],
      "tile_size": 256,
      "tms": false,
      "url": "https://earthengine.googleapis.com/v1alpha/projects/earthengine-legacy/maps/943ed9f3f34c4c07ec5b6f4cf75b1649-bb88d8493f291a4e54d32582a75e3fdd/tiles/{z}/{x}/{y}",
      "visible": true,
      "zoom_offset": 0
     }
    },
    "1cb80da42f2f4c6eb6c1ea6939320282": {
     "model_module": "@jupyter-widgets/base",
     "model_module_version": "1.2.0",
     "model_name": "LayoutModel",
     "state": {
      "_model_module": "@jupyter-widgets/base",
      "_model_module_version": "1.2.0",
      "_model_name": "LayoutModel",
      "_view_count": null,
      "_view_module": "@jupyter-widgets/base",
      "_view_module_version": "1.2.0",
      "_view_name": "LayoutView",
      "align_content": null,
      "align_items": null,
      "align_self": null,
      "border": null,
      "bottom": null,
      "display": null,
      "flex": null,
      "flex_flow": null,
      "grid_area": null,
      "grid_auto_columns": null,
      "grid_auto_flow": null,
      "grid_auto_rows": null,
      "grid_column": null,
      "grid_gap": null,
      "grid_row": null,
      "grid_template_areas": null,
      "grid_template_columns": null,
      "grid_template_rows": null,
      "height": null,
      "justify_content": null,
      "justify_items": null,
      "left": null,
      "margin": null,
      "max_height": null,
      "max_width": null,
      "min_height": null,
      "min_width": null,
      "object_fit": null,
      "object_position": null,
      "order": null,
      "overflow": null,
      "overflow_x": null,
      "overflow_y": null,
      "padding": null,
      "right": null,
      "top": null,
      "visibility": null,
      "width": "100%"
     }
    },
    "20e593fb709a48b790950b9b3d04d21b": {
     "model_module": "jupyter-leaflet",
     "model_module_version": "^0.17",
     "model_name": "LeafletMapStyleModel",
     "state": {
      "_model_module": "jupyter-leaflet",
      "_model_module_version": "^0.17",
      "_model_name": "LeafletMapStyleModel",
      "_view_count": null,
      "_view_module": "@jupyter-widgets/base",
      "_view_module_version": "1.2.0",
      "_view_name": "StyleView",
      "cursor": "crosshair"
     }
    },
    "21a176a9f4e84716bbdb622ef5b71166": {
     "model_module": "jupyter-leaflet",
     "model_module_version": "^0.17",
     "model_name": "LeafletTileLayerModel",
     "state": {
      "_model_module": "jupyter-leaflet",
      "_model_module_version": "^0.17",
      "_model_name": "LeafletTileLayerModel",
      "_view_count": null,
      "_view_module": "jupyter-leaflet",
      "_view_module_version": "^0.17",
      "_view_name": "LeafletTileLayerView",
      "attribution": null,
      "base": false,
      "bottom": true,
      "bounds": null,
      "detect_retina": false,
      "loading": false,
      "max_native_zoom": null,
      "max_zoom": 18,
      "min_native_zoom": null,
      "min_zoom": 0,
      "name": "iMAD_em",
      "no_wrap": false,
      "opacity": 1,
      "options": [
       "attribution",
       "bounds",
       "detect_retina",
       "max_native_zoom",
       "max_zoom",
       "min_native_zoom",
       "min_zoom",
       "no_wrap",
       "tile_size",
       "tms",
       "zoom_offset"
      ],
      "pane": "",
      "popup": null,
      "popup_max_height": null,
      "popup_max_width": 300,
      "popup_min_width": 50,
      "show_loading": false,
      "subitems": [],
      "tile_size": 256,
      "tms": false,
      "url": "https://earthengine.googleapis.com/v1alpha/projects/earthengine-legacy/maps/3a39ef004559d38a52de36e30ea8fe57-4807bcb4dedb910a1460c2b63d2eeefe/tiles/{z}/{x}/{y}",
      "visible": true,
      "zoom_offset": 0
     }
    },
    "22ee2b9e65614c52845e9b31b0b05498": {
     "model_module": "jupyter-leaflet",
     "model_module_version": "^0.17",
     "model_name": "LeafletTileLayerModel",
     "state": {
      "_model_module": "jupyter-leaflet",
      "_model_module_version": "^0.17",
      "_model_name": "LeafletTileLayerModel",
      "_view_count": null,
      "_view_module": "jupyter-leaflet",
      "_view_module_version": "^0.17",
      "_view_name": "LeafletTileLayerView",
      "attribution": "Map tiles by <a href=\"http://stamen.com\">Stamen Design</a>, <a href=\"http://creativecommons.org/licenses/by/3.0\">CC BY 3.0</a> &mdash; Map data &copy; <a href=\"https://www.openstreetmap.org/copyright\">OpenStreetMap</a> contributors",
      "base": true,
      "bottom": true,
      "bounds": null,
      "detect_retina": false,
      "loading": false,
      "max_native_zoom": null,
      "max_zoom": 16,
      "min_native_zoom": null,
      "min_zoom": 1,
      "name": "Stamen.Watercolor",
      "no_wrap": false,
      "opacity": 1,
      "options": [
       "attribution",
       "bounds",
       "detect_retina",
       "max_native_zoom",
       "max_zoom",
       "min_native_zoom",
       "min_zoom",
       "no_wrap",
       "tile_size",
       "tms",
       "zoom_offset"
      ],
      "pane": "",
      "popup": null,
      "popup_max_height": null,
      "popup_max_width": 300,
      "popup_min_width": 50,
      "show_loading": false,
      "subitems": [],
      "tile_size": 256,
      "tms": false,
      "url": "https://stamen-tiles-a.a.ssl.fastly.net/watercolor/{z}/{x}/{y}.jpg",
      "visible": true,
      "zoom_offset": 0
     }
    },
    "293c507b60524ded98a113a8d7955fc9": {
     "model_module": "jupyter-leaflet",
     "model_module_version": "^0.17",
     "model_name": "LeafletLayersControlModel",
     "state": {
      "_model_module": "jupyter-leaflet",
      "_model_module_version": "^0.17",
      "_model_name": "LeafletLayersControlModel",
      "_view_count": null,
      "_view_module": "jupyter-leaflet",
      "_view_module_version": "^0.17",
      "_view_name": "LeafletLayersControlView",
      "options": [
       "position"
      ],
      "position": "topright"
     }
    },
    "2c568798816442a2a7abf2610cbb3d07": {
     "model_module": "@jupyter-widgets/base",
     "model_module_version": "1.2.0",
     "model_name": "LayoutModel",
     "state": {
      "_model_module": "@jupyter-widgets/base",
      "_model_module_version": "1.2.0",
      "_model_name": "LayoutModel",
      "_view_count": null,
      "_view_module": "@jupyter-widgets/base",
      "_view_module_version": "1.2.0",
      "_view_name": "LayoutView",
      "align_content": null,
      "align_items": null,
      "align_self": null,
      "border": null,
      "bottom": null,
      "display": null,
      "flex": null,
      "flex_flow": null,
      "grid_area": null,
      "grid_auto_columns": null,
      "grid_auto_flow": null,
      "grid_auto_rows": null,
      "grid_column": null,
      "grid_gap": null,
      "grid_row": null,
      "grid_template_areas": null,
      "grid_template_columns": null,
      "grid_template_rows": null,
      "height": null,
      "justify_content": null,
      "justify_items": null,
      "left": null,
      "margin": null,
      "max_height": null,
      "max_width": null,
      "min_height": null,
      "min_width": null,
      "object_fit": null,
      "object_position": null,
      "order": null,
      "overflow": null,
      "overflow_x": null,
      "overflow_y": null,
      "padding": null,
      "right": null,
      "top": null,
      "visibility": null,
      "width": "100%"
     }
    },
    "344137243d8e4d1fb9fc0fafb20e0229": {
     "model_module": "jupyter-leaflet",
     "model_module_version": "^0.17",
     "model_name": "LeafletMapStyleModel",
     "state": {
      "_model_module": "jupyter-leaflet",
      "_model_module_version": "^0.17",
      "_model_name": "LeafletMapStyleModel",
      "_view_count": null,
      "_view_module": "@jupyter-widgets/base",
      "_view_module_version": "1.2.0",
      "_view_name": "StyleView",
      "cursor": "crosshair"
     }
    },
    "36754e7595004652849272d4ed5502ba": {
     "model_module": "jupyter-leaflet",
     "model_module_version": "^0.17",
     "model_name": "LeafletZoomControlModel",
     "state": {
      "_model_module": "jupyter-leaflet",
      "_model_module_version": "^0.17",
      "_model_name": "LeafletZoomControlModel",
      "_view_count": null,
      "_view_module": "jupyter-leaflet",
      "_view_module_version": "^0.17",
      "_view_name": "LeafletZoomControlView",
      "options": [
       "position",
       "zoom_in_text",
       "zoom_in_title",
       "zoom_out_text",
       "zoom_out_title"
      ],
      "position": "topleft",
      "zoom_in_text": "+",
      "zoom_in_title": "Zoom in",
      "zoom_out_text": "-",
      "zoom_out_title": "Zoom out"
     }
    },
    "390ce44699dc4085a568e13b6f5a6c7c": {
     "model_module": "jupyter-leaflet",
     "model_module_version": "^0.17",
     "model_name": "LeafletAttributionControlModel",
     "state": {
      "_model_module": "jupyter-leaflet",
      "_model_module_version": "^0.17",
      "_model_name": "LeafletAttributionControlModel",
      "_view_count": null,
      "_view_module": "jupyter-leaflet",
      "_view_module_version": "^0.17",
      "_view_name": "LeafletAttributionControlView",
      "options": [
       "position",
       "prefix"
      ],
      "position": "bottomright",
      "prefix": "ipyleaflet"
     }
    },
    "4dad6165066a4e33bed53657cfd6514e": {
     "model_module": "jupyter-leaflet",
     "model_module_version": "^0.17",
     "model_name": "LeafletMapModel",
     "state": {
      "_dom_classes": [],
      "_model_module": "jupyter-leaflet",
      "_model_module_version": "^0.17",
      "_model_name": "LeafletMapModel",
      "_view_count": null,
      "_view_module": "jupyter-leaflet",
      "_view_module_version": "^0.17",
      "_view_name": "LeafletMapView",
      "bottom": 702157.4444492764,
      "bounce_at_zoom_limits": true,
      "box_zoom": true,
      "center": [
       51.013166663959446,
       8.348302838642018
      ],
      "close_popup_on_click": true,
      "controls": [
       "IPY_MODEL_fac452df02d34d23a0d703fd0a7191de",
       "IPY_MODEL_6ab48b3519c84a919046d61d042642e3",
       "IPY_MODEL_76d0a342c0cc422d8648749a5e750af1"
      ],
      "crs": {
       "custom": false,
       "name": "EPSG3857"
      },
      "default_style": "IPY_MODEL_20e593fb709a48b790950b9b3d04d21b",
      "double_click_zoom": true,
      "dragging": true,
      "dragging_style": "IPY_MODEL_bab5c02207f64ad790b599d874a38570",
      "east": 8.49807739003362,
      "fullscreen": false,
      "inertia": true,
      "inertia_deceleration": 3000,
      "inertia_max_speed": 1500,
      "interpolation": "bilinear",
      "keyboard": true,
      "keyboard_pan_offset": 80,
      "keyboard_zoom_offset": 1,
      "layers": [
       "IPY_MODEL_819b0cc1232f4ef5a0956358d79bb978",
       "IPY_MODEL_6b352e304e0b44f6801d91a4c780dd18",
       "IPY_MODEL_7f3d9dbf5375419aae31a4bda3898e36",
       "IPY_MODEL_71b8722d9ad64e9cafcb699a225f697e"
      ],
      "layout": "IPY_MODEL_bf564eb7bd2149ddaa9bcd2b8237b854",
      "left": 1096335.888874066,
      "max_zoom": null,
      "min_zoom": null,
      "modisdate": "2022-11-08",
      "north": 51.03476150306111,
      "options": [
       "bounce_at_zoom_limits",
       "box_zoom",
       "center",
       "close_popup_on_click",
       "double_click_zoom",
       "dragging",
       "fullscreen",
       "inertia",
       "inertia_deceleration",
       "inertia_max_speed",
       "interpolation",
       "keyboard",
       "keyboard_pan_offset",
       "keyboard_zoom_offset",
       "max_zoom",
       "min_zoom",
       "prefer_canvas",
       "scroll_wheel_zoom",
       "tap",
       "tap_tolerance",
       "touch_zoom",
       "world_copy_jump",
       "zoom",
       "zoom_animation_threshold",
       "zoom_delta",
       "zoom_snap"
      ],
      "panes": {},
      "prefer_canvas": false,
      "right": 1098080.888874066,
      "scroll_wheel_zoom": false,
      "south": 50.99156176447634,
      "style": "IPY_MODEL_20e593fb709a48b790950b9b3d04d21b",
      "tap": true,
      "tap_tolerance": 15,
      "top": 701757.4444492764,
      "touch_zoom": true,
      "west": 8.198528287250417,
      "window_url": "https://tuzdjrn8fk9-496ff2e9c6d22116-0-colab.googleusercontent.com/outputframe.html?vrz=colab-20221107-060047-RC00_486630149",
      "world_copy_jump": false,
      "zoom": 13,
      "zoom_animation_threshold": 4,
      "zoom_delta": 1,
      "zoom_snap": 1
     }
    },
    "54b6855ed98444f4b32ed73e06743429": {
     "model_module": "jupyter-leaflet",
     "model_module_version": "^0.17",
     "model_name": "LeafletMapStyleModel",
     "state": {
      "_model_module": "jupyter-leaflet",
      "_model_module_version": "^0.17",
      "_model_name": "LeafletMapStyleModel",
      "_view_count": null,
      "_view_module": "@jupyter-widgets/base",
      "_view_module_version": "1.2.0",
      "_view_name": "StyleView",
      "cursor": "grab"
     }
    },
    "55727d4912aa48a8a86e48205fdd3d3a": {
     "model_module": "jupyter-leaflet",
     "model_module_version": "^0.17",
     "model_name": "LeafletMapModel",
     "state": {
      "_dom_classes": [],
      "_model_module": "jupyter-leaflet",
      "_model_module_version": "^0.17",
      "_model_name": "LeafletMapModel",
      "_view_count": null,
      "_view_module": "jupyter-leaflet",
      "_view_module_version": "^0.17",
      "_view_name": "LeafletMapView",
      "bottom": 175698,
      "bounce_at_zoom_limits": true,
      "box_zoom": true,
      "center": [
       51.00943283188412,
       8.400139892579185
      ],
      "close_popup_on_click": true,
      "controls": [
       "IPY_MODEL_8d508ec4028f44479a8ea502eda75f05",
       "IPY_MODEL_616dc7af28d64d59893e48618a26bd53",
       "IPY_MODEL_9e45c1d11bc24def9bf218ef3fd568c0"
      ],
      "crs": {
       "custom": false,
       "name": "EPSG3857"
      },
      "default_style": "IPY_MODEL_9a41be35e97d436787f1ad97e74f8733",
      "double_click_zoom": true,
      "dragging": true,
      "dragging_style": "IPY_MODEL_5a88715f3115424e8196673510f1dbec",
      "east": 8.999176025390627,
      "fullscreen": false,
      "inertia": true,
      "inertia_deceleration": 3000,
      "inertia_max_speed": 1500,
      "interpolation": "bilinear",
      "keyboard": true,
      "keyboard_pan_offset": 80,
      "keyboard_zoom_offset": 1,
      "layers": [
       "IPY_MODEL_bb71e69ce1044bea98916f429cc275d9",
       "IPY_MODEL_f7333963601145d3af478141c7effc4a",
       "IPY_MODEL_cec180fcfa11406c9cb1e7ce88865298",
       "IPY_MODEL_1b5320a3f5034f939b654ea2a05c60cd"
      ],
      "layout": "IPY_MODEL_d775ea4909f14fbd96487c5dfd21aef0",
      "left": 273505,
      "max_zoom": null,
      "min_zoom": null,
      "modisdate": "2022-11-08",
      "north": 51.095760497969785,
      "options": [
       "bounce_at_zoom_limits",
       "box_zoom",
       "center",
       "close_popup_on_click",
       "double_click_zoom",
       "dragging",
       "fullscreen",
       "inertia",
       "inertia_deceleration",
       "inertia_max_speed",
       "interpolation",
       "keyboard",
       "keyboard_pan_offset",
       "keyboard_zoom_offset",
       "max_zoom",
       "min_zoom",
       "prefer_canvas",
       "scroll_wheel_zoom",
       "tap",
       "tap_tolerance",
       "touch_zoom",
       "world_copy_jump",
       "zoom",
       "zoom_animation_threshold",
       "zoom_delta",
       "zoom_snap"
      ],
      "panes": {},
      "prefer_canvas": false,
      "right": 275250,
      "scroll_wheel_zoom": false,
      "south": 50.92294760545582,
      "style": "IPY_MODEL_54b6855ed98444f4b32ed73e06743429",
      "tap": true,
      "tap_tolerance": 15,
      "top": 175298,
      "touch_zoom": true,
      "west": 7.800979614257813,
      "window_url": "https://tuzdjrn8fk9-496ff2e9c6d22116-0-colab.googleusercontent.com/outputframe.html?vrz=colab-20221107-060047-RC00_486630149",
      "world_copy_jump": false,
      "zoom": 11,
      "zoom_animation_threshold": 4,
      "zoom_delta": 1,
      "zoom_snap": 1
     }
    },
    "5a88715f3115424e8196673510f1dbec": {
     "model_module": "jupyter-leaflet",
     "model_module_version": "^0.17",
     "model_name": "LeafletMapStyleModel",
     "state": {
      "_model_module": "jupyter-leaflet",
      "_model_module_version": "^0.17",
      "_model_name": "LeafletMapStyleModel",
      "_view_count": null,
      "_view_module": "@jupyter-widgets/base",
      "_view_module_version": "1.2.0",
      "_view_name": "StyleView",
      "cursor": "move"
     }
    },
    "5db8648a9cdd46f687876ec92bda07e5": {
     "model_module": "jupyter-leaflet",
     "model_module_version": "^0.17",
     "model_name": "LeafletTileLayerModel",
     "state": {
      "_model_module": "jupyter-leaflet",
      "_model_module_version": "^0.17",
      "_model_name": "LeafletTileLayerModel",
      "_view_count": null,
      "_view_module": "jupyter-leaflet",
      "_view_module_version": "^0.17",
      "_view_name": "LeafletTileLayerView",
      "attribution": null,
      "base": false,
      "bottom": true,
      "bounds": null,
      "detect_retina": false,
      "loading": false,
      "max_native_zoom": null,
      "max_zoom": 18,
      "min_native_zoom": null,
      "min_zoom": 0,
      "name": "im1",
      "no_wrap": false,
      "opacity": 1,
      "options": [
       "attribution",
       "bounds",
       "detect_retina",
       "max_native_zoom",
       "max_zoom",
       "min_native_zoom",
       "min_zoom",
       "no_wrap",
       "tile_size",
       "tms",
       "zoom_offset"
      ],
      "pane": "",
      "popup": null,
      "popup_max_height": null,
      "popup_max_width": 300,
      "popup_min_width": 50,
      "show_loading": false,
      "subitems": [],
      "tile_size": 256,
      "tms": false,
      "url": "https://earthengine.googleapis.com/v1alpha/projects/earthengine-legacy/maps/446ea7c871762c6083899aaadc85bcc0-417dfc04c33a6d3a8bba5ee511a95c85/tiles/{z}/{x}/{y}",
      "visible": true,
      "zoom_offset": 0
     }
    },
    "616dc7af28d64d59893e48618a26bd53": {
     "model_module": "jupyter-leaflet",
     "model_module_version": "^0.17",
     "model_name": "LeafletAttributionControlModel",
     "state": {
      "_model_module": "jupyter-leaflet",
      "_model_module_version": "^0.17",
      "_model_name": "LeafletAttributionControlModel",
      "_view_count": null,
      "_view_module": "jupyter-leaflet",
      "_view_module_version": "^0.17",
      "_view_name": "LeafletAttributionControlView",
      "options": [
       "position",
       "prefix"
      ],
      "position": "bottomright",
      "prefix": "ipyleaflet"
     }
    },
    "64bb5e5e79de4c689e5596188403f399": {
     "model_module": "jupyter-leaflet",
     "model_module_version": "^0.17",
     "model_name": "LeafletMapModel",
     "state": {
      "_dom_classes": [],
      "_model_module": "jupyter-leaflet",
      "_model_module_version": "^0.17",
      "_model_name": "LeafletMapModel",
      "_view_count": null,
      "_view_module": "jupyter-leaflet",
      "_view_module_version": "^0.17",
      "_view_name": "LeafletMapView",
      "bottom": 175698,
      "bounce_at_zoom_limits": true,
      "box_zoom": true,
      "center": [
       51.00943283188412,
       8.400139892579185
      ],
      "close_popup_on_click": true,
      "controls": [
       "IPY_MODEL_36754e7595004652849272d4ed5502ba",
       "IPY_MODEL_390ce44699dc4085a568e13b6f5a6c7c",
       "IPY_MODEL_ca3b12c9e76f480886f358e6f577071a"
      ],
      "crs": {
       "custom": false,
       "name": "EPSG3857"
      },
      "default_style": "IPY_MODEL_0e6ad59a45224ccf8e581277305eefc8",
      "double_click_zoom": true,
      "dragging": true,
      "dragging_style": "IPY_MODEL_b77aa4654d314dffa63eb7da820b62f6",
      "east": 8.999176025390627,
      "fullscreen": false,
      "inertia": true,
      "inertia_deceleration": 3000,
      "inertia_max_speed": 1500,
      "interpolation": "bilinear",
      "keyboard": true,
      "keyboard_pan_offset": 80,
      "keyboard_zoom_offset": 1,
      "layers": [
       "IPY_MODEL_22ee2b9e65614c52845e9b31b0b05498",
       "IPY_MODEL_83d72a58632249f9a718895c8b863568",
       "IPY_MODEL_e5d965ce12754707b2abcff7a4583541",
       "IPY_MODEL_a760fc5b04c149118e951928d631d1fa"
      ],
      "layout": "IPY_MODEL_1cb80da42f2f4c6eb6c1ea6939320282",
      "left": 273505,
      "max_zoom": null,
      "min_zoom": null,
      "modisdate": "2022-11-08",
      "north": 51.095760497969785,
      "options": [
       "bounce_at_zoom_limits",
       "box_zoom",
       "center",
       "close_popup_on_click",
       "double_click_zoom",
       "dragging",
       "fullscreen",
       "inertia",
       "inertia_deceleration",
       "inertia_max_speed",
       "interpolation",
       "keyboard",
       "keyboard_pan_offset",
       "keyboard_zoom_offset",
       "max_zoom",
       "min_zoom",
       "prefer_canvas",
       "scroll_wheel_zoom",
       "tap",
       "tap_tolerance",
       "touch_zoom",
       "world_copy_jump",
       "zoom",
       "zoom_animation_threshold",
       "zoom_delta",
       "zoom_snap"
      ],
      "panes": {},
      "prefer_canvas": false,
      "right": 275250,
      "scroll_wheel_zoom": false,
      "south": 50.92294760545582,
      "style": "IPY_MODEL_a1be477e3d4549d6865499e6e74ae6a3",
      "tap": true,
      "tap_tolerance": 15,
      "top": 175298,
      "touch_zoom": true,
      "west": 7.800979614257813,
      "window_url": "https://tuzdjrn8fk9-496ff2e9c6d22116-0-colab.googleusercontent.com/outputframe.html?vrz=colab-20221107-060047-RC00_486630149",
      "world_copy_jump": false,
      "zoom": 11,
      "zoom_animation_threshold": 4,
      "zoom_delta": 1,
      "zoom_snap": 1
     }
    },
    "6ab48b3519c84a919046d61d042642e3": {
     "model_module": "jupyter-leaflet",
     "model_module_version": "^0.17",
     "model_name": "LeafletAttributionControlModel",
     "state": {
      "_model_module": "jupyter-leaflet",
      "_model_module_version": "^0.17",
      "_model_name": "LeafletAttributionControlModel",
      "_view_count": null,
      "_view_module": "jupyter-leaflet",
      "_view_module_version": "^0.17",
      "_view_name": "LeafletAttributionControlView",
      "options": [
       "position",
       "prefix"
      ],
      "position": "bottomright",
      "prefix": "ipyleaflet"
     }
    },
    "6b352e304e0b44f6801d91a4c780dd18": {
     "model_module": "jupyter-leaflet",
     "model_module_version": "^0.17",
     "model_name": "LeafletTileLayerModel",
     "state": {
      "_model_module": "jupyter-leaflet",
      "_model_module_version": "^0.17",
      "_model_name": "LeafletTileLayerModel",
      "_view_count": null,
      "_view_module": "jupyter-leaflet",
      "_view_module_version": "^0.17",
      "_view_name": "LeafletTileLayerView",
      "attribution": null,
      "base": false,
      "bottom": true,
      "bounds": null,
      "detect_retina": false,
      "loading": false,
      "max_native_zoom": null,
      "max_zoom": 18,
      "min_native_zoom": null,
      "min_zoom": 0,
      "name": "im1",
      "no_wrap": false,
      "opacity": 1,
      "options": [
       "attribution",
       "bounds",
       "detect_retina",
       "max_native_zoom",
       "max_zoom",
       "min_native_zoom",
       "min_zoom",
       "no_wrap",
       "tile_size",
       "tms",
       "zoom_offset"
      ],
      "pane": "",
      "popup": null,
      "popup_max_height": null,
      "popup_max_width": 300,
      "popup_min_width": 50,
      "show_loading": false,
      "subitems": [],
      "tile_size": 256,
      "tms": false,
      "url": "https://earthengine.googleapis.com/v1alpha/projects/earthengine-legacy/maps/446ea7c871762c6083899aaadc85bcc0-354920cd9409e9e41f2f86d16fb6e860/tiles/{z}/{x}/{y}",
      "visible": true,
      "zoom_offset": 0
     }
    },
    "71b8722d9ad64e9cafcb699a225f697e": {
     "model_module": "jupyter-leaflet",
     "model_module_version": "^0.17",
     "model_name": "LeafletTileLayerModel",
     "state": {
      "_model_module": "jupyter-leaflet",
      "_model_module_version": "^0.17",
      "_model_name": "LeafletTileLayerModel",
      "_view_count": null,
      "_view_module": "jupyter-leaflet",
      "_view_module_version": "^0.17",
      "_view_name": "LeafletTileLayerView",
      "attribution": null,
      "base": false,
      "bottom": true,
      "bounds": null,
      "detect_retina": false,
      "loading": false,
      "max_native_zoom": null,
      "max_zoom": 18,
      "min_native_zoom": null,
      "min_zoom": 0,
      "name": "iMAD",
      "no_wrap": false,
      "opacity": 1,
      "options": [
       "attribution",
       "bounds",
       "detect_retina",
       "max_native_zoom",
       "max_zoom",
       "min_native_zoom",
       "min_zoom",
       "no_wrap",
       "tile_size",
       "tms",
       "zoom_offset"
      ],
      "pane": "",
      "popup": null,
      "popup_max_height": null,
      "popup_max_width": 300,
      "popup_min_width": 50,
      "show_loading": false,
      "subitems": [],
      "tile_size": 256,
      "tms": false,
      "url": "https://earthengine.googleapis.com/v1alpha/projects/earthengine-legacy/maps/7668aa9491e5dccefb29dac9c7397389-40e715ccef11d8d27d0f58449598b0db/tiles/{z}/{x}/{y}",
      "visible": true,
      "zoom_offset": 0
     }
    },
    "7423056895674cefb0468d48b913a287": {
     "model_module": "@jupyter-widgets/base",
     "model_module_version": "1.2.0",
     "model_name": "LayoutModel",
     "state": {
      "_model_module": "@jupyter-widgets/base",
      "_model_module_version": "1.2.0",
      "_model_name": "LayoutModel",
      "_view_count": null,
      "_view_module": "@jupyter-widgets/base",
      "_view_module_version": "1.2.0",
      "_view_name": "LayoutView",
      "align_content": null,
      "align_items": null,
      "align_self": null,
      "border": null,
      "bottom": null,
      "display": null,
      "flex": null,
      "flex_flow": null,
      "grid_area": null,
      "grid_auto_columns": null,
      "grid_auto_flow": null,
      "grid_auto_rows": null,
      "grid_column": null,
      "grid_gap": null,
      "grid_row": null,
      "grid_template_areas": null,
      "grid_template_columns": null,
      "grid_template_rows": null,
      "height": null,
      "justify_content": null,
      "justify_items": null,
      "left": null,
      "margin": null,
      "max_height": null,
      "max_width": null,
      "min_height": null,
      "min_width": null,
      "object_fit": null,
      "object_position": null,
      "order": null,
      "overflow": null,
      "overflow_x": null,
      "overflow_y": null,
      "padding": null,
      "right": null,
      "top": null,
      "visibility": null,
      "width": "100%"
     }
    },
    "761b43fc330d4d39a1fbd54c121b5edd": {
     "model_module": "jupyter-leaflet",
     "model_module_version": "^0.17",
     "model_name": "LeafletZoomControlModel",
     "state": {
      "_model_module": "jupyter-leaflet",
      "_model_module_version": "^0.17",
      "_model_name": "LeafletZoomControlModel",
      "_view_count": null,
      "_view_module": "jupyter-leaflet",
      "_view_module_version": "^0.17",
      "_view_name": "LeafletZoomControlView",
      "options": [
       "position",
       "zoom_in_text",
       "zoom_in_title",
       "zoom_out_text",
       "zoom_out_title"
      ],
      "position": "topleft",
      "zoom_in_text": "+",
      "zoom_in_title": "Zoom in",
      "zoom_out_text": "-",
      "zoom_out_title": "Zoom out"
     }
    },
    "76d0a342c0cc422d8648749a5e750af1": {
     "model_module": "jupyter-leaflet",
     "model_module_version": "^0.17",
     "model_name": "LeafletLayersControlModel",
     "state": {
      "_model_module": "jupyter-leaflet",
      "_model_module_version": "^0.17",
      "_model_name": "LeafletLayersControlModel",
      "_view_count": null,
      "_view_module": "jupyter-leaflet",
      "_view_module_version": "^0.17",
      "_view_name": "LeafletLayersControlView",
      "options": [
       "position"
      ],
      "position": "topright"
     }
    },
    "7e2da6773f07487fb6357239f55a31db": {
     "model_module": "jupyter-leaflet",
     "model_module_version": "^0.17",
     "model_name": "LeafletMapStyleModel",
     "state": {
      "_model_module": "jupyter-leaflet",
      "_model_module_version": "^0.17",
      "_model_name": "LeafletMapStyleModel",
      "_view_count": null,
      "_view_module": "@jupyter-widgets/base",
      "_view_module_version": "1.2.0",
      "_view_name": "StyleView",
      "cursor": "grab"
     }
    },
    "7f3d9dbf5375419aae31a4bda3898e36": {
     "model_module": "jupyter-leaflet",
     "model_module_version": "^0.17",
     "model_name": "LeafletTileLayerModel",
     "state": {
      "_model_module": "jupyter-leaflet",
      "_model_module_version": "^0.17",
      "_model_name": "LeafletTileLayerModel",
      "_view_count": null,
      "_view_module": "jupyter-leaflet",
      "_view_module_version": "^0.17",
      "_view_name": "LeafletTileLayerView",
      "attribution": null,
      "base": false,
      "bottom": true,
      "bounds": null,
      "detect_retina": false,
      "loading": false,
      "max_native_zoom": null,
      "max_zoom": 18,
      "min_native_zoom": null,
      "min_zoom": 0,
      "name": "im2",
      "no_wrap": false,
      "opacity": 1,
      "options": [
       "attribution",
       "bounds",
       "detect_retina",
       "max_native_zoom",
       "max_zoom",
       "min_native_zoom",
       "min_zoom",
       "no_wrap",
       "tile_size",
       "tms",
       "zoom_offset"
      ],
      "pane": "",
      "popup": null,
      "popup_max_height": null,
      "popup_max_width": 300,
      "popup_min_width": 50,
      "show_loading": false,
      "subitems": [],
      "tile_size": 256,
      "tms": false,
      "url": "https://earthengine.googleapis.com/v1alpha/projects/earthengine-legacy/maps/525248c3bb7915555363068b9442b27e-c9ad2080f1cf3118bf9dec0df90f1635/tiles/{z}/{x}/{y}",
      "visible": true,
      "zoom_offset": 0
     }
    },
    "819b0cc1232f4ef5a0956358d79bb978": {
     "model_module": "jupyter-leaflet",
     "model_module_version": "^0.17",
     "model_name": "LeafletTileLayerModel",
     "state": {
      "_model_module": "jupyter-leaflet",
      "_model_module_version": "^0.17",
      "_model_name": "LeafletTileLayerModel",
      "_view_count": null,
      "_view_module": "jupyter-leaflet",
      "_view_module_version": "^0.17",
      "_view_name": "LeafletTileLayerView",
      "attribution": "Map tiles by <a href=\"http://stamen.com\">Stamen Design</a>, <a href=\"http://creativecommons.org/licenses/by/3.0\">CC BY 3.0</a> &mdash; Map data &copy; <a href=\"https://www.openstreetmap.org/copyright\">OpenStreetMap</a> contributors",
      "base": true,
      "bottom": true,
      "bounds": null,
      "detect_retina": false,
      "loading": false,
      "max_native_zoom": null,
      "max_zoom": 16,
      "min_native_zoom": null,
      "min_zoom": 1,
      "name": "Stamen.Watercolor",
      "no_wrap": false,
      "opacity": 1,
      "options": [
       "attribution",
       "bounds",
       "detect_retina",
       "max_native_zoom",
       "max_zoom",
       "min_native_zoom",
       "min_zoom",
       "no_wrap",
       "tile_size",
       "tms",
       "zoom_offset"
      ],
      "pane": "",
      "popup": null,
      "popup_max_height": null,
      "popup_max_width": 300,
      "popup_min_width": 50,
      "show_loading": false,
      "subitems": [],
      "tile_size": 256,
      "tms": false,
      "url": "https://stamen-tiles-a.a.ssl.fastly.net/watercolor/{z}/{x}/{y}.jpg",
      "visible": true,
      "zoom_offset": 0
     }
    },
    "83d72a58632249f9a718895c8b863568": {
     "model_module": "jupyter-leaflet",
     "model_module_version": "^0.17",
     "model_name": "LeafletTileLayerModel",
     "state": {
      "_model_module": "jupyter-leaflet",
      "_model_module_version": "^0.17",
      "_model_name": "LeafletTileLayerModel",
      "_view_count": null,
      "_view_module": "jupyter-leaflet",
      "_view_module_version": "^0.17",
      "_view_name": "LeafletTileLayerView",
      "attribution": null,
      "base": false,
      "bottom": true,
      "bounds": null,
      "detect_retina": false,
      "loading": false,
      "max_native_zoom": null,
      "max_zoom": 18,
      "min_native_zoom": null,
      "min_zoom": 0,
      "name": "Image 1",
      "no_wrap": false,
      "opacity": 1,
      "options": [
       "attribution",
       "bounds",
       "detect_retina",
       "max_native_zoom",
       "max_zoom",
       "min_native_zoom",
       "min_zoom",
       "no_wrap",
       "tile_size",
       "tms",
       "zoom_offset"
      ],
      "pane": "",
      "popup": null,
      "popup_max_height": null,
      "popup_max_width": 300,
      "popup_min_width": 50,
      "show_loading": false,
      "subitems": [],
      "tile_size": 256,
      "tms": false,
      "url": "https://earthengine.googleapis.com/v1alpha/projects/earthengine-legacy/maps/446ea7c871762c6083899aaadc85bcc0-4aa46c4acd01040830f1b1a7a035a90f/tiles/{z}/{x}/{y}",
      "visible": true,
      "zoom_offset": 0
     }
    },
    "87040d96b16d4853817e8fe9d5a5359a": {
     "model_module": "jupyter-leaflet",
     "model_module_version": "^0.17",
     "model_name": "LeafletTileLayerModel",
     "state": {
      "_model_module": "jupyter-leaflet",
      "_model_module_version": "^0.17",
      "_model_name": "LeafletTileLayerModel",
      "_view_count": null,
      "_view_module": "jupyter-leaflet",
      "_view_module_version": "^0.17",
      "_view_name": "LeafletTileLayerView",
      "attribution": "Map tiles by <a href=\"http://stamen.com\">Stamen Design</a>, <a href=\"http://creativecommons.org/licenses/by/3.0\">CC BY 3.0</a> &mdash; Map data &copy; <a href=\"https://www.openstreetmap.org/copyright\">OpenStreetMap</a> contributors",
      "base": true,
      "bottom": true,
      "bounds": null,
      "detect_retina": false,
      "loading": false,
      "max_native_zoom": null,
      "max_zoom": 16,
      "min_native_zoom": null,
      "min_zoom": 1,
      "name": "Stamen.Watercolor",
      "no_wrap": false,
      "opacity": 1,
      "options": [
       "attribution",
       "bounds",
       "detect_retina",
       "max_native_zoom",
       "max_zoom",
       "min_native_zoom",
       "min_zoom",
       "no_wrap",
       "tile_size",
       "tms",
       "zoom_offset"
      ],
      "pane": "",
      "popup": null,
      "popup_max_height": null,
      "popup_max_width": 300,
      "popup_min_width": 50,
      "show_loading": false,
      "subitems": [],
      "tile_size": 256,
      "tms": false,
      "url": "https://stamen-tiles-a.a.ssl.fastly.net/watercolor/{z}/{x}/{y}.jpg",
      "visible": true,
      "zoom_offset": 0
     }
    },
    "8a213716314442c68989b79c39aab3e2": {
     "model_module": "jupyter-leaflet",
     "model_module_version": "^0.17",
     "model_name": "LeafletTileLayerModel",
     "state": {
      "_model_module": "jupyter-leaflet",
      "_model_module_version": "^0.17",
      "_model_name": "LeafletTileLayerModel",
      "_view_count": null,
      "_view_module": "jupyter-leaflet",
      "_view_module_version": "^0.17",
      "_view_name": "LeafletTileLayerView",
      "attribution": null,
      "base": false,
      "bottom": true,
      "bounds": null,
      "detect_retina": false,
      "loading": false,
      "max_native_zoom": null,
      "max_zoom": 18,
      "min_native_zoom": null,
      "min_zoom": 0,
      "name": "im2",
      "no_wrap": false,
      "opacity": 1,
      "options": [
       "attribution",
       "bounds",
       "detect_retina",
       "max_native_zoom",
       "max_zoom",
       "min_native_zoom",
       "min_zoom",
       "no_wrap",
       "tile_size",
       "tms",
       "zoom_offset"
      ],
      "pane": "",
      "popup": null,
      "popup_max_height": null,
      "popup_max_width": 300,
      "popup_min_width": 50,
      "show_loading": false,
      "subitems": [],
      "tile_size": 256,
      "tms": false,
      "url": "https://earthengine.googleapis.com/v1alpha/projects/earthengine-legacy/maps/525248c3bb7915555363068b9442b27e-35be5582a0ed56e62f7c15495ba2ada1/tiles/{z}/{x}/{y}",
      "visible": true,
      "zoom_offset": 0
     }
    },
    "8d508ec4028f44479a8ea502eda75f05": {
     "model_module": "jupyter-leaflet",
     "model_module_version": "^0.17",
     "model_name": "LeafletZoomControlModel",
     "state": {
      "_model_module": "jupyter-leaflet",
      "_model_module_version": "^0.17",
      "_model_name": "LeafletZoomControlModel",
      "_view_count": null,
      "_view_module": "jupyter-leaflet",
      "_view_module_version": "^0.17",
      "_view_name": "LeafletZoomControlView",
      "options": [
       "position",
       "zoom_in_text",
       "zoom_in_title",
       "zoom_out_text",
       "zoom_out_title"
      ],
      "position": "topleft",
      "zoom_in_text": "+",
      "zoom_in_title": "Zoom in",
      "zoom_out_text": "-",
      "zoom_out_title": "Zoom out"
     }
    },
    "906ea2375bdf45ab9520cb3f3d93f16c": {
     "model_module": "jupyter-leaflet",
     "model_module_version": "^0.17",
     "model_name": "LeafletLayersControlModel",
     "state": {
      "_model_module": "jupyter-leaflet",
      "_model_module_version": "^0.17",
      "_model_name": "LeafletLayersControlModel",
      "_view_count": null,
      "_view_module": "jupyter-leaflet",
      "_view_module_version": "^0.17",
      "_view_name": "LeafletLayersControlView",
      "options": [
       "position"
      ],
      "position": "topright"
     }
    },
    "980f88caa8564b1fb57e56c436135e62": {
     "model_module": "jupyter-leaflet",
     "model_module_version": "^0.17",
     "model_name": "LeafletTileLayerModel",
     "state": {
      "_model_module": "jupyter-leaflet",
      "_model_module_version": "^0.17",
      "_model_name": "LeafletTileLayerModel",
      "_view_count": null,
      "_view_module": "jupyter-leaflet",
      "_view_module_version": "^0.17",
      "_view_name": "LeafletTileLayerView",
      "attribution": null,
      "base": false,
      "bottom": true,
      "bounds": null,
      "detect_retina": false,
      "loading": false,
      "max_native_zoom": null,
      "max_zoom": 18,
      "min_native_zoom": null,
      "min_zoom": 0,
      "name": "image1",
      "no_wrap": false,
      "opacity": 1,
      "options": [
       "attribution",
       "bounds",
       "detect_retina",
       "max_native_zoom",
       "max_zoom",
       "min_native_zoom",
       "min_zoom",
       "no_wrap",
       "tile_size",
       "tms",
       "zoom_offset"
      ],
      "pane": "",
      "popup": null,
      "popup_max_height": null,
      "popup_max_width": 300,
      "popup_min_width": 50,
      "show_loading": false,
      "subitems": [],
      "tile_size": 256,
      "tms": false,
      "url": "https://earthengine.googleapis.com/v1alpha/projects/earthengine-legacy/maps/219ebfff54a6616a675fe929030a8bca-b74bcf9c71c0b799d56742935f0e12dc/tiles/{z}/{x}/{y}",
      "visible": true,
      "zoom_offset": 0
     }
    },
    "9a41be35e97d436787f1ad97e74f8733": {
     "model_module": "jupyter-leaflet",
     "model_module_version": "^0.17",
     "model_name": "LeafletMapStyleModel",
     "state": {
      "_model_module": "jupyter-leaflet",
      "_model_module_version": "^0.17",
      "_model_name": "LeafletMapStyleModel",
      "_view_count": null,
      "_view_module": "@jupyter-widgets/base",
      "_view_module_version": "1.2.0",
      "_view_name": "StyleView",
      "cursor": "crosshair"
     }
    },
    "9e45c1d11bc24def9bf218ef3fd568c0": {
     "model_module": "jupyter-leaflet",
     "model_module_version": "^0.17",
     "model_name": "LeafletLayersControlModel",
     "state": {
      "_model_module": "jupyter-leaflet",
      "_model_module_version": "^0.17",
      "_model_name": "LeafletLayersControlModel",
      "_view_count": null,
      "_view_module": "jupyter-leaflet",
      "_view_module_version": "^0.17",
      "_view_name": "LeafletLayersControlView",
      "options": [
       "position"
      ],
      "position": "topright"
     }
    },
    "a00362b05afb4080b9f085a11639be85": {
     "model_module": "jupyter-leaflet",
     "model_module_version": "^0.17",
     "model_name": "LeafletMapModel",
     "state": {
      "_dom_classes": [],
      "_model_module": "jupyter-leaflet",
      "_model_module_version": "^0.17",
      "_model_name": "LeafletMapModel",
      "_view_count": null,
      "_view_module": "jupyter-leaflet",
      "_view_module_version": "^0.17",
      "_view_name": "LeafletMapView",
      "bottom": 701954.3332967123,
      "bounce_at_zoom_limits": true,
      "box_zoom": true,
      "center": [
       51.03509734779924,
       8.285551079748036
      ],
      "close_popup_on_click": true,
      "controls": [
       "IPY_MODEL_761b43fc330d4d39a1fbd54c121b5edd",
       "IPY_MODEL_ed49b89b54b8435396fc8f6c5b015bff",
       "IPY_MODEL_906ea2375bdf45ab9520cb3f3d93f16c"
      ],
      "crs": {
       "custom": false,
       "name": "EPSG3857"
      },
      "default_style": "IPY_MODEL_d2b6532d1708453ca1850560adc1e0bf",
      "double_click_zoom": true,
      "dragging": true,
      "dragging_style": "IPY_MODEL_cf8251da15b940e9b5d53f9eecfa3902",
      "east": 8.435325631139637,
      "fullscreen": false,
      "inertia": true,
      "inertia_deceleration": 3000,
      "inertia_max_speed": 1500,
      "interpolation": "bilinear",
      "keyboard": true,
      "keyboard_pan_offset": 80,
      "keyboard_zoom_offset": 1,
      "layers": [
       "IPY_MODEL_afd7f375cf044d11876e1e1d58313c9a",
       "IPY_MODEL_5db8648a9cdd46f687876ec92bda07e5",
       "IPY_MODEL_8a213716314442c68989b79c39aab3e2",
       "IPY_MODEL_efa7ac1101f74a18ba195e602fd6cb3d",
       "IPY_MODEL_a7fd03e301b24e5dba331cd077e470c0",
       "IPY_MODEL_f0cfc57bbc024eb3a8f9e6e0e09434fb"
      ],
      "layout": "IPY_MODEL_7423056895674cefb0468d48b913a287",
      "left": 1095970.3333833215,
      "max_zoom": null,
      "min_zoom": null,
      "modisdate": "2022-11-08",
      "north": 51.056681971678934,
      "options": [
       "bounce_at_zoom_limits",
       "box_zoom",
       "center",
       "close_popup_on_click",
       "double_click_zoom",
       "dragging",
       "fullscreen",
       "inertia",
       "inertia_deceleration",
       "inertia_max_speed",
       "interpolation",
       "keyboard",
       "keyboard_pan_offset",
       "keyboard_zoom_offset",
       "max_zoom",
       "min_zoom",
       "prefer_canvas",
       "scroll_wheel_zoom",
       "tap",
       "tap_tolerance",
       "touch_zoom",
       "world_copy_jump",
       "zoom",
       "zoom_animation_threshold",
       "zoom_delta",
       "zoom_snap"
      ],
      "panes": {},
      "prefer_canvas": false,
      "right": 1097715.3333833215,
      "scroll_wheel_zoom": false,
      "south": 51.013502665181726,
      "style": "IPY_MODEL_d2b6532d1708453ca1850560adc1e0bf",
      "tap": true,
      "tap_tolerance": 15,
      "top": 701554.3332967123,
      "touch_zoom": true,
      "west": 8.135776528356434,
      "window_url": "https://tuzdjrn8fk9-496ff2e9c6d22116-0-colab.googleusercontent.com/outputframe.html?vrz=colab-20221107-060047-RC00_486630149",
      "world_copy_jump": false,
      "zoom": 13,
      "zoom_animation_threshold": 4,
      "zoom_delta": 1,
      "zoom_snap": 1
     }
    },
    "a1be477e3d4549d6865499e6e74ae6a3": {
     "model_module": "jupyter-leaflet",
     "model_module_version": "^0.17",
     "model_name": "LeafletMapStyleModel",
     "state": {
      "_model_module": "jupyter-leaflet",
      "_model_module_version": "^0.17",
      "_model_name": "LeafletMapStyleModel",
      "_view_count": null,
      "_view_module": "@jupyter-widgets/base",
      "_view_module_version": "1.2.0",
      "_view_name": "StyleView",
      "cursor": "grab"
     }
    },
    "a760fc5b04c149118e951928d631d1fa": {
     "model_module": "jupyter-leaflet",
     "model_module_version": "^0.17",
     "model_name": "LeafletTileLayerModel",
     "state": {
      "_model_module": "jupyter-leaflet",
      "_model_module_version": "^0.17",
      "_model_name": "LeafletTileLayerModel",
      "_view_count": null,
      "_view_module": "jupyter-leaflet",
      "_view_module_version": "^0.17",
      "_view_name": "LeafletTileLayerView",
      "attribution": null,
      "base": false,
      "bottom": true,
      "bounds": null,
      "detect_retina": false,
      "loading": false,
      "max_native_zoom": null,
      "max_zoom": 18,
      "min_native_zoom": null,
      "min_zoom": 0,
      "name": "Difference",
      "no_wrap": false,
      "opacity": 1,
      "options": [
       "attribution",
       "bounds",
       "detect_retina",
       "max_native_zoom",
       "max_zoom",
       "min_native_zoom",
       "min_zoom",
       "no_wrap",
       "tile_size",
       "tms",
       "zoom_offset"
      ],
      "pane": "",
      "popup": null,
      "popup_max_height": null,
      "popup_max_width": 300,
      "popup_min_width": 50,
      "show_loading": false,
      "subitems": [],
      "tile_size": 256,
      "tms": false,
      "url": "https://earthengine.googleapis.com/v1alpha/projects/earthengine-legacy/maps/8ee8a17ebd6d10e8a5dd31c339650715-01acf925677bff126dd55e21c0ac2206/tiles/{z}/{x}/{y}",
      "visible": true,
      "zoom_offset": 0
     }
    },
    "a7fd03e301b24e5dba331cd077e470c0": {
     "model_module": "jupyter-leaflet",
     "model_module_version": "^0.17",
     "model_name": "LeafletTileLayerModel",
     "state": {
      "_model_module": "jupyter-leaflet",
      "_model_module_version": "^0.17",
      "_model_name": "LeafletTileLayerModel",
      "_view_count": null,
      "_view_module": "jupyter-leaflet",
      "_view_module_version": "^0.17",
      "_view_name": "LeafletTileLayerView",
      "attribution": null,
      "base": false,
      "bottom": true,
      "bounds": null,
      "detect_retina": false,
      "loading": false,
      "max_native_zoom": null,
      "max_zoom": 18,
      "min_native_zoom": null,
      "min_zoom": 0,
      "name": "iMAD_KM_masked",
      "no_wrap": false,
      "opacity": 1,
      "options": [
       "attribution",
       "bounds",
       "detect_retina",
       "max_native_zoom",
       "max_zoom",
       "min_native_zoom",
       "min_zoom",
       "no_wrap",
       "tile_size",
       "tms",
       "zoom_offset"
      ],
      "pane": "",
      "popup": null,
      "popup_max_height": null,
      "popup_max_width": 300,
      "popup_min_width": 50,
      "show_loading": false,
      "subitems": [],
      "tile_size": 256,
      "tms": false,
      "url": "https://earthengine.googleapis.com/v1alpha/projects/earthengine-legacy/maps/af0db501c6a35de8c560609c817efedb-7582c2f4491cdc9ee9f4c42f406ac758/tiles/{z}/{x}/{y}",
      "visible": true,
      "zoom_offset": 0
     }
    },
    "ab21bbf382fd478bbabc25daa5b70ef9": {
     "model_module": "jupyter-leaflet",
     "model_module_version": "^0.17",
     "model_name": "LeafletMapStyleModel",
     "state": {
      "_model_module": "jupyter-leaflet",
      "_model_module_version": "^0.17",
      "_model_name": "LeafletMapStyleModel",
      "_view_count": null,
      "_view_module": "@jupyter-widgets/base",
      "_view_module_version": "1.2.0",
      "_view_name": "StyleView",
      "cursor": "grab"
     }
    },
    "afd7f375cf044d11876e1e1d58313c9a": {
     "model_module": "jupyter-leaflet",
     "model_module_version": "^0.17",
     "model_name": "LeafletTileLayerModel",
     "state": {
      "_model_module": "jupyter-leaflet",
      "_model_module_version": "^0.17",
      "_model_name": "LeafletTileLayerModel",
      "_view_count": null,
      "_view_module": "jupyter-leaflet",
      "_view_module_version": "^0.17",
      "_view_name": "LeafletTileLayerView",
      "attribution": "Map tiles by <a href=\"http://stamen.com\">Stamen Design</a>, <a href=\"http://creativecommons.org/licenses/by/3.0\">CC BY 3.0</a> &mdash; Map data &copy; <a href=\"https://www.openstreetmap.org/copyright\">OpenStreetMap</a> contributors",
      "base": true,
      "bottom": true,
      "bounds": null,
      "detect_retina": false,
      "loading": false,
      "max_native_zoom": null,
      "max_zoom": 16,
      "min_native_zoom": null,
      "min_zoom": 1,
      "name": "Stamen.Watercolor",
      "no_wrap": false,
      "opacity": 1,
      "options": [
       "attribution",
       "bounds",
       "detect_retina",
       "max_native_zoom",
       "max_zoom",
       "min_native_zoom",
       "min_zoom",
       "no_wrap",
       "tile_size",
       "tms",
       "zoom_offset"
      ],
      "pane": "",
      "popup": null,
      "popup_max_height": null,
      "popup_max_width": 300,
      "popup_min_width": 50,
      "show_loading": false,
      "subitems": [],
      "tile_size": 256,
      "tms": false,
      "url": "https://stamen-tiles-a.a.ssl.fastly.net/watercolor/{z}/{x}/{y}.jpg",
      "visible": true,
      "zoom_offset": 0
     }
    },
    "b2965f84b0684657a51d9d3e82ed0f11": {
     "model_module": "jupyter-leaflet",
     "model_module_version": "^0.17",
     "model_name": "LeafletTileLayerModel",
     "state": {
      "_model_module": "jupyter-leaflet",
      "_model_module_version": "^0.17",
      "_model_name": "LeafletTileLayerModel",
      "_view_count": null,
      "_view_module": "jupyter-leaflet",
      "_view_module_version": "^0.17",
      "_view_name": "LeafletTileLayerView",
      "attribution": null,
      "base": false,
      "bottom": true,
      "bounds": null,
      "detect_retina": false,
      "loading": false,
      "max_native_zoom": null,
      "max_zoom": 18,
      "min_native_zoom": null,
      "min_zoom": 0,
      "name": "image2",
      "no_wrap": false,
      "opacity": 1,
      "options": [
       "attribution",
       "bounds",
       "detect_retina",
       "max_native_zoom",
       "max_zoom",
       "min_native_zoom",
       "min_zoom",
       "no_wrap",
       "tile_size",
       "tms",
       "zoom_offset"
      ],
      "pane": "",
      "popup": null,
      "popup_max_height": null,
      "popup_max_width": 300,
      "popup_min_width": 50,
      "show_loading": false,
      "subitems": [],
      "tile_size": 256,
      "tms": false,
      "url": "https://earthengine.googleapis.com/v1alpha/projects/earthengine-legacy/maps/21153b4500b9ee58e594b7ec62429da7-67a381da6c9d456e39a0bb4f25371bcf/tiles/{z}/{x}/{y}",
      "visible": true,
      "zoom_offset": 0
     }
    },
    "b77aa4654d314dffa63eb7da820b62f6": {
     "model_module": "jupyter-leaflet",
     "model_module_version": "^0.17",
     "model_name": "LeafletMapStyleModel",
     "state": {
      "_model_module": "jupyter-leaflet",
      "_model_module_version": "^0.17",
      "_model_name": "LeafletMapStyleModel",
      "_view_count": null,
      "_view_module": "@jupyter-widgets/base",
      "_view_module_version": "1.2.0",
      "_view_name": "StyleView",
      "cursor": "move"
     }
    },
    "bab5c02207f64ad790b599d874a38570": {
     "model_module": "jupyter-leaflet",
     "model_module_version": "^0.17",
     "model_name": "LeafletMapStyleModel",
     "state": {
      "_model_module": "jupyter-leaflet",
      "_model_module_version": "^0.17",
      "_model_name": "LeafletMapStyleModel",
      "_view_count": null,
      "_view_module": "@jupyter-widgets/base",
      "_view_module_version": "1.2.0",
      "_view_name": "StyleView",
      "cursor": "move"
     }
    },
    "bb71e69ce1044bea98916f429cc275d9": {
     "model_module": "jupyter-leaflet",
     "model_module_version": "^0.17",
     "model_name": "LeafletTileLayerModel",
     "state": {
      "_model_module": "jupyter-leaflet",
      "_model_module_version": "^0.17",
      "_model_name": "LeafletTileLayerModel",
      "_view_count": null,
      "_view_module": "jupyter-leaflet",
      "_view_module_version": "^0.17",
      "_view_name": "LeafletTileLayerView",
      "attribution": "Map tiles by <a href=\"http://stamen.com\">Stamen Design</a>, <a href=\"http://creativecommons.org/licenses/by/3.0\">CC BY 3.0</a> &mdash; Map data &copy; <a href=\"https://www.openstreetmap.org/copyright\">OpenStreetMap</a> contributors",
      "base": true,
      "bottom": true,
      "bounds": null,
      "detect_retina": false,
      "loading": false,
      "max_native_zoom": null,
      "max_zoom": 16,
      "min_native_zoom": null,
      "min_zoom": 1,
      "name": "Stamen.Watercolor",
      "no_wrap": false,
      "opacity": 1,
      "options": [
       "attribution",
       "bounds",
       "detect_retina",
       "max_native_zoom",
       "max_zoom",
       "min_native_zoom",
       "min_zoom",
       "no_wrap",
       "tile_size",
       "tms",
       "zoom_offset"
      ],
      "pane": "",
      "popup": null,
      "popup_max_height": null,
      "popup_max_width": 300,
      "popup_min_width": 50,
      "show_loading": false,
      "subitems": [],
      "tile_size": 256,
      "tms": false,
      "url": "https://stamen-tiles-a.a.ssl.fastly.net/watercolor/{z}/{x}/{y}.jpg",
      "visible": true,
      "zoom_offset": 0
     }
    },
    "bf564eb7bd2149ddaa9bcd2b8237b854": {
     "model_module": "@jupyter-widgets/base",
     "model_module_version": "1.2.0",
     "model_name": "LayoutModel",
     "state": {
      "_model_module": "@jupyter-widgets/base",
      "_model_module_version": "1.2.0",
      "_model_name": "LayoutModel",
      "_view_count": null,
      "_view_module": "@jupyter-widgets/base",
      "_view_module_version": "1.2.0",
      "_view_name": "LayoutView",
      "align_content": null,
      "align_items": null,
      "align_self": null,
      "border": null,
      "bottom": null,
      "display": null,
      "flex": null,
      "flex_flow": null,
      "grid_area": null,
      "grid_auto_columns": null,
      "grid_auto_flow": null,
      "grid_auto_rows": null,
      "grid_column": null,
      "grid_gap": null,
      "grid_row": null,
      "grid_template_areas": null,
      "grid_template_columns": null,
      "grid_template_rows": null,
      "height": null,
      "justify_content": null,
      "justify_items": null,
      "left": null,
      "margin": null,
      "max_height": null,
      "max_width": null,
      "min_height": null,
      "min_width": null,
      "object_fit": null,
      "object_position": null,
      "order": null,
      "overflow": null,
      "overflow_x": null,
      "overflow_y": null,
      "padding": null,
      "right": null,
      "top": null,
      "visibility": null,
      "width": "100%"
     }
    },
    "c3936bde9ebe434e9745de4c230745c5": {
     "model_module": "jupyter-leaflet",
     "model_module_version": "^0.17",
     "model_name": "LeafletMapModel",
     "state": {
      "_dom_classes": [],
      "_model_module": "jupyter-leaflet",
      "_model_module_version": "^0.17",
      "_model_name": "LeafletMapModel",
      "_view_count": null,
      "_view_module": "jupyter-leaflet",
      "_view_module_version": "^0.17",
      "_view_name": "LeafletMapView",
      "bottom": 702618.9999791145,
      "bounce_at_zoom_limits": true,
      "box_zoom": true,
      "center": [
       50.96329217571783,
       8.326845198249618
      ],
      "close_popup_on_click": true,
      "controls": [
       "IPY_MODEL_17f7f38cc01646eeb5f986dacaf3112c",
       "IPY_MODEL_0051688d47ec48b7b607c9268ac35ad0",
       "IPY_MODEL_293c507b60524ded98a113a8d7955fc9"
      ],
      "crs": {
       "custom": false,
       "name": "EPSG3857"
      },
      "default_style": "IPY_MODEL_344137243d8e4d1fb9fc0fafb20e0229",
      "double_click_zoom": true,
      "dragging": true,
      "dragging_style": "IPY_MODEL_161c6f112c4e4fdfacad32030c3dc62a",
      "east": 8.47661974964122,
      "fullscreen": false,
      "inertia": true,
      "inertia_deceleration": 3000,
      "inertia_max_speed": 1500,
      "interpolation": "bilinear",
      "keyboard": true,
      "keyboard_pan_offset": 80,
      "keyboard_zoom_offset": 1,
      "layers": [
       "IPY_MODEL_87040d96b16d4853817e8fe9d5a5359a",
       "IPY_MODEL_980f88caa8564b1fb57e56c436135e62",
       "IPY_MODEL_b2965f84b0684657a51d9d3e82ed0f11",
       "IPY_MODEL_21a176a9f4e84716bbdb622ef5b71166"
      ],
      "layout": "IPY_MODEL_2c568798816442a2a7abf2610cbb3d07",
      "left": 1096210.8890588877,
      "max_zoom": null,
      "min_zoom": null,
      "modisdate": "2022-11-06",
      "north": 50.98491023437697,
      "options": [
       "bounce_at_zoom_limits",
       "box_zoom",
       "center",
       "close_popup_on_click",
       "double_click_zoom",
       "dragging",
       "fullscreen",
       "inertia",
       "inertia_deceleration",
       "inertia_max_speed",
       "interpolation",
       "keyboard",
       "keyboard_pan_offset",
       "keyboard_zoom_offset",
       "max_zoom",
       "min_zoom",
       "prefer_canvas",
       "scroll_wheel_zoom",
       "tap",
       "tap_tolerance",
       "touch_zoom",
       "world_copy_jump",
       "zoom",
       "zoom_animation_threshold",
       "zoom_delta",
       "zoom_snap"
      ],
      "panes": {},
      "prefer_canvas": false,
      "right": 1097955.8890588877,
      "scroll_wheel_zoom": false,
      "south": 50.94166405296125,
      "style": "IPY_MODEL_344137243d8e4d1fb9fc0fafb20e0229",
      "tap": true,
      "tap_tolerance": 15,
      "top": 702218.9999791145,
      "touch_zoom": true,
      "west": 8.177070646858017,
      "window_url": "https://7mx5n3w501m-496ff2e9c6d22116-0-colab.googleusercontent.com/outputframe.html?vrz=colab-20221103-060049-RC00_485830414",
      "world_copy_jump": false,
      "zoom": 13,
      "zoom_animation_threshold": 4,
      "zoom_delta": 1,
      "zoom_snap": 1
     }
    },
    "ca3b12c9e76f480886f358e6f577071a": {
     "model_module": "jupyter-leaflet",
     "model_module_version": "^0.17",
     "model_name": "LeafletLayersControlModel",
     "state": {
      "_model_module": "jupyter-leaflet",
      "_model_module_version": "^0.17",
      "_model_name": "LeafletLayersControlModel",
      "_view_count": null,
      "_view_module": "jupyter-leaflet",
      "_view_module_version": "^0.17",
      "_view_name": "LeafletLayersControlView",
      "options": [
       "position"
      ],
      "position": "topright"
     }
    },
    "cec180fcfa11406c9cb1e7ce88865298": {
     "model_module": "jupyter-leaflet",
     "model_module_version": "^0.17",
     "model_name": "LeafletTileLayerModel",
     "state": {
      "_model_module": "jupyter-leaflet",
      "_model_module_version": "^0.17",
      "_model_name": "LeafletTileLayerModel",
      "_view_count": null,
      "_view_module": "jupyter-leaflet",
      "_view_module_version": "^0.17",
      "_view_name": "LeafletTileLayerView",
      "attribution": null,
      "base": false,
      "bottom": true,
      "bounds": null,
      "detect_retina": false,
      "loading": false,
      "max_native_zoom": null,
      "max_zoom": 18,
      "min_native_zoom": null,
      "min_zoom": 0,
      "name": "im2",
      "no_wrap": false,
      "opacity": 1,
      "options": [
       "attribution",
       "bounds",
       "detect_retina",
       "max_native_zoom",
       "max_zoom",
       "min_native_zoom",
       "min_zoom",
       "no_wrap",
       "tile_size",
       "tms",
       "zoom_offset"
      ],
      "pane": "",
      "popup": null,
      "popup_max_height": null,
      "popup_max_width": 300,
      "popup_min_width": 50,
      "show_loading": false,
      "subitems": [],
      "tile_size": 256,
      "tms": false,
      "url": "https://earthengine.googleapis.com/v1alpha/projects/earthengine-legacy/maps/525248c3bb7915555363068b9442b27e-497edf40663fa268e48c15ccd93e22ca/tiles/{z}/{x}/{y}",
      "visible": true,
      "zoom_offset": 0
     }
    },
    "cf8251da15b940e9b5d53f9eecfa3902": {
     "model_module": "jupyter-leaflet",
     "model_module_version": "^0.17",
     "model_name": "LeafletMapStyleModel",
     "state": {
      "_model_module": "jupyter-leaflet",
      "_model_module_version": "^0.17",
      "_model_name": "LeafletMapStyleModel",
      "_view_count": null,
      "_view_module": "@jupyter-widgets/base",
      "_view_module_version": "1.2.0",
      "_view_name": "StyleView",
      "cursor": "move"
     }
    },
    "d2b6532d1708453ca1850560adc1e0bf": {
     "model_module": "jupyter-leaflet",
     "model_module_version": "^0.17",
     "model_name": "LeafletMapStyleModel",
     "state": {
      "_model_module": "jupyter-leaflet",
      "_model_module_version": "^0.17",
      "_model_name": "LeafletMapStyleModel",
      "_view_count": null,
      "_view_module": "@jupyter-widgets/base",
      "_view_module_version": "1.2.0",
      "_view_name": "StyleView",
      "cursor": "crosshair"
     }
    },
    "d775ea4909f14fbd96487c5dfd21aef0": {
     "model_module": "@jupyter-widgets/base",
     "model_module_version": "1.2.0",
     "model_name": "LayoutModel",
     "state": {
      "_model_module": "@jupyter-widgets/base",
      "_model_module_version": "1.2.0",
      "_model_name": "LayoutModel",
      "_view_count": null,
      "_view_module": "@jupyter-widgets/base",
      "_view_module_version": "1.2.0",
      "_view_name": "LayoutView",
      "align_content": null,
      "align_items": null,
      "align_self": null,
      "border": null,
      "bottom": null,
      "display": null,
      "flex": null,
      "flex_flow": null,
      "grid_area": null,
      "grid_auto_columns": null,
      "grid_auto_flow": null,
      "grid_auto_rows": null,
      "grid_column": null,
      "grid_gap": null,
      "grid_row": null,
      "grid_template_areas": null,
      "grid_template_columns": null,
      "grid_template_rows": null,
      "height": null,
      "justify_content": null,
      "justify_items": null,
      "left": null,
      "margin": null,
      "max_height": null,
      "max_width": null,
      "min_height": null,
      "min_width": null,
      "object_fit": null,
      "object_position": null,
      "order": null,
      "overflow": null,
      "overflow_x": null,
      "overflow_y": null,
      "padding": null,
      "right": null,
      "top": null,
      "visibility": null,
      "width": "100%"
     }
    },
    "e5d965ce12754707b2abcff7a4583541": {
     "model_module": "jupyter-leaflet",
     "model_module_version": "^0.17",
     "model_name": "LeafletTileLayerModel",
     "state": {
      "_model_module": "jupyter-leaflet",
      "_model_module_version": "^0.17",
      "_model_name": "LeafletTileLayerModel",
      "_view_count": null,
      "_view_module": "jupyter-leaflet",
      "_view_module_version": "^0.17",
      "_view_name": "LeafletTileLayerView",
      "attribution": null,
      "base": false,
      "bottom": true,
      "bounds": null,
      "detect_retina": false,
      "loading": false,
      "max_native_zoom": null,
      "max_zoom": 18,
      "min_native_zoom": null,
      "min_zoom": 0,
      "name": "Image 2",
      "no_wrap": false,
      "opacity": 1,
      "options": [
       "attribution",
       "bounds",
       "detect_retina",
       "max_native_zoom",
       "max_zoom",
       "min_native_zoom",
       "min_zoom",
       "no_wrap",
       "tile_size",
       "tms",
       "zoom_offset"
      ],
      "pane": "",
      "popup": null,
      "popup_max_height": null,
      "popup_max_width": 300,
      "popup_min_width": 50,
      "show_loading": false,
      "subitems": [],
      "tile_size": 256,
      "tms": false,
      "url": "https://earthengine.googleapis.com/v1alpha/projects/earthengine-legacy/maps/525248c3bb7915555363068b9442b27e-d57e41327292f05ee23418959bf1409d/tiles/{z}/{x}/{y}",
      "visible": true,
      "zoom_offset": 0
     }
    },
    "ed49b89b54b8435396fc8f6c5b015bff": {
     "model_module": "jupyter-leaflet",
     "model_module_version": "^0.17",
     "model_name": "LeafletAttributionControlModel",
     "state": {
      "_model_module": "jupyter-leaflet",
      "_model_module_version": "^0.17",
      "_model_name": "LeafletAttributionControlModel",
      "_view_count": null,
      "_view_module": "jupyter-leaflet",
      "_view_module_version": "^0.17",
      "_view_name": "LeafletAttributionControlView",
      "options": [
       "position",
       "prefix"
      ],
      "position": "bottomright",
      "prefix": "ipyleaflet"
     }
    },
    "efa7ac1101f74a18ba195e602fd6cb3d": {
     "model_module": "jupyter-leaflet",
     "model_module_version": "^0.17",
     "model_name": "LeafletTileLayerModel",
     "state": {
      "_model_module": "jupyter-leaflet",
      "_model_module_version": "^0.17",
      "_model_name": "LeafletTileLayerModel",
      "_view_count": null,
      "_view_module": "jupyter-leaflet",
      "_view_module_version": "^0.17",
      "_view_name": "LeafletTileLayerView",
      "attribution": null,
      "base": false,
      "bottom": true,
      "bounds": null,
      "detect_retina": false,
      "loading": false,
      "max_native_zoom": null,
      "max_zoom": 18,
      "min_native_zoom": null,
      "min_zoom": 0,
      "name": "iMAD_KM",
      "no_wrap": false,
      "opacity": 1,
      "options": [
       "attribution",
       "bounds",
       "detect_retina",
       "max_native_zoom",
       "max_zoom",
       "min_native_zoom",
       "min_zoom",
       "no_wrap",
       "tile_size",
       "tms",
       "zoom_offset"
      ],
      "pane": "",
      "popup": null,
      "popup_max_height": null,
      "popup_max_width": 300,
      "popup_min_width": 50,
      "show_loading": false,
      "subitems": [],
      "tile_size": 256,
      "tms": false,
      "url": "https://earthengine.googleapis.com/v1alpha/projects/earthengine-legacy/maps/e6bcf494b2399b383977b3444c46f70e-6be6de74ed465fc966f552d04848584e/tiles/{z}/{x}/{y}",
      "visible": true,
      "zoom_offset": 0
     }
    },
    "f0cfc57bbc024eb3a8f9e6e0e09434fb": {
     "model_module": "jupyter-leaflet",
     "model_module_version": "^0.17",
     "model_name": "LeafletTileLayerModel",
     "state": {
      "_model_module": "jupyter-leaflet",
      "_model_module_version": "^0.17",
      "_model_name": "LeafletTileLayerModel",
      "_view_count": null,
      "_view_module": "jupyter-leaflet",
      "_view_module_version": "^0.17",
      "_view_name": "LeafletTileLayerView",
      "attribution": null,
      "base": false,
      "bottom": true,
      "bounds": null,
      "detect_retina": false,
      "loading": false,
      "max_native_zoom": null,
      "max_zoom": 18,
      "min_native_zoom": null,
      "min_zoom": 0,
      "name": "iMAD_EM",
      "no_wrap": false,
      "opacity": 1,
      "options": [
       "attribution",
       "bounds",
       "detect_retina",
       "max_native_zoom",
       "max_zoom",
       "min_native_zoom",
       "min_zoom",
       "no_wrap",
       "tile_size",
       "tms",
       "zoom_offset"
      ],
      "pane": "",
      "popup": null,
      "popup_max_height": null,
      "popup_max_width": 300,
      "popup_min_width": 50,
      "show_loading": false,
      "subitems": [],
      "tile_size": 256,
      "tms": false,
      "url": "https://earthengine.googleapis.com/v1alpha/projects/earthengine-legacy/maps/e3cd7fc084ed8187e6f9465921add483-d2166492d497b0c5fe295cefb7ab13d0/tiles/{z}/{x}/{y}",
      "visible": true,
      "zoom_offset": 0
     }
    },
    "f7333963601145d3af478141c7effc4a": {
     "model_module": "jupyter-leaflet",
     "model_module_version": "^0.17",
     "model_name": "LeafletTileLayerModel",
     "state": {
      "_model_module": "jupyter-leaflet",
      "_model_module_version": "^0.17",
      "_model_name": "LeafletTileLayerModel",
      "_view_count": null,
      "_view_module": "jupyter-leaflet",
      "_view_module_version": "^0.17",
      "_view_name": "LeafletTileLayerView",
      "attribution": null,
      "base": false,
      "bottom": true,
      "bounds": null,
      "detect_retina": false,
      "loading": false,
      "max_native_zoom": null,
      "max_zoom": 18,
      "min_native_zoom": null,
      "min_zoom": 0,
      "name": "im1",
      "no_wrap": false,
      "opacity": 1,
      "options": [
       "attribution",
       "bounds",
       "detect_retina",
       "max_native_zoom",
       "max_zoom",
       "min_native_zoom",
       "min_zoom",
       "no_wrap",
       "tile_size",
       "tms",
       "zoom_offset"
      ],
      "pane": "",
      "popup": null,
      "popup_max_height": null,
      "popup_max_width": 300,
      "popup_min_width": 50,
      "show_loading": false,
      "subitems": [],
      "tile_size": 256,
      "tms": false,
      "url": "https://earthengine.googleapis.com/v1alpha/projects/earthengine-legacy/maps/446ea7c871762c6083899aaadc85bcc0-efd7bdc86204247c8cc224fc8da8f697/tiles/{z}/{x}/{y}",
      "visible": true,
      "zoom_offset": 0
     }
    },
    "fac452df02d34d23a0d703fd0a7191de": {
     "model_module": "jupyter-leaflet",
     "model_module_version": "^0.17",
     "model_name": "LeafletZoomControlModel",
     "state": {
      "_model_module": "jupyter-leaflet",
      "_model_module_version": "^0.17",
      "_model_name": "LeafletZoomControlModel",
      "_view_count": null,
      "_view_module": "jupyter-leaflet",
      "_view_module_version": "^0.17",
      "_view_name": "LeafletZoomControlView",
      "options": [
       "position",
       "zoom_in_text",
       "zoom_in_title",
       "zoom_out_text",
       "zoom_out_title"
      ],
      "position": "topleft",
      "zoom_in_text": "+",
      "zoom_in_title": "Zoom in",
      "zoom_out_text": "-",
      "zoom_out_title": "Zoom out"
     }
    }
   }
  }
 },
 "nbformat": 4,
 "nbformat_minor": 4
}
